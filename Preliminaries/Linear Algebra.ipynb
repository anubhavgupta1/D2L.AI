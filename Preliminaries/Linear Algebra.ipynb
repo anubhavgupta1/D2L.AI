{
  "nbformat": 4,
  "nbformat_minor": 0,
  "metadata": {
    "colab": {
      "name": "Untitled23.ipynb",
      "provenance": [],
      "authorship_tag": "ABX9TyMc5UYMcrD0JN18t+vXLhsw",
      "include_colab_link": true
    },
    "kernelspec": {
      "display_name": "Python 3",
      "name": "python3"
    }
  },
  "cells": [
    {
      "cell_type": "markdown",
      "metadata": {
        "id": "view-in-github",
        "colab_type": "text"
      },
      "source": [
        "<a href=\"https://colab.research.google.com/github/anubhavgupta1/D2L.AI/blob/main/Preliminaries/Linear%20Algebra.ipynb\" target=\"_parent\"><img src=\"https://colab.research.google.com/assets/colab-badge.svg\" alt=\"Open In Colab\"/></a>"
      ]
    },
    {
      "cell_type": "markdown",
      "metadata": {
        "id": "QoJIK_HF-u6P"
      },
      "source": [
        "# Preliminaries"
      ]
    },
    {
      "cell_type": "code",
      "metadata": {
        "colab": {
          "base_uri": "https://localhost:8080/"
        },
        "id": "SQ1CLKlCWMNk",
        "outputId": "78eb5b58-5922-450a-f3ac-07a7cc7d9255"
      },
      "source": [
        "!pip install -U mxnet-cu101==1.7.0"
      ],
      "execution_count": 1,
      "outputs": [
        {
          "output_type": "stream",
          "text": [
            "Collecting mxnet-cu101==1.7.0\n",
            "\u001b[?25l  Downloading https://files.pythonhosted.org/packages/40/26/9655677b901537f367c3c473376e4106abc72e01a8fc25b1cb6ed9c37e8c/mxnet_cu101-1.7.0-py2.py3-none-manylinux2014_x86_64.whl (846.0MB)\n",
            "\u001b[K     |███████████████████████████████▌| 834.1MB 1.3MB/s eta 0:00:10tcmalloc: large alloc 1147494400 bytes == 0x65ba2000 @  0x7f768aec8615 0x591e47 0x4cc179 0x4cc2db 0x50a1cc 0x50beb4 0x507be4 0x509900 0x50a2fd 0x50beb4 0x507be4 0x509900 0x50a2fd 0x50cc96 0x58e683 0x50c127 0x58e683 0x50c127 0x58e683 0x50c127 0x58e683 0x50c127 0x5095c8 0x50a2fd 0x50beb4 0x507be4 0x509900 0x50a2fd 0x50beb4 0x5095c8 0x50a2fd\n",
            "\u001b[K     |████████████████████████████████| 846.0MB 21kB/s \n",
            "\u001b[?25hRequirement already satisfied, skipping upgrade: numpy<2.0.0,>1.16.0 in /usr/local/lib/python3.6/dist-packages (from mxnet-cu101==1.7.0) (1.19.5)\n",
            "Requirement already satisfied, skipping upgrade: requests<3,>=2.20.0 in /usr/local/lib/python3.6/dist-packages (from mxnet-cu101==1.7.0) (2.23.0)\n",
            "Collecting graphviz<0.9.0,>=0.8.1\n",
            "  Downloading https://files.pythonhosted.org/packages/53/39/4ab213673844e0c004bed8a0781a0721a3f6bb23eb8854ee75c236428892/graphviz-0.8.4-py2.py3-none-any.whl\n",
            "Requirement already satisfied, skipping upgrade: idna<3,>=2.5 in /usr/local/lib/python3.6/dist-packages (from requests<3,>=2.20.0->mxnet-cu101==1.7.0) (2.10)\n",
            "Requirement already satisfied, skipping upgrade: urllib3!=1.25.0,!=1.25.1,<1.26,>=1.21.1 in /usr/local/lib/python3.6/dist-packages (from requests<3,>=2.20.0->mxnet-cu101==1.7.0) (1.24.3)\n",
            "Requirement already satisfied, skipping upgrade: chardet<4,>=3.0.2 in /usr/local/lib/python3.6/dist-packages (from requests<3,>=2.20.0->mxnet-cu101==1.7.0) (3.0.4)\n",
            "Requirement already satisfied, skipping upgrade: certifi>=2017.4.17 in /usr/local/lib/python3.6/dist-packages (from requests<3,>=2.20.0->mxnet-cu101==1.7.0) (2020.12.5)\n",
            "Installing collected packages: graphviz, mxnet-cu101\n",
            "  Found existing installation: graphviz 0.10.1\n",
            "    Uninstalling graphviz-0.10.1:\n",
            "      Successfully uninstalled graphviz-0.10.1\n",
            "Successfully installed graphviz-0.8.4 mxnet-cu101-1.7.0\n"
          ],
          "name": "stdout"
        }
      ]
    },
    {
      "cell_type": "markdown",
      "metadata": {
        "id": "gOMsR58CMVWF"
      },
      "source": [
        "## Linear Algebra"
      ]
    },
    {
      "cell_type": "code",
      "metadata": {
        "id": "rr7h4wl9MSWX"
      },
      "source": [
        "from mxnet import np, npx\r\n",
        "npx.set_np()\r\n",
        "import torch\r\n",
        "import tensorflow as tf"
      ],
      "execution_count": 2,
      "outputs": []
    },
    {
      "cell_type": "markdown",
      "metadata": {
        "id": "lwBWSNmnl0S8"
      },
      "source": [
        "### Scalors"
      ]
    },
    {
      "cell_type": "code",
      "metadata": {
        "colab": {
          "base_uri": "https://localhost:8080/"
        },
        "id": "QOV_cvWbl3T6",
        "outputId": "3438d293-5e51-4446-abc8-0b2129cc2681"
      },
      "source": [
        "x = np.array(3.0)\r\n",
        "y = np.array(2.0)\r\n",
        "print(\"Scalors in Mxnet : \")\r\n",
        "print(\"\\nx = \", x,\", y = \",y,\r\n",
        "      \"\\nx + y  = \", x + y,\r\n",
        "      \"\\nx * y  = \", x * y,\r\n",
        "      \"\\nx / y  = \" ,x / y,\r\n",
        "      \"\\nx ** y = \", x ** y)"
      ],
      "execution_count": 3,
      "outputs": [
        {
          "output_type": "stream",
          "text": [
            "Scalors in Mxnet : \n",
            "\n",
            "x =  3.0 , y =  2.0 \n",
            "x + y  =  5.0 \n",
            "x * y  =  6.0 \n",
            "x / y  =  1.5 \n",
            "x ** y =  9.0\n"
          ],
          "name": "stdout"
        }
      ]
    },
    {
      "cell_type": "code",
      "metadata": {
        "colab": {
          "base_uri": "https://localhost:8080/"
        },
        "id": "MOX1T1UrnqJp",
        "outputId": "6c6238fc-d411-4ae6-c0df-fb58e11e1955"
      },
      "source": [
        "x = torch.tensor([3.0])\r\n",
        "y = torch.tensor([2.0])\r\n",
        "print(\"Scalors in Torch : \")\r\n",
        "print(\"\\nx = \", x,\", y = \",y,\r\n",
        "      \"\\nx + y  = \", x + y,\r\n",
        "      \"\\nx * y  = \", x * y,\r\n",
        "      \"\\nx / y  = \" ,x / y,\r\n",
        "      \"\\nx ** y = \", x ** y)"
      ],
      "execution_count": 4,
      "outputs": [
        {
          "output_type": "stream",
          "text": [
            "Scalors in Torch : \n",
            "\n",
            "x =  tensor([3.]) , y =  tensor([2.]) \n",
            "x + y  =  tensor([5.]) \n",
            "x * y  =  tensor([6.]) \n",
            "x / y  =  tensor([1.5000]) \n",
            "x ** y =  tensor([9.])\n"
          ],
          "name": "stdout"
        }
      ]
    },
    {
      "cell_type": "code",
      "metadata": {
        "colab": {
          "base_uri": "https://localhost:8080/"
        },
        "id": "DsG5Dp3JnyvJ",
        "outputId": "80802fcf-ee31-4229-ebe4-278f043e5c9d"
      },
      "source": [
        "x = tf.constant([3.0])\r\n",
        "y = tf.constant([2.0])\r\n",
        "print(\"Scalors in Tensorflow : \")\r\n",
        "print(\"\\nx = \", x,\", y = \",y,\r\n",
        "      \"\\nx + y  = \", x + y,\r\n",
        "      \"\\nx * y  = \", x * y,\r\n",
        "      \"\\nx / y  = \" ,x / y,\r\n",
        "      \"\\nx ** y = \", x ** y)"
      ],
      "execution_count": 5,
      "outputs": [
        {
          "output_type": "stream",
          "text": [
            "Scalors in Tensorflow : \n",
            "\n",
            "x =  tf.Tensor([3.], shape=(1,), dtype=float32) , y =  tf.Tensor([2.], shape=(1,), dtype=float32) \n",
            "x + y  =  tf.Tensor([5.], shape=(1,), dtype=float32) \n",
            "x * y  =  tf.Tensor([6.], shape=(1,), dtype=float32) \n",
            "x / y  =  tf.Tensor([1.5], shape=(1,), dtype=float32) \n",
            "x ** y =  tf.Tensor([9.], shape=(1,), dtype=float32)\n"
          ],
          "name": "stdout"
        }
      ]
    },
    {
      "cell_type": "markdown",
      "metadata": {
        "id": "qc0IJ2DwPts7"
      },
      "source": [
        "### Vectors"
      ]
    },
    {
      "cell_type": "code",
      "metadata": {
        "colab": {
          "base_uri": "https://localhost:8080/"
        },
        "id": "3hd9W-rJMjj9",
        "outputId": "f5b3d8c4-1e78-4692-adfd-ac391ce55772"
      },
      "source": [
        "x,y,z = np.arange(12),torch.arange(12), tf.range(12)\r\n",
        "print(\"\\nMxnet vector is : \\n\",x)\r\n",
        "print(\"\\nTorch vector is : \\n\",y)\r\n",
        "print(\"\\nTensorfow vector is : \\n\",z)"
      ],
      "execution_count": 6,
      "outputs": [
        {
          "output_type": "stream",
          "text": [
            "\n",
            "Mxnet vector is : \n",
            " [ 0.  1.  2.  3.  4.  5.  6.  7.  8.  9. 10. 11.]\n",
            "\n",
            "Torch vector is : \n",
            " tensor([ 0,  1,  2,  3,  4,  5,  6,  7,  8,  9, 10, 11])\n",
            "\n",
            "Tensorfow vector is : \n",
            " tf.Tensor([ 0  1  2  3  4  5  6  7  8  9 10 11], shape=(12,), dtype=int32)\n"
          ],
          "name": "stdout"
        }
      ]
    },
    {
      "cell_type": "code",
      "metadata": {
        "colab": {
          "base_uri": "https://localhost:8080/"
        },
        "id": "zAyPv029MmiA",
        "outputId": "89b2ebc8-1e84-4a8a-e0db-db067fd039d7"
      },
      "source": [
        "print(\"\\nShape of Mxnet vector is : \", x.shape)\r\n",
        "print(\"\\nShape of torch vector is : \", y.shape)\r\n",
        "print(\"\\nShape of Tensorflow vector is : \", z.shape)"
      ],
      "execution_count": 7,
      "outputs": [
        {
          "output_type": "stream",
          "text": [
            "\n",
            "Shape of Mxnet vector is :  (12,)\n",
            "\n",
            "Shape of torch vector is :  torch.Size([12])\n",
            "\n",
            "Shape of Tensorflow vector is :  (12,)\n"
          ],
          "name": "stdout"
        }
      ]
    },
    {
      "cell_type": "markdown",
      "metadata": {
        "id": "ZulAbpVnQ4Pq"
      },
      "source": [
        "### Matrices"
      ]
    },
    {
      "cell_type": "code",
      "metadata": {
        "colab": {
          "base_uri": "https://localhost:8080/"
        },
        "id": "T5t-SGiYMr1b",
        "outputId": "d06cc186-49fa-4449-8b43-08702d05d224"
      },
      "source": [
        "x = x.reshape(3, 4)\r\n",
        "y = y.reshape(3, 4)\r\n",
        "z = tf.reshape(z,(3,4))\r\n",
        "print(\"\\nShape of mxnet is : \", x.shape)\r\n",
        "print(\"\\nShape of torch is : \", y.shape)\r\n",
        "print(\"\\nShape of tensorflow is : \", z.shape)"
      ],
      "execution_count": 8,
      "outputs": [
        {
          "output_type": "stream",
          "text": [
            "\n",
            "Shape of mxnet is :  (3, 4)\n",
            "\n",
            "Shape of torch is :  torch.Size([3, 4])\n",
            "\n",
            "Shape of tensorflow is :  (3, 4)\n"
          ],
          "name": "stdout"
        }
      ]
    },
    {
      "cell_type": "code",
      "metadata": {
        "colab": {
          "base_uri": "https://localhost:8080/"
        },
        "id": "cszcBYm6ojUT",
        "outputId": "612767eb-0d35-4e27-b697-9ad33d24972f"
      },
      "source": [
        "print(\"\\nTranspose of mxnet is : \", x.T.shape)\r\n",
        "print(\"\\nTranspose of torch is : \", y.T.shape)\r\n",
        "print(\"\\nTranspose of tensorflow is : \", tf.transpose(z).shape)"
      ],
      "execution_count": 9,
      "outputs": [
        {
          "output_type": "stream",
          "text": [
            "\n",
            "Transpose of mxnet is :  (4, 3)\n",
            "\n",
            "Transpose of torch is :  torch.Size([4, 3])\n",
            "\n",
            "Transpose of tensorflow is :  (4, 3)\n"
          ],
          "name": "stdout"
        }
      ]
    },
    {
      "cell_type": "markdown",
      "metadata": {
        "id": "eTNzf7kopI0W"
      },
      "source": [
        "### Tensors"
      ]
    },
    {
      "cell_type": "code",
      "metadata": {
        "colab": {
          "base_uri": "https://localhost:8080/"
        },
        "id": "mLHKxstApKo3",
        "outputId": "06b6ad92-e7c4-40e2-ab01-e053c2a62c3d"
      },
      "source": [
        "X, Y, Z = np.arange(24).reshape(2, 3, 4),  torch.arange(24).reshape(2, 3, 4), tf.reshape(tf.range(24), (2, 3, 4))\r\n",
        "print(\"\\Mxnet vector is : \\n\\n\",X)\r\n",
        "print(\"\\nTorch vector is : \\n\\n\",Y)\r\n",
        "print(\"\\nTensorfow vector is : \\n\\n\",Z)"
      ],
      "execution_count": 10,
      "outputs": [
        {
          "output_type": "stream",
          "text": [
            "\\Mxnet vector is : \n",
            "\n",
            " [[[ 0.  1.  2.  3.]\n",
            "  [ 4.  5.  6.  7.]\n",
            "  [ 8.  9. 10. 11.]]\n",
            "\n",
            " [[12. 13. 14. 15.]\n",
            "  [16. 17. 18. 19.]\n",
            "  [20. 21. 22. 23.]]]\n",
            "\n",
            "Torch vector is : \n",
            "\n",
            " tensor([[[ 0,  1,  2,  3],\n",
            "         [ 4,  5,  6,  7],\n",
            "         [ 8,  9, 10, 11]],\n",
            "\n",
            "        [[12, 13, 14, 15],\n",
            "         [16, 17, 18, 19],\n",
            "         [20, 21, 22, 23]]])\n",
            "\n",
            "Tensorfow vector is : \n",
            "\n",
            " tf.Tensor(\n",
            "[[[ 0  1  2  3]\n",
            "  [ 4  5  6  7]\n",
            "  [ 8  9 10 11]]\n",
            "\n",
            " [[12 13 14 15]\n",
            "  [16 17 18 19]\n",
            "  [20 21 22 23]]], shape=(2, 3, 4), dtype=int32)\n"
          ],
          "name": "stdout"
        }
      ]
    },
    {
      "cell_type": "markdown",
      "metadata": {
        "id": "ObXI40gUTD8R"
      },
      "source": [
        "### Matrix Addition"
      ]
    },
    {
      "cell_type": "code",
      "metadata": {
        "colab": {
          "base_uri": "https://localhost:8080/"
        },
        "id": "5d-VSoiMqUJ4",
        "outputId": "31a04ae4-3ebf-4045-bbda-9ff8c54df7b8"
      },
      "source": [
        "A = np.arange(20).reshape(5, 4)\r\n",
        "# Assign a copy of `A` to `B` by allocating new memory\r\n",
        "B = A.copy()  \r\n",
        "print(\"Matrix Addition in Mxnet is : \")\r\n",
        "print(\"\\n\\nA : \\n\",A,\"\\n\\nA + B : \\n\", A + B)"
      ],
      "execution_count": 11,
      "outputs": [
        {
          "output_type": "stream",
          "text": [
            "Matrix Addition in Mxnet is : \n",
            "\n",
            "\n",
            "A : \n",
            " [[ 0.  1.  2.  3.]\n",
            " [ 4.  5.  6.  7.]\n",
            " [ 8.  9. 10. 11.]\n",
            " [12. 13. 14. 15.]\n",
            " [16. 17. 18. 19.]] \n",
            "\n",
            "A + B : \n",
            " [[ 0.  2.  4.  6.]\n",
            " [ 8. 10. 12. 14.]\n",
            " [16. 18. 20. 22.]\n",
            " [24. 26. 28. 30.]\n",
            " [32. 34. 36. 38.]]\n"
          ],
          "name": "stdout"
        }
      ]
    },
    {
      "cell_type": "code",
      "metadata": {
        "colab": {
          "base_uri": "https://localhost:8080/"
        },
        "id": "-sjCP5pNq8UN",
        "outputId": "8e8f1a03-b0e6-4623-f27f-b82c372ca9c4"
      },
      "source": [
        "A = torch.arange(20, dtype=torch.float32).reshape(5, 4)\r\n",
        "# Assign a copy of `A` to `B` by allocating new memory\r\n",
        "B = A.clone()  \r\n",
        "print(\"Matrix Addition in Torch is : \")\r\n",
        "print(\"\\n\\nA : \\n\",A,\"\\n\\nA + B : \\n\", A + B)"
      ],
      "execution_count": 12,
      "outputs": [
        {
          "output_type": "stream",
          "text": [
            "Matrix Addition in Torch is : \n",
            "\n",
            "\n",
            "A : \n",
            " tensor([[ 0.,  1.,  2.,  3.],\n",
            "        [ 4.,  5.,  6.,  7.],\n",
            "        [ 8.,  9., 10., 11.],\n",
            "        [12., 13., 14., 15.],\n",
            "        [16., 17., 18., 19.]]) \n",
            "\n",
            "A + B : \n",
            " tensor([[ 0.,  2.,  4.,  6.],\n",
            "        [ 8., 10., 12., 14.],\n",
            "        [16., 18., 20., 22.],\n",
            "        [24., 26., 28., 30.],\n",
            "        [32., 34., 36., 38.]])\n"
          ],
          "name": "stdout"
        }
      ]
    },
    {
      "cell_type": "code",
      "metadata": {
        "colab": {
          "base_uri": "https://localhost:8080/"
        },
        "id": "Q1J4ADferOEG",
        "outputId": "696f7961-190c-4134-c37b-cc61bb35f929"
      },
      "source": [
        "A = tf.reshape(tf.range(20, dtype=tf.float32), (5, 4))\r\n",
        "# No cloning of `A` to `B` by allocating new memory\r\n",
        "B = A  \r\n",
        "print(\"Matrix Addition in Tenorflow is : \")\r\n",
        "print(\"\\n\\nA : \\n\",A,\"\\n\\nA + B : \\n\", A + B)"
      ],
      "execution_count": 13,
      "outputs": [
        {
          "output_type": "stream",
          "text": [
            "Matrix Addition in Tenorflow is : \n",
            "\n",
            "\n",
            "A : \n",
            " tf.Tensor(\n",
            "[[ 0.  1.  2.  3.]\n",
            " [ 4.  5.  6.  7.]\n",
            " [ 8.  9. 10. 11.]\n",
            " [12. 13. 14. 15.]\n",
            " [16. 17. 18. 19.]], shape=(5, 4), dtype=float32) \n",
            "\n",
            "A + B : \n",
            " tf.Tensor(\n",
            "[[ 0.  2.  4.  6.]\n",
            " [ 8. 10. 12. 14.]\n",
            " [16. 18. 20. 22.]\n",
            " [24. 26. 28. 30.]\n",
            " [32. 34. 36. 38.]], shape=(5, 4), dtype=float32)\n"
          ],
          "name": "stdout"
        }
      ]
    },
    {
      "cell_type": "markdown",
      "metadata": {
        "id": "fPre5MV6USUp"
      },
      "source": [
        "### Hadamard product : Element wise product"
      ]
    },
    {
      "cell_type": "code",
      "metadata": {
        "colab": {
          "base_uri": "https://localhost:8080/"
        },
        "id": "L99AUd0zUUao",
        "outputId": "c68b83ac-435f-4779-8e1e-2f4bd375be45"
      },
      "source": [
        "A = np.arange(20).reshape(5, 4)\r\n",
        "# Assign a copy of `A` to `B` by allocating new memory\r\n",
        "B = A.copy()  \r\n",
        "print(\"Mxnet is : \")\r\n",
        "print(\"\\n\\nA : \\n\",A,\"\\n\\nA + B : \\n\", A * B)"
      ],
      "execution_count": 14,
      "outputs": [
        {
          "output_type": "stream",
          "text": [
            "Mxnet is : \n",
            "\n",
            "\n",
            "A : \n",
            " [[ 0.  1.  2.  3.]\n",
            " [ 4.  5.  6.  7.]\n",
            " [ 8.  9. 10. 11.]\n",
            " [12. 13. 14. 15.]\n",
            " [16. 17. 18. 19.]] \n",
            "\n",
            "A + B : \n",
            " [[  0.   1.   4.   9.]\n",
            " [ 16.  25.  36.  49.]\n",
            " [ 64.  81. 100. 121.]\n",
            " [144. 169. 196. 225.]\n",
            " [256. 289. 324. 361.]]\n"
          ],
          "name": "stdout"
        }
      ]
    },
    {
      "cell_type": "code",
      "metadata": {
        "colab": {
          "base_uri": "https://localhost:8080/"
        },
        "id": "T_n7sXBKrxyI",
        "outputId": "e6598f4e-1310-477b-d90d-e7a5690b4baf"
      },
      "source": [
        "A = torch.arange(20, dtype=torch.float32).reshape(5, 4)\r\n",
        "# Assign a copy of `A` to `B` by allocating new memory\r\n",
        "B = A.clone()  \r\n",
        "print(\"Torch is : \")\r\n",
        "print(\"\\n\\nA : \\n\",A,\"\\n\\nA + B : \\n\", A * B)"
      ],
      "execution_count": 15,
      "outputs": [
        {
          "output_type": "stream",
          "text": [
            "Torch is : \n",
            "\n",
            "\n",
            "A : \n",
            " tensor([[ 0.,  1.,  2.,  3.],\n",
            "        [ 4.,  5.,  6.,  7.],\n",
            "        [ 8.,  9., 10., 11.],\n",
            "        [12., 13., 14., 15.],\n",
            "        [16., 17., 18., 19.]]) \n",
            "\n",
            "A + B : \n",
            " tensor([[  0.,   1.,   4.,   9.],\n",
            "        [ 16.,  25.,  36.,  49.],\n",
            "        [ 64.,  81., 100., 121.],\n",
            "        [144., 169., 196., 225.],\n",
            "        [256., 289., 324., 361.]])\n"
          ],
          "name": "stdout"
        }
      ]
    },
    {
      "cell_type": "code",
      "metadata": {
        "colab": {
          "base_uri": "https://localhost:8080/"
        },
        "id": "xdORvmh3r351",
        "outputId": "8b9a635c-35b5-4a6d-fdfc-38283fd8ba44"
      },
      "source": [
        "A = tf.reshape(tf.range(20, dtype=tf.float32), (5, 4))\r\n",
        "# No cloning of `A` to `B` by allocating new memory\r\n",
        "B = A \r\n",
        "print(\"Tensorflow is : \")\r\n",
        "print(\"\\n\\nA : \\n\",A,\"\\n\\nA + B : \\n\", A * B)"
      ],
      "execution_count": 16,
      "outputs": [
        {
          "output_type": "stream",
          "text": [
            "Tensorflow is : \n",
            "\n",
            "\n",
            "A : \n",
            " tf.Tensor(\n",
            "[[ 0.  1.  2.  3.]\n",
            " [ 4.  5.  6.  7.]\n",
            " [ 8.  9. 10. 11.]\n",
            " [12. 13. 14. 15.]\n",
            " [16. 17. 18. 19.]], shape=(5, 4), dtype=float32) \n",
            "\n",
            "A + B : \n",
            " tf.Tensor(\n",
            "[[  0.   1.   4.   9.]\n",
            " [ 16.  25.  36.  49.]\n",
            " [ 64.  81. 100. 121.]\n",
            " [144. 169. 196. 225.]\n",
            " [256. 289. 324. 361.]], shape=(5, 4), dtype=float32)\n"
          ],
          "name": "stdout"
        }
      ]
    },
    {
      "cell_type": "markdown",
      "metadata": {
        "id": "bYW9MHjQWQbc"
      },
      "source": [
        "### Scalor Matrix Operations\r\n",
        "\r\n",
        "```\r\n",
        "# This is formatted as code\r\n",
        "```\r\n",
        "\r\n"
      ]
    },
    {
      "cell_type": "code",
      "metadata": {
        "colab": {
          "base_uri": "https://localhost:8080/"
        },
        "id": "MDKpCSM4UocD",
        "outputId": "edfc9ee3-93df-429a-adf0-8d146109a3ca"
      },
      "source": [
        "a = 2\r\n",
        "X = np.arange(12).reshape(3, 4)\r\n",
        "print(\"Mxnet is : \\n\",X)\r\n",
        "print(\"\\n\\nAddition is : \\n\",a + X, \"\\n\\nMultiplication is : \\n\",(a * X))"
      ],
      "execution_count": 17,
      "outputs": [
        {
          "output_type": "stream",
          "text": [
            "Mxnet is : \n",
            " [[ 0.  1.  2.  3.]\n",
            " [ 4.  5.  6.  7.]\n",
            " [ 8.  9. 10. 11.]]\n",
            "\n",
            "\n",
            "Addition is : \n",
            " [[ 2.  3.  4.  5.]\n",
            " [ 6.  7.  8.  9.]\n",
            " [10. 11. 12. 13.]] \n",
            "\n",
            "Multiplication is : \n",
            " [[ 0.  2.  4.  6.]\n",
            " [ 8. 10. 12. 14.]\n",
            " [16. 18. 20. 22.]]\n"
          ],
          "name": "stdout"
        }
      ]
    },
    {
      "cell_type": "code",
      "metadata": {
        "colab": {
          "base_uri": "https://localhost:8080/"
        },
        "id": "H9hl3VpKs2ZJ",
        "outputId": "fba00157-e9b9-47c7-e6b5-16615e4641d4"
      },
      "source": [
        "a = 2\r\n",
        "X = torch.arange(12).reshape(3, 4)\r\n",
        "print(\"Torch is : \\n\",X)\r\n",
        "print(\"\\n\\nAddition is : \\n\",a + X, \"\\n\\nMultiplication is : \\n\",(a * X))"
      ],
      "execution_count": 18,
      "outputs": [
        {
          "output_type": "stream",
          "text": [
            "Torch is : \n",
            " tensor([[ 0,  1,  2,  3],\n",
            "        [ 4,  5,  6,  7],\n",
            "        [ 8,  9, 10, 11]])\n",
            "\n",
            "\n",
            "Addition is : \n",
            " tensor([[ 2,  3,  4,  5],\n",
            "        [ 6,  7,  8,  9],\n",
            "        [10, 11, 12, 13]]) \n",
            "\n",
            "Multiplication is : \n",
            " tensor([[ 0,  2,  4,  6],\n",
            "        [ 8, 10, 12, 14],\n",
            "        [16, 18, 20, 22]])\n"
          ],
          "name": "stdout"
        }
      ]
    },
    {
      "cell_type": "code",
      "metadata": {
        "colab": {
          "base_uri": "https://localhost:8080/"
        },
        "id": "cJczLBdhtK2i",
        "outputId": "9b12c62e-5b46-4369-a2f7-8f4a48d9ecd5"
      },
      "source": [
        "a = 2\r\n",
        "X = tf.reshape(tf.range(12), (3, 4))\r\n",
        "print(\"Tensorflow is : \\n\",X)\r\n",
        "print(\"\\n\\nAddition is : \\n\",a + X, \"\\n\\nMultiplication is : \\n\",(a * X))"
      ],
      "execution_count": 19,
      "outputs": [
        {
          "output_type": "stream",
          "text": [
            "Tensorflow is : \n",
            " tf.Tensor(\n",
            "[[ 0  1  2  3]\n",
            " [ 4  5  6  7]\n",
            " [ 8  9 10 11]], shape=(3, 4), dtype=int32)\n",
            "\n",
            "\n",
            "Addition is : \n",
            " tf.Tensor(\n",
            "[[ 2  3  4  5]\n",
            " [ 6  7  8  9]\n",
            " [10 11 12 13]], shape=(3, 4), dtype=int32) \n",
            "\n",
            "Multiplication is : \n",
            " tf.Tensor(\n",
            "[[ 0  2  4  6]\n",
            " [ 8 10 12 14]\n",
            " [16 18 20 22]], shape=(3, 4), dtype=int32)\n"
          ],
          "name": "stdout"
        }
      ]
    },
    {
      "cell_type": "markdown",
      "metadata": {
        "id": "ACwJb82atpO5"
      },
      "source": [
        "### Reduction"
      ]
    },
    {
      "cell_type": "code",
      "metadata": {
        "colab": {
          "base_uri": "https://localhost:8080/"
        },
        "id": "Q7EDYQFttraE",
        "outputId": "e6a6dd5b-0d31-4a92-f81c-dcb835c47dfe"
      },
      "source": [
        "x, y, z = np.arange(4), torch.arange(4, dtype=torch.float32), tf.range(4, dtype=tf.float32)\r\n",
        "print(\"Mxnet is : \")\r\n",
        "print(x)\r\n",
        "print(\"Sum is : \",x.sum())\r\n",
        "print(\"\\nTorch is : \")\r\n",
        "print(y)\r\n",
        "print(\"Sum is : \",y.sum())\r\n",
        "print(\"\\nTensorfow is : \")\r\n",
        "print(z)\r\n",
        "print(\"Sum is : \",tf.reduce_sum(z))"
      ],
      "execution_count": 20,
      "outputs": [
        {
          "output_type": "stream",
          "text": [
            "Mxnet is : \n",
            "[0. 1. 2. 3.]\n",
            "Sum is :  6.0\n",
            "\n",
            "Torch is : \n",
            "tensor([0., 1., 2., 3.])\n",
            "Sum is :  tensor(6.)\n",
            "\n",
            "Tensorfow is : \n",
            "tf.Tensor([0. 1. 2. 3.], shape=(4,), dtype=float32)\n",
            "Sum is :  tf.Tensor(6.0, shape=(), dtype=float32)\n"
          ],
          "name": "stdout"
        }
      ]
    },
    {
      "cell_type": "code",
      "metadata": {
        "colab": {
          "base_uri": "https://localhost:8080/"
        },
        "id": "OblleDwuvvG_",
        "outputId": "81d6278b-542a-4324-e6c0-e6a7b3d17f2e"
      },
      "source": [
        "A = np.arange(12).reshape(3, 4)\r\n",
        "print(\"Mxnet is : \")\r\n",
        "print(A)\r\n",
        "print(\"\\nSum is : \",A.sum())\r\n",
        "print(\"\\nColumn wise Sum is : \",A.sum(axis=0))\r\n",
        "print(\"\\nColumn wise Sum is : \",A.sum(axis=0, keepdims=True))\r\n",
        "print(\"\\nRow wise Sum is : \",A.sum(axis=1))\r\n",
        "print(\"\\nRow wise Sum is : \\n\",A.sum(axis=1, keepdims=True))\r\n",
        "print(\"\\nMean of \",A.size,\" terms in A is : \",A.mean())\r\n",
        "print(\"\\nColumn wise mean is : \",A.mean(axis=0))\r\n",
        "print(\"\\nRow wise mean is : \",A.mean(axis=1))"
      ],
      "execution_count": 21,
      "outputs": [
        {
          "output_type": "stream",
          "text": [
            "Mxnet is : \n",
            "[[ 0.  1.  2.  3.]\n",
            " [ 4.  5.  6.  7.]\n",
            " [ 8.  9. 10. 11.]]\n",
            "\n",
            "Sum is :  66.0\n",
            "\n",
            "Column wise Sum is :  [12. 15. 18. 21.]\n",
            "\n",
            "Column wise Sum is :  [[12. 15. 18. 21.]]\n",
            "\n",
            "Row wise Sum is :  [ 6. 22. 38.]\n",
            "\n",
            "Row wise Sum is : \n",
            " [[ 6.]\n",
            " [22.]\n",
            " [38.]]\n",
            "\n",
            "Mean of  12  terms in A is :  5.5\n",
            "\n",
            "Column wise mean is :  [4. 5. 6. 7.]\n",
            "\n",
            "Row wise mean is :  [1.5 5.5 9.5]\n"
          ],
          "name": "stdout"
        }
      ]
    },
    {
      "cell_type": "code",
      "metadata": {
        "colab": {
          "base_uri": "https://localhost:8080/"
        },
        "id": "j7-Gthmb2DmV",
        "outputId": "512c334e-a843-4d6d-a807-8a6b45f107b0"
      },
      "source": [
        "B = torch.arange(12).reshape(3, 4).float()\r\n",
        "print(\"Torch is : \")\r\n",
        "print(B)\r\n",
        "print(\"\\nSum is : \",B.sum())\r\n",
        "print(\"\\nColumn wise Sum is : \",B.sum(axis=0))\r\n",
        "print(\"\\nColumn wise Sum is : \",B.sum(axis=0, keepdims=True))\r\n",
        "print(\"\\nRow wise Sum is : \",B.sum(axis=1))\r\n",
        "print(\"\\nRow wise Sum is : \\n\",B.sum(axis=1, keepdims=True))\r\n",
        "print(\"\\nMean of \",B.numel(),\" terms in B is : \",B.mean())\r\n",
        "print(\"\\nColumn wise mean is : \",B.mean(axis=0))\r\n",
        "print(\"\\nRow wise mean is : \",B.mean(axis=1))"
      ],
      "execution_count": 22,
      "outputs": [
        {
          "output_type": "stream",
          "text": [
            "Torch is : \n",
            "tensor([[ 0.,  1.,  2.,  3.],\n",
            "        [ 4.,  5.,  6.,  7.],\n",
            "        [ 8.,  9., 10., 11.]])\n",
            "\n",
            "Sum is :  tensor(66.)\n",
            "\n",
            "Column wise Sum is :  tensor([12., 15., 18., 21.])\n",
            "\n",
            "Column wise Sum is :  tensor([[12., 15., 18., 21.]])\n",
            "\n",
            "Row wise Sum is :  tensor([ 6., 22., 38.])\n",
            "\n",
            "Row wise Sum is : \n",
            " tensor([[ 6.],\n",
            "        [22.],\n",
            "        [38.]])\n",
            "\n",
            "Mean of  12  terms in B is :  tensor(5.5000)\n",
            "\n",
            "Column wise mean is :  tensor([4., 5., 6., 7.])\n",
            "\n",
            "Row wise mean is :  tensor([1.5000, 5.5000, 9.5000])\n"
          ],
          "name": "stdout"
        }
      ]
    },
    {
      "cell_type": "code",
      "metadata": {
        "colab": {
          "base_uri": "https://localhost:8080/"
        },
        "id": "zuxUoRW62GY9",
        "outputId": "b90a61a2-0c94-46e9-d714-f162570d53bf"
      },
      "source": [
        "C =  tf.reshape(tf.range(12), (3, 4))\r\n",
        "print(\"Tensorfow is : \")\r\n",
        "print(C) \r\n",
        "print(\"\\nSum is : \",tf.reduce_sum(C))\r\n",
        "print(\"\\nColumn wise Sum is : \",tf.reduce_sum(C, axis=0))\r\n",
        "print(\"\\nColumn wise Sum is : \",tf.reduce_sum(C, axis=1, keepdims=True))\r\n",
        "print(\"\\nRow wise Sum is : \",tf.reduce_sum(C, axis=1))\r\n",
        "print(\"\\nRow wise Sum is : \",tf.reduce_sum(C, axis=1, keepdims=True))\r\n",
        "print(\"\\nMean of \",tf.size(C).numpy(),\" terms in C is : \",tf.reduce_mean(C))\r\n",
        "print(\"\\nColumn wise mean is : \",tf.reduce_mean(C, axis=0))\r\n",
        "print(\"\\nRow wise mean is : \",tf.reduce_mean(C, axis=1))"
      ],
      "execution_count": 23,
      "outputs": [
        {
          "output_type": "stream",
          "text": [
            "Tensorfow is : \n",
            "tf.Tensor(\n",
            "[[ 0  1  2  3]\n",
            " [ 4  5  6  7]\n",
            " [ 8  9 10 11]], shape=(3, 4), dtype=int32)\n",
            "\n",
            "Sum is :  tf.Tensor(66, shape=(), dtype=int32)\n",
            "\n",
            "Column wise Sum is :  tf.Tensor([12 15 18 21], shape=(4,), dtype=int32)\n",
            "\n",
            "Column wise Sum is :  tf.Tensor(\n",
            "[[ 6]\n",
            " [22]\n",
            " [38]], shape=(3, 1), dtype=int32)\n",
            "\n",
            "Row wise Sum is :  tf.Tensor([ 6 22 38], shape=(3,), dtype=int32)\n",
            "\n",
            "Row wise Sum is :  tf.Tensor(\n",
            "[[ 6]\n",
            " [22]\n",
            " [38]], shape=(3, 1), dtype=int32)\n",
            "\n",
            "Mean of  12  terms in C is :  tf.Tensor(5, shape=(), dtype=int32)\n",
            "\n",
            "Column wise mean is :  tf.Tensor([4 5 6 7], shape=(4,), dtype=int32)\n",
            "\n",
            "Row wise mean is :  tf.Tensor([1 5 9], shape=(3,), dtype=int32)\n"
          ],
          "name": "stdout"
        }
      ]
    },
    {
      "cell_type": "markdown",
      "metadata": {
        "id": "GryPLKuc77tu"
      },
      "source": [
        "### Dot Product"
      ]
    },
    {
      "cell_type": "code",
      "metadata": {
        "colab": {
          "base_uri": "https://localhost:8080/"
        },
        "id": "UK5hQ_Y_7-py",
        "outputId": "6cb13347-a533-4455-c003-670d4782ec3c"
      },
      "source": [
        "x, y = np.arange(4), np.ones(4)\r\n",
        "print(\"Mxnet is : \",\"\\nx : \",x,\"\\ny : \", y)\r\n",
        "print(\"\\nDot product is : \",np.dot(x, y),\"\\nDot product is : \", np.sum(x * y))"
      ],
      "execution_count": 24,
      "outputs": [
        {
          "output_type": "stream",
          "text": [
            "Mxnet is :  \n",
            "x :  [0. 1. 2. 3.] \n",
            "y :  [1. 1. 1. 1.]\n",
            "\n",
            "Dot product is :  6.0 \n",
            "Dot product is :  6.0\n"
          ],
          "name": "stdout"
        }
      ]
    },
    {
      "cell_type": "code",
      "metadata": {
        "colab": {
          "base_uri": "https://localhost:8080/"
        },
        "id": "IQQ3IgKS8gfE",
        "outputId": "9263f7fd-2c63-4a8e-baa3-be8b3e9292c3"
      },
      "source": [
        "x, y = torch.arange(4, dtype = torch.float32) , torch.ones(4, dtype = torch.float32)\r\n",
        "print(\"Torch is : \",\"\\nx : \",x,\"\\ny : \", y)\r\n",
        "print(\"\\nDot product is : \",torch.dot(x, y),\"\\nDot product is : \", torch.sum(x * y))"
      ],
      "execution_count": 25,
      "outputs": [
        {
          "output_type": "stream",
          "text": [
            "Torch is :  \n",
            "x :  tensor([0., 1., 2., 3.]) \n",
            "y :  tensor([1., 1., 1., 1.])\n",
            "\n",
            "Dot product is :  tensor(6.) \n",
            "Dot product is :  tensor(6.)\n"
          ],
          "name": "stdout"
        }
      ]
    },
    {
      "cell_type": "code",
      "metadata": {
        "colab": {
          "base_uri": "https://localhost:8080/"
        },
        "id": "5WHoL7619jGE",
        "outputId": "d49fbff1-53ae-47ca-aa39-e5a9df5c12b9"
      },
      "source": [
        "x, y = tf.range(4, dtype=tf.float32) , tf.ones(4, dtype=tf.float32)\r\n",
        "print(\"Tensorflow is : \",\"\\nx : \",x,\"\\ny : \", y)\r\n",
        "print(\"\\nDot product is : \",tf.tensordot(x, y, axes=1),\"\\nDot product is : \", tf.reduce_sum(x * y))"
      ],
      "execution_count": 26,
      "outputs": [
        {
          "output_type": "stream",
          "text": [
            "Tensorflow is :  \n",
            "x :  tf.Tensor([0. 1. 2. 3.], shape=(4,), dtype=float32) \n",
            "y :  tf.Tensor([1. 1. 1. 1.], shape=(4,), dtype=float32)\n",
            "\n",
            "Dot product is :  tf.Tensor(6.0, shape=(), dtype=float32) \n",
            "Dot product is :  tf.Tensor(6.0, shape=(), dtype=float32)\n"
          ],
          "name": "stdout"
        }
      ]
    },
    {
      "cell_type": "markdown",
      "metadata": {
        "id": "bVh32Kz_-YZ2"
      },
      "source": [
        "## Matrix-Vector Products"
      ]
    },
    {
      "cell_type": "code",
      "metadata": {
        "colab": {
          "base_uri": "https://localhost:8080/"
        },
        "id": "WQha7EcZ-ZuN",
        "outputId": "7952c42a-9a43-41de-90d8-1899d51ae53b"
      },
      "source": [
        "A, B = np.arange(6).reshape(3,2), np.ones(shape=(2, 3))\r\n",
        "print(\"Mxnet is : \",\"\\nA : \\n\",A,\"\\nB : \\n\", B)\r\n",
        "print(\"\\nDot product is : \\n\",np.dot(A, B))"
      ],
      "execution_count": 27,
      "outputs": [
        {
          "output_type": "stream",
          "text": [
            "Mxnet is :  \n",
            "A : \n",
            " [[0. 1.]\n",
            " [2. 3.]\n",
            " [4. 5.]] \n",
            "B : \n",
            " [[1. 1. 1.]\n",
            " [1. 1. 1.]]\n",
            "\n",
            "Dot product is : \n",
            " [[1. 1. 1.]\n",
            " [5. 5. 5.]\n",
            " [9. 9. 9.]]\n"
          ],
          "name": "stdout"
        }
      ]
    },
    {
      "cell_type": "code",
      "metadata": {
        "colab": {
          "base_uri": "https://localhost:8080/"
        },
        "id": "E4ksFB2VFuUN",
        "outputId": "7e8df8dd-4224-4726-c1ff-328bb9e463a9"
      },
      "source": [
        "A, B = torch.arange(6, dtype = torch.float32).reshape(3,2), torch.ones(2, 3)\r\n",
        "print(\"Torch is : \",\"\\nA : \\n\",A,\"\\nB : \\n\", B)\r\n",
        "print(\"\\nDot product is : \\n\", torch.mm(A, B))"
      ],
      "execution_count": 28,
      "outputs": [
        {
          "output_type": "stream",
          "text": [
            "Torch is :  \n",
            "A : \n",
            " tensor([[0., 1.],\n",
            "        [2., 3.],\n",
            "        [4., 5.]]) \n",
            "B : \n",
            " tensor([[1., 1., 1.],\n",
            "        [1., 1., 1.]])\n",
            "\n",
            "Dot product is : \n",
            " tensor([[1., 1., 1.],\n",
            "        [5., 5., 5.],\n",
            "        [9., 9., 9.]])\n"
          ],
          "name": "stdout"
        }
      ]
    },
    {
      "cell_type": "code",
      "metadata": {
        "colab": {
          "base_uri": "https://localhost:8080/"
        },
        "id": "D56UxrLKFWDn",
        "outputId": "bd0442cd-a49f-48a9-bb91-c306213065d6"
      },
      "source": [
        "A, B = tf.reshape(tf.range(12, dtype=tf.float32), (3, 4)) , tf.ones((4, 3), dtype=tf.float32)\r\n",
        "print(\"Tensorflow is : \",\"\\nA : \\n\",A,\"\\nB : \\n\", B)\r\n",
        "print(\"\\nDot product is : \\n\", tf.matmul(A, B))"
      ],
      "execution_count": 29,
      "outputs": [
        {
          "output_type": "stream",
          "text": [
            "Tensorflow is :  \n",
            "A : \n",
            " tf.Tensor(\n",
            "[[ 0.  1.  2.  3.]\n",
            " [ 4.  5.  6.  7.]\n",
            " [ 8.  9. 10. 11.]], shape=(3, 4), dtype=float32) \n",
            "B : \n",
            " tf.Tensor(\n",
            "[[1. 1. 1.]\n",
            " [1. 1. 1.]\n",
            " [1. 1. 1.]\n",
            " [1. 1. 1.]], shape=(4, 3), dtype=float32)\n",
            "\n",
            "Dot product is : \n",
            " tf.Tensor(\n",
            "[[ 6.  6.  6.]\n",
            " [22. 22. 22.]\n",
            " [38. 38. 38.]], shape=(3, 3), dtype=float32)\n"
          ],
          "name": "stdout"
        }
      ]
    },
    {
      "cell_type": "markdown",
      "metadata": {
        "id": "R7XsrIGaK0HK"
      },
      "source": [
        "### Norms"
      ]
    },
    {
      "cell_type": "code",
      "metadata": {
        "colab": {
          "base_uri": "https://localhost:8080/"
        },
        "id": "AqZav69DK1-P",
        "outputId": "8c303aa5-e9cc-4484-d534-0c236dbede00"
      },
      "source": [
        "a, b, c = np.array([3, -4]), torch.tensor([3.0, -4.0]), tf.constant([3.0, -4.0])\r\n",
        "print(\"L1 Norm : \",np.linalg.norm(a),torch.norm(b),tf.norm(c))\r\n",
        "print(\"L2 Norm : \",np.abs(a).sum(),torch.abs(b).sum(),tf.reduce_sum(tf.abs(c)))\r\n",
        "a, b, c = np.array([3, -4,5]), torch.tensor([3.0, -4.0, 5.0]), tf.constant([3.0, -4.0, 5.0])\r\n",
        "print(\"Frobenius norm : \", np.linalg.norm(a), torch.norm(b), tf.norm(c))"
      ],
      "execution_count": 30,
      "outputs": [
        {
          "output_type": "stream",
          "text": [
            "L1 Norm :  5.0 tensor(5.) tf.Tensor(5.0, shape=(), dtype=float32)\n",
            "L2 Norm :  7.0 tensor(7.) tf.Tensor(7.0, shape=(), dtype=float32)\n",
            "Frobenius norm :  7.071068 tensor(7.0711) tf.Tensor(7.071068, shape=(), dtype=float32)\n"
          ],
          "name": "stdout"
        }
      ]
    }
  ]
}