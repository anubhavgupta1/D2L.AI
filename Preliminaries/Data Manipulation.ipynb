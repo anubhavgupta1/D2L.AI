{
  "nbformat": 4,
  "nbformat_minor": 0,
  "metadata": {
    "colab": {
      "name": "Untitled23.ipynb",
      "provenance": [],
      "authorship_tag": "ABX9TyOUwJ/Q1ZZ1jkLoVV/uWEXA",
      "include_colab_link": true
    },
    "kernelspec": {
      "display_name": "Python 3",
      "name": "python3"
    }
  },
  "cells": [
    {
      "cell_type": "markdown",
      "metadata": {
        "id": "view-in-github",
        "colab_type": "text"
      },
      "source": [
        "<a href=\"https://colab.research.google.com/github/anubhavgupta1/D2L.AI/blob/main/Preliminaries/Data%20Manipulation.ipynb\" target=\"_parent\"><img src=\"https://colab.research.google.com/assets/colab-badge.svg\" alt=\"Open In Colab\"/></a>"
      ]
    },
    {
      "cell_type": "markdown",
      "metadata": {
        "id": "QoJIK_HF-u6P"
      },
      "source": [
        "# Preliminaries"
      ]
    },
    {
      "cell_type": "code",
      "metadata": {
        "colab": {
          "base_uri": "https://localhost:8080/"
        },
        "id": "SQ1CLKlCWMNk",
        "outputId": "0e4806cb-3acb-494c-d44a-0a65a47b2399"
      },
      "source": [
        "!pip install -U mxnet-cu101==1.7.0"
      ],
      "execution_count": 1,
      "outputs": [
        {
          "output_type": "stream",
          "text": [
            "Collecting mxnet-cu101==1.7.0\n",
            "\u001b[?25l  Downloading https://files.pythonhosted.org/packages/40/26/9655677b901537f367c3c473376e4106abc72e01a8fc25b1cb6ed9c37e8c/mxnet_cu101-1.7.0-py2.py3-none-manylinux2014_x86_64.whl (846.0MB)\n",
            "\u001b[K     |███████████████████████████████▌| 834.1MB 1.3MB/s eta 0:00:09tcmalloc: large alloc 1147494400 bytes == 0x6578a000 @  0x7fbbb0254615 0x591e47 0x4cc179 0x4cc2db 0x50a1cc 0x50beb4 0x507be4 0x509900 0x50a2fd 0x50beb4 0x507be4 0x509900 0x50a2fd 0x50cc96 0x58e683 0x50c127 0x58e683 0x50c127 0x58e683 0x50c127 0x58e683 0x50c127 0x5095c8 0x50a2fd 0x50beb4 0x507be4 0x509900 0x50a2fd 0x50beb4 0x5095c8 0x50a2fd\n",
            "\u001b[K     |████████████████████████████████| 846.0MB 21kB/s \n",
            "\u001b[?25hCollecting graphviz<0.9.0,>=0.8.1\n",
            "  Downloading https://files.pythonhosted.org/packages/53/39/4ab213673844e0c004bed8a0781a0721a3f6bb23eb8854ee75c236428892/graphviz-0.8.4-py2.py3-none-any.whl\n",
            "Requirement already satisfied, skipping upgrade: requests<3,>=2.20.0 in /usr/local/lib/python3.6/dist-packages (from mxnet-cu101==1.7.0) (2.23.0)\n",
            "Requirement already satisfied, skipping upgrade: numpy<2.0.0,>1.16.0 in /usr/local/lib/python3.6/dist-packages (from mxnet-cu101==1.7.0) (1.19.5)\n",
            "Requirement already satisfied, skipping upgrade: idna<3,>=2.5 in /usr/local/lib/python3.6/dist-packages (from requests<3,>=2.20.0->mxnet-cu101==1.7.0) (2.10)\n",
            "Requirement already satisfied, skipping upgrade: chardet<4,>=3.0.2 in /usr/local/lib/python3.6/dist-packages (from requests<3,>=2.20.0->mxnet-cu101==1.7.0) (3.0.4)\n",
            "Requirement already satisfied, skipping upgrade: certifi>=2017.4.17 in /usr/local/lib/python3.6/dist-packages (from requests<3,>=2.20.0->mxnet-cu101==1.7.0) (2020.12.5)\n",
            "Requirement already satisfied, skipping upgrade: urllib3!=1.25.0,!=1.25.1,<1.26,>=1.21.1 in /usr/local/lib/python3.6/dist-packages (from requests<3,>=2.20.0->mxnet-cu101==1.7.0) (1.24.3)\n",
            "Installing collected packages: graphviz, mxnet-cu101\n",
            "  Found existing installation: graphviz 0.10.1\n",
            "    Uninstalling graphviz-0.10.1:\n",
            "      Successfully uninstalled graphviz-0.10.1\n",
            "Successfully installed graphviz-0.8.4 mxnet-cu101-1.7.0\n"
          ],
          "name": "stdout"
        }
      ]
    },
    {
      "cell_type": "markdown",
      "metadata": {
        "id": "gOMsR58CMVWF"
      },
      "source": [
        "## Data Manipulation"
      ]
    },
    {
      "cell_type": "code",
      "metadata": {
        "id": "rr7h4wl9MSWX"
      },
      "source": [
        "from mxnet import np, npx\r\n",
        "npx.set_np()\r\n",
        "import torch\r\n",
        "import tensorflow as tf"
      ],
      "execution_count": 2,
      "outputs": []
    },
    {
      "cell_type": "markdown",
      "metadata": {
        "id": "qc0IJ2DwPts7"
      },
      "source": [
        "### Vectors"
      ]
    },
    {
      "cell_type": "code",
      "metadata": {
        "colab": {
          "base_uri": "https://localhost:8080/"
        },
        "id": "3hd9W-rJMjj9",
        "outputId": "1c479691-3533-493b-f5ee-66ad7ac8a3a5"
      },
      "source": [
        "x,y,z = np.arange(12),torch.arange(12), tf.range(12)\r\n",
        "print(\"\\nMxnet vector is : \\n\",x)\r\n",
        "print(\"\\nTorch vector is : \\n\",y)\r\n",
        "print(\"\\nTensorfow vector is : \\n\",z)"
      ],
      "execution_count": 3,
      "outputs": [
        {
          "output_type": "stream",
          "text": [
            "\n",
            "Mxnet vector is : \n",
            " [ 0.  1.  2.  3.  4.  5.  6.  7.  8.  9. 10. 11.]\n",
            "\n",
            "Torch vector is : \n",
            " tensor([ 0,  1,  2,  3,  4,  5,  6,  7,  8,  9, 10, 11])\n",
            "\n",
            "Tensorfow vector is : \n",
            " tf.Tensor([ 0  1  2  3  4  5  6  7  8  9 10 11], shape=(12,), dtype=int32)\n"
          ],
          "name": "stdout"
        }
      ]
    },
    {
      "cell_type": "code",
      "metadata": {
        "colab": {
          "base_uri": "https://localhost:8080/"
        },
        "id": "zAyPv029MmiA",
        "outputId": "363412d1-3cfd-4218-e6c9-2ab419d024fe"
      },
      "source": [
        "print(\"\\nShape of Mxnet vector is : \", x.shape)\r\n",
        "print(\"\\nShape of torch vector is : \", y.shape)\r\n",
        "print(\"\\nShape of Tensorflow vector is : \", z.shape)"
      ],
      "execution_count": 4,
      "outputs": [
        {
          "output_type": "stream",
          "text": [
            "\n",
            "Shape of Mxnet vector is :  (12,)\n",
            "\n",
            "Shape of torch vector is :  torch.Size([12])\n",
            "\n",
            "Shape of Tensorflow vector is :  (12,)\n"
          ],
          "name": "stdout"
        }
      ]
    },
    {
      "cell_type": "markdown",
      "metadata": {
        "id": "ZulAbpVnQ4Pq"
      },
      "source": [
        "### Reshape"
      ]
    },
    {
      "cell_type": "code",
      "metadata": {
        "colab": {
          "base_uri": "https://localhost:8080/"
        },
        "id": "T5t-SGiYMr1b",
        "outputId": "f1ac0402-d88d-4b23-f754-3931c8d6e380"
      },
      "source": [
        "x = x.reshape(3, 4)\r\n",
        "y = y.reshape(3, 4)\r\n",
        "z = tf.reshape(z,(3,4))\r\n",
        "print(\"\\nShape of mxnet is : \", x.shape)\r\n",
        "print(\"\\nShape of torch is : \", y.shape)\r\n",
        "print(\"\\nShape of tensorflow is : \", z.shape)"
      ],
      "execution_count": 5,
      "outputs": [
        {
          "output_type": "stream",
          "text": [
            "\n",
            "Shape of mxnet is :  (3, 4)\n",
            "\n",
            "Shape of torch is :  torch.Size([3, 4])\n",
            "\n",
            "Shape of tensorflow is :  (3, 4)\n"
          ],
          "name": "stdout"
        }
      ]
    },
    {
      "cell_type": "code",
      "metadata": {
        "colab": {
          "base_uri": "https://localhost:8080/"
        },
        "id": "-HAuGV0MNRex",
        "outputId": "056d93c7-d815-4df0-989a-5890667d13ae"
      },
      "source": [
        "x = x.reshape(-1, 3)\r\n",
        "y = y.reshape(-1, 3)\r\n",
        "z = tf.reshape(z, (-1, 3))\r\n",
        "print(\"\\nShape of mxnet is : \", x.shape)\r\n",
        "print(\"\\nShape of torch is : \", y.shape)\r\n",
        "print(\"\\nShape of tensorflow is : \", z.shape)"
      ],
      "execution_count": 6,
      "outputs": [
        {
          "output_type": "stream",
          "text": [
            "\n",
            "Shape of mxnet is :  (4, 3)\n",
            "\n",
            "Shape of torch is :  torch.Size([4, 3])\n",
            "\n",
            "Shape of tensorflow is :  (4, 3)\n"
          ],
          "name": "stdout"
        }
      ]
    },
    {
      "cell_type": "markdown",
      "metadata": {
        "id": "k1dSyHwVSBO5"
      },
      "source": [
        "### Zeros and ones matrices "
      ]
    },
    {
      "cell_type": "code",
      "metadata": {
        "colab": {
          "base_uri": "https://localhost:8080/"
        },
        "id": "wgGDnbRLSKYF",
        "outputId": "b972ca12-983c-4bc5-cb47-087080eef295"
      },
      "source": [
        "x = np.zeros((2,3,4))\r\n",
        "y = torch.zeros((2,3,4))\r\n",
        "z = tf.zeros((2,3,4))\r\n",
        "print(\"\\nmxnet is : \\n\\n\", x)\r\n",
        "print(\"\\ntorch is : \\n\\n\", y)\r\n",
        "print(\"\\ntensorflow is : \\n\\n\", z)"
      ],
      "execution_count": 7,
      "outputs": [
        {
          "output_type": "stream",
          "text": [
            "\n",
            "mxnet is : \n",
            "\n",
            " [[[0. 0. 0. 0.]\n",
            "  [0. 0. 0. 0.]\n",
            "  [0. 0. 0. 0.]]\n",
            "\n",
            " [[0. 0. 0. 0.]\n",
            "  [0. 0. 0. 0.]\n",
            "  [0. 0. 0. 0.]]]\n",
            "\n",
            "torch is : \n",
            "\n",
            " tensor([[[0., 0., 0., 0.],\n",
            "         [0., 0., 0., 0.],\n",
            "         [0., 0., 0., 0.]],\n",
            "\n",
            "        [[0., 0., 0., 0.],\n",
            "         [0., 0., 0., 0.],\n",
            "         [0., 0., 0., 0.]]])\n",
            "\n",
            "tensorflow is : \n",
            "\n",
            " tf.Tensor(\n",
            "[[[0. 0. 0. 0.]\n",
            "  [0. 0. 0. 0.]\n",
            "  [0. 0. 0. 0.]]\n",
            "\n",
            " [[0. 0. 0. 0.]\n",
            "  [0. 0. 0. 0.]\n",
            "  [0. 0. 0. 0.]]], shape=(2, 3, 4), dtype=float32)\n"
          ],
          "name": "stdout"
        }
      ]
    },
    {
      "cell_type": "code",
      "metadata": {
        "colab": {
          "base_uri": "https://localhost:8080/"
        },
        "id": "XxSSj3AQS1qu",
        "outputId": "78ac4358-811a-4ce6-fdf2-a9a8e4b0834d"
      },
      "source": [
        "x = np.ones((2,3,4))\r\n",
        "y = torch.ones((2,3,4))\r\n",
        "z = tf.ones((2,3,4))\r\n",
        "print(\"\\nmxnet is : \\n\\n\", x)\r\n",
        "print(\"\\ntorch is : \\n\\n\", y)\r\n",
        "print(\"\\ntensorflow is : \\n\\n\", z)"
      ],
      "execution_count": 8,
      "outputs": [
        {
          "output_type": "stream",
          "text": [
            "\n",
            "mxnet is : \n",
            "\n",
            " [[[1. 1. 1. 1.]\n",
            "  [1. 1. 1. 1.]\n",
            "  [1. 1. 1. 1.]]\n",
            "\n",
            " [[1. 1. 1. 1.]\n",
            "  [1. 1. 1. 1.]\n",
            "  [1. 1. 1. 1.]]]\n",
            "\n",
            "torch is : \n",
            "\n",
            " tensor([[[1., 1., 1., 1.],\n",
            "         [1., 1., 1., 1.],\n",
            "         [1., 1., 1., 1.]],\n",
            "\n",
            "        [[1., 1., 1., 1.],\n",
            "         [1., 1., 1., 1.],\n",
            "         [1., 1., 1., 1.]]])\n",
            "\n",
            "tensorflow is : \n",
            "\n",
            " tf.Tensor(\n",
            "[[[1. 1. 1. 1.]\n",
            "  [1. 1. 1. 1.]\n",
            "  [1. 1. 1. 1.]]\n",
            "\n",
            " [[1. 1. 1. 1.]\n",
            "  [1. 1. 1. 1.]\n",
            "  [1. 1. 1. 1.]]], shape=(2, 3, 4), dtype=float32)\n"
          ],
          "name": "stdout"
        }
      ]
    },
    {
      "cell_type": "markdown",
      "metadata": {
        "id": "ObXI40gUTD8R"
      },
      "source": [
        "### Matrices with standard Gaussian (normal) distribution with a mean of 0 and standard deviation of 1"
      ]
    },
    {
      "cell_type": "code",
      "metadata": {
        "colab": {
          "base_uri": "https://localhost:8080/"
        },
        "id": "RhP_fns4THAb",
        "outputId": "cf5c6aff-714e-4356-9b43-3469fd51a0c4"
      },
      "source": [
        "x = np.random.normal(0, 1, size=(3, 4))\r\n",
        "y =torch.randn(3, 4)\r\n",
        "z = tf.random.normal(shape=[3, 4])\r\n",
        "print(\"\\nmxnet is : \\n\\n\", x)\r\n",
        "print(\"\\ntorch is : \\n\\n\", y)\r\n",
        "print(\"\\ntensorflow is : \\n\\n\", z)"
      ],
      "execution_count": 9,
      "outputs": [
        {
          "output_type": "stream",
          "text": [
            "\n",
            "mxnet is : \n",
            "\n",
            " [[ 2.2122064   1.1630787   0.7740038   0.4838046 ]\n",
            " [ 1.0434403   0.29956347  1.1839255   0.15302546]\n",
            " [ 1.8917114  -1.1688148  -1.2347414   1.5580711 ]]\n",
            "\n",
            "torch is : \n",
            "\n",
            " tensor([[-0.7810, -0.7704,  1.1751,  0.3655],\n",
            "        [-0.9364,  0.0767,  0.2606, -0.8849],\n",
            "        [-0.6849, -1.9081,  0.1182,  1.2463]])\n",
            "\n",
            "tensorflow is : \n",
            "\n",
            " tf.Tensor(\n",
            "[[ 0.2488511  -0.41741255  1.0644808  -0.34942544]\n",
            " [-1.1500967   0.4712437   0.3369736   1.209013  ]\n",
            " [-0.5445245  -0.44578797  1.424835    0.02279674]], shape=(3, 4), dtype=float32)\n"
          ],
          "name": "stdout"
        }
      ]
    },
    {
      "cell_type": "markdown",
      "metadata": {
        "id": "fPre5MV6USUp"
      },
      "source": [
        "### Constants"
      ]
    },
    {
      "cell_type": "code",
      "metadata": {
        "colab": {
          "base_uri": "https://localhost:8080/"
        },
        "id": "L99AUd0zUUao",
        "outputId": "942aadf6-073d-40e4-fe1e-e4d011daea29"
      },
      "source": [
        "x = np.array([[2, 1, 4, 3], [1, 2, 3, 4], [4, 3, 2, 1]])\r\n",
        "y = torch.tensor([[2, 1, 4, 3], [1, 2, 3, 4], [4, 3, 2, 1]])\r\n",
        "z = tf.constant([[2, 1, 4, 3], [1, 2, 3, 4], [4, 3, 2, 1]])\r\n",
        "print(\"\\nmxnet is : \\n\\n\", x)\r\n",
        "print(\"\\ntorch is : \\n\\n\", y)\r\n",
        "print(\"\\ntensorflow is : \\n\\n\", z)"
      ],
      "execution_count": 10,
      "outputs": [
        {
          "output_type": "stream",
          "text": [
            "\n",
            "mxnet is : \n",
            "\n",
            " [[2. 1. 4. 3.]\n",
            " [1. 2. 3. 4.]\n",
            " [4. 3. 2. 1.]]\n",
            "\n",
            "torch is : \n",
            "\n",
            " tensor([[2, 1, 4, 3],\n",
            "        [1, 2, 3, 4],\n",
            "        [4, 3, 2, 1]])\n",
            "\n",
            "tensorflow is : \n",
            "\n",
            " tf.Tensor(\n",
            "[[2 1 4 3]\n",
            " [1 2 3 4]\n",
            " [4 3 2 1]], shape=(3, 4), dtype=int32)\n"
          ],
          "name": "stdout"
        }
      ]
    },
    {
      "cell_type": "markdown",
      "metadata": {
        "id": "bYW9MHjQWQbc"
      },
      "source": [
        "### Operations"
      ]
    },
    {
      "cell_type": "code",
      "metadata": {
        "colab": {
          "base_uri": "https://localhost:8080/"
        },
        "id": "MDKpCSM4UocD",
        "outputId": "607dfa0f-8a7e-4049-932b-a46128be0b00"
      },
      "source": [
        "print(\"Mxnet Operations\")\r\n",
        "x = np.array([1, 2, 4, 8])\r\n",
        "y = np.array([2, 2, 2, 2])\r\n",
        "print(\"\\nADD\",x + y)\r\n",
        "print(\"\\nSUBTRACTION : \",x - y)\r\n",
        "print(\"\\nMULTIPLY : \",x * y)\r\n",
        "print(\"\\nDIVISION : \",x / y)\r\n",
        "print(\"\\nPOWER : \",x ** y)\r\n",
        "print(\"\\nExponential : \",np.exp(x))"
      ],
      "execution_count": 11,
      "outputs": [
        {
          "output_type": "stream",
          "text": [
            "Mxnet Operations\n",
            "\n",
            "ADD [ 3.  4.  6. 10.]\n",
            "\n",
            "SUBTRACTION :  [-1.  0.  2.  6.]\n",
            "\n",
            "MULTIPLY :  [ 2.  4.  8. 16.]\n",
            "\n",
            "DIVISION :  [0.5 1.  2.  4. ]\n",
            "\n",
            "POWER :  [ 1.  4. 16. 64.]\n",
            "\n",
            "Exponential :  [2.7182817e+00 7.3890562e+00 5.4598148e+01 2.9809580e+03]\n"
          ],
          "name": "stdout"
        }
      ]
    },
    {
      "cell_type": "code",
      "metadata": {
        "colab": {
          "base_uri": "https://localhost:8080/"
        },
        "id": "Kk0v21YPWWKM",
        "outputId": "a2add6cb-6b0a-4989-8ba4-c6c3228e3a36"
      },
      "source": [
        "print(\"Torch Operations\")\r\n",
        "x = torch.tensor([1.0, 2, 4, 8])\r\n",
        "y = torch.tensor([2, 2, 2, 2])\r\n",
        "print(\"\\nADD\",x + y)\r\n",
        "print(\"\\nSUBTRACTION : \",x - y)\r\n",
        "print(\"\\nMULTIPLY : \",x * y)\r\n",
        "print(\"\\nDIVISION : \",x / y)\r\n",
        "print(\"\\nPOWER : \",x ** y)\r\n",
        "print(\"\\nExponential : \", torch.exp(x))"
      ],
      "execution_count": 12,
      "outputs": [
        {
          "output_type": "stream",
          "text": [
            "Torch Operations\n",
            "\n",
            "ADD tensor([ 3.,  4.,  6., 10.])\n",
            "\n",
            "SUBTRACTION :  tensor([-1.,  0.,  2.,  6.])\n",
            "\n",
            "MULTIPLY :  tensor([ 2.,  4.,  8., 16.])\n",
            "\n",
            "DIVISION :  tensor([0.5000, 1.0000, 2.0000, 4.0000])\n",
            "\n",
            "POWER :  tensor([ 1.,  4., 16., 64.])\n",
            "\n",
            "Exponential :  tensor([2.7183e+00, 7.3891e+00, 5.4598e+01, 2.9810e+03])\n"
          ],
          "name": "stdout"
        }
      ]
    },
    {
      "cell_type": "code",
      "metadata": {
        "colab": {
          "base_uri": "https://localhost:8080/"
        },
        "id": "3TdsUQnBWjNm",
        "outputId": "c5d1c15b-5097-4c5e-91a8-5c321632d1c4"
      },
      "source": [
        "print(\"Tensorflow Operations\")\r\n",
        "x = tf.constant([1.0, 2, 4, 8])\r\n",
        "y = tf.constant([2.0, 2, 2, 2])\r\n",
        "print(\"\\nADD\",x + y)\r\n",
        "print(\"\\nSUBTRACTION : \",x - y)\r\n",
        "print(\"\\nMULTIPLY : \",x * y)\r\n",
        "print(\"\\nDIVISION : \",x / y)\r\n",
        "print(\"\\nPOWER : \",x ** y)\r\n",
        "print(\"\\nExponential : \", tf.exp(x))"
      ],
      "execution_count": 13,
      "outputs": [
        {
          "output_type": "stream",
          "text": [
            "Tensorflow Operations\n",
            "\n",
            "ADD tf.Tensor([ 3.  4.  6. 10.], shape=(4,), dtype=float32)\n",
            "\n",
            "SUBTRACTION :  tf.Tensor([-1.  0.  2.  6.], shape=(4,), dtype=float32)\n",
            "\n",
            "MULTIPLY :  tf.Tensor([ 2.  4.  8. 16.], shape=(4,), dtype=float32)\n",
            "\n",
            "DIVISION :  tf.Tensor([0.5 1.  2.  4. ], shape=(4,), dtype=float32)\n",
            "\n",
            "POWER :  tf.Tensor([ 1.  4. 16. 64.], shape=(4,), dtype=float32)\n",
            "\n",
            "Exponential :  tf.Tensor([2.7182817e+00 7.3890562e+00 5.4598148e+01 2.9809580e+03], shape=(4,), dtype=float32)\n"
          ],
          "name": "stdout"
        }
      ]
    },
    {
      "cell_type": "markdown",
      "metadata": {
        "id": "EJpoUniYWVah"
      },
      "source": [
        "### Concatenation"
      ]
    },
    {
      "cell_type": "code",
      "metadata": {
        "colab": {
          "base_uri": "https://localhost:8080/"
        },
        "id": "PAQZEVX-5-T0",
        "outputId": "ce935a2f-99b4-4b29-f744-1db40ab54299"
      },
      "source": [
        "print(\"Concatenation in mxnet : \")\r\n",
        "X = np.arange(12).reshape(3, 4)\r\n",
        "Y = np.array([[2, 1, 4, 3], [1, 2, 3, 4], [4, 3, 2, 1]])\r\n",
        "print(\"\\n\\nX : \\n\", X,\"\\n\\nY : \\n\", Y,\r\n",
        "      \"\\n\\nConcatenation along rows : \\n\",np.concatenate([X, Y], axis=0), \r\n",
        "      \"\\n\\nConcatenation along columns : \\n\",np.concatenate([X, Y], axis=1))"
      ],
      "execution_count": 14,
      "outputs": [
        {
          "output_type": "stream",
          "text": [
            "Concatenation in mxnet : \n",
            "\n",
            "\n",
            "X : \n",
            " [[ 0.  1.  2.  3.]\n",
            " [ 4.  5.  6.  7.]\n",
            " [ 8.  9. 10. 11.]] \n",
            "\n",
            "Y : \n",
            " [[2. 1. 4. 3.]\n",
            " [1. 2. 3. 4.]\n",
            " [4. 3. 2. 1.]] \n",
            "\n",
            "Concatenation along rows : \n",
            " [[ 0.  1.  2.  3.]\n",
            " [ 4.  5.  6.  7.]\n",
            " [ 8.  9. 10. 11.]\n",
            " [ 2.  1.  4.  3.]\n",
            " [ 1.  2.  3.  4.]\n",
            " [ 4.  3.  2.  1.]] \n",
            "\n",
            "Concatenation along columns : \n",
            " [[ 0.  1.  2.  3.  2.  1.  4.  3.]\n",
            " [ 4.  5.  6.  7.  1.  2.  3.  4.]\n",
            " [ 8.  9. 10. 11.  4.  3.  2.  1.]]\n"
          ],
          "name": "stdout"
        }
      ]
    },
    {
      "cell_type": "code",
      "metadata": {
        "colab": {
          "base_uri": "https://localhost:8080/"
        },
        "id": "1fHKuDp18rL8",
        "outputId": "c1dcaf5d-0135-4529-c9b1-6798d7f16637"
      },
      "source": [
        "print(\"Sum of matrix X : \", X.sum())"
      ],
      "execution_count": 15,
      "outputs": [
        {
          "output_type": "stream",
          "text": [
            "Sum of matrix X :  66.0\n"
          ],
          "name": "stdout"
        }
      ]
    },
    {
      "cell_type": "code",
      "metadata": {
        "colab": {
          "base_uri": "https://localhost:8080/"
        },
        "id": "GVPivam47y5f",
        "outputId": "8f1ddf67-8214-421d-e380-10b27a9e47b2"
      },
      "source": [
        "print(\"Concatenation in torch : \")\r\n",
        "X = torch.arange(12, dtype=torch.float32).reshape((3,4))\r\n",
        "Y = torch.tensor([[2.0, 1, 4, 3], [1, 2, 3, 4], [4, 3, 2, 1]])\r\n",
        "print(\"\\n\\nX : \\n\", X,\"\\n\\nY : \\n\", Y,\r\n",
        "      \"\\n\\nConcatenation along rows : \\n\",torch.cat((X, Y), dim=0), \r\n",
        "      \"\\n\\nConcatenation along columns : \\n\",torch.cat((X, Y), dim=1))"
      ],
      "execution_count": 16,
      "outputs": [
        {
          "output_type": "stream",
          "text": [
            "Concatenation in torch : \n",
            "\n",
            "\n",
            "X : \n",
            " tensor([[ 0.,  1.,  2.,  3.],\n",
            "        [ 4.,  5.,  6.,  7.],\n",
            "        [ 8.,  9., 10., 11.]]) \n",
            "\n",
            "Y : \n",
            " tensor([[2., 1., 4., 3.],\n",
            "        [1., 2., 3., 4.],\n",
            "        [4., 3., 2., 1.]]) \n",
            "\n",
            "Concatenation along rows : \n",
            " tensor([[ 0.,  1.,  2.,  3.],\n",
            "        [ 4.,  5.,  6.,  7.],\n",
            "        [ 8.,  9., 10., 11.],\n",
            "        [ 2.,  1.,  4.,  3.],\n",
            "        [ 1.,  2.,  3.,  4.],\n",
            "        [ 4.,  3.,  2.,  1.]]) \n",
            "\n",
            "Concatenation along columns : \n",
            " tensor([[ 0.,  1.,  2.,  3.,  2.,  1.,  4.,  3.],\n",
            "        [ 4.,  5.,  6.,  7.,  1.,  2.,  3.,  4.],\n",
            "        [ 8.,  9., 10., 11.,  4.,  3.,  2.,  1.]])\n"
          ],
          "name": "stdout"
        }
      ]
    },
    {
      "cell_type": "code",
      "metadata": {
        "colab": {
          "base_uri": "https://localhost:8080/"
        },
        "id": "4vzNPw3I83z1",
        "outputId": "9f15209f-61fe-46d3-f147-ab3f0f3c8fb9"
      },
      "source": [
        "print(\"Sum of matrix X : \", X.sum())"
      ],
      "execution_count": 17,
      "outputs": [
        {
          "output_type": "stream",
          "text": [
            "Sum of matrix X :  tensor(66.)\n"
          ],
          "name": "stdout"
        }
      ]
    },
    {
      "cell_type": "code",
      "metadata": {
        "colab": {
          "base_uri": "https://localhost:8080/"
        },
        "id": "rbnp2yS98MqJ",
        "outputId": "f421066e-f3b2-4551-90a3-82fd60f224c9"
      },
      "source": [
        "print(\"Concatenation in TensorFlow : \")\r\n",
        "X = tf.reshape(tf.range(12, dtype=tf.float32), (3, 4))\r\n",
        "Y = tf.constant([[2.0, 1, 4, 3], [1, 2, 3, 4], [4, 3, 2, 1]])\r\n",
        "print(\"\\n\\nX : \\n\", X,\"\\n\\nY : \\n\", Y,\r\n",
        "      \"\\n\\nConcatenation along rows : \\n\",tf.concat([X, Y], axis=0), \r\n",
        "      \"\\n\\nConcatenation along columns : \\n\",tf.concat([X, Y], axis=1))"
      ],
      "execution_count": 18,
      "outputs": [
        {
          "output_type": "stream",
          "text": [
            "Concatenation in TensorFlow : \n",
            "\n",
            "\n",
            "X : \n",
            " tf.Tensor(\n",
            "[[ 0.  1.  2.  3.]\n",
            " [ 4.  5.  6.  7.]\n",
            " [ 8.  9. 10. 11.]], shape=(3, 4), dtype=float32) \n",
            "\n",
            "Y : \n",
            " tf.Tensor(\n",
            "[[2. 1. 4. 3.]\n",
            " [1. 2. 3. 4.]\n",
            " [4. 3. 2. 1.]], shape=(3, 4), dtype=float32) \n",
            "\n",
            "Concatenation along rows : \n",
            " tf.Tensor(\n",
            "[[ 0.  1.  2.  3.]\n",
            " [ 4.  5.  6.  7.]\n",
            " [ 8.  9. 10. 11.]\n",
            " [ 2.  1.  4.  3.]\n",
            " [ 1.  2.  3.  4.]\n",
            " [ 4.  3.  2.  1.]], shape=(6, 4), dtype=float32) \n",
            "\n",
            "Concatenation along columns : \n",
            " tf.Tensor(\n",
            "[[ 0.  1.  2.  3.  2.  1.  4.  3.]\n",
            " [ 4.  5.  6.  7.  1.  2.  3.  4.]\n",
            " [ 8.  9. 10. 11.  4.  3.  2.  1.]], shape=(3, 8), dtype=float32)\n"
          ],
          "name": "stdout"
        }
      ]
    },
    {
      "cell_type": "code",
      "metadata": {
        "colab": {
          "base_uri": "https://localhost:8080/"
        },
        "id": "VUcrxy5a877T",
        "outputId": "3c9352a8-709b-49ec-a615-81a68168595c"
      },
      "source": [
        "print(\"Sum of matrix X : \", tf.reduce_sum(X))"
      ],
      "execution_count": 19,
      "outputs": [
        {
          "output_type": "stream",
          "text": [
            "Sum of matrix X :  tf.Tensor(66.0, shape=(), dtype=float32)\n"
          ],
          "name": "stdout"
        }
      ]
    },
    {
      "cell_type": "markdown",
      "metadata": {
        "id": "VpDeZOOS9EFz"
      },
      "source": [
        "### Broadcasting Mechanism"
      ]
    },
    {
      "cell_type": "code",
      "metadata": {
        "colab": {
          "base_uri": "https://localhost:8080/"
        },
        "id": "QQw7rKtH9Hv5",
        "outputId": "eeb22731-54e9-4634-e61b-a12f0ff0e1be"
      },
      "source": [
        "a, b = np.arange(3).reshape(3, 1), np.arange(2).reshape(1, 2)\r\n",
        "print(\"Broadcasting in Mxnet : \")\r\n",
        "print(\"\\n\\na : \\n\",a)\r\n",
        "print(\"\\n\\nb : \\n\",b)\r\n",
        "print(\"\\n\\na+b : \\n\",a+b)"
      ],
      "execution_count": 20,
      "outputs": [
        {
          "output_type": "stream",
          "text": [
            "Broadcasting in Mxnet : \n",
            "\n",
            "\n",
            "a : \n",
            " [[0.]\n",
            " [1.]\n",
            " [2.]]\n",
            "\n",
            "\n",
            "b : \n",
            " [[0. 1.]]\n",
            "\n",
            "\n",
            "a+b : \n",
            " [[0. 1.]\n",
            " [1. 2.]\n",
            " [2. 3.]]\n"
          ],
          "name": "stdout"
        }
      ]
    },
    {
      "cell_type": "code",
      "metadata": {
        "colab": {
          "base_uri": "https://localhost:8080/"
        },
        "id": "e2SP-Cen9wHY",
        "outputId": "f58f7023-9def-4264-c4ab-96ef1fb67c97"
      },
      "source": [
        "a,b = torch.arange(3).reshape((3, 1)), torch.arange(2).reshape((1, 2))\r\n",
        "print(\"Broadcasting in torch : \")\r\n",
        "print(\"\\n\\na : \\n\",a)\r\n",
        "print(\"\\n\\nb : \\n\",b)\r\n",
        "print(\"\\n\\na+b : \\n\",a+b)"
      ],
      "execution_count": 21,
      "outputs": [
        {
          "output_type": "stream",
          "text": [
            "Broadcasting in torch : \n",
            "\n",
            "\n",
            "a : \n",
            " tensor([[0],\n",
            "        [1],\n",
            "        [2]])\n",
            "\n",
            "\n",
            "b : \n",
            " tensor([[0, 1]])\n",
            "\n",
            "\n",
            "a+b : \n",
            " tensor([[0, 1],\n",
            "        [1, 2],\n",
            "        [2, 3]])\n"
          ],
          "name": "stdout"
        }
      ]
    },
    {
      "cell_type": "code",
      "metadata": {
        "colab": {
          "base_uri": "https://localhost:8080/"
        },
        "id": "977PFNuX98OU",
        "outputId": "ee63843f-76e0-4beb-8740-615c030c04cc"
      },
      "source": [
        "a, b = tf.reshape(tf.range(3), (3, 1)), tf.reshape(tf.range(2), (1, 2))\r\n",
        "print(\"Broadcasting in tensorflow : \")\r\n",
        "print(\"\\n\\na : \\n\",a)\r\n",
        "print(\"\\n\\nb : \\n\",b)\r\n",
        "print(\"\\n\\na+b : \\n\",a+b)"
      ],
      "execution_count": 22,
      "outputs": [
        {
          "output_type": "stream",
          "text": [
            "Broadcasting in tensorflow : \n",
            "\n",
            "\n",
            "a : \n",
            " tf.Tensor(\n",
            "[[0]\n",
            " [1]\n",
            " [2]], shape=(3, 1), dtype=int32)\n",
            "\n",
            "\n",
            "b : \n",
            " tf.Tensor([[0 1]], shape=(1, 2), dtype=int32)\n",
            "\n",
            "\n",
            "a+b : \n",
            " tf.Tensor(\n",
            "[[0 1]\n",
            " [1 2]\n",
            " [2 3]], shape=(3, 2), dtype=int32)\n"
          ],
          "name": "stdout"
        }
      ]
    },
    {
      "cell_type": "markdown",
      "metadata": {
        "id": "5yfNDRdH-NoE"
      },
      "source": [
        "### Indexing and Slicing"
      ]
    },
    {
      "cell_type": "code",
      "metadata": {
        "colab": {
          "base_uri": "https://localhost:8080/"
        },
        "id": "Tnx6DQF8-sTS",
        "outputId": "eaad5497-8847-471e-ca3d-10f32d4b48f2"
      },
      "source": [
        "X = np.arange(12).reshape(3, 4)\r\n",
        "print(\"Indexing and slicing in mxnet : X(3,4)\\n\",X,\r\n",
        "      \"\\n\\nLast Row of X is : X[-1]\\n\",X[-1],\r\n",
        "      \"\\n\\nLast Column of X is : X[:,-1]\\n\",X[:,-1],\r\n",
        "      \"\\n\\nSecond and third row of X is : X[1:3]\\n\", X[1:3],\r\n",
        "      \"\\n\\n Value at [1, 2] is : \",X[1,2],\r\n",
        "      \"\\n\\nFirst two rows but all columns : X[0:2, :]\\n\",X[0:2, :])\r\n",
        "X[1, 2] = 9\r\n",
        "print(\"\\n\\nModified X is X[1, 2] = 9 \\n\", X)\r\n",
        "X[0:2, :] = 12\r\n",
        "print(\"\\n\\nModified X is X[0:2, :] = 12 \\n\", X)"
      ],
      "execution_count": 23,
      "outputs": [
        {
          "output_type": "stream",
          "text": [
            "Indexing and slicing in mxnet : X(3,4)\n",
            " [[ 0.  1.  2.  3.]\n",
            " [ 4.  5.  6.  7.]\n",
            " [ 8.  9. 10. 11.]] \n",
            "\n",
            "Last Row of X is : X[-1]\n",
            " [ 8.  9. 10. 11.] \n",
            "\n",
            "Last Column of X is : X[:,-1]\n",
            " [ 3.  7. 11.] \n",
            "\n",
            "Second and third row of X is : X[1:3]\n",
            " [[ 4.  5.  6.  7.]\n",
            " [ 8.  9. 10. 11.]] \n",
            "\n",
            " Value at [1, 2] is :  6.0 \n",
            "\n",
            "First two rows but all columns : X[0:2, :]\n",
            " [[0. 1. 2. 3.]\n",
            " [4. 5. 6. 7.]]\n",
            "\n",
            "\n",
            "Modified X is X[1, 2] = 9 \n",
            " [[ 0.  1.  2.  3.]\n",
            " [ 4.  5.  9.  7.]\n",
            " [ 8.  9. 10. 11.]]\n",
            "\n",
            "\n",
            "Modified X is X[0:2, :] = 12 \n",
            " [[12. 12. 12. 12.]\n",
            " [12. 12. 12. 12.]\n",
            " [ 8.  9. 10. 11.]]\n"
          ],
          "name": "stdout"
        }
      ]
    },
    {
      "cell_type": "code",
      "metadata": {
        "colab": {
          "base_uri": "https://localhost:8080/"
        },
        "id": "vKj42VT0DOW9",
        "outputId": "6cca2dfe-605a-4f68-e842-aba035c8d176"
      },
      "source": [
        "X = torch.arange(12, dtype=torch.float32).reshape((3,4))\r\n",
        "print(\"Indexing and slicing in Torch : X(3,4)\\n\",X,\r\n",
        "      \"\\n\\nLast Row of X is : X[-1]\\n\",X[-1],\r\n",
        "      \"\\n\\nLast Column of X is : X[:,-1]\\n\",X[:,-1],\r\n",
        "      \"\\n\\nSecond and third row of X is : X[1:3]\\n\", X[1:3],\r\n",
        "      \"\\n\\n Value at [1, 2] is : \",X[1,2],\r\n",
        "      \"\\n\\nFirst two rows but all columns : X[0:2, :]\\n\",X[0:2, :])\r\n",
        "X[1, 2] = 9\r\n",
        "print(\"\\n\\nModified X is X[1, 2] = 9 \\n\", X)\r\n",
        "X[0:2, :] = 12\r\n",
        "print(\"\\n\\nModified X is X[0:2, :] = 12 \\n\", X)"
      ],
      "execution_count": 24,
      "outputs": [
        {
          "output_type": "stream",
          "text": [
            "Indexing and slicing in Torch : X(3,4)\n",
            " tensor([[ 0.,  1.,  2.,  3.],\n",
            "        [ 4.,  5.,  6.,  7.],\n",
            "        [ 8.,  9., 10., 11.]]) \n",
            "\n",
            "Last Row of X is : X[-1]\n",
            " tensor([ 8.,  9., 10., 11.]) \n",
            "\n",
            "Last Column of X is : X[:,-1]\n",
            " tensor([ 3.,  7., 11.]) \n",
            "\n",
            "Second and third row of X is : X[1:3]\n",
            " tensor([[ 4.,  5.,  6.,  7.],\n",
            "        [ 8.,  9., 10., 11.]]) \n",
            "\n",
            " Value at [1, 2] is :  tensor(6.) \n",
            "\n",
            "First two rows but all columns : X[0:2, :]\n",
            " tensor([[0., 1., 2., 3.],\n",
            "        [4., 5., 6., 7.]])\n",
            "\n",
            "\n",
            "Modified X is X[1, 2] = 9 \n",
            " tensor([[ 0.,  1.,  2.,  3.],\n",
            "        [ 4.,  5.,  9.,  7.],\n",
            "        [ 8.,  9., 10., 11.]])\n",
            "\n",
            "\n",
            "Modified X is X[0:2, :] = 12 \n",
            " tensor([[12., 12., 12., 12.],\n",
            "        [12., 12., 12., 12.],\n",
            "        [ 8.,  9., 10., 11.]])\n"
          ],
          "name": "stdout"
        }
      ]
    },
    {
      "cell_type": "code",
      "metadata": {
        "colab": {
          "base_uri": "https://localhost:8080/"
        },
        "id": "Juz2orcHDVmQ",
        "outputId": "bed12639-535b-42fa-942e-e64ff75d23e1"
      },
      "source": [
        "X = tf.reshape(tf.range(12, dtype=tf.float32), (3, 4))\r\n",
        "print(\"Indexing and slicing in Torch : X(3,4)\\n\",X,\r\n",
        "      \"\\n\\nLast Row of X is : X[-1]\\n\",X[-1],\r\n",
        "      \"\\n\\nLast Column of X is : X[:,-1]\\n\",X[:,-1],\r\n",
        "      \"\\n\\nSecond and third row of X is : X[1:3]\\n\", X[1:3],\r\n",
        "      \"\\n\\n Value at [1, 2] is : \",X[1,2],\r\n",
        "      \"\\n\\nFirst two rows but all columns : X[0:2, :]\\n\",X[0:2, :])\r\n",
        "X_ = tf.Variable(X)\r\n",
        "X_[1, 2].assign(9)\r\n",
        "print(\"\\n\\nModified X is X_[1, 2].assign(9) \\n\", X_)\r\n",
        "X_ = tf.Variable(X)\r\n",
        "X_[0:2, :].assign(tf.ones(X_[0:2,:].shape, dtype = tf.float32) * 12)\r\n",
        "print(\"\\n\\nModified X is X_[0:2, :].assign(tf.ones(X_[0:2,:].shape, dtype = tf.float32) * 12) \\n\", X_)"
      ],
      "execution_count": 25,
      "outputs": [
        {
          "output_type": "stream",
          "text": [
            "Indexing and slicing in Torch : X(3,4)\n",
            " tf.Tensor(\n",
            "[[ 0.  1.  2.  3.]\n",
            " [ 4.  5.  6.  7.]\n",
            " [ 8.  9. 10. 11.]], shape=(3, 4), dtype=float32) \n",
            "\n",
            "Last Row of X is : X[-1]\n",
            " tf.Tensor([ 8.  9. 10. 11.], shape=(4,), dtype=float32) \n",
            "\n",
            "Last Column of X is : X[:,-1]\n",
            " tf.Tensor([ 3.  7. 11.], shape=(3,), dtype=float32) \n",
            "\n",
            "Second and third row of X is : X[1:3]\n",
            " tf.Tensor(\n",
            "[[ 4.  5.  6.  7.]\n",
            " [ 8.  9. 10. 11.]], shape=(2, 4), dtype=float32) \n",
            "\n",
            " Value at [1, 2] is :  tf.Tensor(6.0, shape=(), dtype=float32) \n",
            "\n",
            "First two rows but all columns : X[0:2, :]\n",
            " tf.Tensor(\n",
            "[[0. 1. 2. 3.]\n",
            " [4. 5. 6. 7.]], shape=(2, 4), dtype=float32)\n",
            "\n",
            "\n",
            "Modified X is X_[1, 2].assign(9) \n",
            " <tf.Variable 'Variable:0' shape=(3, 4) dtype=float32, numpy=\n",
            "array([[ 0.,  1.,  2.,  3.],\n",
            "       [ 4.,  5.,  9.,  7.],\n",
            "       [ 8.,  9., 10., 11.]], dtype=float32)>\n",
            "\n",
            "\n",
            "Modified X is X_[0:2, :].assign(tf.ones(X_[0:2,:].shape, dtype = tf.float32) * 12) \n",
            " <tf.Variable 'Variable:0' shape=(3, 4) dtype=float32, numpy=\n",
            "array([[12., 12., 12., 12.],\n",
            "       [12., 12., 12., 12.],\n",
            "       [ 8.,  9., 10., 11.]], dtype=float32)>\n"
          ],
          "name": "stdout"
        }
      ]
    },
    {
      "cell_type": "markdown",
      "metadata": {
        "id": "8rt57N26FO0B"
      },
      "source": [
        "### Conversion to Other Python Objects"
      ]
    },
    {
      "cell_type": "code",
      "metadata": {
        "colab": {
          "base_uri": "https://localhost:8080/"
        },
        "id": "T9EQ7J2cFNRf",
        "outputId": "8159fbfd-6276-4fdd-9fd5-d114b881cfd4"
      },
      "source": [
        "X = np.arange(12).reshape(3, 4)\r\n",
        "A = X.asnumpy()\r\n",
        "B = np.array(A)\r\n",
        "a = np.array([3.5])\r\n",
        "print(\"Conversion In mxnet : \")\r\n",
        "print(type(A), type(B),a, a.item(), float(a), int(a))"
      ],
      "execution_count": 26,
      "outputs": [
        {
          "output_type": "stream",
          "text": [
            "Conversion In mxnet : \n",
            "<class 'numpy.ndarray'> <class 'mxnet.numpy.ndarray'> [3.5] 3.5 3.5 3\n"
          ],
          "name": "stdout"
        }
      ]
    },
    {
      "cell_type": "code",
      "metadata": {
        "colab": {
          "base_uri": "https://localhost:8080/"
        },
        "id": "Kp-5HhmUFq7n",
        "outputId": "82091244-fa97-4cbb-d297-73a0f9b8ddd1"
      },
      "source": [
        "X = torch.arange(12, dtype=torch.float32).reshape((3,4))\r\n",
        "A = X.numpy()\r\n",
        "B = torch.tensor(A)\r\n",
        "a = torch.tensor([3.5])\r\n",
        "print(\"Conversion In torch : \")\r\n",
        "print(type(A), type(B),a, a.item(), float(a), int(a))"
      ],
      "execution_count": 27,
      "outputs": [
        {
          "output_type": "stream",
          "text": [
            "Conversion In torch : \n",
            "<class 'numpy.ndarray'> <class 'torch.Tensor'> tensor([3.5000]) 3.5 3.5 3\n"
          ],
          "name": "stdout"
        }
      ]
    },
    {
      "cell_type": "code",
      "metadata": {
        "colab": {
          "base_uri": "https://localhost:8080/"
        },
        "id": "xfrTB9JCF76a",
        "outputId": "605d00fd-2018-49a6-a479-5f0516aab41f"
      },
      "source": [
        "X = tf.reshape(tf.range(12, dtype=tf.float32), (3, 4))\r\n",
        "A = X.numpy()\r\n",
        "B = tf.constant(A)\r\n",
        "a = tf.constant([3.5]).numpy()\r\n",
        "print(\"Conversion In tensorflow : \")\r\n",
        "print(type(A), type(B),a, a.item(), float(a), int(a))"
      ],
      "execution_count": 28,
      "outputs": [
        {
          "output_type": "stream",
          "text": [
            "Conversion In tensorflow : \n",
            "<class 'numpy.ndarray'> <class 'tensorflow.python.framework.ops.EagerTensor'> [3.5] 3.5 3.5 3\n"
          ],
          "name": "stdout"
        }
      ]
    }
  ]
}