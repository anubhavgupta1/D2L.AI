{
  "nbformat": 4,
  "nbformat_minor": 0,
  "metadata": {
    "colab": {
      "name": "Untitled23.ipynb",
      "provenance": [],
      "authorship_tag": "ABX9TyPdZw2j7J8zaY6hFaRBq5I5",
      "include_colab_link": true
    },
    "kernelspec": {
      "display_name": "Python 3",
      "name": "python3"
    }
  },
  "cells": [
    {
      "cell_type": "markdown",
      "metadata": {
        "id": "view-in-github",
        "colab_type": "text"
      },
      "source": [
        "<a href=\"https://colab.research.google.com/github/anubhavgupta1/D2L.AI/blob/main/Preliminaries/Automatic%20Differentiation.ipynb\" target=\"_parent\"><img src=\"https://colab.research.google.com/assets/colab-badge.svg\" alt=\"Open In Colab\"/></a>"
      ]
    },
    {
      "cell_type": "markdown",
      "metadata": {
        "id": "QoJIK_HF-u6P"
      },
      "source": [
        "# Preliminaries"
      ]
    },
    {
      "cell_type": "code",
      "metadata": {
        "colab": {
          "base_uri": "https://localhost:8080/"
        },
        "id": "SQ1CLKlCWMNk",
        "outputId": "aacdad67-7b52-4180-d37b-c5d1a32a8f03"
      },
      "source": [
        "!pip install -U mxnet-cu101==1.7.0"
      ],
      "execution_count": 1,
      "outputs": [
        {
          "output_type": "stream",
          "text": [
            "Collecting mxnet-cu101==1.7.0\n",
            "\u001b[?25l  Downloading https://files.pythonhosted.org/packages/40/26/9655677b901537f367c3c473376e4106abc72e01a8fc25b1cb6ed9c37e8c/mxnet_cu101-1.7.0-py2.py3-none-manylinux2014_x86_64.whl (846.0MB)\n",
            "\u001b[K     |███████████████████████████████▌| 834.1MB 1.7MB/s eta 0:00:08tcmalloc: large alloc 1147494400 bytes == 0x65216000 @  0x7f8d40591615 0x591e47 0x4cc179 0x4cc2db 0x50a1cc 0x50beb4 0x507be4 0x509900 0x50a2fd 0x50beb4 0x507be4 0x509900 0x50a2fd 0x50cc96 0x58e683 0x50c127 0x58e683 0x50c127 0x58e683 0x50c127 0x58e683 0x50c127 0x5095c8 0x50a2fd 0x50beb4 0x507be4 0x509900 0x50a2fd 0x50beb4 0x5095c8 0x50a2fd\n",
            "\u001b[K     |████████████████████████████████| 846.0MB 20kB/s \n",
            "\u001b[?25hRequirement already satisfied, skipping upgrade: numpy<2.0.0,>1.16.0 in /usr/local/lib/python3.6/dist-packages (from mxnet-cu101==1.7.0) (1.19.5)\n",
            "Requirement already satisfied, skipping upgrade: requests<3,>=2.20.0 in /usr/local/lib/python3.6/dist-packages (from mxnet-cu101==1.7.0) (2.23.0)\n",
            "Collecting graphviz<0.9.0,>=0.8.1\n",
            "  Downloading https://files.pythonhosted.org/packages/53/39/4ab213673844e0c004bed8a0781a0721a3f6bb23eb8854ee75c236428892/graphviz-0.8.4-py2.py3-none-any.whl\n",
            "Requirement already satisfied, skipping upgrade: certifi>=2017.4.17 in /usr/local/lib/python3.6/dist-packages (from requests<3,>=2.20.0->mxnet-cu101==1.7.0) (2020.12.5)\n",
            "Requirement already satisfied, skipping upgrade: chardet<4,>=3.0.2 in /usr/local/lib/python3.6/dist-packages (from requests<3,>=2.20.0->mxnet-cu101==1.7.0) (3.0.4)\n",
            "Requirement already satisfied, skipping upgrade: idna<3,>=2.5 in /usr/local/lib/python3.6/dist-packages (from requests<3,>=2.20.0->mxnet-cu101==1.7.0) (2.10)\n",
            "Requirement already satisfied, skipping upgrade: urllib3!=1.25.0,!=1.25.1,<1.26,>=1.21.1 in /usr/local/lib/python3.6/dist-packages (from requests<3,>=2.20.0->mxnet-cu101==1.7.0) (1.24.3)\n",
            "Installing collected packages: graphviz, mxnet-cu101\n",
            "  Found existing installation: graphviz 0.10.1\n",
            "    Uninstalling graphviz-0.10.1:\n",
            "      Successfully uninstalled graphviz-0.10.1\n",
            "Successfully installed graphviz-0.8.4 mxnet-cu101-1.7.0\n"
          ],
          "name": "stdout"
        }
      ]
    },
    {
      "cell_type": "markdown",
      "metadata": {
        "id": "gOMsR58CMVWF"
      },
      "source": [
        "## Automatic Differentiation"
      ]
    },
    {
      "cell_type": "code",
      "metadata": {
        "id": "VQwZM3zImFn3"
      },
      "source": [
        "from mxnet import autograd, np, npx\r\n",
        "npx.set_np()\r\n",
        "import torch\r\n",
        "import tensorflow as tf"
      ],
      "execution_count": 2,
      "outputs": []
    },
    {
      "cell_type": "markdown",
      "metadata": {
        "id": "oPgSualhoJ9t"
      },
      "source": [
        "### A Simple Example"
      ]
    },
    {
      "cell_type": "markdown",
      "metadata": {
        "id": "vC0DgiT1Eg79"
      },
      "source": [
        "####MXNET"
      ]
    },
    {
      "cell_type": "code",
      "metadata": {
        "colab": {
          "base_uri": "https://localhost:8080/"
        },
        "id": "iZ69OIMrDMyc",
        "outputId": "693cd00d-221b-4a8a-9d43-f676f5243a92"
      },
      "source": [
        "x = np.arange(4.0)\r\n",
        "# We allocate memory for a tensor's gradient by invoking `attach_grad`\r\n",
        "x.attach_grad()\r\n",
        "# After we calculate a gradient taken with respect to `x`, we will be able to\r\n",
        "# access it via the `grad` attribute, whose values are initialized with 0s\r\n",
        "print(x.grad)"
      ],
      "execution_count": 3,
      "outputs": [
        {
          "output_type": "stream",
          "text": [
            "[0. 0. 0. 0.]\n"
          ],
          "name": "stdout"
        }
      ]
    },
    {
      "cell_type": "code",
      "metadata": {
        "colab": {
          "base_uri": "https://localhost:8080/"
        },
        "id": "o2rbb_nGD6As",
        "outputId": "3995f57c-ebdd-423d-8e50-41ae3d8d7ffa"
      },
      "source": [
        "with autograd.record():\r\n",
        "    y = 2 * np.dot(x, x)\r\n",
        "print(y)"
      ],
      "execution_count": 4,
      "outputs": [
        {
          "output_type": "stream",
          "text": [
            "28.0\n"
          ],
          "name": "stdout"
        }
      ]
    },
    {
      "cell_type": "code",
      "metadata": {
        "colab": {
          "base_uri": "https://localhost:8080/"
        },
        "id": "omrQfO-WED56",
        "outputId": "383e0bd8-90c4-4216-9d22-8e68e149e858"
      },
      "source": [
        "y.backward()\r\n",
        "print(x.grad)"
      ],
      "execution_count": 5,
      "outputs": [
        {
          "output_type": "stream",
          "text": [
            "[ 0.  4.  8. 12.]\n"
          ],
          "name": "stdout"
        }
      ]
    },
    {
      "cell_type": "markdown",
      "metadata": {
        "id": "cEJwRHRuEmzG"
      },
      "source": [
        "####Pytorch"
      ]
    },
    {
      "cell_type": "code",
      "metadata": {
        "colab": {
          "base_uri": "https://localhost:8080/"
        },
        "id": "ZkWE3sPQEqE1",
        "outputId": "033b1f24-6c8b-4323-a5f4-d9d53c698799"
      },
      "source": [
        "x = torch.arange(4.0)\r\n",
        "x.requires_grad_(True)  # Same as `x = torch.arange(4.0, requires_grad=True)`\r\n",
        "print(x.grad)  # The default value is None"
      ],
      "execution_count": 6,
      "outputs": [
        {
          "output_type": "stream",
          "text": [
            "None\n"
          ],
          "name": "stdout"
        }
      ]
    },
    {
      "cell_type": "code",
      "metadata": {
        "colab": {
          "base_uri": "https://localhost:8080/"
        },
        "id": "4FD4qGCXE62E",
        "outputId": "c8de1a64-6de0-4f54-fc74-6f947d17ae40"
      },
      "source": [
        "y = 2 * torch.dot(x, x)\r\n",
        "print(y)"
      ],
      "execution_count": 7,
      "outputs": [
        {
          "output_type": "stream",
          "text": [
            "tensor(28., grad_fn=<MulBackward0>)\n"
          ],
          "name": "stdout"
        }
      ]
    },
    {
      "cell_type": "code",
      "metadata": {
        "colab": {
          "base_uri": "https://localhost:8080/"
        },
        "id": "stcnCa6IFC-b",
        "outputId": "51d94ee1-a43b-497c-f982-2fa24e6bccce"
      },
      "source": [
        "y.backward()\r\n",
        "print(x.grad)"
      ],
      "execution_count": 8,
      "outputs": [
        {
          "output_type": "stream",
          "text": [
            "tensor([ 0.,  4.,  8., 12.])\n"
          ],
          "name": "stdout"
        }
      ]
    },
    {
      "cell_type": "markdown",
      "metadata": {
        "id": "jsskmrilFHip"
      },
      "source": [
        "#### Tensorflow"
      ]
    },
    {
      "cell_type": "code",
      "metadata": {
        "id": "gd0WUbLuFKVm"
      },
      "source": [
        "x = tf.range(4, dtype=tf.float32)\r\n",
        "x = tf.Variable(x)"
      ],
      "execution_count": 9,
      "outputs": []
    },
    {
      "cell_type": "code",
      "metadata": {
        "colab": {
          "base_uri": "https://localhost:8080/"
        },
        "id": "Aaxa5xSdFRvm",
        "outputId": "b74f66e1-ae32-4678-8d95-cedc5aef41e0"
      },
      "source": [
        "# Record all computations onto a tape\r\n",
        "with tf.GradientTape() as t:\r\n",
        "    y = 2 * tf.tensordot(x, x, axes=1)\r\n",
        "print(y)"
      ],
      "execution_count": 10,
      "outputs": [
        {
          "output_type": "stream",
          "text": [
            "tf.Tensor(28.0, shape=(), dtype=float32)\n"
          ],
          "name": "stdout"
        }
      ]
    },
    {
      "cell_type": "code",
      "metadata": {
        "colab": {
          "base_uri": "https://localhost:8080/"
        },
        "id": "SEkt3qxfFXgX",
        "outputId": "80efcc7b-9659-40e0-e3ea-8b2fff624216"
      },
      "source": [
        "print(t.gradient(y, x))"
      ],
      "execution_count": 11,
      "outputs": [
        {
          "output_type": "stream",
          "text": [
            "tf.Tensor([ 0.  4.  8. 12.], shape=(4,), dtype=float32)\n"
          ],
          "name": "stdout"
        }
      ]
    },
    {
      "cell_type": "markdown",
      "metadata": {
        "id": "vff6MJCqFg3y"
      },
      "source": [
        "### Backward for Non-Scalar Variables"
      ]
    },
    {
      "cell_type": "markdown",
      "metadata": {
        "id": "wg1cmLajFoHj"
      },
      "source": [
        "#### Mxnet"
      ]
    },
    {
      "cell_type": "code",
      "metadata": {
        "id": "YhVSHmzYFk8D"
      },
      "source": [
        "x = np.arange(4.0)\r\n",
        "x.attach_grad()"
      ],
      "execution_count": 12,
      "outputs": []
    },
    {
      "cell_type": "code",
      "metadata": {
        "id": "uPof9E4oFzvA"
      },
      "source": [
        "# When we invoke `backward` on a vector-valued variable `y` (function of `x`),\r\n",
        "# a new scalar variable is created by summing the elements in `y`. Then the\r\n",
        "# gradient of that scalar variable with respect to `x` is computed\r\n",
        "with autograd.record():\r\n",
        "    y = x * x  # `y` is a vector"
      ],
      "execution_count": 13,
      "outputs": []
    },
    {
      "cell_type": "code",
      "metadata": {
        "colab": {
          "base_uri": "https://localhost:8080/"
        },
        "id": "Nw2t2TlyF8D9",
        "outputId": "65b4ebff-668e-4e7e-a3f8-76883ec1d849"
      },
      "source": [
        "y.backward()\r\n",
        "print(x.grad)  # Equals to y = sum(x * x)"
      ],
      "execution_count": 14,
      "outputs": [
        {
          "output_type": "stream",
          "text": [
            "[0. 2. 4. 6.]\n"
          ],
          "name": "stdout"
        }
      ]
    },
    {
      "cell_type": "markdown",
      "metadata": {
        "id": "_oEeEe00K8Lu"
      },
      "source": [
        "####Pytorch"
      ]
    },
    {
      "cell_type": "code",
      "metadata": {
        "colab": {
          "base_uri": "https://localhost:8080/"
        },
        "id": "pNLi3kzNK-mF",
        "outputId": "ee617a03-0c5e-41b1-ca61-e07a0c1bcf27"
      },
      "source": [
        "x = torch.arange(4.0)\r\n",
        "x.requires_grad_(True)  # Same as `x = torch.arange(4.0, requires_grad=True)`"
      ],
      "execution_count": 15,
      "outputs": [
        {
          "output_type": "execute_result",
          "data": {
            "text/plain": [
              "tensor([0., 1., 2., 3.], requires_grad=True)"
            ]
          },
          "metadata": {
            "tags": []
          },
          "execution_count": 15
        }
      ]
    },
    {
      "cell_type": "code",
      "metadata": {
        "colab": {
          "base_uri": "https://localhost:8080/"
        },
        "id": "vxSOd6l6LGwB",
        "outputId": "e15e028c-0266-428d-d6da-9019fbc2e079"
      },
      "source": [
        "# Invoking `backward` on a non-scalar requires passing in a `gradient` argument\r\n",
        "# which specifies the gradient of the differentiated function w.r.t `self`.\r\n",
        "# In our case, we simply want to sum the partial derivatives, so passing\r\n",
        "# in a gradient of ones is appropriate\r\n",
        "y = x * x\r\n",
        "# y.backward(torch.ones(len(x))) equivalent to the below\r\n",
        "y.sum().backward()\r\n",
        "print(x.grad)"
      ],
      "execution_count": 16,
      "outputs": [
        {
          "output_type": "stream",
          "text": [
            "tensor([0., 2., 4., 6.])\n"
          ],
          "name": "stdout"
        }
      ]
    },
    {
      "cell_type": "markdown",
      "metadata": {
        "id": "qxDba8ptL8XF"
      },
      "source": [
        "####Tensorflow"
      ]
    },
    {
      "cell_type": "code",
      "metadata": {
        "id": "2nyzUA6hMGFq"
      },
      "source": [
        "x = tf.range(4, dtype=tf.float32)\r\n",
        "x = tf.Variable(x)"
      ],
      "execution_count": 17,
      "outputs": []
    },
    {
      "cell_type": "code",
      "metadata": {
        "colab": {
          "base_uri": "https://localhost:8080/"
        },
        "id": "xFfc4v5AL-4m",
        "outputId": "f1c9a36b-1077-45fd-da0f-e634acf2890a"
      },
      "source": [
        "with tf.GradientTape() as t:\r\n",
        "    y = x * x\r\n",
        "print(t.gradient(y, x))  # Same as `y = tf.reduce_sum(x * x)`"
      ],
      "execution_count": 18,
      "outputs": [
        {
          "output_type": "stream",
          "text": [
            "tf.Tensor([0. 2. 4. 6.], shape=(4,), dtype=float32)\n"
          ],
          "name": "stdout"
        }
      ]
    },
    {
      "cell_type": "markdown",
      "metadata": {
        "id": "aSNPlAXpMrRr"
      },
      "source": [
        "### Detaching Computation"
      ]
    },
    {
      "cell_type": "markdown",
      "metadata": {
        "id": "lF2Ih0gXM7YW"
      },
      "source": [
        "#### Mxnet"
      ]
    },
    {
      "cell_type": "code",
      "metadata": {
        "id": "TMU00fUsM7Yi"
      },
      "source": [
        "x = np.arange(4.0)\r\n",
        "x.attach_grad()"
      ],
      "execution_count": 19,
      "outputs": []
    },
    {
      "cell_type": "code",
      "metadata": {
        "id": "hje6c1cbM7Yj"
      },
      "source": [
        "with autograd.record():\r\n",
        "    y = x * x\r\n",
        "    u = y.detach()\r\n",
        "    z = u * x"
      ],
      "execution_count": 20,
      "outputs": []
    },
    {
      "cell_type": "code",
      "metadata": {
        "colab": {
          "base_uri": "https://localhost:8080/"
        },
        "id": "VXAB40P3M7Yj",
        "outputId": "dca670eb-6375-493b-aa01-dd16330b06c2"
      },
      "source": [
        "z.backward()\r\n",
        "print(x.grad)\r\n",
        "print(u)\r\n",
        "print(x.grad == u)"
      ],
      "execution_count": 21,
      "outputs": [
        {
          "output_type": "stream",
          "text": [
            "[0. 1. 4. 9.]\n",
            "[0. 1. 4. 9.]\n",
            "[ True  True  True  True]\n"
          ],
          "name": "stdout"
        }
      ]
    },
    {
      "cell_type": "code",
      "metadata": {
        "colab": {
          "base_uri": "https://localhost:8080/"
        },
        "id": "NWBQFmZmO55k",
        "outputId": "b7020592-c5af-4976-fbc6-0a604fc6fd95"
      },
      "source": [
        "y.backward()\r\n",
        "print(x.grad)"
      ],
      "execution_count": 22,
      "outputs": [
        {
          "output_type": "stream",
          "text": [
            "[0. 2. 4. 6.]\n"
          ],
          "name": "stdout"
        }
      ]
    },
    {
      "cell_type": "markdown",
      "metadata": {
        "id": "lxqBjsY4N34E"
      },
      "source": [
        "####Pytorch"
      ]
    },
    {
      "cell_type": "code",
      "metadata": {
        "colab": {
          "base_uri": "https://localhost:8080/"
        },
        "id": "EB5Urh1NN6v_",
        "outputId": "2d8e24a6-4b9c-4a37-e7eb-9543a2f00860"
      },
      "source": [
        "x = torch.arange(4.0)\r\n",
        "x.requires_grad_(True)"
      ],
      "execution_count": 23,
      "outputs": [
        {
          "output_type": "execute_result",
          "data": {
            "text/plain": [
              "tensor([0., 1., 2., 3.], requires_grad=True)"
            ]
          },
          "metadata": {
            "tags": []
          },
          "execution_count": 23
        }
      ]
    },
    {
      "cell_type": "code",
      "metadata": {
        "id": "V-LBkbKgOBkf"
      },
      "source": [
        "y = x * x\r\n",
        "u = y.detach()\r\n",
        "z = u * x"
      ],
      "execution_count": 24,
      "outputs": []
    },
    {
      "cell_type": "code",
      "metadata": {
        "colab": {
          "base_uri": "https://localhost:8080/"
        },
        "id": "9clo0H9oOK3Q",
        "outputId": "8d9084d8-8a66-4e0c-c544-57b5f09ac47d"
      },
      "source": [
        "z.sum().backward()\r\n",
        "print(x.grad)\r\n",
        "print(u)\r\n",
        "print(x.grad == u)"
      ],
      "execution_count": 25,
      "outputs": [
        {
          "output_type": "stream",
          "text": [
            "tensor([0., 1., 4., 9.])\n",
            "tensor([0., 1., 4., 9.])\n",
            "tensor([True, True, True, True])\n"
          ],
          "name": "stdout"
        }
      ]
    },
    {
      "cell_type": "code",
      "metadata": {
        "colab": {
          "base_uri": "https://localhost:8080/"
        },
        "id": "884QQ4K5O_Ya",
        "outputId": "669f5941-0dd3-4e51-d970-84a4739c48bf"
      },
      "source": [
        "x.grad.zero_()\r\n",
        "y.sum().backward()\r\n",
        "print(x.grad)"
      ],
      "execution_count": 26,
      "outputs": [
        {
          "output_type": "stream",
          "text": [
            "tensor([0., 2., 4., 6.])\n"
          ],
          "name": "stdout"
        }
      ]
    },
    {
      "cell_type": "markdown",
      "metadata": {
        "id": "Bls4c-62TkqF"
      },
      "source": [
        "####Tensorflow"
      ]
    },
    {
      "cell_type": "code",
      "metadata": {
        "colab": {
          "base_uri": "https://localhost:8080/"
        },
        "id": "kX1ye6AmTkqM",
        "outputId": "ff96f0d6-9905-40eb-e134-3dcfb3f6c8b0"
      },
      "source": [
        "x = tf.range(4, dtype=tf.float32)\r\n",
        "x = tf.Variable(x)\r\n",
        "print(x)"
      ],
      "execution_count": 27,
      "outputs": [
        {
          "output_type": "stream",
          "text": [
            "<tf.Variable 'Variable:0' shape=(4,) dtype=float32, numpy=array([0., 1., 2., 3.], dtype=float32)>\n"
          ],
          "name": "stdout"
        }
      ]
    },
    {
      "cell_type": "code",
      "metadata": {
        "id": "7uRI367-TkqN"
      },
      "source": [
        "# Set `persistent=True` to run `t.gradient` more than once\r\n",
        "with tf.GradientTape(persistent=True) as t:\r\n",
        "    y = x * x\r\n",
        "    u = tf.stop_gradient(y)\r\n",
        "    z = u * x"
      ],
      "execution_count": 28,
      "outputs": []
    },
    {
      "cell_type": "code",
      "metadata": {
        "colab": {
          "base_uri": "https://localhost:8080/"
        },
        "id": "hiaEziglTxMN",
        "outputId": "962789ce-b713-4384-f396-733ab95a5a40"
      },
      "source": [
        "print(t.gradient(z, x))"
      ],
      "execution_count": 29,
      "outputs": [
        {
          "output_type": "stream",
          "text": [
            "tf.Tensor([0. 1. 4. 9.], shape=(4,), dtype=float32)\n"
          ],
          "name": "stdout"
        }
      ]
    },
    {
      "cell_type": "code",
      "metadata": {
        "colab": {
          "base_uri": "https://localhost:8080/"
        },
        "id": "Eh6yDpEeT5N6",
        "outputId": "c2011fdf-44c7-49c6-d85f-7c13974e24ce"
      },
      "source": [
        "print(t.gradient(y, x))"
      ],
      "execution_count": 30,
      "outputs": [
        {
          "output_type": "stream",
          "text": [
            "tf.Tensor([0. 2. 4. 6.], shape=(4,), dtype=float32)\n"
          ],
          "name": "stdout"
        }
      ]
    }
  ]
}