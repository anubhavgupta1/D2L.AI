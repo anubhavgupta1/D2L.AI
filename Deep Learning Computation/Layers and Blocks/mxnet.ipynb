{
  "nbformat": 4,
  "nbformat_minor": 0,
  "metadata": {
    "colab": {
      "name": "Untitled23.ipynb",
      "provenance": [],
      "authorship_tag": "ABX9TyPlTS5MmH4NPO6iyW1YUoHL",
      "include_colab_link": true
    },
    "kernelspec": {
      "display_name": "Python 3",
      "name": "python3"
    }
  },
  "cells": [
    {
      "cell_type": "markdown",
      "metadata": {
        "id": "view-in-github",
        "colab_type": "text"
      },
      "source": [
        "<a href=\"https://colab.research.google.com/github/anubhavgupta1/Dive-Into-Deep-Learning/blob/main/Deep%20Learning%20Computation/Layers%20and%20Blocks/mxnet.ipynb\" target=\"_parent\"><img src=\"https://colab.research.google.com/assets/colab-badge.svg\" alt=\"Open In Colab\"/></a>"
      ]
    },
    {
      "cell_type": "markdown",
      "metadata": {
        "id": "QoJIK_HF-u6P"
      },
      "source": [
        "#  Deep Learning Computation"
      ]
    },
    {
      "cell_type": "code",
      "metadata": {
        "id": "YQrUoFmNY8_U"
      },
      "source": [
        "!pip install d2l==0.16.1\r\n",
        "!pip install -U mxnet-cu101==1.7.0"
      ],
      "execution_count": null,
      "outputs": []
    },
    {
      "cell_type": "code",
      "metadata": {
        "id": "m_JJzaDIZFms"
      },
      "source": [
        "from mxnet import np, npx\r\n",
        "from mxnet.gluon import nn\r\n",
        "npx.set_np()"
      ],
      "execution_count": 2,
      "outputs": []
    },
    {
      "cell_type": "code",
      "metadata": {
        "id": "fBGptnQt3x2t"
      },
      "source": [
        "X = np.random.uniform(size=(2, 20))"
      ],
      "execution_count": 3,
      "outputs": []
    },
    {
      "cell_type": "markdown",
      "metadata": {
        "id": "O8qWyE8G2_dV"
      },
      "source": [
        "### A Custom Block"
      ]
    },
    {
      "cell_type": "code",
      "metadata": {
        "id": "Yvx36wV-29qj"
      },
      "source": [
        "net = nn.Sequential()\r\n",
        "net.add(nn.Dense(256, activation='relu'))\r\n",
        "net.add(nn.Dense(10))\r\n",
        "net.initialize()"
      ],
      "execution_count": 4,
      "outputs": []
    },
    {
      "cell_type": "code",
      "metadata": {
        "colab": {
          "base_uri": "https://localhost:8080/"
        },
        "id": "KlsgcARB3Ydw",
        "outputId": "861b7201-ff7d-4c56-e350-7f6feaa0e9a6"
      },
      "source": [
        "print(net)"
      ],
      "execution_count": 5,
      "outputs": [
        {
          "output_type": "stream",
          "text": [
            "Sequential(\n",
            "  (0): Dense(-1 -> 256, Activation(relu))\n",
            "  (1): Dense(-1 -> 10, linear)\n",
            ")\n"
          ],
          "name": "stdout"
        }
      ]
    },
    {
      "cell_type": "code",
      "metadata": {
        "colab": {
          "base_uri": "https://localhost:8080/"
        },
        "id": "rriKnh_I3Wvt",
        "outputId": "9bea540c-fd2d-4f07-8513-991aa97354bd"
      },
      "source": [
        "print(net(X))"
      ],
      "execution_count": 6,
      "outputs": [
        {
          "output_type": "stream",
          "text": [
            "[[ 0.06240274 -0.03268593  0.02582653  0.02254181 -0.03728798 -0.04253785\n",
            "   0.00540612 -0.01364185 -0.09915454 -0.02272737]\n",
            " [ 0.02816679 -0.03341204  0.03565665  0.02506384 -0.04136416 -0.04941844\n",
            "   0.01738529  0.01081963 -0.09932579 -0.01176296]]\n"
          ],
          "name": "stdout"
        }
      ]
    },
    {
      "cell_type": "markdown",
      "metadata": {
        "id": "LAAHnkEU3kwc"
      },
      "source": [
        "### MLP Block"
      ]
    },
    {
      "cell_type": "code",
      "metadata": {
        "id": "9QFHMoGg3n77"
      },
      "source": [
        "class MLP(nn.Block):\r\n",
        "    # Declare a layer with model parameters. Here, we declare two\r\n",
        "    # fully-connected layers\r\n",
        "    def __init__(self, **kwargs):\r\n",
        "        # Call the constructor of the `MLP` parent class `Block` to perform\r\n",
        "        # the necessary initialization. In this way, other function arguments\r\n",
        "        # can also be specified during class instantiation, such as the model\r\n",
        "        # parameters, `params` (to be described later)\r\n",
        "        super().__init__(**kwargs)\r\n",
        "        self.hidden = nn.Dense(256, activation='relu')  # Hidden layer\r\n",
        "        self.out = nn.Dense(10)  # Output layer\r\n",
        "\r\n",
        "    # Define the forward propagation of the model, that is, how to return the\r\n",
        "    # required model output based on the input `X`\r\n",
        "    def forward(self, X):\r\n",
        "        return self.out(self.hidden(X))"
      ],
      "execution_count": 7,
      "outputs": []
    },
    {
      "cell_type": "code",
      "metadata": {
        "colab": {
          "base_uri": "https://localhost:8080/"
        },
        "id": "k6Gc-uwh3j2S",
        "outputId": "413e8d19-1d2f-4737-b99c-ca0eafa4b0e1"
      },
      "source": [
        "net = MLP()\r\n",
        "print(net)"
      ],
      "execution_count": 8,
      "outputs": [
        {
          "output_type": "stream",
          "text": [
            "MLP(\n",
            "  (hidden): Dense(-1 -> 256, Activation(relu))\n",
            "  (out): Dense(-1 -> 10, linear)\n",
            ")\n"
          ],
          "name": "stdout"
        }
      ]
    },
    {
      "cell_type": "code",
      "metadata": {
        "colab": {
          "base_uri": "https://localhost:8080/"
        },
        "id": "tRysRhT939uh",
        "outputId": "8f4c68e1-3d4f-48df-b2d7-aa7d50163f5d"
      },
      "source": [
        "net.initialize()\r\n",
        "print(net(X))"
      ],
      "execution_count": 9,
      "outputs": [
        {
          "output_type": "stream",
          "text": [
            "[[-0.03989595 -0.10414709  0.06799038  0.05245074  0.0252606  -0.00640342\n",
            "   0.04182098 -0.01665318 -0.02067345 -0.07863816]\n",
            " [-0.03612847 -0.07210435  0.09159479  0.07890773  0.02494171 -0.01028665\n",
            "   0.01732427 -0.02843244  0.03772651 -0.06671703]]\n"
          ],
          "name": "stdout"
        }
      ]
    },
    {
      "cell_type": "markdown",
      "metadata": {
        "id": "P2ji4r0K4NHa"
      },
      "source": [
        "### The Sequential Block"
      ]
    },
    {
      "cell_type": "code",
      "metadata": {
        "id": "rRhUsmVg4OVF"
      },
      "source": [
        "class MySequential(nn.Block):\r\n",
        "    def add(self, block):\r\n",
        "        # Here, `block` is an instance of a `Block` subclass, and we assume\r\n",
        "        # that it has a unique name. We save it in the member variable\r\n",
        "        # `_children` of the `Block` class, and its type is OrderedDict. When\r\n",
        "        # the `MySequential` instance calls the `initialize` function, the\r\n",
        "        # system automatically initializes all members of `_children`\r\n",
        "        self._children[block.name] = block\r\n",
        "\r\n",
        "    def forward(self, X):\r\n",
        "        # OrderedDict guarantees that members will be traversed in the order\r\n",
        "        # they were added\r\n",
        "        for block in self._children.values():\r\n",
        "            X = block(X)\r\n",
        "        return X"
      ],
      "execution_count": 10,
      "outputs": []
    },
    {
      "cell_type": "code",
      "metadata": {
        "colab": {
          "base_uri": "https://localhost:8080/"
        },
        "id": "18yGeQCL4c3I",
        "outputId": "13aaf5b7-d354-407c-eb51-82f3b5d80b72"
      },
      "source": [
        "net = MySequential()\r\n",
        "print(net)"
      ],
      "execution_count": 11,
      "outputs": [
        {
          "output_type": "stream",
          "text": [
            "MySequential(\n",
            "\n",
            ")\n"
          ],
          "name": "stdout"
        }
      ]
    },
    {
      "cell_type": "code",
      "metadata": {
        "id": "fe2q3j2F4f3l"
      },
      "source": [
        "net.add(nn.Dense(256, activation='relu'))\r\n",
        "net.add(nn.Dense(10))\r\n",
        "net.initialize()"
      ],
      "execution_count": 12,
      "outputs": []
    },
    {
      "cell_type": "code",
      "metadata": {
        "colab": {
          "base_uri": "https://localhost:8080/"
        },
        "id": "vgZxxt1U4ye9",
        "outputId": "c47012af-dd6f-45e4-9b78-3541c555a84d"
      },
      "source": [
        "print(net._children.values())"
      ],
      "execution_count": 13,
      "outputs": [
        {
          "output_type": "stream",
          "text": [
            "odict_values([Dense(-1 -> 256, Activation(relu)), Dense(-1 -> 10, linear)])\n"
          ],
          "name": "stdout"
        }
      ]
    },
    {
      "cell_type": "code",
      "metadata": {
        "colab": {
          "base_uri": "https://localhost:8080/"
        },
        "id": "9Td_b__g5bAY",
        "outputId": "d3d4c161-eb95-4a8a-a9bd-660f1ed6d4dc"
      },
      "source": [
        "print(net(X))"
      ],
      "execution_count": 14,
      "outputs": [
        {
          "output_type": "stream",
          "text": [
            "[[-0.0764568  -0.01130233  0.04952145 -0.04651389 -0.04131571 -0.05884131\n",
            "  -0.06213811  0.01311471 -0.01379425 -0.02514282]\n",
            " [-0.05124623  0.00711232 -0.00155933 -0.07555379 -0.06675334 -0.01762914\n",
            "   0.00589085  0.0144719  -0.04330775  0.03317727]]\n"
          ],
          "name": "stdout"
        }
      ]
    },
    {
      "cell_type": "markdown",
      "metadata": {
        "id": "Ut0e0gbe7oDj"
      },
      "source": [
        "### Ensemble Block"
      ]
    },
    {
      "cell_type": "code",
      "metadata": {
        "id": "SypIkg7S7qd2"
      },
      "source": [
        "class FixedHiddenMLP(nn.Block):\r\n",
        "    def __init__(self, **kwargs):\r\n",
        "        super().__init__(**kwargs)\r\n",
        "        # Random weight parameters created with the `get_constant` function\r\n",
        "        # are not updated during training (i.e., constant parameters)\r\n",
        "        self.rand_weight = self.params.get_constant(\r\n",
        "            'rand_weight', np.random.uniform(size=(20, 20)))\r\n",
        "        self.dense = nn.Dense(20, activation='relu')\r\n",
        "\r\n",
        "    def forward(self, X):\r\n",
        "        X = self.dense(X)\r\n",
        "        # Use the created constant parameters, as well as the `relu` and `dot`\r\n",
        "        # functions\r\n",
        "        X = npx.relu(np.dot(X, self.rand_weight.data()) + 1)\r\n",
        "        # Reuse the fully-connected layer. This is equivalent to sharing\r\n",
        "        # parameters with two fully-connected layers\r\n",
        "        X = self.dense(X)\r\n",
        "        # Control flow\r\n",
        "        while np.abs(X).sum() > 1:\r\n",
        "            X /= 2\r\n",
        "        return X.sum()"
      ],
      "execution_count": 15,
      "outputs": []
    },
    {
      "cell_type": "code",
      "metadata": {
        "colab": {
          "base_uri": "https://localhost:8080/"
        },
        "id": "ZfWnyP8h71cz",
        "outputId": "9fb9560a-bcdc-4881-e921-200bd82276d4"
      },
      "source": [
        "net = FixedHiddenMLP()\r\n",
        "print(net)"
      ],
      "execution_count": 16,
      "outputs": [
        {
          "output_type": "stream",
          "text": [
            "FixedHiddenMLP(\n",
            "  (dense): Dense(-1 -> 20, Activation(relu))\n",
            ")\n"
          ],
          "name": "stdout"
        }
      ]
    },
    {
      "cell_type": "code",
      "metadata": {
        "colab": {
          "base_uri": "https://localhost:8080/"
        },
        "id": "o7tEdTgk75r_",
        "outputId": "827fe91c-2da2-4fee-8195-238b1dc56700"
      },
      "source": [
        "net.initialize()\r\n",
        "print(net(X))"
      ],
      "execution_count": 17,
      "outputs": [
        {
          "output_type": "stream",
          "text": [
            "0.52637565\n"
          ],
          "name": "stdout"
        }
      ]
    },
    {
      "cell_type": "code",
      "metadata": {
        "id": "zZuwu4UK8LtH"
      },
      "source": [
        "class NestMLP(nn.Block):\r\n",
        "    def __init__(self, **kwargs):\r\n",
        "        super().__init__(**kwargs)\r\n",
        "        self.net = nn.Sequential()\r\n",
        "        self.net.add(nn.Dense(64, activation='relu'),\r\n",
        "                     nn.Dense(32, activation='relu'))\r\n",
        "        self.dense = nn.Dense(16, activation='relu')\r\n",
        "\r\n",
        "    def forward(self, X):\r\n",
        "        return self.dense(self.net(X))"
      ],
      "execution_count": 18,
      "outputs": []
    },
    {
      "cell_type": "code",
      "metadata": {
        "colab": {
          "base_uri": "https://localhost:8080/"
        },
        "id": "bfjfMhdI8ScL",
        "outputId": "7d70ce6b-2733-4432-8ed6-be6031122f0e"
      },
      "source": [
        "net = NestMLP()\r\n",
        "print(net)"
      ],
      "execution_count": 19,
      "outputs": [
        {
          "output_type": "stream",
          "text": [
            "NestMLP(\n",
            "  (net): Sequential(\n",
            "    (0): Dense(-1 -> 64, Activation(relu))\n",
            "    (1): Dense(-1 -> 32, Activation(relu))\n",
            "  )\n",
            "  (dense): Dense(-1 -> 16, Activation(relu))\n",
            ")\n"
          ],
          "name": "stdout"
        }
      ]
    },
    {
      "cell_type": "code",
      "metadata": {
        "colab": {
          "base_uri": "https://localhost:8080/"
        },
        "id": "PiHaEI6k8foA",
        "outputId": "1dd6237e-7a5a-4ff5-8b38-bf60dd8f1500"
      },
      "source": [
        "net.initialize()\r\n",
        "print(net(X))"
      ],
      "execution_count": 20,
      "outputs": [
        {
          "output_type": "stream",
          "text": [
            "[[ 2.9371739e-03  5.7932874e-04 -0.0000000e+00 -0.0000000e+00\n",
            "  -0.0000000e+00 -0.0000000e+00 -0.0000000e+00 -0.0000000e+00\n",
            "   5.9629581e-03  3.4165871e-03 -0.0000000e+00  1.2378028e-03\n",
            "   2.7629118e-03  2.5672135e-03 -0.0000000e+00 -0.0000000e+00]\n",
            " [ 2.4156112e-03  3.6840735e-05 -0.0000000e+00 -0.0000000e+00\n",
            "  -0.0000000e+00  6.4551947e-04 -0.0000000e+00 -0.0000000e+00\n",
            "   2.2474134e-03  5.1313322e-03 -0.0000000e+00  1.4229940e-03\n",
            "   2.8961021e-03  4.5566252e-03 -0.0000000e+00 -0.0000000e+00]]\n"
          ],
          "name": "stdout"
        }
      ]
    },
    {
      "cell_type": "code",
      "metadata": {
        "colab": {
          "base_uri": "https://localhost:8080/"
        },
        "id": "4GeY0GOu8Oc0",
        "outputId": "23af5a0f-5e47-4e61-9780-579f5b71b7c3"
      },
      "source": [
        "chimera = nn.Sequential()\r\n",
        "chimera.add(NestMLP(), nn.Dense(20), FixedHiddenMLP())\r\n",
        "print(chimera)"
      ],
      "execution_count": 21,
      "outputs": [
        {
          "output_type": "stream",
          "text": [
            "Sequential(\n",
            "  (0): NestMLP(\n",
            "    (net): Sequential(\n",
            "      (0): Dense(-1 -> 64, Activation(relu))\n",
            "      (1): Dense(-1 -> 32, Activation(relu))\n",
            "    )\n",
            "    (dense): Dense(-1 -> 16, Activation(relu))\n",
            "  )\n",
            "  (1): Dense(-1 -> 20, linear)\n",
            "  (2): FixedHiddenMLP(\n",
            "    (dense): Dense(-1 -> 20, Activation(relu))\n",
            "  )\n",
            ")\n"
          ],
          "name": "stdout"
        }
      ]
    },
    {
      "cell_type": "code",
      "metadata": {
        "colab": {
          "base_uri": "https://localhost:8080/"
        },
        "id": "5B4QYWv089PT",
        "outputId": "a53abbf1-57a3-4b9a-bfcb-01e75bc28ec7"
      },
      "source": [
        "chimera.initialize()\r\n",
        "chimera(X)"
      ],
      "execution_count": 22,
      "outputs": [
        {
          "output_type": "execute_result",
          "data": {
            "text/plain": [
              "array(0.55778044)"
            ]
          },
          "metadata": {
            "tags": []
          },
          "execution_count": 22
        }
      ]
    }
  ]
}