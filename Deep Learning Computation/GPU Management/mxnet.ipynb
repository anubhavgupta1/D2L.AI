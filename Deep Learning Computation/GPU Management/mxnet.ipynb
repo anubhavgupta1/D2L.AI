{
  "nbformat": 4,
  "nbformat_minor": 0,
  "metadata": {
    "colab": {
      "name": "Untitled23.ipynb",
      "provenance": [],
      "authorship_tag": "ABX9TyMxN8/ML6d0bHugsByD2k5K",
      "include_colab_link": true
    },
    "kernelspec": {
      "display_name": "Python 3",
      "name": "python3"
    },
    "accelerator": "GPU"
  },
  "cells": [
    {
      "cell_type": "markdown",
      "metadata": {
        "id": "view-in-github",
        "colab_type": "text"
      },
      "source": [
        "<a href=\"https://colab.research.google.com/github/anubhavgupta1/Dive-Into-Deep-Learning/blob/main/Deep%20Learning%20Computation/GPU%20Management/mxnet.ipynb\" target=\"_parent\"><img src=\"https://colab.research.google.com/assets/colab-badge.svg\" alt=\"Open In Colab\"/></a>"
      ]
    },
    {
      "cell_type": "markdown",
      "metadata": {
        "id": "QoJIK_HF-u6P"
      },
      "source": [
        "#  Deep Learning Computation"
      ]
    },
    {
      "cell_type": "code",
      "metadata": {
        "id": "b0s7aA5yt4K_"
      },
      "source": [
        "!pip install -U mxnet-cu101==1.7.0"
      ],
      "execution_count": null,
      "outputs": []
    },
    {
      "cell_type": "code",
      "metadata": {
        "colab": {
          "base_uri": "https://localhost:8080/"
        },
        "id": "pg6dobGdtRWi",
        "outputId": "9c448aaa-4293-4387-edfe-ce6488b9b847"
      },
      "source": [
        "!nvidia-smi"
      ],
      "execution_count": 2,
      "outputs": [
        {
          "output_type": "stream",
          "text": [
            "Tue Jan 26 13:00:16 2021       \n",
            "+-----------------------------------------------------------------------------+\n",
            "| NVIDIA-SMI 460.32.03    Driver Version: 418.67       CUDA Version: 10.1     |\n",
            "|-------------------------------+----------------------+----------------------+\n",
            "| GPU  Name        Persistence-M| Bus-Id        Disp.A | Volatile Uncorr. ECC |\n",
            "| Fan  Temp  Perf  Pwr:Usage/Cap|         Memory-Usage | GPU-Util  Compute M. |\n",
            "|                               |                      |               MIG M. |\n",
            "|===============================+======================+======================|\n",
            "|   0  Tesla K80           Off  | 00000000:00:04.0 Off |                    0 |\n",
            "| N/A   34C    P8    28W / 149W |      0MiB / 11441MiB |      0%      Default |\n",
            "|                               |                      |                 ERR! |\n",
            "+-------------------------------+----------------------+----------------------+\n",
            "                                                                               \n",
            "+-----------------------------------------------------------------------------+\n",
            "| Processes:                                                                  |\n",
            "|  GPU   GI   CI        PID   Type   Process name                  GPU Memory |\n",
            "|        ID   ID                                                   Usage      |\n",
            "|=============================================================================|\n",
            "|  No running processes found                                                 |\n",
            "+-----------------------------------------------------------------------------+\n"
          ],
          "name": "stdout"
        }
      ]
    },
    {
      "cell_type": "code",
      "metadata": {
        "id": "m_JJzaDIZFms"
      },
      "source": [
        "from mxnet import np, npx\r\n",
        "from mxnet.gluon import nn\r\n",
        "npx.set_np()"
      ],
      "execution_count": 3,
      "outputs": []
    },
    {
      "cell_type": "markdown",
      "metadata": {
        "id": "ASspssf0uIzt"
      },
      "source": [
        "### Computing Devices"
      ]
    },
    {
      "cell_type": "code",
      "metadata": {
        "colab": {
          "base_uri": "https://localhost:8080/"
        },
        "id": "kJOQUQwRtDTN",
        "outputId": "66ec7f56-da2a-4098-b8ce-cd6975deeb80"
      },
      "source": [
        "npx.cpu()"
      ],
      "execution_count": 4,
      "outputs": [
        {
          "output_type": "execute_result",
          "data": {
            "text/plain": [
              "cpu(0)"
            ]
          },
          "metadata": {
            "tags": []
          },
          "execution_count": 4
        }
      ]
    },
    {
      "cell_type": "code",
      "metadata": {
        "colab": {
          "base_uri": "https://localhost:8080/"
        },
        "id": "mUB6CefftbTq",
        "outputId": "0457c934-636c-469a-f2b0-1c78cdf6ce47"
      },
      "source": [
        "npx.gpu()"
      ],
      "execution_count": 5,
      "outputs": [
        {
          "output_type": "execute_result",
          "data": {
            "text/plain": [
              "gpu(0)"
            ]
          },
          "metadata": {
            "tags": []
          },
          "execution_count": 5
        }
      ]
    },
    {
      "cell_type": "code",
      "metadata": {
        "colab": {
          "base_uri": "https://localhost:8080/"
        },
        "id": "Hq3Ls38atgC5",
        "outputId": "cbe73df0-520b-4d2c-f50e-2fcf39e503c6"
      },
      "source": [
        "npx.gpu(1)"
      ],
      "execution_count": 6,
      "outputs": [
        {
          "output_type": "execute_result",
          "data": {
            "text/plain": [
              "gpu(1)"
            ]
          },
          "metadata": {
            "tags": []
          },
          "execution_count": 6
        }
      ]
    },
    {
      "cell_type": "code",
      "metadata": {
        "id": "x6CkeL9euln2"
      },
      "source": [
        "def try_gpu(i=0):  #@save\r\n",
        "    \"\"\"Return gpu(i) if exists, otherwise return cpu().\"\"\"\r\n",
        "    return npx.gpu(i) if npx.num_gpus() >= i + 1 else npx.cpu()"
      ],
      "execution_count": 7,
      "outputs": []
    },
    {
      "cell_type": "code",
      "metadata": {
        "colab": {
          "base_uri": "https://localhost:8080/"
        },
        "id": "LyGuyPwMuuMD",
        "outputId": "6015e399-4c32-4f1e-de54-8e3e3e7bf31e"
      },
      "source": [
        "try_gpu()"
      ],
      "execution_count": 8,
      "outputs": [
        {
          "output_type": "execute_result",
          "data": {
            "text/plain": [
              "gpu(0)"
            ]
          },
          "metadata": {
            "tags": []
          },
          "execution_count": 8
        }
      ]
    },
    {
      "cell_type": "code",
      "metadata": {
        "colab": {
          "base_uri": "https://localhost:8080/"
        },
        "id": "ID8LgVE5vV3y",
        "outputId": "91382b64-2e4d-4a92-9935-95bd1982e913"
      },
      "source": [
        "npx.num_gpus()"
      ],
      "execution_count": 9,
      "outputs": [
        {
          "output_type": "execute_result",
          "data": {
            "text/plain": [
              "1"
            ]
          },
          "metadata": {
            "tags": []
          },
          "execution_count": 9
        }
      ]
    },
    {
      "cell_type": "code",
      "metadata": {
        "id": "IgKkX11WurDV"
      },
      "source": [
        "def try_all_gpus():  #@save\r\n",
        "    \"\"\"Return all available GPUs, or [cpu()] if no GPU exists.\"\"\"\r\n",
        "    devices = [npx.gpu(i) for i in range(npx.num_gpus())]\r\n",
        "    return devices if devices else [npx.cpu()]"
      ],
      "execution_count": 10,
      "outputs": []
    },
    {
      "cell_type": "code",
      "metadata": {
        "colab": {
          "base_uri": "https://localhost:8080/"
        },
        "id": "AqqBNQR2vf2M",
        "outputId": "5cf99bb6-e573-466e-da4a-cb126cf2df56"
      },
      "source": [
        " try_all_gpus()"
      ],
      "execution_count": 11,
      "outputs": [
        {
          "output_type": "execute_result",
          "data": {
            "text/plain": [
              "[gpu(0)]"
            ]
          },
          "metadata": {
            "tags": []
          },
          "execution_count": 11
        }
      ]
    },
    {
      "cell_type": "markdown",
      "metadata": {
        "id": "bKPCjzTUvyGo"
      },
      "source": [
        "### Storage on the GPU"
      ]
    },
    {
      "cell_type": "code",
      "metadata": {
        "id": "qjPhCP65v_iV"
      },
      "source": [
        "import time"
      ],
      "execution_count": 12,
      "outputs": []
    },
    {
      "cell_type": "code",
      "metadata": {
        "colab": {
          "base_uri": "https://localhost:8080/"
        },
        "id": "v0exq_kOvzPw",
        "outputId": "c0585965-9601-4962-bf06-2aca262808f0"
      },
      "source": [
        "%%time\r\n",
        "X = np.ones((1000,1000), ctx=try_gpu())\r\n",
        "Y = np.random.uniform(size=(1000, 1000), ctx=try_gpu(1))"
      ],
      "execution_count": 13,
      "outputs": [
        {
          "output_type": "stream",
          "text": [
            "CPU times: user 2.59 s, sys: 1.04 s, total: 3.62 s\n",
            "Wall time: 7.08 s\n"
          ],
          "name": "stdout"
        }
      ]
    },
    {
      "cell_type": "code",
      "metadata": {
        "colab": {
          "base_uri": "https://localhost:8080/"
        },
        "id": "j7cZhx3lwIwy",
        "outputId": "9e7a61c3-ba2b-4e48-dcdb-e768c760e0be"
      },
      "source": [
        "%%time\r\n",
        "Z = X.copyto(try_gpu(1))"
      ],
      "execution_count": 14,
      "outputs": [
        {
          "output_type": "stream",
          "text": [
            "CPU times: user 7.66 ms, sys: 5.22 ms, total: 12.9 ms\n",
            "Wall time: 14 ms\n"
          ],
          "name": "stdout"
        }
      ]
    },
    {
      "cell_type": "code",
      "metadata": {
        "colab": {
          "base_uri": "https://localhost:8080/"
        },
        "id": "5ritwDWOwTJT",
        "outputId": "e56e1953-e9d4-4c78-8290-54852eeede87"
      },
      "source": [
        "%%time\r\n",
        "Y + Z"
      ],
      "execution_count": 15,
      "outputs": [
        {
          "output_type": "stream",
          "text": [
            "CPU times: user 1.16 ms, sys: 2.07 ms, total: 3.23 ms\n",
            "Wall time: 3.3 ms\n"
          ],
          "name": "stdout"
        },
        {
          "output_type": "execute_result",
          "data": {
            "text/plain": [
              "array([[1.5488136, 1.5928446, 1.7151893, ..., 1.8880436, 1.5058664,\n",
              "        1.7086089],\n",
              "       [1.3103808, 1.2777736, 1.3730348, ..., 1.5879672, 1.6771412,\n",
              "        1.8979559],\n",
              "       [1.5928802, 1.9202718, 1.0100636, ..., 1.1494986, 1.227741 ,\n",
              "        1.6995358],\n",
              "       ...,\n",
              "       [1.2827585, 1.9108273, 1.2344983, ..., 1.5436208, 1.7582824,\n",
              "        1.6928148],\n",
              "       [1.5432006, 1.5367162, 1.3960181, ..., 1.7336426, 1.8024921,\n",
              "        1.8153074],\n",
              "       [1.0489427, 1.1327673, 1.1755751, ..., 1.7524731, 1.265617 ,\n",
              "        1.7676003]])"
            ]
          },
          "metadata": {
            "tags": []
          },
          "execution_count": 15
        }
      ]
    },
    {
      "cell_type": "code",
      "metadata": {
        "colab": {
          "base_uri": "https://localhost:8080/"
        },
        "id": "5EVNueipwfSg",
        "outputId": "7fb4907b-a1ec-442d-e158-b458dedc47e1"
      },
      "source": [
        "Z.as_in_ctx(try_gpu(1)) is Z"
      ],
      "execution_count": 16,
      "outputs": [
        {
          "output_type": "execute_result",
          "data": {
            "text/plain": [
              "True"
            ]
          },
          "metadata": {
            "tags": []
          },
          "execution_count": 16
        }
      ]
    },
    {
      "cell_type": "markdown",
      "metadata": {
        "id": "AB4ZWaSZwjnu"
      },
      "source": [
        "### Neural Networks and GPUs"
      ]
    },
    {
      "cell_type": "code",
      "metadata": {
        "id": "I4gE5nidwk5R"
      },
      "source": [
        "net = nn.Sequential()\r\n",
        "net.add(nn.Dense(1))\r\n",
        "net.initialize(ctx=try_gpu())"
      ],
      "execution_count": 17,
      "outputs": []
    },
    {
      "cell_type": "code",
      "metadata": {
        "id": "ltwxS4q1wyS5"
      },
      "source": [
        "net(X)"
      ],
      "execution_count": null,
      "outputs": []
    },
    {
      "cell_type": "code",
      "metadata": {
        "colab": {
          "base_uri": "https://localhost:8080/"
        },
        "id": "rLcB5djnwteK",
        "outputId": "fc31d022-9a9b-435c-fadc-5ba5575b375e"
      },
      "source": [
        "## Let us confirm that the model parameters are stored on the same GPU.\r\n",
        "net[0].weight.data().ctx"
      ],
      "execution_count": 19,
      "outputs": [
        {
          "output_type": "execute_result",
          "data": {
            "text/plain": [
              "gpu(0)"
            ]
          },
          "metadata": {
            "tags": []
          },
          "execution_count": 19
        }
      ]
    }
  ]
}