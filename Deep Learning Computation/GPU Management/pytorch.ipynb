{
  "nbformat": 4,
  "nbformat_minor": 0,
  "metadata": {
    "colab": {
      "name": "Untitled23.ipynb",
      "provenance": [],
      "authorship_tag": "ABX9TyPcnJQ5LF45hqqMy4PW7nCW",
      "include_colab_link": true
    },
    "kernelspec": {
      "display_name": "Python 3",
      "name": "python3"
    },
    "accelerator": "GPU"
  },
  "cells": [
    {
      "cell_type": "markdown",
      "metadata": {
        "id": "view-in-github",
        "colab_type": "text"
      },
      "source": [
        "<a href=\"https://colab.research.google.com/github/anubhavgupta1/Dive-Into-Deep-Learning/blob/main/Deep%20Learning%20Computation/GPU%20Management/pytorch.ipynb\" target=\"_parent\"><img src=\"https://colab.research.google.com/assets/colab-badge.svg\" alt=\"Open In Colab\"/></a>"
      ]
    },
    {
      "cell_type": "markdown",
      "metadata": {
        "id": "QoJIK_HF-u6P"
      },
      "source": [
        "#  Deep Learning Computation"
      ]
    },
    {
      "cell_type": "code",
      "metadata": {
        "colab": {
          "base_uri": "https://localhost:8080/"
        },
        "id": "pg6dobGdtRWi",
        "outputId": "c26958fd-2aa1-43aa-e553-c9ebe900106b"
      },
      "source": [
        "!nvidia-smi"
      ],
      "execution_count": 1,
      "outputs": [
        {
          "output_type": "stream",
          "text": [
            "Tue Jan 26 13:12:05 2021       \n",
            "+-----------------------------------------------------------------------------+\n",
            "| NVIDIA-SMI 460.32.03    Driver Version: 418.67       CUDA Version: 10.1     |\n",
            "|-------------------------------+----------------------+----------------------+\n",
            "| GPU  Name        Persistence-M| Bus-Id        Disp.A | Volatile Uncorr. ECC |\n",
            "| Fan  Temp  Perf  Pwr:Usage/Cap|         Memory-Usage | GPU-Util  Compute M. |\n",
            "|                               |                      |               MIG M. |\n",
            "|===============================+======================+======================|\n",
            "|   0  Tesla K80           Off  | 00000000:00:04.0 Off |                    0 |\n",
            "| N/A   34C    P8    28W / 149W |      0MiB / 11441MiB |      0%      Default |\n",
            "|                               |                      |                 ERR! |\n",
            "+-------------------------------+----------------------+----------------------+\n",
            "                                                                               \n",
            "+-----------------------------------------------------------------------------+\n",
            "| Processes:                                                                  |\n",
            "|  GPU   GI   CI        PID   Type   Process name                  GPU Memory |\n",
            "|        ID   ID                                                   Usage      |\n",
            "|=============================================================================|\n",
            "|  No running processes found                                                 |\n",
            "+-----------------------------------------------------------------------------+\n"
          ],
          "name": "stdout"
        }
      ]
    },
    {
      "cell_type": "code",
      "metadata": {
        "id": "m_JJzaDIZFms"
      },
      "source": [
        "import torch\r\n",
        "from torch import nn"
      ],
      "execution_count": 2,
      "outputs": []
    },
    {
      "cell_type": "markdown",
      "metadata": {
        "id": "ASspssf0uIzt"
      },
      "source": [
        "### Computing Devices"
      ]
    },
    {
      "cell_type": "code",
      "metadata": {
        "colab": {
          "base_uri": "https://localhost:8080/"
        },
        "id": "kJOQUQwRtDTN",
        "outputId": "f547f7d3-eed0-46f1-f6bd-2308d0a09c0a"
      },
      "source": [
        "torch.device('cpu')"
      ],
      "execution_count": 3,
      "outputs": [
        {
          "output_type": "execute_result",
          "data": {
            "text/plain": [
              "device(type='cpu')"
            ]
          },
          "metadata": {
            "tags": []
          },
          "execution_count": 3
        }
      ]
    },
    {
      "cell_type": "code",
      "metadata": {
        "colab": {
          "base_uri": "https://localhost:8080/"
        },
        "id": "mUB6CefftbTq",
        "outputId": "fc67a053-3336-423b-9331-7c9a9937ea98"
      },
      "source": [
        "torch.cuda.device('cuda')"
      ],
      "execution_count": 4,
      "outputs": [
        {
          "output_type": "execute_result",
          "data": {
            "text/plain": [
              "<torch.cuda.device at 0x7f9002fa0b00>"
            ]
          },
          "metadata": {
            "tags": []
          },
          "execution_count": 4
        }
      ]
    },
    {
      "cell_type": "code",
      "metadata": {
        "colab": {
          "base_uri": "https://localhost:8080/"
        },
        "id": "Hq3Ls38atgC5",
        "outputId": "850461c0-9501-42ea-8ac2-13f39272b5bb"
      },
      "source": [
        "torch.cuda.device('cuda:1')"
      ],
      "execution_count": 5,
      "outputs": [
        {
          "output_type": "execute_result",
          "data": {
            "text/plain": [
              "<torch.cuda.device at 0x7f9002fa0c50>"
            ]
          },
          "metadata": {
            "tags": []
          },
          "execution_count": 5
        }
      ]
    },
    {
      "cell_type": "code",
      "metadata": {
        "id": "x6CkeL9euln2"
      },
      "source": [
        "def try_gpu(i=0):  #@save\r\n",
        "    \"\"\"Return gpu(i) if exists, otherwise return cpu().\"\"\"\r\n",
        "    if torch.cuda.device_count() >= i + 1:\r\n",
        "        return torch.device(f'cuda:{i}')\r\n",
        "    return torch.device('cpu')"
      ],
      "execution_count": 6,
      "outputs": []
    },
    {
      "cell_type": "code",
      "metadata": {
        "colab": {
          "base_uri": "https://localhost:8080/"
        },
        "id": "ogbM1s50zW1v",
        "outputId": "90897e1b-d598-4ec5-8aff-c057822931e5"
      },
      "source": [
        "try_gpu()"
      ],
      "execution_count": 7,
      "outputs": [
        {
          "output_type": "execute_result",
          "data": {
            "text/plain": [
              "device(type='cuda', index=0)"
            ]
          },
          "metadata": {
            "tags": []
          },
          "execution_count": 7
        }
      ]
    },
    {
      "cell_type": "code",
      "metadata": {
        "id": "LyGuyPwMuuMD"
      },
      "source": [
        "def try_all_gpus():  #@save\r\n",
        "    \"\"\"Return all available GPUs, or [cpu(),] if no GPU exists.\"\"\"\r\n",
        "    devices = [torch.device(f'cuda:{i}')\r\n",
        "             for i in range(torch.cuda.device_count())]\r\n",
        "    return devices if devices else [torch.device('cpu')]"
      ],
      "execution_count": 8,
      "outputs": []
    },
    {
      "cell_type": "code",
      "metadata": {
        "colab": {
          "base_uri": "https://localhost:8080/"
        },
        "id": "GkPujSHyzdMW",
        "outputId": "2582ad08-3fd6-416d-9ae4-eeebcdbd29e8"
      },
      "source": [
        "try_gpu(10)"
      ],
      "execution_count": 9,
      "outputs": [
        {
          "output_type": "execute_result",
          "data": {
            "text/plain": [
              "device(type='cpu')"
            ]
          },
          "metadata": {
            "tags": []
          },
          "execution_count": 9
        }
      ]
    },
    {
      "cell_type": "code",
      "metadata": {
        "colab": {
          "base_uri": "https://localhost:8080/"
        },
        "id": "ID8LgVE5vV3y",
        "outputId": "f64e7e18-f5b9-4adc-eebb-dd4664d23360"
      },
      "source": [
        "torch.cuda.device_count()"
      ],
      "execution_count": 10,
      "outputs": [
        {
          "output_type": "execute_result",
          "data": {
            "text/plain": [
              "1"
            ]
          },
          "metadata": {
            "tags": []
          },
          "execution_count": 10
        }
      ]
    },
    {
      "cell_type": "code",
      "metadata": {
        "colab": {
          "base_uri": "https://localhost:8080/"
        },
        "id": "AqqBNQR2vf2M",
        "outputId": "f74dd68f-1ca1-4c36-d2f2-35f38e0d53c6"
      },
      "source": [
        "try_all_gpus()"
      ],
      "execution_count": 11,
      "outputs": [
        {
          "output_type": "execute_result",
          "data": {
            "text/plain": [
              "[device(type='cuda', index=0)]"
            ]
          },
          "metadata": {
            "tags": []
          },
          "execution_count": 11
        }
      ]
    },
    {
      "cell_type": "markdown",
      "metadata": {
        "id": "bKPCjzTUvyGo"
      },
      "source": [
        "### Storage on the GPU"
      ]
    },
    {
      "cell_type": "code",
      "metadata": {
        "id": "qjPhCP65v_iV"
      },
      "source": [
        "import time"
      ],
      "execution_count": 12,
      "outputs": []
    },
    {
      "cell_type": "code",
      "metadata": {
        "colab": {
          "base_uri": "https://localhost:8080/"
        },
        "id": "v0exq_kOvzPw",
        "outputId": "e3807aa5-ddb0-415a-ba75-ff84f7d2412a"
      },
      "source": [
        "%%time\r\n",
        "X = torch.ones(10000, 10000, device=try_gpu())\r\n",
        "Y = torch.rand(10000, 10000, device=try_gpu(1))"
      ],
      "execution_count": 13,
      "outputs": [
        {
          "output_type": "stream",
          "text": [
            "CPU times: user 2.31 s, sys: 1.09 s, total: 3.4 s\n",
            "Wall time: 9.26 s\n"
          ],
          "name": "stdout"
        }
      ]
    },
    {
      "cell_type": "markdown",
      "metadata": {
        "id": "AB4ZWaSZwjnu"
      },
      "source": [
        "### Neural Networks and GPUs"
      ]
    },
    {
      "cell_type": "code",
      "metadata": {
        "id": "I4gE5nidwk5R"
      },
      "source": [
        "net = nn.Sequential(nn.Linear(10000, 1))\r\n",
        "net = net.to(device=try_gpu())"
      ],
      "execution_count": 14,
      "outputs": []
    },
    {
      "cell_type": "code",
      "metadata": {
        "colab": {
          "base_uri": "https://localhost:8080/"
        },
        "id": "ltwxS4q1wyS5",
        "outputId": "132a59f3-bcdd-459b-9a9f-cdce5a291b02"
      },
      "source": [
        "net(X)"
      ],
      "execution_count": 15,
      "outputs": [
        {
          "output_type": "execute_result",
          "data": {
            "text/plain": [
              "tensor([[0.1743],\n",
              "        [0.1743],\n",
              "        [0.1743],\n",
              "        ...,\n",
              "        [0.1743],\n",
              "        [0.1743],\n",
              "        [0.1743]], device='cuda:0', grad_fn=<AddmmBackward>)"
            ]
          },
          "metadata": {
            "tags": []
          },
          "execution_count": 15
        }
      ]
    },
    {
      "cell_type": "code",
      "metadata": {
        "colab": {
          "base_uri": "https://localhost:8080/"
        },
        "id": "rLcB5djnwteK",
        "outputId": "23ae5007-6681-4391-e1c3-91ca9a130082"
      },
      "source": [
        "## Let us confirm that the model parameters are stored on the same GPU.\r\n",
        "net[0].weight.data.device"
      ],
      "execution_count": 16,
      "outputs": [
        {
          "output_type": "execute_result",
          "data": {
            "text/plain": [
              "device(type='cuda', index=0)"
            ]
          },
          "metadata": {
            "tags": []
          },
          "execution_count": 16
        }
      ]
    }
  ]
}