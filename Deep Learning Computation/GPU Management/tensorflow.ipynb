{
  "nbformat": 4,
  "nbformat_minor": 0,
  "metadata": {
    "colab": {
      "name": "Untitled23.ipynb",
      "provenance": [],
      "authorship_tag": "ABX9TyMCwbFbYsKq9wm1XZgu+OIg",
      "include_colab_link": true
    },
    "kernelspec": {
      "display_name": "Python 3",
      "name": "python3"
    },
    "accelerator": "GPU"
  },
  "cells": [
    {
      "cell_type": "markdown",
      "metadata": {
        "id": "view-in-github",
        "colab_type": "text"
      },
      "source": [
        "<a href=\"https://colab.research.google.com/github/anubhavgupta1/Dive-Into-Deep-Learning/blob/main/Deep%20Learning%20Computation/GPU%20Management/tensorflow.ipynb\" target=\"_parent\"><img src=\"https://colab.research.google.com/assets/colab-badge.svg\" alt=\"Open In Colab\"/></a>"
      ]
    },
    {
      "cell_type": "markdown",
      "metadata": {
        "id": "QoJIK_HF-u6P"
      },
      "source": [
        "#  Deep Learning Computation"
      ]
    },
    {
      "cell_type": "code",
      "metadata": {
        "colab": {
          "base_uri": "https://localhost:8080/"
        },
        "id": "pg6dobGdtRWi",
        "outputId": "08a84bff-d03c-41b8-ac34-89b7f477b9cd"
      },
      "source": [
        "!nvidia-smi"
      ],
      "execution_count": 1,
      "outputs": [
        {
          "output_type": "stream",
          "text": [
            "Tue Jan 26 13:19:13 2021       \n",
            "+-----------------------------------------------------------------------------+\n",
            "| NVIDIA-SMI 460.32.03    Driver Version: 418.67       CUDA Version: 10.1     |\n",
            "|-------------------------------+----------------------+----------------------+\n",
            "| GPU  Name        Persistence-M| Bus-Id        Disp.A | Volatile Uncorr. ECC |\n",
            "| Fan  Temp  Perf  Pwr:Usage/Cap|         Memory-Usage | GPU-Util  Compute M. |\n",
            "|                               |                      |               MIG M. |\n",
            "|===============================+======================+======================|\n",
            "|   0  Tesla K80           Off  | 00000000:00:04.0 Off |                    0 |\n",
            "| N/A   37C    P8    27W / 149W |      0MiB / 11441MiB |      0%      Default |\n",
            "|                               |                      |                 ERR! |\n",
            "+-------------------------------+----------------------+----------------------+\n",
            "                                                                               \n",
            "+-----------------------------------------------------------------------------+\n",
            "| Processes:                                                                  |\n",
            "|  GPU   GI   CI        PID   Type   Process name                  GPU Memory |\n",
            "|        ID   ID                                                   Usage      |\n",
            "|=============================================================================|\n",
            "|  No running processes found                                                 |\n",
            "+-----------------------------------------------------------------------------+\n"
          ],
          "name": "stdout"
        }
      ]
    },
    {
      "cell_type": "code",
      "metadata": {
        "id": "m_JJzaDIZFms"
      },
      "source": [
        "import tensorflow as tf"
      ],
      "execution_count": 2,
      "outputs": []
    },
    {
      "cell_type": "markdown",
      "metadata": {
        "id": "ASspssf0uIzt"
      },
      "source": [
        "### Computing Devices"
      ]
    },
    {
      "cell_type": "code",
      "metadata": {
        "colab": {
          "base_uri": "https://localhost:8080/"
        },
        "id": "kJOQUQwRtDTN",
        "outputId": "07d555a3-1ee6-4522-9548-4b4dce0bff6f"
      },
      "source": [
        "tf.device('/CPU:0'), tf.device('/GPU:0'), tf.device('/GPU:1')"
      ],
      "execution_count": 3,
      "outputs": [
        {
          "output_type": "execute_result",
          "data": {
            "text/plain": [
              "(<tensorflow.python.eager.context._EagerDeviceContext at 0x7f1d8d3b0448>,\n",
              " <tensorflow.python.eager.context._EagerDeviceContext at 0x7f1d8d3b04c8>,\n",
              " <tensorflow.python.eager.context._EagerDeviceContext at 0x7f1d8d3b0508>)"
            ]
          },
          "metadata": {
            "tags": []
          },
          "execution_count": 3
        }
      ]
    },
    {
      "cell_type": "code",
      "metadata": {
        "id": "x6CkeL9euln2"
      },
      "source": [
        "def try_gpu(i=0):  #@save\r\n",
        "    \"\"\"Return gpu(i) if exists, otherwise return cpu().\"\"\"\r\n",
        "    if len(tf.config.experimental.list_physical_devices('GPU')) >= i + 1:\r\n",
        "        return tf.device(f'/GPU:{i}')\r\n",
        "    return tf.device('/CPU:0')"
      ],
      "execution_count": 4,
      "outputs": []
    },
    {
      "cell_type": "code",
      "metadata": {
        "id": "cf-hvJms1fJY"
      },
      "source": [
        "def try_all_gpus():  #@save\r\n",
        "    \"\"\"Return all available GPUs, or [cpu(),] if no GPU exists.\"\"\"\r\n",
        "    num_gpus = len(tf.config.experimental.list_physical_devices('GPU'))\r\n",
        "    devices = [tf.device(f'/GPU:{i}') for i in range(num_gpus)]\r\n",
        "    return devices if devices else [tf.device('/CPU:0')]"
      ],
      "execution_count": 5,
      "outputs": []
    },
    {
      "cell_type": "code",
      "metadata": {
        "colab": {
          "base_uri": "https://localhost:8080/"
        },
        "id": "ogbM1s50zW1v",
        "outputId": "b4b40404-9b3c-4354-d5e3-d9674898b081"
      },
      "source": [
        "try_gpu(), try_gpu(10), try_all_gpus()"
      ],
      "execution_count": 6,
      "outputs": [
        {
          "output_type": "execute_result",
          "data": {
            "text/plain": [
              "(<tensorflow.python.eager.context._EagerDeviceContext at 0x7f1d8d3b7108>,\n",
              " <tensorflow.python.eager.context._EagerDeviceContext at 0x7f1d8d3b70c8>,\n",
              " [<tensorflow.python.eager.context._EagerDeviceContext at 0x7f1d8d3a8788>])"
            ]
          },
          "metadata": {
            "tags": []
          },
          "execution_count": 6
        }
      ]
    },
    {
      "cell_type": "code",
      "metadata": {
        "colab": {
          "base_uri": "https://localhost:8080/"
        },
        "id": "ID8LgVE5vV3y",
        "outputId": "782b5bb6-733d-4cef-f816-d7db559c7bdf"
      },
      "source": [
        "len(tf.config.experimental.list_physical_devices('GPU'))"
      ],
      "execution_count": 7,
      "outputs": [
        {
          "output_type": "execute_result",
          "data": {
            "text/plain": [
              "1"
            ]
          },
          "metadata": {
            "tags": []
          },
          "execution_count": 7
        }
      ]
    },
    {
      "cell_type": "markdown",
      "metadata": {
        "id": "bKPCjzTUvyGo"
      },
      "source": [
        "### Storage on the GPU"
      ]
    },
    {
      "cell_type": "code",
      "metadata": {
        "id": "qjPhCP65v_iV"
      },
      "source": [
        "import time"
      ],
      "execution_count": 8,
      "outputs": []
    },
    {
      "cell_type": "code",
      "metadata": {
        "colab": {
          "base_uri": "https://localhost:8080/"
        },
        "id": "v0exq_kOvzPw",
        "outputId": "5fd615c0-8e1e-427d-8781-066fc4105804"
      },
      "source": [
        "%%time\r\n",
        "with try_gpu():\r\n",
        "    X = tf.ones((10000, 10000))\r\n",
        "    Y = tf.random.uniform((10000, 10000))"
      ],
      "execution_count": 9,
      "outputs": [
        {
          "output_type": "stream",
          "text": [
            "CPU times: user 3.85 ms, sys: 20.1 ms, total: 23.9 ms\n",
            "Wall time: 41.9 ms\n"
          ],
          "name": "stdout"
        }
      ]
    },
    {
      "cell_type": "markdown",
      "metadata": {
        "id": "AB4ZWaSZwjnu"
      },
      "source": [
        "### Neural Networks and GPUs"
      ]
    },
    {
      "cell_type": "code",
      "metadata": {
        "colab": {
          "base_uri": "https://localhost:8080/"
        },
        "id": "I4gE5nidwk5R",
        "outputId": "676a376f-803c-4810-8d2e-c912a9afcae0"
      },
      "source": [
        "strategy = tf.distribute.MirroredStrategy()\r\n",
        "with strategy.scope():\r\n",
        "    net = tf.keras.models.Sequential([\r\n",
        "        tf.keras.layers.Dense(1)])"
      ],
      "execution_count": 10,
      "outputs": [
        {
          "output_type": "stream",
          "text": [
            "INFO:tensorflow:Using MirroredStrategy with devices ('/job:localhost/replica:0/task:0/device:GPU:0',)\n"
          ],
          "name": "stdout"
        }
      ]
    },
    {
      "cell_type": "code",
      "metadata": {
        "colab": {
          "base_uri": "https://localhost:8080/"
        },
        "id": "ltwxS4q1wyS5",
        "outputId": "bcb223fb-c475-4a79-b17d-f1ec62f9f276"
      },
      "source": [
        "net(X)"
      ],
      "execution_count": 11,
      "outputs": [
        {
          "output_type": "execute_result",
          "data": {
            "text/plain": [
              "<tf.Tensor: shape=(10000, 1), dtype=float32, numpy=\n",
              "array([[1.6568325],\n",
              "       [1.6568325],\n",
              "       [1.6568325],\n",
              "       ...,\n",
              "       [1.6568325],\n",
              "       [1.6568325],\n",
              "       [1.6568325]], dtype=float32)>"
            ]
          },
          "metadata": {
            "tags": []
          },
          "execution_count": 11
        }
      ]
    },
    {
      "cell_type": "code",
      "metadata": {
        "colab": {
          "base_uri": "https://localhost:8080/"
        },
        "id": "rLcB5djnwteK",
        "outputId": "cc4c8414-e2ba-44f5-9449-b11e34fec723"
      },
      "source": [
        "## Let us confirm that the model parameters are stored on the same GPU.\r\n",
        "net.layers[0].weights[0].device, net.layers[0].weights[1].device"
      ],
      "execution_count": 12,
      "outputs": [
        {
          "output_type": "execute_result",
          "data": {
            "text/plain": [
              "('/job:localhost/replica:0/task:0/device:GPU:0',\n",
              " '/job:localhost/replica:0/task:0/device:GPU:0')"
            ]
          },
          "metadata": {
            "tags": []
          },
          "execution_count": 12
        }
      ]
    }
  ]
}