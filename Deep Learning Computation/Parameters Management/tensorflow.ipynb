{
  "nbformat": 4,
  "nbformat_minor": 0,
  "metadata": {
    "colab": {
      "name": "Untitled23.ipynb",
      "provenance": [],
      "authorship_tag": "ABX9TyPnnWBzUhYzGn3GeZhShdQy",
      "include_colab_link": true
    },
    "kernelspec": {
      "display_name": "Python 3",
      "name": "python3"
    }
  },
  "cells": [
    {
      "cell_type": "markdown",
      "metadata": {
        "id": "view-in-github",
        "colab_type": "text"
      },
      "source": [
        "<a href=\"https://colab.research.google.com/github/anubhavgupta1/Dive-Into-Deep-Learning/blob/main/Deep%20Learning%20Computation/Parameters%20Management/tensorflow.ipynb\" target=\"_parent\"><img src=\"https://colab.research.google.com/assets/colab-badge.svg\" alt=\"Open In Colab\"/></a>"
      ]
    },
    {
      "cell_type": "markdown",
      "metadata": {
        "id": "QoJIK_HF-u6P"
      },
      "source": [
        "#  Deep Learning Computation"
      ]
    },
    {
      "cell_type": "code",
      "metadata": {
        "id": "m_JJzaDIZFms"
      },
      "source": [
        "import tensorflow as tf"
      ],
      "execution_count": 1,
      "outputs": []
    },
    {
      "cell_type": "code",
      "metadata": {
        "id": "fBGptnQt3x2t"
      },
      "source": [
        "X = tf.random.uniform((2, 4))"
      ],
      "execution_count": 2,
      "outputs": []
    },
    {
      "cell_type": "markdown",
      "metadata": {
        "id": "O8qWyE8G2_dV"
      },
      "source": [
        "### Model"
      ]
    },
    {
      "cell_type": "code",
      "metadata": {
        "id": "Yvx36wV-29qj"
      },
      "source": [
        "net = tf.keras.models.Sequential([\r\n",
        "    tf.keras.layers.Flatten(),\r\n",
        "    tf.keras.layers.Dense(4, activation=tf.nn.relu),\r\n",
        "    tf.keras.layers.Dense(1),\r\n",
        "])"
      ],
      "execution_count": 3,
      "outputs": []
    },
    {
      "cell_type": "code",
      "metadata": {
        "colab": {
          "base_uri": "https://localhost:8080/"
        },
        "id": "rriKnh_I3Wvt",
        "outputId": "00d08314-feb5-492d-e5dc-c4efacb1e6c7"
      },
      "source": [
        "print(net(X))"
      ],
      "execution_count": 4,
      "outputs": [
        {
          "output_type": "stream",
          "text": [
            "tf.Tensor(\n",
            "[[0.06459555]\n",
            " [0.0595221 ]], shape=(2, 1), dtype=float32)\n"
          ],
          "name": "stdout"
        }
      ]
    },
    {
      "cell_type": "markdown",
      "metadata": {
        "id": "HFPjliuzUf9A"
      },
      "source": [
        "###  Parameter Access"
      ]
    },
    {
      "cell_type": "code",
      "metadata": {
        "colab": {
          "base_uri": "https://localhost:8080/"
        },
        "id": "sz6F3qQFUinf",
        "outputId": "ad7dae6e-5497-456e-8607-841f54bf1cba"
      },
      "source": [
        "print(net.layers[0].weights)"
      ],
      "execution_count": 5,
      "outputs": [
        {
          "output_type": "stream",
          "text": [
            "[]\n"
          ],
          "name": "stdout"
        }
      ]
    },
    {
      "cell_type": "code",
      "metadata": {
        "colab": {
          "base_uri": "https://localhost:8080/"
        },
        "id": "9zOrgn9QkrmB",
        "outputId": "d5a00778-454d-4082-9105-2f4895e29661"
      },
      "source": [
        "print(net.layers[1].weights)"
      ],
      "execution_count": 6,
      "outputs": [
        {
          "output_type": "stream",
          "text": [
            "[<tf.Variable 'dense/kernel:0' shape=(4, 4) dtype=float32, numpy=\n",
            "array([[-0.47655138, -0.7652339 ,  0.6957366 , -0.2765357 ],\n",
            "       [-0.79900473, -0.32743424,  0.80454344,  0.673377  ],\n",
            "       [ 0.613921  , -0.50493014,  0.27250236, -0.07820815],\n",
            "       [-0.27871585, -0.48289123,  0.7165231 , -0.48762575]],\n",
            "      dtype=float32)>, <tf.Variable 'dense/bias:0' shape=(4,) dtype=float32, numpy=array([0., 0., 0., 0.], dtype=float32)>]\n"
          ],
          "name": "stdout"
        }
      ]
    },
    {
      "cell_type": "code",
      "metadata": {
        "colab": {
          "base_uri": "https://localhost:8080/"
        },
        "id": "1LmPtBbhktPS",
        "outputId": "12197736-e97d-49fa-8f59-3d49c1477e4b"
      },
      "source": [
        "print(net.layers[2].weights)"
      ],
      "execution_count": 7,
      "outputs": [
        {
          "output_type": "stream",
          "text": [
            "[<tf.Variable 'dense_1/kernel:0' shape=(4, 1) dtype=float32, numpy=\n",
            "array([[-0.31613576],\n",
            "       [ 0.18145597],\n",
            "       [ 0.04773796],\n",
            "       [-0.02514958]], dtype=float32)>, <tf.Variable 'dense_1/bias:0' shape=(1,) dtype=float32, numpy=array([0.], dtype=float32)>]\n"
          ],
          "name": "stdout"
        }
      ]
    },
    {
      "cell_type": "markdown",
      "metadata": {
        "id": "EsGWXe7jUzeP"
      },
      "source": [
        "### Targeted Parameters"
      ]
    },
    {
      "cell_type": "code",
      "metadata": {
        "colab": {
          "base_uri": "https://localhost:8080/"
        },
        "id": "d5bMTjWEU1NX",
        "outputId": "93de6447-67de-4223-fef8-ea6a083bc839"
      },
      "source": [
        "print(type(net.layers[2].weights[1]))"
      ],
      "execution_count": 8,
      "outputs": [
        {
          "output_type": "stream",
          "text": [
            "<class 'tensorflow.python.ops.resource_variable_ops.ResourceVariable'>\n"
          ],
          "name": "stdout"
        }
      ]
    },
    {
      "cell_type": "code",
      "metadata": {
        "colab": {
          "base_uri": "https://localhost:8080/"
        },
        "id": "3QagwdF6U-Dp",
        "outputId": "bc37ffcf-276f-4995-9a2f-f42b0d39f474"
      },
      "source": [
        "print(net.layers[1].weights[1])\r\n",
        "print(tf.convert_to_tensor(net.layers[1].weights[1]))"
      ],
      "execution_count": 9,
      "outputs": [
        {
          "output_type": "stream",
          "text": [
            "<tf.Variable 'dense/bias:0' shape=(4,) dtype=float32, numpy=array([0., 0., 0., 0.], dtype=float32)>\n",
            "tf.Tensor([0. 0. 0. 0.], shape=(4,), dtype=float32)\n"
          ],
          "name": "stdout"
        }
      ]
    },
    {
      "cell_type": "code",
      "metadata": {
        "colab": {
          "base_uri": "https://localhost:8080/"
        },
        "id": "iQm5HA03VBHK",
        "outputId": "d6d87197-9ae5-4142-e116-e44c991e8af2"
      },
      "source": [
        "print(net.layers[2].weights[1])\r\n",
        "print(tf.convert_to_tensor(net.layers[2].weights[1]))"
      ],
      "execution_count": 10,
      "outputs": [
        {
          "output_type": "stream",
          "text": [
            "<tf.Variable 'dense_1/bias:0' shape=(1,) dtype=float32, numpy=array([0.], dtype=float32)>\n",
            "tf.Tensor([0.], shape=(1,), dtype=float32)\n"
          ],
          "name": "stdout"
        }
      ]
    },
    {
      "cell_type": "markdown",
      "metadata": {
        "id": "ApykaOtvVMrC"
      },
      "source": [
        "### All Parameters at Once"
      ]
    },
    {
      "cell_type": "code",
      "metadata": {
        "colab": {
          "base_uri": "https://localhost:8080/"
        },
        "id": "ULOzK3eeVO-S",
        "outputId": "2f5aecdc-a14d-4dc3-ca5a-06c19dc54e2f"
      },
      "source": [
        "print(net.layers[1].weights)"
      ],
      "execution_count": 11,
      "outputs": [
        {
          "output_type": "stream",
          "text": [
            "[<tf.Variable 'dense/kernel:0' shape=(4, 4) dtype=float32, numpy=\n",
            "array([[-0.47655138, -0.7652339 ,  0.6957366 , -0.2765357 ],\n",
            "       [-0.79900473, -0.32743424,  0.80454344,  0.673377  ],\n",
            "       [ 0.613921  , -0.50493014,  0.27250236, -0.07820815],\n",
            "       [-0.27871585, -0.48289123,  0.7165231 , -0.48762575]],\n",
            "      dtype=float32)>, <tf.Variable 'dense/bias:0' shape=(4,) dtype=float32, numpy=array([0., 0., 0., 0.], dtype=float32)>]\n"
          ],
          "name": "stdout"
        }
      ]
    },
    {
      "cell_type": "code",
      "metadata": {
        "colab": {
          "base_uri": "https://localhost:8080/"
        },
        "id": "nxmOn3isVb9M",
        "outputId": "ca97f857-95fb-4405-bf55-4cee83b4291f"
      },
      "source": [
        "print(net.get_weights())"
      ],
      "execution_count": 12,
      "outputs": [
        {
          "output_type": "stream",
          "text": [
            "[array([[-0.47655138, -0.7652339 ,  0.6957366 , -0.2765357 ],\n",
            "       [-0.79900473, -0.32743424,  0.80454344,  0.673377  ],\n",
            "       [ 0.613921  , -0.50493014,  0.27250236, -0.07820815],\n",
            "       [-0.27871585, -0.48289123,  0.7165231 , -0.48762575]],\n",
            "      dtype=float32), array([0., 0., 0., 0.], dtype=float32), array([[-0.31613576],\n",
            "       [ 0.18145597],\n",
            "       [ 0.04773796],\n",
            "       [-0.02514958]], dtype=float32), array([0.], dtype=float32)]\n"
          ],
          "name": "stdout"
        }
      ]
    },
    {
      "cell_type": "code",
      "metadata": {
        "colab": {
          "base_uri": "https://localhost:8080/"
        },
        "id": "JVtUd-eDV3ow",
        "outputId": "c4f240b1-1aaf-4f8e-9186-42f6b0436990"
      },
      "source": [
        "print(net.get_weights()[1])"
      ],
      "execution_count": 13,
      "outputs": [
        {
          "output_type": "stream",
          "text": [
            "[0. 0. 0. 0.]\n"
          ],
          "name": "stdout"
        }
      ]
    },
    {
      "cell_type": "markdown",
      "metadata": {
        "id": "mvSG1QILWfof"
      },
      "source": [
        "### Parameter Initialization"
      ]
    },
    {
      "cell_type": "code",
      "metadata": {
        "id": "Xgylba03Wh8-"
      },
      "source": [
        "net = tf.keras.models.Sequential([\r\n",
        "    tf.keras.layers.Flatten(),\r\n",
        "    tf.keras.layers.Dense(\r\n",
        "        4, activation=tf.nn.relu,\r\n",
        "        kernel_initializer=tf.random_normal_initializer(mean=0, stddev=0.01),\r\n",
        "        bias_initializer=tf.zeros_initializer()),\r\n",
        "    tf.keras.layers.Dense(1)])"
      ],
      "execution_count": 14,
      "outputs": []
    },
    {
      "cell_type": "code",
      "metadata": {
        "colab": {
          "base_uri": "https://localhost:8080/"
        },
        "id": "tKeGsZ_vesmi",
        "outputId": "4d93df50-bc2b-4b9f-b2aa-7ac8877c356b"
      },
      "source": [
        "net(X)"
      ],
      "execution_count": 15,
      "outputs": [
        {
          "output_type": "execute_result",
          "data": {
            "text/plain": [
              "<tf.Tensor: shape=(2, 1), dtype=float32, numpy=\n",
              "array([[-0.02344303],\n",
              "       [-0.0155153 ]], dtype=float32)>"
            ]
          },
          "metadata": {
            "tags": []
          },
          "execution_count": 15
        }
      ]
    },
    {
      "cell_type": "code",
      "metadata": {
        "colab": {
          "base_uri": "https://localhost:8080/"
        },
        "id": "_xrbnsbvezBZ",
        "outputId": "57639799-2441-4d02-e2f3-4b16b132d746"
      },
      "source": [
        "print(net.weights[0])"
      ],
      "execution_count": 16,
      "outputs": [
        {
          "output_type": "stream",
          "text": [
            "<tf.Variable 'dense_2/kernel:0' shape=(4, 4) dtype=float32, numpy=\n",
            "array([[ 0.02132052,  0.00890239,  0.00287405,  0.00862987],\n",
            "       [-0.00878582,  0.01448512,  0.01680341, -0.0047634 ],\n",
            "       [ 0.00066721, -0.01237047,  0.00110255,  0.01364356],\n",
            "       [ 0.00495838, -0.00505607,  0.01105706, -0.00502033]],\n",
            "      dtype=float32)>\n"
          ],
          "name": "stdout"
        }
      ]
    },
    {
      "cell_type": "code",
      "metadata": {
        "colab": {
          "base_uri": "https://localhost:8080/"
        },
        "id": "5bYD8Wwll2_1",
        "outputId": "69a05c85-a122-473c-dd72-b0c82fc85f2a"
      },
      "source": [
        "print(net.weights[1])"
      ],
      "execution_count": 17,
      "outputs": [
        {
          "output_type": "stream",
          "text": [
            "<tf.Variable 'dense_2/bias:0' shape=(4,) dtype=float32, numpy=array([0., 0., 0., 0.], dtype=float32)>\n"
          ],
          "name": "stdout"
        }
      ]
    },
    {
      "cell_type": "code",
      "metadata": {
        "id": "tO5q2DgUe4mS"
      },
      "source": [
        "net = tf.keras.models.Sequential([\r\n",
        "    tf.keras.layers.Flatten(),\r\n",
        "    tf.keras.layers.Dense(\r\n",
        "        4, activation=tf.nn.relu,\r\n",
        "        kernel_initializer=tf.keras.initializers.Constant(1),\r\n",
        "        bias_initializer=tf.zeros_initializer()),\r\n",
        "    tf.keras.layers.Dense(1),\r\n",
        "])\r\n"
      ],
      "execution_count": 18,
      "outputs": []
    },
    {
      "cell_type": "code",
      "metadata": {
        "colab": {
          "base_uri": "https://localhost:8080/"
        },
        "id": "cxAYowa-fBPv",
        "outputId": "3dbfbcb5-24dc-44d3-dc1c-892861e21db9"
      },
      "source": [
        "net(X)\r\n",
        "print(net.weights[0])"
      ],
      "execution_count": 19,
      "outputs": [
        {
          "output_type": "stream",
          "text": [
            "<tf.Variable 'dense_4/kernel:0' shape=(4, 4) dtype=float32, numpy=\n",
            "array([[1., 1., 1., 1.],\n",
            "       [1., 1., 1., 1.],\n",
            "       [1., 1., 1., 1.],\n",
            "       [1., 1., 1., 1.]], dtype=float32)>\n"
          ],
          "name": "stdout"
        }
      ]
    },
    {
      "cell_type": "code",
      "metadata": {
        "colab": {
          "base_uri": "https://localhost:8080/"
        },
        "id": "XiUeia6ofPH2",
        "outputId": "66e22353-08bb-463a-bb44-e15524b485eb"
      },
      "source": [
        "print(net.weights[1])"
      ],
      "execution_count": 20,
      "outputs": [
        {
          "output_type": "stream",
          "text": [
            "<tf.Variable 'dense_4/bias:0' shape=(4,) dtype=float32, numpy=array([0., 0., 0., 0.], dtype=float32)>\n"
          ],
          "name": "stdout"
        }
      ]
    },
    {
      "cell_type": "code",
      "metadata": {
        "id": "rm0T_2T5jOPE"
      },
      "source": [
        "net = tf.keras.models.Sequential([\r\n",
        "    tf.keras.layers.Flatten(),\r\n",
        "    tf.keras.layers.Dense(\r\n",
        "        4,\r\n",
        "        activation=tf.nn.relu,\r\n",
        "        kernel_initializer=tf.keras.initializers.GlorotUniform()),\r\n",
        "    tf.keras.layers.Dense(\r\n",
        "        1, kernel_initializer=tf.keras.initializers.Constant(1)),\r\n",
        "])"
      ],
      "execution_count": 21,
      "outputs": []
    },
    {
      "cell_type": "code",
      "metadata": {
        "colab": {
          "base_uri": "https://localhost:8080/"
        },
        "id": "dgX-7EkWjLvs",
        "outputId": "2891e4f1-4e51-4b32-a216-591281963525"
      },
      "source": [
        "net(X)\r\n",
        "print(net.layers[1].weights[0])\r\n",
        "print(net.layers[2].weights[0])"
      ],
      "execution_count": 22,
      "outputs": [
        {
          "output_type": "stream",
          "text": [
            "<tf.Variable 'dense_6/kernel:0' shape=(4, 4) dtype=float32, numpy=\n",
            "array([[ 0.76686543,  0.18859547, -0.48563614,  0.7944835 ],\n",
            "       [ 0.44747657,  0.03430814, -0.666409  ,  0.06782383],\n",
            "       [ 0.6992405 , -0.2738868 ,  0.33867973, -0.1759783 ],\n",
            "       [ 0.0094434 ,  0.6708191 , -0.2537601 ,  0.8048776 ]],\n",
            "      dtype=float32)>\n",
            "<tf.Variable 'dense_7/kernel:0' shape=(4, 1) dtype=float32, numpy=\n",
            "array([[1.],\n",
            "       [1.],\n",
            "       [1.],\n",
            "       [1.]], dtype=float32)>\n"
          ],
          "name": "stdout"
        }
      ]
    }
  ]
}