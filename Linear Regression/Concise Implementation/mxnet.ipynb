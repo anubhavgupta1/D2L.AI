{
  "nbformat": 4,
  "nbformat_minor": 0,
  "metadata": {
    "colab": {
      "name": "Untitled23.ipynb",
      "provenance": [],
      "authorship_tag": "ABX9TyPhloHA7N0dd74sG4Xbkfw5",
      "include_colab_link": true
    },
    "kernelspec": {
      "display_name": "Python 3",
      "name": "python3"
    }
  },
  "cells": [
    {
      "cell_type": "markdown",
      "metadata": {
        "id": "view-in-github",
        "colab_type": "text"
      },
      "source": [
        "<a href=\"https://colab.research.google.com/github/anubhavgupta1/Dive-Into-Deep-Learning/blob/main/Linear%20Regression/Concise%20Implementation/mxnet.ipynb\" target=\"_parent\"><img src=\"https://colab.research.google.com/assets/colab-badge.svg\" alt=\"Open In Colab\"/></a>"
      ]
    },
    {
      "cell_type": "markdown",
      "metadata": {
        "id": "QoJIK_HF-u6P"
      },
      "source": [
        "# Linear Regression"
      ]
    },
    {
      "cell_type": "code",
      "metadata": {
        "id": "mwaQU-mAgVIJ",
        "colab": {
          "base_uri": "https://localhost:8080/"
        },
        "outputId": "7bd41de9-498e-4bb0-c7b4-2614ca95405e"
      },
      "source": [
        "!pip install d2l==0.16.1\r\n",
        "!pip install -U mxnet-cu101==1.7.0"
      ],
      "execution_count": 1,
      "outputs": [
        {
          "output_type": "stream",
          "text": [
            "Successfully installed graphviz-0.8.4 mxnet-cu101-1.7.0\n"
          ],
          "name": "stdout"
        }
      ]
    },
    {
      "cell_type": "code",
      "metadata": {
        "id": "xGbs-UQD23MI"
      },
      "source": [
        "from d2l import mxnet as d2l\r\n",
        "from mxnet import autograd, gluon, np, npx\r\n",
        "npx.set_np()"
      ],
      "execution_count": 2,
      "outputs": []
    },
    {
      "cell_type": "markdown",
      "metadata": {
        "id": "mrxNJBzKslNK"
      },
      "source": [
        "### Generating the Dataset"
      ]
    },
    {
      "cell_type": "code",
      "metadata": {
        "id": "PNFahaO6xW58"
      },
      "source": [
        "true_w = np.array([2, -3.4])\r\n",
        "true_b = 4.2\r\n",
        "features, labels = d2l.synthetic_data(true_w, true_b, 1000)"
      ],
      "execution_count": 3,
      "outputs": []
    },
    {
      "cell_type": "markdown",
      "metadata": {
        "id": "GWo3XLPZyM79"
      },
      "source": [
        "### Reading the Dataset"
      ]
    },
    {
      "cell_type": "code",
      "metadata": {
        "id": "QA9Z55WfoNws"
      },
      "source": [
        "def load_array(data_arrays, batch_size, is_train=True):  #@save\r\n",
        "    \"\"\"Construct a Gluon data iterator.\"\"\"\r\n",
        "    dataset = gluon.data.ArrayDataset(*data_arrays)\r\n",
        "    return gluon.data.DataLoader(dataset, batch_size, shuffle=is_train)"
      ],
      "execution_count": 4,
      "outputs": []
    },
    {
      "cell_type": "code",
      "metadata": {
        "id": "Lo_FWhJbyOPj"
      },
      "source": [
        "batch_size = 10\r\n",
        "data_iter = load_array((features, labels), batch_size)"
      ],
      "execution_count": 5,
      "outputs": []
    },
    {
      "cell_type": "code",
      "metadata": {
        "colab": {
          "base_uri": "https://localhost:8080/"
        },
        "id": "7jyUhskVyd92",
        "outputId": "4c714fc3-49bf-478a-ca1d-bd852e99da9b"
      },
      "source": [
        "next(iter(data_iter))"
      ],
      "execution_count": 6,
      "outputs": [
        {
          "output_type": "execute_result",
          "data": {
            "text/plain": [
              "[array([[ 0.55241627,  0.21463516],\n",
              "        [-0.20801921, -0.54877394],\n",
              "        [-0.71534044, -0.45822975],\n",
              "        [ 0.34593368, -0.7567092 ],\n",
              "        [-0.05871473,  0.60052294],\n",
              "        [-0.55203336, -0.6159344 ],\n",
              "        [ 0.43054336,  0.8985137 ],\n",
              "        [ 0.62162733,  0.3694969 ],\n",
              "        [ 0.24499686, -1.6080191 ],\n",
              "        [-0.15916686,  0.8726678 ]]), array([[ 4.603484 ],\n",
              "        [ 5.656826 ],\n",
              "        [ 4.3228054],\n",
              "        [ 7.478742 ],\n",
              "        [ 2.034631 ],\n",
              "        [ 5.2043667],\n",
              "        [ 1.9865699],\n",
              "        [ 4.1955047],\n",
              "        [10.171097 ],\n",
              "        [ 0.9134456]])]"
            ]
          },
          "metadata": {
            "tags": []
          },
          "execution_count": 6
        }
      ]
    },
    {
      "cell_type": "markdown",
      "metadata": {
        "id": "PKMgHwkTyv9Q"
      },
      "source": [
        "### Defining the Model"
      ]
    },
    {
      "cell_type": "code",
      "metadata": {
        "id": "pBmu6BoUyxV2"
      },
      "source": [
        "# `nn` is an abbreviation for neural networks\r\n",
        "from mxnet.gluon import nn\r\n",
        "net = nn.Sequential()\r\n",
        "net.add(nn.Dense(1))"
      ],
      "execution_count": 7,
      "outputs": []
    },
    {
      "cell_type": "markdown",
      "metadata": {
        "id": "9K-uX3Kryplf"
      },
      "source": [
        "###Initializing Model Parameters"
      ]
    },
    {
      "cell_type": "code",
      "metadata": {
        "id": "d6oP-CHwyq1X"
      },
      "source": [
        "from mxnet import init\r\n",
        "net.initialize(init.Normal(sigma=0.01))"
      ],
      "execution_count": 8,
      "outputs": []
    },
    {
      "cell_type": "markdown",
      "metadata": {
        "id": "tJdKyKW7zDUi"
      },
      "source": [
        "### Defining the Loss Function"
      ]
    },
    {
      "cell_type": "code",
      "metadata": {
        "id": "QDnOUCiIy9dc"
      },
      "source": [
        "loss = gluon.loss.L2Loss()"
      ],
      "execution_count": 9,
      "outputs": []
    },
    {
      "cell_type": "markdown",
      "metadata": {
        "id": "TpCN1FCGzbng"
      },
      "source": [
        "###Defining the Optimization Algorithm"
      ]
    },
    {
      "cell_type": "code",
      "metadata": {
        "id": "UlwZxcPDzaDM"
      },
      "source": [
        "from mxnet import gluon\r\n",
        "trainer = gluon.Trainer(net.collect_params(), 'sgd', {'learning_rate': 0.03})"
      ],
      "execution_count": 10,
      "outputs": []
    },
    {
      "cell_type": "markdown",
      "metadata": {
        "id": "HZeOIAyvzowm"
      },
      "source": [
        "### Training"
      ]
    },
    {
      "cell_type": "code",
      "metadata": {
        "colab": {
          "base_uri": "https://localhost:8080/"
        },
        "id": "V-ZIKHDOzl65",
        "outputId": "56b43c34-0686-4fe3-b234-de402f15590c"
      },
      "source": [
        "num_epochs = 50\r\n",
        "for epoch in range(num_epochs):\r\n",
        "    for X, y in data_iter:\r\n",
        "        with autograd.record():\r\n",
        "            l = loss(net(X), y)\r\n",
        "        l.backward()\r\n",
        "        trainer.step(batch_size)\r\n",
        "    l = loss(net(features), labels)\r\n",
        "    if(epoch==0 or epoch%10==9):\r\n",
        "      print(f'epoch {epoch + 1}, loss {l.mean().asnumpy():f}')"
      ],
      "execution_count": 11,
      "outputs": [
        {
          "output_type": "stream",
          "text": [
            "epoch 1, loss 0.024870\n",
            "epoch 10, loss 0.000051\n",
            "epoch 20, loss 0.000051\n",
            "epoch 30, loss 0.000051\n",
            "epoch 40, loss 0.000051\n",
            "epoch 50, loss 0.000051\n"
          ],
          "name": "stdout"
        }
      ]
    },
    {
      "cell_type": "code",
      "metadata": {
        "colab": {
          "base_uri": "https://localhost:8080/"
        },
        "id": "RIaj66Mt0ZZQ",
        "outputId": "d07b4091-3dc7-43ff-8eda-b93e04b3921f"
      },
      "source": [
        "w = net[0].weight.data()\r\n",
        "print(f'error in estimating w: {true_w - w.reshape(true_w.shape)}')\r\n",
        "b = net[0].bias.data()\r\n",
        "print(f'error in estimating b: {true_b - b}')"
      ],
      "execution_count": 12,
      "outputs": [
        {
          "output_type": "stream",
          "text": [
            "error in estimating w: [3.081560e-04 2.002716e-05]\n",
            "error in estimating b: [0.00027561]\n"
          ],
          "name": "stdout"
        }
      ]
    }
  ]
}