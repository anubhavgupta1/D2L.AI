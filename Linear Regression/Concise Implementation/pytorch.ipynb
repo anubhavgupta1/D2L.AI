{
  "nbformat": 4,
  "nbformat_minor": 0,
  "metadata": {
    "colab": {
      "name": "Untitled23.ipynb",
      "provenance": [],
      "authorship_tag": "ABX9TyN5tyOz3AA4YF1CkGcp4/9z",
      "include_colab_link": true
    },
    "kernelspec": {
      "display_name": "Python 3",
      "name": "python3"
    }
  },
  "cells": [
    {
      "cell_type": "markdown",
      "metadata": {
        "id": "view-in-github",
        "colab_type": "text"
      },
      "source": [
        "<a href=\"https://colab.research.google.com/github/anubhavgupta1/Dive-Into-Deep-Learning/blob/main/Linear%20Regression/Concise%20Implementation/pytorch.ipynb\" target=\"_parent\"><img src=\"https://colab.research.google.com/assets/colab-badge.svg\" alt=\"Open In Colab\"/></a>"
      ]
    },
    {
      "cell_type": "markdown",
      "metadata": {
        "id": "QoJIK_HF-u6P"
      },
      "source": [
        "# Preliminaries"
      ]
    },
    {
      "cell_type": "code",
      "metadata": {
        "id": "oSgfuUX8gNgP"
      },
      "source": [
        "!pip install d2l==0.16.1"
      ],
      "execution_count": null,
      "outputs": []
    },
    {
      "cell_type": "code",
      "metadata": {
        "id": "mwaQU-mAgVIJ"
      },
      "source": [
        "from d2l import torch as d2l\r\n",
        "import numpy as np\r\n",
        "import torch\r\n",
        "from torch.utils import data"
      ],
      "execution_count": 2,
      "outputs": []
    },
    {
      "cell_type": "markdown",
      "metadata": {
        "id": "mrxNJBzKslNK"
      },
      "source": [
        "### Generating the Dataset"
      ]
    },
    {
      "cell_type": "code",
      "metadata": {
        "id": "QA9Z55WfoNws"
      },
      "source": [
        "def load_array(data_arrays, batch_size, is_train=True):  #@save\r\n",
        "    \"\"\"Construct a PyTorch data iterator.\"\"\"\r\n",
        "    dataset = data.TensorDataset(*data_arrays)\r\n",
        "    return data.DataLoader(dataset, batch_size, shuffle=is_train)"
      ],
      "execution_count": 3,
      "outputs": []
    },
    {
      "cell_type": "code",
      "metadata": {
        "id": "PNFahaO6xW58"
      },
      "source": [
        "true_w = torch.tensor([2, -3.4])\r\n",
        "true_b = 4.2\r\n",
        "features, labels = d2l.synthetic_data(true_w, true_b, 1000)"
      ],
      "execution_count": 4,
      "outputs": []
    },
    {
      "cell_type": "markdown",
      "metadata": {
        "id": "GWo3XLPZyM79"
      },
      "source": [
        "### Reading the Dataset"
      ]
    },
    {
      "cell_type": "code",
      "metadata": {
        "id": "Lo_FWhJbyOPj"
      },
      "source": [
        "batch_size = 10\r\n",
        "data_iter = load_array((features, labels), batch_size)"
      ],
      "execution_count": 5,
      "outputs": []
    },
    {
      "cell_type": "code",
      "metadata": {
        "colab": {
          "base_uri": "https://localhost:8080/"
        },
        "id": "7jyUhskVyd92",
        "outputId": "d6a87057-641f-401d-8ec0-789100a132c2"
      },
      "source": [
        "next(iter(data_iter))"
      ],
      "execution_count": 6,
      "outputs": [
        {
          "output_type": "execute_result",
          "data": {
            "text/plain": [
              "[tensor([[ 1.1928,  1.4761],\n",
              "         [ 0.6611,  0.3947],\n",
              "         [ 2.3726, -0.7821],\n",
              "         [-1.7492, -0.5297],\n",
              "         [ 0.0667,  0.5886],\n",
              "         [-0.4942,  0.8615],\n",
              "         [ 1.6790,  0.4038],\n",
              "         [-3.0216, -1.3359],\n",
              "         [-0.7161,  1.1589],\n",
              "         [-0.8916, -0.1542]]), tensor([[ 1.5640],\n",
              "         [ 4.1909],\n",
              "         [11.6085],\n",
              "         [ 2.5164],\n",
              "         [ 2.3325],\n",
              "         [ 0.2697],\n",
              "         [ 6.2009],\n",
              "         [ 2.6967],\n",
              "         [-1.1699],\n",
              "         [ 2.9485]])]"
            ]
          },
          "metadata": {
            "tags": []
          },
          "execution_count": 6
        }
      ]
    },
    {
      "cell_type": "markdown",
      "metadata": {
        "id": "PKMgHwkTyv9Q"
      },
      "source": [
        "### Defining the Model"
      ]
    },
    {
      "cell_type": "code",
      "metadata": {
        "id": "pBmu6BoUyxV2"
      },
      "source": [
        "# `nn` is an abbreviation for neural networks\r\n",
        "from torch import nn\r\n",
        "net = nn.Sequential(nn.Linear(2, 1))"
      ],
      "execution_count": 7,
      "outputs": []
    },
    {
      "cell_type": "markdown",
      "metadata": {
        "id": "9K-uX3Kryplf"
      },
      "source": [
        "###Initializing Model Parameters"
      ]
    },
    {
      "cell_type": "code",
      "metadata": {
        "colab": {
          "base_uri": "https://localhost:8080/"
        },
        "id": "d6oP-CHwyq1X",
        "outputId": "aed4a301-b6c8-407a-b5b5-6c7c6346b144"
      },
      "source": [
        "net[0].weight.data.normal_(0, 0.01)\r\n",
        "net[0].bias.data.fill_(0)"
      ],
      "execution_count": 8,
      "outputs": [
        {
          "output_type": "execute_result",
          "data": {
            "text/plain": [
              "tensor([0.])"
            ]
          },
          "metadata": {
            "tags": []
          },
          "execution_count": 8
        }
      ]
    },
    {
      "cell_type": "markdown",
      "metadata": {
        "id": "tJdKyKW7zDUi"
      },
      "source": [
        "### Defining the Loss Function"
      ]
    },
    {
      "cell_type": "code",
      "metadata": {
        "id": "QDnOUCiIy9dc"
      },
      "source": [
        "loss = nn.MSELoss()"
      ],
      "execution_count": 9,
      "outputs": []
    },
    {
      "cell_type": "markdown",
      "metadata": {
        "id": "TpCN1FCGzbng"
      },
      "source": [
        "###Defining the Optimization Algorithm"
      ]
    },
    {
      "cell_type": "code",
      "metadata": {
        "id": "UlwZxcPDzaDM"
      },
      "source": [
        "trainer = torch.optim.SGD(net.parameters(), lr=0.03)"
      ],
      "execution_count": 10,
      "outputs": []
    },
    {
      "cell_type": "markdown",
      "metadata": {
        "id": "HZeOIAyvzowm"
      },
      "source": [
        "### Training"
      ]
    },
    {
      "cell_type": "code",
      "metadata": {
        "colab": {
          "base_uri": "https://localhost:8080/"
        },
        "id": "V-ZIKHDOzl65",
        "outputId": "63d0ae10-1f60-4d7b-ac9b-f0c74c2aec9f"
      },
      "source": [
        "num_epochs = 50\r\n",
        "for epoch in range(num_epochs):\r\n",
        "    for X, y in data_iter:\r\n",
        "        l = loss(net(X) ,y)\r\n",
        "        trainer.zero_grad()\r\n",
        "        l.backward()\r\n",
        "        trainer.step()\r\n",
        "    l = loss(net(features), labels)\r\n",
        "    if(epoch==0 or epoch%10==9):\r\n",
        "      print(f'epoch {epoch + 1}, loss {l:f}')"
      ],
      "execution_count": 11,
      "outputs": [
        {
          "output_type": "stream",
          "text": [
            "epoch 1, loss 0.000288\n",
            "epoch 10, loss 0.000101\n",
            "epoch 20, loss 0.000101\n",
            "epoch 30, loss 0.000100\n",
            "epoch 40, loss 0.000100\n",
            "epoch 50, loss 0.000100\n"
          ],
          "name": "stdout"
        }
      ]
    },
    {
      "cell_type": "code",
      "metadata": {
        "colab": {
          "base_uri": "https://localhost:8080/"
        },
        "id": "RIaj66Mt0ZZQ",
        "outputId": "7a831a66-6d0d-4fe1-9a00-6abb16982245"
      },
      "source": [
        "w = net[0].weight.data\r\n",
        "print('error in estimating w:', true_w - w.reshape(true_w.shape))\r\n",
        "b = net[0].bias.data\r\n",
        "print('error in estimating b:', true_b - b)"
      ],
      "execution_count": 12,
      "outputs": [
        {
          "output_type": "stream",
          "text": [
            "error in estimating w: tensor([-6.6996e-05,  8.5020e-04])\n",
            "error in estimating b: tensor([-0.0004])\n"
          ],
          "name": "stdout"
        }
      ]
    }
  ]
}