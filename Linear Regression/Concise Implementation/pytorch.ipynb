{
  "nbformat": 4,
  "nbformat_minor": 0,
  "metadata": {
    "colab": {
      "name": "Untitled23.ipynb",
      "provenance": [],
      "authorship_tag": "ABX9TyOU9Cq7iXsaK6IBrJD4NzTk",
      "include_colab_link": true
    },
    "kernelspec": {
      "display_name": "Python 3",
      "name": "python3"
    }
  },
  "cells": [
    {
      "cell_type": "markdown",
      "metadata": {
        "id": "view-in-github",
        "colab_type": "text"
      },
      "source": [
        "<a href=\"https://colab.research.google.com/github/anubhavgupta1/Dive-Into-Deep-Learning/blob/main/Linear%20Regression/Concise%20Implementation/pytorch.ipynb\" target=\"_parent\"><img src=\"https://colab.research.google.com/assets/colab-badge.svg\" alt=\"Open In Colab\"/></a>"
      ]
    },
    {
      "cell_type": "markdown",
      "metadata": {
        "id": "QoJIK_HF-u6P"
      },
      "source": [
        "# Linear Regression"
      ]
    },
    {
      "cell_type": "code",
      "metadata": {
        "id": "mwaQU-mAgVIJ"
      },
      "source": [
        "!pip install d2l==0.16.1"
      ],
      "execution_count": null,
      "outputs": []
    },
    {
      "cell_type": "code",
      "metadata": {
        "id": "xGbs-UQD23MI"
      },
      "source": [
        "from d2l import tensorflow as d2l\r\n",
        "import numpy as np\r\n",
        "import tensorflow as tf"
      ],
      "execution_count": 2,
      "outputs": []
    },
    {
      "cell_type": "markdown",
      "metadata": {
        "id": "mrxNJBzKslNK"
      },
      "source": [
        "### Generating the Dataset"
      ]
    },
    {
      "cell_type": "code",
      "metadata": {
        "id": "PNFahaO6xW58"
      },
      "source": [
        "true_w = tf.constant([2, -3.4])\r\n",
        "true_b = 4.2\r\n",
        "features, labels = d2l.synthetic_data(true_w, true_b, 1000)"
      ],
      "execution_count": 3,
      "outputs": []
    },
    {
      "cell_type": "markdown",
      "metadata": {
        "id": "GWo3XLPZyM79"
      },
      "source": [
        "### Reading the Dataset"
      ]
    },
    {
      "cell_type": "code",
      "metadata": {
        "id": "QA9Z55WfoNws"
      },
      "source": [
        "def load_array(data_arrays, batch_size, is_train=True):  #@save\r\n",
        "    \"\"\"Construct a TensorFlow data iterator.\"\"\"\r\n",
        "    dataset = tf.data.Dataset.from_tensor_slices(data_arrays)\r\n",
        "    if is_train:\r\n",
        "        dataset = dataset.shuffle(buffer_size=1000)\r\n",
        "    dataset = dataset.batch(batch_size)\r\n",
        "    return dataset"
      ],
      "execution_count": 4,
      "outputs": []
    },
    {
      "cell_type": "code",
      "metadata": {
        "id": "Lo_FWhJbyOPj"
      },
      "source": [
        "batch_size = 10\r\n",
        "data_iter = load_array((features, labels), batch_size)"
      ],
      "execution_count": 5,
      "outputs": []
    },
    {
      "cell_type": "code",
      "metadata": {
        "colab": {
          "base_uri": "https://localhost:8080/"
        },
        "id": "7jyUhskVyd92",
        "outputId": "8fec5892-1fc3-4165-83cb-cc1a03094c87"
      },
      "source": [
        "next(iter(data_iter))"
      ],
      "execution_count": 6,
      "outputs": [
        {
          "output_type": "execute_result",
          "data": {
            "text/plain": [
              "(<tf.Tensor: shape=(10, 2), dtype=float32, numpy=\n",
              " array([[-0.9033208 ,  2.2756672 ],\n",
              "        [-0.7267111 , -0.43893915],\n",
              "        [ 0.04427969,  0.3794744 ],\n",
              "        [ 1.1815178 , -0.317781  ],\n",
              "        [ 1.0038683 ,  1.4636891 ],\n",
              "        [-0.03340807,  1.1346507 ],\n",
              "        [-0.02190512,  0.6104773 ],\n",
              "        [ 0.2776856 , -0.289722  ],\n",
              "        [-0.89333826, -0.3612817 ],\n",
              "        [ 0.5720077 , -0.59453505]], dtype=float32)>,\n",
              " <tf.Tensor: shape=(10, 1), dtype=float32, numpy=\n",
              " array([[-5.348733  ],\n",
              "        [ 4.2340693 ],\n",
              "        [ 2.9986713 ],\n",
              "        [ 7.6414595 ],\n",
              "        [ 1.2365103 ],\n",
              "        [ 0.27719274],\n",
              "        [ 2.077369  ],\n",
              "        [ 5.739223  ],\n",
              "        [ 3.623779  ],\n",
              "        [ 7.365366  ]], dtype=float32)>)"
            ]
          },
          "metadata": {
            "tags": []
          },
          "execution_count": 6
        }
      ]
    },
    {
      "cell_type": "markdown",
      "metadata": {
        "id": "PKMgHwkTyv9Q"
      },
      "source": [
        "### Defining the Model"
      ]
    },
    {
      "cell_type": "code",
      "metadata": {
        "id": "pBmu6BoUyxV2"
      },
      "source": [
        "# `keras` is the high-level API for TensorFlow\r\n",
        "net = tf.keras.Sequential()\r\n",
        "net.add(tf.keras.layers.Dense(1))"
      ],
      "execution_count": 7,
      "outputs": []
    },
    {
      "cell_type": "markdown",
      "metadata": {
        "id": "9K-uX3Kryplf"
      },
      "source": [
        "###Initializing Model Parameters"
      ]
    },
    {
      "cell_type": "code",
      "metadata": {
        "id": "d6oP-CHwyq1X"
      },
      "source": [
        "initializer = tf.initializers.RandomNormal(stddev=0.01)\r\n",
        "net = tf.keras.Sequential()\r\n",
        "net.add(tf.keras.layers.Dense(1, kernel_initializer=initializer))"
      ],
      "execution_count": 8,
      "outputs": []
    },
    {
      "cell_type": "markdown",
      "metadata": {
        "id": "tJdKyKW7zDUi"
      },
      "source": [
        "### Defining the Loss Function"
      ]
    },
    {
      "cell_type": "code",
      "metadata": {
        "id": "QDnOUCiIy9dc"
      },
      "source": [
        "loss = tf.keras.losses.MeanSquaredError()"
      ],
      "execution_count": 9,
      "outputs": []
    },
    {
      "cell_type": "markdown",
      "metadata": {
        "id": "TpCN1FCGzbng"
      },
      "source": [
        "###Defining the Optimization Algorithm"
      ]
    },
    {
      "cell_type": "code",
      "metadata": {
        "id": "UlwZxcPDzaDM"
      },
      "source": [
        "trainer = tf.keras.optimizers.SGD(learning_rate=0.03)"
      ],
      "execution_count": 10,
      "outputs": []
    },
    {
      "cell_type": "markdown",
      "metadata": {
        "id": "HZeOIAyvzowm"
      },
      "source": [
        "### Training"
      ]
    },
    {
      "cell_type": "code",
      "metadata": {
        "colab": {
          "base_uri": "https://localhost:8080/"
        },
        "id": "V-ZIKHDOzl65",
        "outputId": "a2e47c6a-2e11-4f8c-ad69-c2eba47a4978"
      },
      "source": [
        "num_epochs = 200\r\n",
        "for epoch in range(num_epochs):\r\n",
        "    for X, y in data_iter:\r\n",
        "        with tf.GradientTape() as tape:\r\n",
        "            l = loss(net(X, training=True), y)\r\n",
        "        grads = tape.gradient(l, net.trainable_variables)\r\n",
        "        trainer.apply_gradients(zip(grads, net.trainable_variables))\r\n",
        "    l = loss(net(features), labels)\r\n",
        "    if(epoch==0 or epoch%20==9):\r\n",
        "      print(f'epoch {epoch + 1}, loss {l:f}')"
      ],
      "execution_count": 11,
      "outputs": [
        {
          "output_type": "stream",
          "text": [
            "epoch 1, loss 0.000213\n",
            "epoch 10, loss 0.000095\n",
            "epoch 30, loss 0.000094\n",
            "epoch 50, loss 0.000094\n",
            "epoch 70, loss 0.000094\n",
            "epoch 90, loss 0.000096\n",
            "epoch 110, loss 0.000095\n",
            "epoch 130, loss 0.000094\n",
            "epoch 150, loss 0.000094\n",
            "epoch 170, loss 0.000094\n",
            "epoch 190, loss 0.000095\n"
          ],
          "name": "stdout"
        }
      ]
    },
    {
      "cell_type": "code",
      "metadata": {
        "colab": {
          "base_uri": "https://localhost:8080/"
        },
        "id": "RIaj66Mt0ZZQ",
        "outputId": "8e025601-3e6a-4704-a925-860978aa4f1f"
      },
      "source": [
        "w = net.get_weights()[0]\r\n",
        "print('error in estimating w', true_w - tf.reshape(w, true_w.shape))\r\n",
        "b = net.get_weights()[1]\r\n",
        "print('error in estimating b', true_b - b)"
      ],
      "execution_count": 12,
      "outputs": [
        {
          "output_type": "stream",
          "text": [
            "error in estimating w tf.Tensor([-0.00028777  0.00116444], shape=(2,), dtype=float32)\n",
            "error in estimating b [0.00039768]\n"
          ],
          "name": "stdout"
        }
      ]
    }
  ]
}