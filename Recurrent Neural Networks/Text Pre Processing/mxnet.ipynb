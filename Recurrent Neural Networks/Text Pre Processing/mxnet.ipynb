{
  "nbformat": 4,
  "nbformat_minor": 0,
  "metadata": {
    "colab": {
      "name": "Untitled23.ipynb",
      "provenance": [],
      "authorship_tag": "ABX9TyPPU2VPjPXjejhVb/HtvpcN",
      "include_colab_link": true
    },
    "kernelspec": {
      "display_name": "Python 3",
      "name": "python3"
    },
    "accelerator": "GPU"
  },
  "cells": [
    {
      "cell_type": "markdown",
      "metadata": {
        "id": "view-in-github",
        "colab_type": "text"
      },
      "source": [
        "<a href=\"https://colab.research.google.com/github/anubhavgupta1/Dive-Into-Deep-Learning/blob/main/Recurrent%20Neural%20Networks/Text%20Pre%20Processing/mxnet.ipynb\" target=\"_parent\"><img src=\"https://colab.research.google.com/assets/colab-badge.svg\" alt=\"Open In Colab\"/></a>"
      ]
    },
    {
      "cell_type": "code",
      "metadata": {
        "id": "i6hg42TAhgOs"
      },
      "source": [
        "!pip install d2l==0.16.1\r\n",
        "!pip install -U mxnet-cu101==1.7.0"
      ],
      "execution_count": null,
      "outputs": []
    },
    {
      "cell_type": "code",
      "metadata": {
        "id": "rTDM6Bn3IN9G"
      },
      "source": [
        "import collections\r\n",
        "from d2l import mxnet as d2l\r\n",
        "import re"
      ],
      "execution_count": 2,
      "outputs": []
    },
    {
      "cell_type": "markdown",
      "metadata": {
        "id": "wlziOXGhKEB3"
      },
      "source": [
        "### Reading Dataset"
      ]
    },
    {
      "cell_type": "code",
      "metadata": {
        "id": "Bq_7OOAcITdz"
      },
      "source": [
        "#@save\r\n",
        "d2l.DATA_HUB['time_machine'] = (d2l.DATA_URL + 'timemachine.txt',\r\n",
        "                                '090b5e7e70c295757f55df93cb0a180b9691891a')"
      ],
      "execution_count": 3,
      "outputs": []
    },
    {
      "cell_type": "code",
      "metadata": {
        "id": "izaH1jRNJOUr"
      },
      "source": [
        "def read_time_machine():  #@save\r\n",
        "    \"\"\"Load the time machine dataset into a list of text lines.\"\"\"\r\n",
        "    with open(d2l.download('time_machine'), 'r') as f:\r\n",
        "        lines = f.readlines()\r\n",
        "    return [re.sub('[^A-Za-z]+', ' ', line).strip().lower() for line in lines]"
      ],
      "execution_count": 4,
      "outputs": []
    },
    {
      "cell_type": "code",
      "metadata": {
        "colab": {
          "base_uri": "https://localhost:8080/"
        },
        "id": "HwF2w6IBJRim",
        "outputId": "54eafa15-c7b4-4fbd-8f6b-a28a0f97d972"
      },
      "source": [
        "lines = read_time_machine()\r\n",
        "print(f'# text lines: {len(lines)}')\r\n",
        "print(lines[0])\r\n",
        "print(lines[10])"
      ],
      "execution_count": 5,
      "outputs": [
        {
          "output_type": "stream",
          "text": [
            "Downloading ../data/timemachine.txt from http://d2l-data.s3-accelerate.amazonaws.com/timemachine.txt...\n",
            "# text lines: 3221\n",
            "the time machine by h g wells\n",
            "twinkled and his usually pale face was flushed and animated the\n"
          ],
          "name": "stdout"
        }
      ]
    },
    {
      "cell_type": "markdown",
      "metadata": {
        "id": "7FVOZGlFKH9E"
      },
      "source": [
        "### Tokenization"
      ]
    },
    {
      "cell_type": "code",
      "metadata": {
        "id": "AdkdstYlKLM_"
      },
      "source": [
        "def tokenize(lines, token='word'):  #@save\r\n",
        "    \"\"\"Split text lines into word or character tokens.\"\"\"\r\n",
        "    if token == 'word':\r\n",
        "        return [line.split() for line in lines]\r\n",
        "    elif token == 'char':\r\n",
        "        return [list(line) for line in lines]\r\n",
        "    else:\r\n",
        "        print('ERROR: unknown token type: ' + token)"
      ],
      "execution_count": 6,
      "outputs": []
    },
    {
      "cell_type": "code",
      "metadata": {
        "id": "HWlMPwzDKfHJ"
      },
      "source": [
        "tokens = tokenize(lines)"
      ],
      "execution_count": 7,
      "outputs": []
    },
    {
      "cell_type": "code",
      "metadata": {
        "colab": {
          "base_uri": "https://localhost:8080/"
        },
        "id": "QsttmZHAKkXP",
        "outputId": "66c80144-64d8-495c-8b03-8fff89486a90"
      },
      "source": [
        "for i in range(11):\r\n",
        "    print(tokens[i])"
      ],
      "execution_count": 8,
      "outputs": [
        {
          "output_type": "stream",
          "text": [
            "['the', 'time', 'machine', 'by', 'h', 'g', 'wells']\n",
            "[]\n",
            "[]\n",
            "[]\n",
            "[]\n",
            "['i']\n",
            "[]\n",
            "[]\n",
            "['the', 'time', 'traveller', 'for', 'so', 'it', 'will', 'be', 'convenient', 'to', 'speak', 'of', 'him']\n",
            "['was', 'expounding', 'a', 'recondite', 'matter', 'to', 'us', 'his', 'grey', 'eyes', 'shone', 'and']\n",
            "['twinkled', 'and', 'his', 'usually', 'pale', 'face', 'was', 'flushed', 'and', 'animated', 'the']\n"
          ],
          "name": "stdout"
        }
      ]
    },
    {
      "cell_type": "markdown",
      "metadata": {
        "id": "jW-mbhhkLBqI"
      },
      "source": [
        "### Vocabulary"
      ]
    },
    {
      "cell_type": "code",
      "metadata": {
        "id": "tc8jBzzdLRqU"
      },
      "source": [
        "def count_corpus(tokens):  #@save\r\n",
        "    \"\"\"Count token frequencies.\"\"\"\r\n",
        "    # Here `tokens` is a 1D list or 2D list\r\n",
        "    if len(tokens) == 0 or isinstance(tokens[0], list):\r\n",
        "        # Flatten a list of token lists into a list of tokens\r\n",
        "        tokens = [token for line in tokens for token in line]\r\n",
        "    return collections.Counter(tokens)"
      ],
      "execution_count": 9,
      "outputs": []
    },
    {
      "cell_type": "code",
      "metadata": {
        "id": "EVztcVS9LA7a"
      },
      "source": [
        "class Vocab:  #@save\r\n",
        "    \"\"\"Vocabulary for text.\"\"\"\r\n",
        "    def __init__(self, tokens=None, min_freq=0, reserved_tokens=None):\r\n",
        "        if tokens is None:\r\n",
        "            tokens = []\r\n",
        "        if reserved_tokens is None:\r\n",
        "            reserved_tokens = []\r\n",
        "        # Sort according to frequencies\r\n",
        "        counter = count_corpus(tokens)\r\n",
        "        self.token_freqs = sorted(counter.items(), key=lambda x: x[1],\r\n",
        "                                  reverse=True)\r\n",
        "        # The index for the unknown token is 0\r\n",
        "        self.unk, uniq_tokens = 0, ['<unk>'] + reserved_tokens\r\n",
        "        uniq_tokens += [token for token, freq in self.token_freqs\r\n",
        "                        if freq >= min_freq and token not in uniq_tokens]\r\n",
        "        self.idx_to_token, self.token_to_idx = [], dict()\r\n",
        "        for token in uniq_tokens:\r\n",
        "            self.idx_to_token.append(token)\r\n",
        "            self.token_to_idx[token] = len(self.idx_to_token) - 1\r\n",
        "\r\n",
        "    def __len__(self):\r\n",
        "        return len(self.idx_to_token)\r\n",
        "\r\n",
        "    def __getitem__(self, tokens):\r\n",
        "        if not isinstance(tokens, (list, tuple)):\r\n",
        "            return self.token_to_idx.get(tokens, self.unk)\r\n",
        "        return [self.__getitem__(token) for token in tokens]\r\n",
        "\r\n",
        "    def to_tokens(self, indices):\r\n",
        "        if not isinstance(indices, (list, tuple)):\r\n",
        "            return self.idx_to_token[indices]\r\n",
        "        return [self.idx_to_token[index] for index in indices]"
      ],
      "execution_count": 10,
      "outputs": []
    },
    {
      "cell_type": "code",
      "metadata": {
        "colab": {
          "base_uri": "https://localhost:8080/"
        },
        "id": "A-SWq13UueEy",
        "outputId": "6180f80d-7ba1-4338-8e7a-d475db4304c1"
      },
      "source": [
        "vocab = Vocab(tokens)\r\n",
        "print(list(vocab.token_to_idx.items())[:10])"
      ],
      "execution_count": 11,
      "outputs": [
        {
          "output_type": "stream",
          "text": [
            "[('<unk>', 0), ('the', 1), ('i', 2), ('and', 3), ('of', 4), ('a', 5), ('to', 6), ('was', 7), ('in', 8), ('that', 9)]\n"
          ],
          "name": "stdout"
        }
      ]
    },
    {
      "cell_type": "code",
      "metadata": {
        "colab": {
          "base_uri": "https://localhost:8080/"
        },
        "id": "gV3nMsjLulJq",
        "outputId": "54fef4d8-50fd-4585-bdb4-bd0a3d395a53"
      },
      "source": [
        "for i in [0, 10]:\r\n",
        "    print('words:', tokens[i])\r\n",
        "    print('indices:', vocab[tokens[i]])"
      ],
      "execution_count": 12,
      "outputs": [
        {
          "output_type": "stream",
          "text": [
            "words: ['the', 'time', 'machine', 'by', 'h', 'g', 'wells']\n",
            "indices: [1, 19, 50, 40, 2183, 2184, 400]\n",
            "words: ['twinkled', 'and', 'his', 'usually', 'pale', 'face', 'was', 'flushed', 'and', 'animated', 'the']\n",
            "indices: [2186, 3, 25, 1044, 362, 113, 7, 1421, 3, 1045, 1]\n"
          ],
          "name": "stdout"
        }
      ]
    },
    {
      "cell_type": "markdown",
      "metadata": {
        "id": "g9DkH3z9u4o_"
      },
      "source": [
        "### Putting All Things Together"
      ]
    },
    {
      "cell_type": "code",
      "metadata": {
        "id": "64XUMUxpu5uR"
      },
      "source": [
        "def load_corpus_time_machine(max_tokens=-1):  #@save\r\n",
        "    \"\"\"Return token indices and the vocabulary of the time machine dataset.\"\"\"\r\n",
        "    lines = read_time_machine()\r\n",
        "    tokens = tokenize(lines, 'char')\r\n",
        "    vocab = Vocab(tokens)\r\n",
        "    # Since each text line in the time machine dataset is not necessarily a\r\n",
        "    # sentence or a paragraph, flatten all the text lines into a single list\r\n",
        "    corpus = [vocab[token] for line in tokens for token in line]\r\n",
        "    if max_tokens > 0:\r\n",
        "        corpus = corpus[:max_tokens]\r\n",
        "    return corpus, vocab"
      ],
      "execution_count": 13,
      "outputs": []
    },
    {
      "cell_type": "code",
      "metadata": {
        "colab": {
          "base_uri": "https://localhost:8080/"
        },
        "id": "bOiM4CNwu_os",
        "outputId": "c2b2c6f0-b206-4c83-9dda-9009c77f025c"
      },
      "source": [
        "corpus, vocab = load_corpus_time_machine()\r\n",
        "len(corpus), len(vocab)"
      ],
      "execution_count": 14,
      "outputs": [
        {
          "output_type": "execute_result",
          "data": {
            "text/plain": [
              "(170580, 28)"
            ]
          },
          "metadata": {
            "tags": []
          },
          "execution_count": 14
        }
      ]
    },
    {
      "cell_type": "code",
      "metadata": {
        "colab": {
          "base_uri": "https://localhost:8080/"
        },
        "id": "1fW5SkD_vNt3",
        "outputId": "307e8c23-8c64-434d-8409-c56bf8c432a7"
      },
      "source": [
        "print(list(vocab.token_to_idx.items())[:10])"
      ],
      "execution_count": 15,
      "outputs": [
        {
          "output_type": "stream",
          "text": [
            "[('<unk>', 0), (' ', 1), ('e', 2), ('t', 3), ('a', 4), ('i', 5), ('n', 6), ('o', 7), ('s', 8), ('h', 9)]\n"
          ],
          "name": "stdout"
        }
      ]
    }
  ]
}