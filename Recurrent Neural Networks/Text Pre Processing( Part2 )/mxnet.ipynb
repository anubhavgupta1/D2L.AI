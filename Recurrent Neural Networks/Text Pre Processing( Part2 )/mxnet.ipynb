{
  "nbformat": 4,
  "nbformat_minor": 0,
  "metadata": {
    "colab": {
      "name": "Untitled23.ipynb",
      "provenance": [],
      "collapsed_sections": [],
      "authorship_tag": "ABX9TyP5V+IyQe3iJcszPzAgp/tT",
      "include_colab_link": true
    },
    "kernelspec": {
      "display_name": "Python 3",
      "name": "python3"
    }
  },
  "cells": [
    {
      "cell_type": "markdown",
      "metadata": {
        "id": "view-in-github",
        "colab_type": "text"
      },
      "source": [
        "<a href=\"https://colab.research.google.com/github/anubhavgupta1/Dive-Into-Deep-Learning/blob/main/Recurrent%20Neural%20Networks/Text%20Pre%20Processing(%20Part2%20)/mxnet.ipynb\" target=\"_parent\"><img src=\"https://colab.research.google.com/assets/colab-badge.svg\" alt=\"Open In Colab\"/></a>"
      ]
    },
    {
      "cell_type": "code",
      "metadata": {
        "colab": {
          "base_uri": "https://localhost:8080/"
        },
        "id": "STnl_2iOOfLE",
        "outputId": "63d2fcd2-9be7-495b-d7c9-9c7746e3cdcc"
      },
      "source": [
        "!ls\r\n",
        "!apt-get install -y -qq software-properties-common python-software-properties module-init-tools\r\n",
        "!add-apt-repository -y ppa:alessandro-strada/ppa 2>&1 > /dev/null\r\n",
        "!apt-get update -qq 2>&1 > /dev/null\r\n",
        "!apt-get -y install -qq google-drive-ocamlfuse fuse\r\n",
        "from google.colab import auth\r\n",
        "auth.authenticate_user()\r\n",
        "from oauth2client.client import GoogleCredentials\r\n",
        "creds = GoogleCredentials.get_application_default()\r\n",
        "import getpass\r\n",
        "!google-drive-ocamlfuse -headless -id={creds.client_id} -secret={creds.client_secret} < /dev/null 2>&1 | grep URL\r\n",
        "vcode = getpass.getpass()\r\n",
        "!echo {vcode} | google-drive-ocamlfuse -headless -id={creds.client_id} -secret={creds.client_secret}\r\n",
        "\r\n",
        "\r\n",
        "!mkdir -p drive\r\n",
        "!google-drive-ocamlfuse drive\r\n",
        "\r\n",
        "import os\r\n",
        "os.chdir(\"drive/Udacity/RNN/\")\r\n",
        "!ls"
      ],
      "execution_count": 1,
      "outputs": [
        {
          "output_type": "stream",
          "text": [
            "sample_data\n",
            "E: Package 'python-software-properties' has no installation candidate\n",
            "Selecting previously unselected package google-drive-ocamlfuse.\n",
            "(Reading database ... 146374 files and directories currently installed.)\n",
            "Preparing to unpack .../google-drive-ocamlfuse_0.7.24-0ubuntu1~ubuntu18.04.1_amd64.deb ...\n",
            "Unpacking google-drive-ocamlfuse (0.7.24-0ubuntu1~ubuntu18.04.1) ...\n",
            "Setting up google-drive-ocamlfuse (0.7.24-0ubuntu1~ubuntu18.04.1) ...\n",
            "Processing triggers for man-db (2.8.3-2ubuntu0.1) ...\n",
            "Please, open the following URL in a web browser: https://accounts.google.com/o/oauth2/auth?client_id=32555940559.apps.googleusercontent.com&redirect_uri=urn%3Aietf%3Awg%3Aoauth%3A2.0%3Aoob&scope=https%3A%2F%2Fwww.googleapis.com%2Fauth%2Fdrive&response_type=code&access_type=offline&approval_prompt=force\n",
            "··········\n",
            "Please, open the following URL in a web browser: https://accounts.google.com/o/oauth2/auth?client_id=32555940559.apps.googleusercontent.com&redirect_uri=urn%3Aietf%3Awg%3Aoauth%3A2.0%3Aoob&scope=https%3A%2F%2Fwww.googleapis.com%2Fauth%2Fdrive&response_type=code&access_type=offline&approval_prompt=force\n",
            "Please enter the verification code: Access token retrieved correctly.\n",
            "'Anna Karenina.txt'   rnn_20_epoch.net\t       word2vec-embeddings\n",
            " checkpoints\t     'Tensorflow Shakespear'\n",
            " name2lang.txt\t      timemachine.txt\n"
          ],
          "name": "stdout"
        }
      ]
    },
    {
      "cell_type": "code",
      "metadata": {
        "id": "XwP5P9QmzsL_",
        "colab": {
          "base_uri": "https://localhost:8080/"
        },
        "outputId": "12541557-857c-4c4a-c2f9-77a17014b765"
      },
      "source": [
        "!pip install d2l==0.16.1\r\n",
        "!pip install -U mxnet-cu101==1.7.0"
      ],
      "execution_count": 2,
      "outputs": [
        {
          "output_type": "stream",
          "text": [
            "Collecting d2l==0.16.1\n",
            "\u001b[?25l  Downloading https://files.pythonhosted.org/packages/30/2b/3515cd6f2898bf95306a5c58b065aeb045fdc25516f2b68b0f8409e320c3/d2l-0.16.1-py3-none-any.whl (76kB)\n",
            "\r\u001b[K     |████▎                           | 10kB 13.3MB/s eta 0:00:01\r\u001b[K     |████████▌                       | 20kB 17.9MB/s eta 0:00:01\r\u001b[K     |████████████▉                   | 30kB 10.6MB/s eta 0:00:01\r\u001b[K     |█████████████████               | 40kB 9.9MB/s eta 0:00:01\r\u001b[K     |█████████████████████▍          | 51kB 7.4MB/s eta 0:00:01\r\u001b[K     |█████████████████████████▋      | 61kB 7.2MB/s eta 0:00:01\r\u001b[K     |██████████████████████████████  | 71kB 7.0MB/s eta 0:00:01\r\u001b[K     |████████████████████████████████| 81kB 4.5MB/s \n",
            "\u001b[?25hRequirement already satisfied: matplotlib in /usr/local/lib/python3.6/dist-packages (from d2l==0.16.1) (3.2.2)\n",
            "Requirement already satisfied: numpy in /usr/local/lib/python3.6/dist-packages (from d2l==0.16.1) (1.19.5)\n",
            "Requirement already satisfied: jupyter in /usr/local/lib/python3.6/dist-packages (from d2l==0.16.1) (1.0.0)\n",
            "Requirement already satisfied: pandas in /usr/local/lib/python3.6/dist-packages (from d2l==0.16.1) (1.1.5)\n",
            "Requirement already satisfied: python-dateutil>=2.1 in /usr/local/lib/python3.6/dist-packages (from matplotlib->d2l==0.16.1) (2.8.1)\n",
            "Requirement already satisfied: pyparsing!=2.0.4,!=2.1.2,!=2.1.6,>=2.0.1 in /usr/local/lib/python3.6/dist-packages (from matplotlib->d2l==0.16.1) (2.4.7)\n",
            "Requirement already satisfied: kiwisolver>=1.0.1 in /usr/local/lib/python3.6/dist-packages (from matplotlib->d2l==0.16.1) (1.3.1)\n",
            "Requirement already satisfied: cycler>=0.10 in /usr/local/lib/python3.6/dist-packages (from matplotlib->d2l==0.16.1) (0.10.0)\n",
            "Requirement already satisfied: jupyter-console in /usr/local/lib/python3.6/dist-packages (from jupyter->d2l==0.16.1) (5.2.0)\n",
            "Requirement already satisfied: notebook in /usr/local/lib/python3.6/dist-packages (from jupyter->d2l==0.16.1) (5.3.1)\n",
            "Requirement already satisfied: ipywidgets in /usr/local/lib/python3.6/dist-packages (from jupyter->d2l==0.16.1) (7.6.3)\n",
            "Requirement already satisfied: qtconsole in /usr/local/lib/python3.6/dist-packages (from jupyter->d2l==0.16.1) (5.0.2)\n",
            "Requirement already satisfied: nbconvert in /usr/local/lib/python3.6/dist-packages (from jupyter->d2l==0.16.1) (5.6.1)\n",
            "Requirement already satisfied: ipykernel in /usr/local/lib/python3.6/dist-packages (from jupyter->d2l==0.16.1) (4.10.1)\n",
            "Requirement already satisfied: pytz>=2017.2 in /usr/local/lib/python3.6/dist-packages (from pandas->d2l==0.16.1) (2018.9)\n",
            "Requirement already satisfied: six>=1.5 in /usr/local/lib/python3.6/dist-packages (from python-dateutil>=2.1->matplotlib->d2l==0.16.1) (1.15.0)\n",
            "Requirement already satisfied: pygments in /usr/local/lib/python3.6/dist-packages (from jupyter-console->jupyter->d2l==0.16.1) (2.6.1)\n",
            "Requirement already satisfied: prompt-toolkit<2.0.0,>=1.0.0 in /usr/local/lib/python3.6/dist-packages (from jupyter-console->jupyter->d2l==0.16.1) (1.0.18)\n",
            "Requirement already satisfied: ipython in /usr/local/lib/python3.6/dist-packages (from jupyter-console->jupyter->d2l==0.16.1) (5.5.0)\n",
            "Requirement already satisfied: jupyter-client in /usr/local/lib/python3.6/dist-packages (from jupyter-console->jupyter->d2l==0.16.1) (5.3.5)\n",
            "Requirement already satisfied: nbformat in /usr/local/lib/python3.6/dist-packages (from notebook->jupyter->d2l==0.16.1) (5.1.2)\n",
            "Requirement already satisfied: ipython-genutils in /usr/local/lib/python3.6/dist-packages (from notebook->jupyter->d2l==0.16.1) (0.2.0)\n",
            "Requirement already satisfied: jupyter-core>=4.4.0 in /usr/local/lib/python3.6/dist-packages (from notebook->jupyter->d2l==0.16.1) (4.7.0)\n",
            "Requirement already satisfied: traitlets>=4.2.1 in /usr/local/lib/python3.6/dist-packages (from notebook->jupyter->d2l==0.16.1) (4.3.3)\n",
            "Requirement already satisfied: tornado>=4 in /usr/local/lib/python3.6/dist-packages (from notebook->jupyter->d2l==0.16.1) (5.1.1)\n",
            "Requirement already satisfied: jinja2 in /usr/local/lib/python3.6/dist-packages (from notebook->jupyter->d2l==0.16.1) (2.11.2)\n",
            "Requirement already satisfied: Send2Trash in /usr/local/lib/python3.6/dist-packages (from notebook->jupyter->d2l==0.16.1) (1.5.0)\n",
            "Requirement already satisfied: terminado>=0.8.1 in /usr/local/lib/python3.6/dist-packages (from notebook->jupyter->d2l==0.16.1) (0.9.2)\n",
            "Requirement already satisfied: jupyterlab-widgets>=1.0.0; python_version >= \"3.6\" in /usr/local/lib/python3.6/dist-packages (from ipywidgets->jupyter->d2l==0.16.1) (1.0.0)\n",
            "Requirement already satisfied: widgetsnbextension~=3.5.0 in /usr/local/lib/python3.6/dist-packages (from ipywidgets->jupyter->d2l==0.16.1) (3.5.1)\n",
            "Requirement already satisfied: pyzmq>=17.1 in /usr/local/lib/python3.6/dist-packages (from qtconsole->jupyter->d2l==0.16.1) (21.0.1)\n",
            "Requirement already satisfied: qtpy in /usr/local/lib/python3.6/dist-packages (from qtconsole->jupyter->d2l==0.16.1) (1.9.0)\n",
            "Requirement already satisfied: pandocfilters>=1.4.1 in /usr/local/lib/python3.6/dist-packages (from nbconvert->jupyter->d2l==0.16.1) (1.4.3)\n",
            "Requirement already satisfied: bleach in /usr/local/lib/python3.6/dist-packages (from nbconvert->jupyter->d2l==0.16.1) (3.2.2)\n",
            "Requirement already satisfied: entrypoints>=0.2.2 in /usr/local/lib/python3.6/dist-packages (from nbconvert->jupyter->d2l==0.16.1) (0.3)\n",
            "Requirement already satisfied: defusedxml in /usr/local/lib/python3.6/dist-packages (from nbconvert->jupyter->d2l==0.16.1) (0.6.0)\n",
            "Requirement already satisfied: testpath in /usr/local/lib/python3.6/dist-packages (from nbconvert->jupyter->d2l==0.16.1) (0.4.4)\n",
            "Requirement already satisfied: mistune<2,>=0.8.1 in /usr/local/lib/python3.6/dist-packages (from nbconvert->jupyter->d2l==0.16.1) (0.8.4)\n",
            "Requirement already satisfied: wcwidth in /usr/local/lib/python3.6/dist-packages (from prompt-toolkit<2.0.0,>=1.0.0->jupyter-console->jupyter->d2l==0.16.1) (0.2.5)\n",
            "Requirement already satisfied: simplegeneric>0.8 in /usr/local/lib/python3.6/dist-packages (from ipython->jupyter-console->jupyter->d2l==0.16.1) (0.8.1)\n",
            "Requirement already satisfied: pexpect; sys_platform != \"win32\" in /usr/local/lib/python3.6/dist-packages (from ipython->jupyter-console->jupyter->d2l==0.16.1) (4.8.0)\n",
            "Requirement already satisfied: setuptools>=18.5 in /usr/local/lib/python3.6/dist-packages (from ipython->jupyter-console->jupyter->d2l==0.16.1) (51.3.3)\n",
            "Requirement already satisfied: pickleshare in /usr/local/lib/python3.6/dist-packages (from ipython->jupyter-console->jupyter->d2l==0.16.1) (0.7.5)\n",
            "Requirement already satisfied: decorator in /usr/local/lib/python3.6/dist-packages (from ipython->jupyter-console->jupyter->d2l==0.16.1) (4.4.2)\n",
            "Requirement already satisfied: jsonschema!=2.5.0,>=2.4 in /usr/local/lib/python3.6/dist-packages (from nbformat->notebook->jupyter->d2l==0.16.1) (2.6.0)\n",
            "Requirement already satisfied: MarkupSafe>=0.23 in /usr/local/lib/python3.6/dist-packages (from jinja2->notebook->jupyter->d2l==0.16.1) (1.1.1)\n",
            "Requirement already satisfied: ptyprocess; os_name != \"nt\" in /usr/local/lib/python3.6/dist-packages (from terminado>=0.8.1->notebook->jupyter->d2l==0.16.1) (0.7.0)\n",
            "Requirement already satisfied: webencodings in /usr/local/lib/python3.6/dist-packages (from bleach->nbconvert->jupyter->d2l==0.16.1) (0.5.1)\n",
            "Requirement already satisfied: packaging in /usr/local/lib/python3.6/dist-packages (from bleach->nbconvert->jupyter->d2l==0.16.1) (20.8)\n",
            "Installing collected packages: d2l\n",
            "Successfully installed d2l-0.16.1\n",
            "Collecting mxnet-cu101==1.7.0\n",
            "\u001b[?25l  Downloading https://files.pythonhosted.org/packages/40/26/9655677b901537f367c3c473376e4106abc72e01a8fc25b1cb6ed9c37e8c/mxnet_cu101-1.7.0-py2.py3-none-manylinux2014_x86_64.whl (846.0MB)\n",
            "\u001b[K     |███████████████████████████████▌| 834.1MB 1.3MB/s eta 0:00:10tcmalloc: large alloc 1147494400 bytes == 0x66334000 @  0x7fb17dfa1615 0x591e47 0x4cc179 0x4cc2db 0x50a1cc 0x50beb4 0x507be4 0x509900 0x50a2fd 0x50beb4 0x507be4 0x509900 0x50a2fd 0x50cc96 0x58e683 0x50c127 0x58e683 0x50c127 0x58e683 0x50c127 0x58e683 0x50c127 0x5095c8 0x50a2fd 0x50beb4 0x507be4 0x509900 0x50a2fd 0x50beb4 0x5095c8 0x50a2fd\n",
            "\u001b[K     |████████████████████████████████| 846.0MB 20kB/s \n",
            "\u001b[?25hRequirement already satisfied, skipping upgrade: requests<3,>=2.20.0 in /usr/local/lib/python3.6/dist-packages (from mxnet-cu101==1.7.0) (2.23.0)\n",
            "Requirement already satisfied, skipping upgrade: numpy<2.0.0,>1.16.0 in /usr/local/lib/python3.6/dist-packages (from mxnet-cu101==1.7.0) (1.19.5)\n",
            "Collecting graphviz<0.9.0,>=0.8.1\n",
            "  Downloading https://files.pythonhosted.org/packages/53/39/4ab213673844e0c004bed8a0781a0721a3f6bb23eb8854ee75c236428892/graphviz-0.8.4-py2.py3-none-any.whl\n",
            "Requirement already satisfied, skipping upgrade: urllib3!=1.25.0,!=1.25.1,<1.26,>=1.21.1 in /usr/local/lib/python3.6/dist-packages (from requests<3,>=2.20.0->mxnet-cu101==1.7.0) (1.24.3)\n",
            "Requirement already satisfied, skipping upgrade: idna<3,>=2.5 in /usr/local/lib/python3.6/dist-packages (from requests<3,>=2.20.0->mxnet-cu101==1.7.0) (2.10)\n",
            "Requirement already satisfied, skipping upgrade: certifi>=2017.4.17 in /usr/local/lib/python3.6/dist-packages (from requests<3,>=2.20.0->mxnet-cu101==1.7.0) (2020.12.5)\n",
            "Requirement already satisfied, skipping upgrade: chardet<4,>=3.0.2 in /usr/local/lib/python3.6/dist-packages (from requests<3,>=2.20.0->mxnet-cu101==1.7.0) (3.0.4)\n",
            "Installing collected packages: graphviz, mxnet-cu101\n",
            "  Found existing installation: graphviz 0.10.1\n",
            "    Uninstalling graphviz-0.10.1:\n",
            "      Successfully uninstalled graphviz-0.10.1\n",
            "Successfully installed graphviz-0.8.4 mxnet-cu101-1.7.0\n"
          ],
          "name": "stdout"
        }
      ]
    },
    {
      "cell_type": "code",
      "metadata": {
        "id": "Ne41gwnbsB86"
      },
      "source": [
        "%matplotlib inline\r\n",
        "from d2l import mxnet as d2l\r\n",
        "from mxnet import image, npx, np\r\n",
        "\r\n",
        "npx.set_np()"
      ],
      "execution_count": 3,
      "outputs": []
    },
    {
      "cell_type": "code",
      "metadata": {
        "id": "NYig1OE1OdZi"
      },
      "source": [
        "import sys\r\n",
        "sys.path.insert(0,'..')\r\n",
        "from mxnet import nd\r\n",
        "import random"
      ],
      "execution_count": 4,
      "outputs": []
    },
    {
      "cell_type": "markdown",
      "metadata": {
        "id": "gA50ITJKQif0"
      },
      "source": [
        "### Reading Data"
      ]
    },
    {
      "cell_type": "code",
      "metadata": {
        "id": "XS4-5uB8Pb_a"
      },
      "source": [
        "with open('timemachine.txt','r') as f:\r\n",
        "  lines = f.readlines()\r\n",
        "  raw_dataset = ' '.join(' '.join(lines).lower().split())"
      ],
      "execution_count": 5,
      "outputs": []
    },
    {
      "cell_type": "code",
      "metadata": {
        "colab": {
          "base_uri": "https://localhost:8080/"
        },
        "id": "JDhiNvk1QJtB",
        "outputId": "d63d4288-4912-48af-ea33-bab5d7290fec"
      },
      "source": [
        "print(\"total characters in dataset : \",len(raw_dataset))\r\n",
        "print(\"Sample dataset : \",raw_dataset[:100])"
      ],
      "execution_count": 6,
      "outputs": [
        {
          "output_type": "stream",
          "text": [
            "total characters in dataset :  178605\n",
            "Sample dataset :  the time machine, by h. g. wells [1898] i the time traveller (for so it will be convenient to speak \n"
          ],
          "name": "stdout"
        }
      ]
    },
    {
      "cell_type": "markdown",
      "metadata": {
        "id": "mKPTbu0VQmHc"
      },
      "source": [
        "### Character Index"
      ]
    },
    {
      "cell_type": "code",
      "metadata": {
        "colab": {
          "base_uri": "https://localhost:8080/"
        },
        "id": "pIEBnp-3Qb81",
        "outputId": "299d7958-d92b-422e-da9b-612dd9c15ba8"
      },
      "source": [
        "idx_to_char = list(set(raw_dataset))\r\n",
        "print(\"total unique characters in dataset : \",len(idx_to_char))\r\n",
        "print(idx_to_char)"
      ],
      "execution_count": 7,
      "outputs": [
        {
          "output_type": "stream",
          "text": [
            "total unique characters in dataset :  44\n",
            "['b', '8', '9', '!', 'q', 'h', '(', '_', 'e', '\"', 'm', 'g', 'j', 'l', 'd', 'y', ' ', 'p', '1', 'f', 'i', ')', 'u', 'v', '.', 'w', 'k', \"'\", 'o', '?', 'x', ';', 'n', 'c', 'a', ',', 't', 'r', '[', ']', ':', 's', '-', 'z']\n"
          ],
          "name": "stdout"
        }
      ]
    },
    {
      "cell_type": "code",
      "metadata": {
        "colab": {
          "base_uri": "https://localhost:8080/"
        },
        "id": "19MIhDTtRNm-",
        "outputId": "f6ef1957-01d5-4d2c-8d7f-538976bac6e1"
      },
      "source": [
        "char_to_idx = dict([ (char, i) for i, char in enumerate(idx_to_char)])\r\n",
        "print(char_to_idx)"
      ],
      "execution_count": 8,
      "outputs": [
        {
          "output_type": "stream",
          "text": [
            "{'b': 0, '8': 1, '9': 2, '!': 3, 'q': 4, 'h': 5, '(': 6, '_': 7, 'e': 8, '\"': 9, 'm': 10, 'g': 11, 'j': 12, 'l': 13, 'd': 14, 'y': 15, ' ': 16, 'p': 17, '1': 18, 'f': 19, 'i': 20, ')': 21, 'u': 22, 'v': 23, '.': 24, 'w': 25, 'k': 26, \"'\": 27, 'o': 28, '?': 29, 'x': 30, ';': 31, 'n': 32, 'c': 33, 'a': 34, ',': 35, 't': 36, 'r': 37, '[': 38, ']': 39, ':': 40, 's': 41, '-': 42, 'z': 43}\n"
          ],
          "name": "stdout"
        }
      ]
    },
    {
      "cell_type": "code",
      "metadata": {
        "colab": {
          "base_uri": "https://localhost:8080/"
        },
        "id": "-qutsq-2R99K",
        "outputId": "cb2589fe-dd86-4e37-8309-acc2d316d761"
      },
      "source": [
        "vocab_size = len(char_to_idx)\r\n",
        "print(\"Vocab size is : \", vocab_size)"
      ],
      "execution_count": 9,
      "outputs": [
        {
          "output_type": "stream",
          "text": [
            "Vocab size is :  44\n"
          ],
          "name": "stdout"
        }
      ]
    },
    {
      "cell_type": "markdown",
      "metadata": {
        "id": "nK2nZBnYRMWC"
      },
      "source": [
        "### Index to Text"
      ]
    },
    {
      "cell_type": "code",
      "metadata": {
        "colab": {
          "base_uri": "https://localhost:8080/"
        },
        "id": "PjzQ7ZDZVQK8",
        "outputId": "2c6c8dd2-740f-49cc-bc58-49ba07af3c28"
      },
      "source": [
        "corpus_indices = [char_to_idx[char] for char in raw_dataset]\r\n",
        "print(corpus_indices[:10])\r\n",
        "sample = corpus_indices[:100]"
      ],
      "execution_count": 10,
      "outputs": [
        {
          "output_type": "stream",
          "text": [
            "[36, 5, 8, 16, 36, 20, 10, 8, 16, 10]\n"
          ],
          "name": "stdout"
        }
      ]
    },
    {
      "cell_type": "code",
      "metadata": {
        "colab": {
          "base_uri": "https://localhost:8080/"
        },
        "id": "Mw3If2-jWrqD",
        "outputId": "6f34da2d-e841-472e-dfb2-0142b8737672"
      },
      "source": [
        "print(\"Indices in sample : \", sample)\r\n",
        "print(\"Sample text : \",''.join([ idx_to_char[idx] for idx in sample]))"
      ],
      "execution_count": 11,
      "outputs": [
        {
          "output_type": "stream",
          "text": [
            "Indices in sample :  [36, 5, 8, 16, 36, 20, 10, 8, 16, 10, 34, 33, 5, 20, 32, 8, 35, 16, 0, 15, 16, 5, 24, 16, 11, 24, 16, 25, 8, 13, 13, 41, 16, 38, 18, 1, 2, 1, 39, 16, 20, 16, 36, 5, 8, 16, 36, 20, 10, 8, 16, 36, 37, 34, 23, 8, 13, 13, 8, 37, 16, 6, 19, 28, 37, 16, 41, 28, 16, 20, 36, 16, 25, 20, 13, 13, 16, 0, 8, 16, 33, 28, 32, 23, 8, 32, 20, 8, 32, 36, 16, 36, 28, 16, 41, 17, 8, 34, 26, 16]\n",
            "Sample text :  the time machine, by h. g. wells [1898] i the time traveller (for so it will be convenient to speak \n"
          ],
          "name": "stdout"
        }
      ]
    },
    {
      "cell_type": "markdown",
      "metadata": {
        "id": "6boLBzb2hJ0f"
      },
      "source": [
        "### Random Sampling"
      ]
    },
    {
      "cell_type": "code",
      "metadata": {
        "id": "_IJjExLyfsmh"
      },
      "source": [
        "def seq_data_iter_random(corpus, batch_size, num_steps, verbose = False):  #@save\r\n",
        "    \"\"\"Generate a minibatch of subsequences using random sampling.\"\"\"\r\n",
        "    \r\n",
        "    # Start with a random offset (inclusive of `num_steps - 1`) to partition a\r\n",
        "    # sequence\r\n",
        "    \r\n",
        "    offset = random.randint(0, num_steps - 1)\r\n",
        "    corpus = corpus[offset:]    \r\n",
        "    # Subtract 1 since we need to account for labels\r\n",
        "    num_subseqs = (len(corpus) - 1) // num_steps\r\n",
        "    if verbose :\r\n",
        "        print(\"Offset is : {OS} and Corpus length is : {cps}\\n\".format(OS = offset, cps = len(corpus)))\r\n",
        "        print(\"Steps : \", num_steps)\r\n",
        "        print(\"\\nNumber of subsequences are : \",num_subseqs,\"\\n\")\r\n",
        "    # The starting indices for subsequences of length `num_steps`\r\n",
        "    initial_indices = list(range(0, num_subseqs * num_steps, num_steps))\r\n",
        "    # In random sampling, the subsequences from two adjacent random\r\n",
        "    # minibatches during iteration are not necessarily adjacent on the\r\n",
        "    # original sequence\r\n",
        "    random.shuffle(initial_indices)\r\n",
        "\r\n",
        "    def data(pos):\r\n",
        "        # Return a sequence of length `num_steps` starting from `pos`\r\n",
        "        return corpus[pos: pos + num_steps]\r\n",
        "\r\n",
        "    num_batches = num_subseqs // batch_size\r\n",
        "    \r\n",
        "    if verbose :\r\n",
        "        print(\"Number of batches : \",num_batches,\" and batch size is : \", batch_size,\"\\n\")\r\n",
        "\r\n",
        "    for i in range(0, batch_size * num_batches, batch_size):\r\n",
        "        # Here, `initial_indices` contains randomized starting indices for\r\n",
        "        # subsequences\r\n",
        "        initial_indices_per_batch = initial_indices[i: i + batch_size]\r\n",
        "        \r\n",
        "        if verbose : \r\n",
        "            print(i,\" to \" ,i + batch_size-1,\" initial indices per batch : \",initial_indices_per_batch,\"\\n\")\r\n",
        "        \r\n",
        "        X = [data(j) for j in initial_indices_per_batch]\r\n",
        "        Y = [data(j + 1) for j in initial_indices_per_batch]\r\n",
        "        yield np.array(X), np.array(Y)"
      ],
      "execution_count": 12,
      "outputs": []
    },
    {
      "cell_type": "code",
      "metadata": {
        "colab": {
          "base_uri": "https://localhost:8080/"
        },
        "id": "9PwI48Rum2hB",
        "outputId": "cc833682-f967-4bea-dd36-d1033591590f"
      },
      "source": [
        "my_seq = list(range(35))\r\n",
        "for X, Y in seq_data_iter_random(my_seq, batch_size=2, num_steps=5, verbose = True):\r\n",
        "    print('\\nX:\\n ', X, '\\n\\nY:\\n', Y,\"\\n\\n\")"
      ],
      "execution_count": 13,
      "outputs": [
        {
          "output_type": "stream",
          "text": [
            "Offset is : 1 and Corpus length is : 34\n",
            "\n",
            "Steps :  5\n",
            "\n",
            "Number of subsequences are :  6 \n",
            "\n",
            "Number of batches :  3  and batch size is :  2 \n",
            "\n",
            "0  to  1  initial indices per batch :  [15, 10] \n",
            "\n",
            "\n",
            "X:\n",
            "  [[16. 17. 18. 19. 20.]\n",
            " [11. 12. 13. 14. 15.]] \n",
            "\n",
            "Y:\n",
            " [[17. 18. 19. 20. 21.]\n",
            " [12. 13. 14. 15. 16.]] \n",
            "\n",
            "\n",
            "2  to  3  initial indices per batch :  [0, 25] \n",
            "\n",
            "\n",
            "X:\n",
            "  [[ 1.  2.  3.  4.  5.]\n",
            " [26. 27. 28. 29. 30.]] \n",
            "\n",
            "Y:\n",
            " [[ 2.  3.  4.  5.  6.]\n",
            " [27. 28. 29. 30. 31.]] \n",
            "\n",
            "\n",
            "4  to  5  initial indices per batch :  [20, 5] \n",
            "\n",
            "\n",
            "X:\n",
            "  [[21. 22. 23. 24. 25.]\n",
            " [ 6.  7.  8.  9. 10.]] \n",
            "\n",
            "Y:\n",
            " [[22. 23. 24. 25. 26.]\n",
            " [ 7.  8.  9. 10. 11.]] \n",
            "\n",
            "\n"
          ],
          "name": "stdout"
        }
      ]
    },
    {
      "cell_type": "code",
      "metadata": {
        "id": "Fq-U_jULyOQi"
      },
      "source": [
        "def seq_data_iter_sequential(corpus, batch_size, num_steps, verbose = False):  #@save\r\n",
        "    \"\"\"Generate a minibatch of subsequences using sequential partitioning.\"\"\"\r\n",
        "    # Start with a random offset to partition a sequence\r\n",
        "    offset = random.randint(0, num_steps)\r\n",
        "    num_tokens = ((len(corpus) - offset - 1) // batch_size) * batch_size\r\n",
        "\r\n",
        "    if verbose :\r\n",
        "          print(\"Offset is : \", offset,\" Number of tokens are : \", num_tokens)\r\n",
        "\r\n",
        "    Xs = np.array(corpus[offset: offset + num_tokens])\r\n",
        "    Ys = np.array(corpus[offset + 1: offset + 1 + num_tokens])\r\n",
        "\r\n",
        "    if verbose :\r\n",
        "        print(\"\\nX : \", Xs.shape,\" Y : \", Ys.shape)\r\n",
        "\r\n",
        "    Xs, Ys = Xs.reshape(batch_size, -1), Ys.reshape(batch_size, -1)\r\n",
        "    num_batches = Xs.shape[1] // num_steps\r\n",
        "    \r\n",
        "    if verbose :\r\n",
        "        print(\"\\nX : \", Xs.shape,\" Y : \", Ys.shape)\r\n",
        "        print(\"\\nNumber of batches : \", num_batches)\r\n",
        "    \r\n",
        "    for i in range(0, num_steps * num_batches, num_steps):\r\n",
        "        X = Xs[:, i: i + num_steps]\r\n",
        "        Y = Ys[:, i: i + num_steps]\r\n",
        "        yield X, Y"
      ],
      "execution_count": 14,
      "outputs": []
    },
    {
      "cell_type": "code",
      "metadata": {
        "colab": {
          "base_uri": "https://localhost:8080/"
        },
        "id": "7WB_sU0Z06C9",
        "outputId": "f2787845-6c88-43a0-aed2-ba5fd90a98ab"
      },
      "source": [
        "my_seq = list(range(35))\r\n",
        "for X, Y in seq_data_iter_sequential(my_seq, batch_size=2, num_steps=5, verbose = True):\r\n",
        "    print('\\nX:\\n ', X, '\\n\\nY:\\n', Y,\"\\n\\n\")"
      ],
      "execution_count": 15,
      "outputs": [
        {
          "output_type": "stream",
          "text": [
            "Offset is :  1  Number of tokens are :  32\n",
            "\n",
            "X :  (32,)  Y :  (32,)\n",
            "\n",
            "X :  (2, 16)  Y :  (2, 16)\n",
            "\n",
            "Number of batches :  3\n",
            "\n",
            "X:\n",
            "  [[ 1.  2.  3.  4.  5.]\n",
            " [17. 18. 19. 20. 21.]] \n",
            "\n",
            "Y:\n",
            " [[ 2.  3.  4.  5.  6.]\n",
            " [18. 19. 20. 21. 22.]] \n",
            "\n",
            "\n",
            "\n",
            "X:\n",
            "  [[ 6.  7.  8.  9. 10.]\n",
            " [22. 23. 24. 25. 26.]] \n",
            "\n",
            "Y:\n",
            " [[ 7.  8.  9. 10. 11.]\n",
            " [23. 24. 25. 26. 27.]] \n",
            "\n",
            "\n",
            "\n",
            "X:\n",
            "  [[11. 12. 13. 14. 15.]\n",
            " [27. 28. 29. 30. 31.]] \n",
            "\n",
            "Y:\n",
            " [[12. 13. 14. 15. 16.]\n",
            " [28. 29. 30. 31. 32.]] \n",
            "\n",
            "\n"
          ],
          "name": "stdout"
        }
      ]
    }
  ]
}