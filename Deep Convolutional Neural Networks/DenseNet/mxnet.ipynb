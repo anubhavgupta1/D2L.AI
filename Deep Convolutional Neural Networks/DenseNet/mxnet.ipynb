{
  "nbformat": 4,
  "nbformat_minor": 0,
  "metadata": {
    "colab": {
      "name": "Untitled23.ipynb",
      "provenance": [],
      "authorship_tag": "ABX9TyNwYx6LzVqPrf6Yi5PS0y4z",
      "include_colab_link": true
    },
    "kernelspec": {
      "display_name": "Python 3",
      "name": "python3"
    },
    "accelerator": "GPU"
  },
  "cells": [
    {
      "cell_type": "markdown",
      "metadata": {
        "id": "view-in-github",
        "colab_type": "text"
      },
      "source": [
        "<a href=\"https://colab.research.google.com/github/anubhavgupta1/Dive-Into-Deep-Learning/blob/main/Deep%20Convolutional%20Neural%20Networks/DenseNet/mxnet.ipynb\" target=\"_parent\"><img src=\"https://colab.research.google.com/assets/colab-badge.svg\" alt=\"Open In Colab\"/></a>"
      ]
    },
    {
      "cell_type": "markdown",
      "metadata": {
        "id": "QoJIK_HF-u6P"
      },
      "source": [
        "#  LeNet"
      ]
    },
    {
      "cell_type": "code",
      "metadata": {
        "id": "K6i8TCh4El8a"
      },
      "source": [
        "!pip install d2l==0.16.1\r\n",
        "!pip install -U mxnet-cu101==1.7.0"
      ],
      "execution_count": null,
      "outputs": []
    },
    {
      "cell_type": "code",
      "metadata": {
        "id": "wgfXLCp88qGp"
      },
      "source": [
        "from d2l import mxnet as d2l\r\n",
        "from mxnet import np, npx\r\n",
        "from mxnet.gluon import nn\r\n",
        "npx.set_np()"
      ],
      "execution_count": 2,
      "outputs": []
    },
    {
      "cell_type": "markdown",
      "metadata": {
        "id": "cHy23DqDEWfW"
      },
      "source": [
        "### Reading Data"
      ]
    },
    {
      "cell_type": "code",
      "metadata": {
        "id": "Q5Es9gLPEZSx"
      },
      "source": [
        "batch_size = 256\r\n",
        "train_iter, test_iter = d2l.load_data_fashion_mnist(batch_size, resize=96)"
      ],
      "execution_count": null,
      "outputs": []
    },
    {
      "cell_type": "markdown",
      "metadata": {
        "id": "0qNF4u979Ot0"
      },
      "source": [
        "### Conv Block"
      ]
    },
    {
      "cell_type": "code",
      "metadata": {
        "id": "XJbNZKJm8vES"
      },
      "source": [
        "def conv_block(num_channels):\r\n",
        "    blk = nn.Sequential()\r\n",
        "    blk.add(nn.BatchNorm(),\r\n",
        "            nn.Activation('relu'),\r\n",
        "            nn.Conv2D(num_channels, kernel_size=3, padding=1))\r\n",
        "    return blk"
      ],
      "execution_count": 4,
      "outputs": []
    },
    {
      "cell_type": "markdown",
      "metadata": {
        "id": "oEISdRSVMSjQ"
      },
      "source": [
        "### Dense Block"
      ]
    },
    {
      "cell_type": "code",
      "metadata": {
        "id": "uozf55pnMVpM"
      },
      "source": [
        "class DenseBlock(nn.Block):\r\n",
        "    def __init__(self, num_convs, num_channels, **kwargs):\r\n",
        "        super().__init__(**kwargs)\r\n",
        "        self.net = nn.Sequential()\r\n",
        "        for _ in range(num_convs):\r\n",
        "            self.net.add(conv_block(num_channels))\r\n",
        "\r\n",
        "    def forward(self, X):\r\n",
        "        for blk in self.net:\r\n",
        "            Y = blk(X)\r\n",
        "            # Concatenate the input and output of each block on the channel\r\n",
        "            # dimension\r\n",
        "            X = np.concatenate((X, Y), axis=1)\r\n",
        "        return X"
      ],
      "execution_count": 5,
      "outputs": []
    },
    {
      "cell_type": "code",
      "metadata": {
        "id": "hd9bw19wNPt7"
      },
      "source": [
        "X = np.random.uniform(size=(4, 3, 8, 8))"
      ],
      "execution_count": 6,
      "outputs": []
    },
    {
      "cell_type": "code",
      "metadata": {
        "colab": {
          "base_uri": "https://localhost:8080/"
        },
        "id": "hWlhJy8YMbaK",
        "outputId": "5a69dcec-6882-4eb7-b6a5-2481b83e89a8"
      },
      "source": [
        "blk1 = DenseBlock(2, 10)\r\n",
        "blk1.initialize()\r\n",
        "blk1.summary(X)"
      ],
      "execution_count": 7,
      "outputs": [
        {
          "output_type": "stream",
          "text": [
            "--------------------------------------------------------------------------------\n",
            "        Layer (type)                                Output Shape         Param #\n",
            "================================================================================\n",
            "               Input                                (4, 3, 8, 8)               0\n",
            "         BatchNorm-1                                (4, 3, 8, 8)              12\n",
            "        Activation-2                                (4, 3, 8, 8)               0\n",
            "            Conv2D-3                               (4, 10, 8, 8)             280\n",
            "         BatchNorm-4                               (4, 13, 8, 8)              52\n",
            "        Activation-5                               (4, 13, 8, 8)               0\n",
            "            Conv2D-6                               (4, 10, 8, 8)            1180\n",
            "        DenseBlock-7                               (4, 23, 8, 8)               0\n",
            "================================================================================\n",
            "Parameters in forward computation graph, duplicate included\n",
            "   Total params: 1524\n",
            "   Trainable params: 1492\n",
            "   Non-trainable params: 32\n",
            "Shared params in forward computation graph: 0\n",
            "Unique parameters in model: 1524\n",
            "--------------------------------------------------------------------------------\n"
          ],
          "name": "stdout"
        }
      ]
    },
    {
      "cell_type": "markdown",
      "metadata": {
        "id": "Tmv7SwFwIEo-"
      },
      "source": [
        "###  Transition Block"
      ]
    },
    {
      "cell_type": "code",
      "metadata": {
        "id": "FlAcInFuIYk-"
      },
      "source": [
        "def transition_block(num_channels):\r\n",
        "    blk = nn.Sequential()\r\n",
        "    blk.add(nn.BatchNorm(), nn.Activation('relu'),\r\n",
        "            nn.Conv2D(num_channels, kernel_size=1),\r\n",
        "            nn.AvgPool2D(pool_size=2, strides=2))\r\n",
        "    return blk"
      ],
      "execution_count": 8,
      "outputs": []
    },
    {
      "cell_type": "code",
      "metadata": {
        "colab": {
          "base_uri": "https://localhost:8080/"
        },
        "id": "uKRkU8jnMwMS",
        "outputId": "b4d90e43-38fc-4027-a6a5-1a4f7aa25972"
      },
      "source": [
        "blk2 = transition_block(10)\r\n",
        "blk2.initialize()\r\n",
        "blk2.summary(blk1(X))"
      ],
      "execution_count": 9,
      "outputs": [
        {
          "output_type": "stream",
          "text": [
            "--------------------------------------------------------------------------------\n",
            "        Layer (type)                                Output Shape         Param #\n",
            "================================================================================\n",
            "               Input                               (4, 23, 8, 8)               0\n",
            "         BatchNorm-1                               (4, 23, 8, 8)              92\n",
            "        Activation-2                               (4, 23, 8, 8)               0\n",
            "            Conv2D-3                               (4, 10, 8, 8)             240\n",
            "         AvgPool2D-4                               (4, 10, 4, 4)               0\n",
            "================================================================================\n",
            "Parameters in forward computation graph, duplicate included\n",
            "   Total params: 332\n",
            "   Trainable params: 286\n",
            "   Non-trainable params: 46\n",
            "Shared params in forward computation graph: 0\n",
            "Unique parameters in model: 332\n",
            "--------------------------------------------------------------------------------\n"
          ],
          "name": "stdout"
        }
      ]
    },
    {
      "cell_type": "markdown",
      "metadata": {
        "id": "YGW6MHZnNUCt"
      },
      "source": [
        "### Dense Net Model"
      ]
    },
    {
      "cell_type": "code",
      "metadata": {
        "id": "yvwnCU6qNXVj"
      },
      "source": [
        "net = nn.Sequential()\r\n",
        "net.add(nn.Conv2D(64, kernel_size=7, strides=2, padding=3),\r\n",
        "        nn.BatchNorm(), nn.Activation('relu'),\r\n",
        "        nn.MaxPool2D(pool_size=3, strides=2, padding=1))"
      ],
      "execution_count": 10,
      "outputs": []
    },
    {
      "cell_type": "code",
      "metadata": {
        "id": "FgO7UgFoNjq7"
      },
      "source": [
        "# `num_channels`: the current number of channels\r\n",
        "num_channels, growth_rate = 64, 32\r\n",
        "num_convs_in_dense_blocks = [4, 4, 4, 4]\r\n",
        "\r\n",
        "for i, num_convs in enumerate(num_convs_in_dense_blocks):\r\n",
        "    net.add(DenseBlock(num_convs, growth_rate))\r\n",
        "    # This is the number of output channels in the previous dense block\r\n",
        "    num_channels += num_convs * growth_rate\r\n",
        "    # A transition layer that halves the number of channels is added between\r\n",
        "    # the dense blocks\r\n",
        "    if i != len(num_convs_in_dense_blocks) - 1:\r\n",
        "        num_channels //= 2\r\n",
        "        net.add(transition_block(num_channels))"
      ],
      "execution_count": 11,
      "outputs": []
    },
    {
      "cell_type": "code",
      "metadata": {
        "id": "r5B5LAwbNnHl"
      },
      "source": [
        "net.add(nn.BatchNorm(),\r\n",
        "        nn.Activation('relu'),\r\n",
        "        nn.GlobalAvgPool2D(),\r\n",
        "        nn.Dense(10))"
      ],
      "execution_count": 12,
      "outputs": []
    },
    {
      "cell_type": "code",
      "metadata": {
        "id": "LYELNqlNxs7w"
      },
      "source": [
        "net.initialize()"
      ],
      "execution_count": 13,
      "outputs": []
    },
    {
      "cell_type": "code",
      "metadata": {
        "colab": {
          "base_uri": "https://localhost:8080/"
        },
        "id": "HfEcms5yJKjz",
        "outputId": "e5cb0b68-ec15-450d-b2a2-58d20a25870b"
      },
      "source": [
        "X = np.random.uniform(size=(1, 1, 96, 96))\r\n",
        "net.summary(X)"
      ],
      "execution_count": 14,
      "outputs": [
        {
          "output_type": "stream",
          "text": [
            "--------------------------------------------------------------------------------\n",
            "        Layer (type)                                Output Shape         Param #\n",
            "================================================================================\n",
            "               Input                              (1, 1, 96, 96)               0\n",
            "            Conv2D-1                             (1, 64, 48, 48)            3200\n",
            "         BatchNorm-2                             (1, 64, 48, 48)             256\n",
            "        Activation-3                             (1, 64, 48, 48)               0\n",
            "         MaxPool2D-4                             (1, 64, 24, 24)               0\n",
            "         BatchNorm-5                             (1, 64, 24, 24)             256\n",
            "        Activation-6                             (1, 64, 24, 24)               0\n",
            "            Conv2D-7                             (1, 32, 24, 24)           18464\n",
            "         BatchNorm-8                             (1, 96, 24, 24)             384\n",
            "        Activation-9                             (1, 96, 24, 24)               0\n",
            "           Conv2D-10                             (1, 32, 24, 24)           27680\n",
            "        BatchNorm-11                            (1, 128, 24, 24)             512\n",
            "       Activation-12                            (1, 128, 24, 24)               0\n",
            "           Conv2D-13                             (1, 32, 24, 24)           36896\n",
            "        BatchNorm-14                            (1, 160, 24, 24)             640\n",
            "       Activation-15                            (1, 160, 24, 24)               0\n",
            "           Conv2D-16                             (1, 32, 24, 24)           46112\n",
            "       DenseBlock-17                            (1, 192, 24, 24)               0\n",
            "        BatchNorm-18                            (1, 192, 24, 24)             768\n",
            "       Activation-19                            (1, 192, 24, 24)               0\n",
            "           Conv2D-20                             (1, 96, 24, 24)           18528\n",
            "        AvgPool2D-21                             (1, 96, 12, 12)               0\n",
            "        BatchNorm-22                             (1, 96, 12, 12)             384\n",
            "       Activation-23                             (1, 96, 12, 12)               0\n",
            "           Conv2D-24                             (1, 32, 12, 12)           27680\n",
            "        BatchNorm-25                            (1, 128, 12, 12)             512\n",
            "       Activation-26                            (1, 128, 12, 12)               0\n",
            "           Conv2D-27                             (1, 32, 12, 12)           36896\n",
            "        BatchNorm-28                            (1, 160, 12, 12)             640\n",
            "       Activation-29                            (1, 160, 12, 12)               0\n",
            "           Conv2D-30                             (1, 32, 12, 12)           46112\n",
            "        BatchNorm-31                            (1, 192, 12, 12)             768\n",
            "       Activation-32                            (1, 192, 12, 12)               0\n",
            "           Conv2D-33                             (1, 32, 12, 12)           55328\n",
            "       DenseBlock-34                            (1, 224, 12, 12)               0\n",
            "        BatchNorm-35                            (1, 224, 12, 12)             896\n",
            "       Activation-36                            (1, 224, 12, 12)               0\n",
            "           Conv2D-37                            (1, 112, 12, 12)           25200\n",
            "        AvgPool2D-38                              (1, 112, 6, 6)               0\n",
            "        BatchNorm-39                              (1, 112, 6, 6)             448\n",
            "       Activation-40                              (1, 112, 6, 6)               0\n",
            "           Conv2D-41                               (1, 32, 6, 6)           32288\n",
            "        BatchNorm-42                              (1, 144, 6, 6)             576\n",
            "       Activation-43                              (1, 144, 6, 6)               0\n",
            "           Conv2D-44                               (1, 32, 6, 6)           41504\n",
            "        BatchNorm-45                              (1, 176, 6, 6)             704\n",
            "       Activation-46                              (1, 176, 6, 6)               0\n",
            "           Conv2D-47                               (1, 32, 6, 6)           50720\n",
            "        BatchNorm-48                              (1, 208, 6, 6)             832\n",
            "       Activation-49                              (1, 208, 6, 6)               0\n",
            "           Conv2D-50                               (1, 32, 6, 6)           59936\n",
            "       DenseBlock-51                              (1, 240, 6, 6)               0\n",
            "        BatchNorm-52                              (1, 240, 6, 6)             960\n",
            "       Activation-53                              (1, 240, 6, 6)               0\n",
            "           Conv2D-54                              (1, 120, 6, 6)           28920\n",
            "        AvgPool2D-55                              (1, 120, 3, 3)               0\n",
            "        BatchNorm-56                              (1, 120, 3, 3)             480\n",
            "       Activation-57                              (1, 120, 3, 3)               0\n",
            "           Conv2D-58                               (1, 32, 3, 3)           34592\n",
            "        BatchNorm-59                              (1, 152, 3, 3)             608\n",
            "       Activation-60                              (1, 152, 3, 3)               0\n",
            "           Conv2D-61                               (1, 32, 3, 3)           43808\n",
            "        BatchNorm-62                              (1, 184, 3, 3)             736\n",
            "       Activation-63                              (1, 184, 3, 3)               0\n",
            "           Conv2D-64                               (1, 32, 3, 3)           53024\n",
            "        BatchNorm-65                              (1, 216, 3, 3)             864\n",
            "       Activation-66                              (1, 216, 3, 3)               0\n",
            "           Conv2D-67                               (1, 32, 3, 3)           62240\n",
            "       DenseBlock-68                              (1, 248, 3, 3)               0\n",
            "        BatchNorm-69                              (1, 248, 3, 3)             992\n",
            "       Activation-70                              (1, 248, 3, 3)               0\n",
            "  GlobalAvgPool2D-71                              (1, 248, 1, 1)               0\n",
            "            Dense-72                                     (1, 10)            2490\n",
            "================================================================================\n",
            "Parameters in forward computation graph, duplicate included\n",
            "   Total params: 764834\n",
            "   Trainable params: 758226\n",
            "   Non-trainable params: 6608\n",
            "Shared params in forward computation graph: 0\n",
            "Unique parameters in model: 764834\n",
            "--------------------------------------------------------------------------------\n"
          ],
          "name": "stdout"
        }
      ]
    },
    {
      "cell_type": "code",
      "metadata": {
        "colab": {
          "base_uri": "https://localhost:8080/"
        },
        "id": "AnJJyNcG2lZY",
        "outputId": "6163060b-bcb3-482a-cbf4-7c8f50206889"
      },
      "source": [
        "X = np.random.uniform(size=(1, 1, 96, 96))\r\n",
        "for layer in net:\r\n",
        "    print(layer.summary(X))\r\n",
        "    X = layer(X)\r\n",
        "    print(layer.name, 'output shape:\\t', X.shape)"
      ],
      "execution_count": 15,
      "outputs": [
        {
          "output_type": "stream",
          "text": [
            "--------------------------------------------------------------------------------\n",
            "        Layer (type)                                Output Shape         Param #\n",
            "================================================================================\n",
            "               Input                              (1, 1, 96, 96)               0\n",
            "            Conv2D-1                             (1, 64, 48, 48)            3200\n",
            "================================================================================\n",
            "Parameters in forward computation graph, duplicate included\n",
            "   Total params: 3200\n",
            "   Trainable params: 3200\n",
            "   Non-trainable params: 0\n",
            "Shared params in forward computation graph: 0\n",
            "Unique parameters in model: 3200\n",
            "--------------------------------------------------------------------------------\n",
            "None\n",
            "conv3 output shape:\t (1, 64, 48, 48)\n",
            "--------------------------------------------------------------------------------\n",
            "        Layer (type)                                Output Shape         Param #\n",
            "================================================================================\n",
            "               Input                             (1, 64, 48, 48)               0\n",
            "         BatchNorm-1                             (1, 64, 48, 48)             256\n",
            "================================================================================\n",
            "Parameters in forward computation graph, duplicate included\n",
            "   Total params: 256\n",
            "   Trainable params: 128\n",
            "   Non-trainable params: 128\n",
            "Shared params in forward computation graph: 0\n",
            "Unique parameters in model: 256\n",
            "--------------------------------------------------------------------------------\n",
            "None\n",
            "batchnorm3 output shape:\t (1, 64, 48, 48)\n",
            "--------------------------------------------------------------------------------\n",
            "        Layer (type)                                Output Shape         Param #\n",
            "================================================================================\n",
            "               Input                             (1, 64, 48, 48)               0\n",
            "        Activation-1                             (1, 64, 48, 48)               0\n",
            "================================================================================\n",
            "Parameters in forward computation graph, duplicate included\n",
            "   Total params: 0\n",
            "   Trainable params: 0\n",
            "   Non-trainable params: 0\n",
            "Shared params in forward computation graph: 0\n",
            "Unique parameters in model: 0\n",
            "--------------------------------------------------------------------------------\n",
            "None\n",
            "relu3 output shape:\t (1, 64, 48, 48)\n",
            "--------------------------------------------------------------------------------\n",
            "        Layer (type)                                Output Shape         Param #\n",
            "================================================================================\n",
            "               Input                             (1, 64, 48, 48)               0\n",
            "         MaxPool2D-1                             (1, 64, 24, 24)               0\n",
            "================================================================================\n",
            "Parameters in forward computation graph, duplicate included\n",
            "   Total params: 0\n",
            "   Trainable params: 0\n",
            "   Non-trainable params: 0\n",
            "Shared params in forward computation graph: 0\n",
            "Unique parameters in model: 0\n",
            "--------------------------------------------------------------------------------\n",
            "None\n",
            "pool1 output shape:\t (1, 64, 24, 24)\n",
            "--------------------------------------------------------------------------------\n",
            "        Layer (type)                                Output Shape         Param #\n",
            "================================================================================\n",
            "               Input                             (1, 64, 24, 24)               0\n",
            "         BatchNorm-1                             (1, 64, 24, 24)             256\n",
            "        Activation-2                             (1, 64, 24, 24)               0\n",
            "            Conv2D-3                             (1, 32, 24, 24)           18464\n",
            "         BatchNorm-4                             (1, 96, 24, 24)             384\n",
            "        Activation-5                             (1, 96, 24, 24)               0\n",
            "            Conv2D-6                             (1, 32, 24, 24)           27680\n",
            "         BatchNorm-7                            (1, 128, 24, 24)             512\n",
            "        Activation-8                            (1, 128, 24, 24)               0\n",
            "            Conv2D-9                             (1, 32, 24, 24)           36896\n",
            "        BatchNorm-10                            (1, 160, 24, 24)             640\n",
            "       Activation-11                            (1, 160, 24, 24)               0\n",
            "           Conv2D-12                             (1, 32, 24, 24)           46112\n",
            "       DenseBlock-13                            (1, 192, 24, 24)               0\n",
            "================================================================================\n",
            "Parameters in forward computation graph, duplicate included\n",
            "   Total params: 130944\n",
            "   Trainable params: 130048\n",
            "   Non-trainable params: 896\n",
            "Shared params in forward computation graph: 0\n",
            "Unique parameters in model: 130944\n",
            "--------------------------------------------------------------------------------\n",
            "None\n",
            "denseblock1 output shape:\t (1, 192, 24, 24)\n",
            "--------------------------------------------------------------------------------\n",
            "        Layer (type)                                Output Shape         Param #\n",
            "================================================================================\n",
            "               Input                            (1, 192, 24, 24)               0\n",
            "         BatchNorm-1                            (1, 192, 24, 24)             768\n",
            "        Activation-2                            (1, 192, 24, 24)               0\n",
            "            Conv2D-3                             (1, 96, 24, 24)           18528\n",
            "         AvgPool2D-4                             (1, 96, 12, 12)               0\n",
            "================================================================================\n",
            "Parameters in forward computation graph, duplicate included\n",
            "   Total params: 19296\n",
            "   Trainable params: 18912\n",
            "   Non-trainable params: 384\n",
            "Shared params in forward computation graph: 0\n",
            "Unique parameters in model: 19296\n",
            "--------------------------------------------------------------------------------\n",
            "None\n",
            "sequential10 output shape:\t (1, 96, 12, 12)\n",
            "--------------------------------------------------------------------------------\n",
            "        Layer (type)                                Output Shape         Param #\n",
            "================================================================================\n",
            "               Input                             (1, 96, 12, 12)               0\n",
            "         BatchNorm-1                             (1, 96, 12, 12)             384\n",
            "        Activation-2                             (1, 96, 12, 12)               0\n",
            "            Conv2D-3                             (1, 32, 12, 12)           27680\n",
            "         BatchNorm-4                            (1, 128, 12, 12)             512\n",
            "        Activation-5                            (1, 128, 12, 12)               0\n",
            "            Conv2D-6                             (1, 32, 12, 12)           36896\n",
            "         BatchNorm-7                            (1, 160, 12, 12)             640\n",
            "        Activation-8                            (1, 160, 12, 12)               0\n",
            "            Conv2D-9                             (1, 32, 12, 12)           46112\n",
            "        BatchNorm-10                            (1, 192, 12, 12)             768\n",
            "       Activation-11                            (1, 192, 12, 12)               0\n",
            "           Conv2D-12                             (1, 32, 12, 12)           55328\n",
            "       DenseBlock-13                            (1, 224, 12, 12)               0\n",
            "================================================================================\n",
            "Parameters in forward computation graph, duplicate included\n",
            "   Total params: 168320\n",
            "   Trainable params: 167168\n",
            "   Non-trainable params: 1152\n",
            "Shared params in forward computation graph: 0\n",
            "Unique parameters in model: 168320\n",
            "--------------------------------------------------------------------------------\n",
            "None\n",
            "denseblock2 output shape:\t (1, 224, 12, 12)\n",
            "--------------------------------------------------------------------------------\n",
            "        Layer (type)                                Output Shape         Param #\n",
            "================================================================================\n",
            "               Input                            (1, 224, 12, 12)               0\n",
            "         BatchNorm-1                            (1, 224, 12, 12)             896\n",
            "        Activation-2                            (1, 224, 12, 12)               0\n",
            "            Conv2D-3                            (1, 112, 12, 12)           25200\n",
            "         AvgPool2D-4                              (1, 112, 6, 6)               0\n",
            "================================================================================\n",
            "Parameters in forward computation graph, duplicate included\n",
            "   Total params: 26096\n",
            "   Trainable params: 25648\n",
            "   Non-trainable params: 448\n",
            "Shared params in forward computation graph: 0\n",
            "Unique parameters in model: 26096\n",
            "--------------------------------------------------------------------------------\n",
            "None\n",
            "sequential16 output shape:\t (1, 112, 6, 6)\n",
            "--------------------------------------------------------------------------------\n",
            "        Layer (type)                                Output Shape         Param #\n",
            "================================================================================\n",
            "               Input                              (1, 112, 6, 6)               0\n",
            "         BatchNorm-1                              (1, 112, 6, 6)             448\n",
            "        Activation-2                              (1, 112, 6, 6)               0\n",
            "            Conv2D-3                               (1, 32, 6, 6)           32288\n",
            "         BatchNorm-4                              (1, 144, 6, 6)             576\n",
            "        Activation-5                              (1, 144, 6, 6)               0\n",
            "            Conv2D-6                               (1, 32, 6, 6)           41504\n",
            "         BatchNorm-7                              (1, 176, 6, 6)             704\n",
            "        Activation-8                              (1, 176, 6, 6)               0\n",
            "            Conv2D-9                               (1, 32, 6, 6)           50720\n",
            "        BatchNorm-10                              (1, 208, 6, 6)             832\n",
            "       Activation-11                              (1, 208, 6, 6)               0\n",
            "           Conv2D-12                               (1, 32, 6, 6)           59936\n",
            "       DenseBlock-13                              (1, 240, 6, 6)               0\n",
            "================================================================================\n",
            "Parameters in forward computation graph, duplicate included\n",
            "   Total params: 187008\n",
            "   Trainable params: 185728\n",
            "   Non-trainable params: 1280\n",
            "Shared params in forward computation graph: 0\n",
            "Unique parameters in model: 187008\n",
            "--------------------------------------------------------------------------------\n",
            "None\n",
            "denseblock3 output shape:\t (1, 240, 6, 6)\n",
            "--------------------------------------------------------------------------------\n",
            "        Layer (type)                                Output Shape         Param #\n",
            "================================================================================\n",
            "               Input                              (1, 240, 6, 6)               0\n",
            "         BatchNorm-1                              (1, 240, 6, 6)             960\n",
            "        Activation-2                              (1, 240, 6, 6)               0\n",
            "            Conv2D-3                              (1, 120, 6, 6)           28920\n",
            "         AvgPool2D-4                              (1, 120, 3, 3)               0\n",
            "================================================================================\n",
            "Parameters in forward computation graph, duplicate included\n",
            "   Total params: 29880\n",
            "   Trainable params: 29400\n",
            "   Non-trainable params: 480\n",
            "Shared params in forward computation graph: 0\n",
            "Unique parameters in model: 29880\n",
            "--------------------------------------------------------------------------------\n",
            "None\n",
            "sequential22 output shape:\t (1, 120, 3, 3)\n",
            "--------------------------------------------------------------------------------\n",
            "        Layer (type)                                Output Shape         Param #\n",
            "================================================================================\n",
            "               Input                              (1, 120, 3, 3)               0\n",
            "         BatchNorm-1                              (1, 120, 3, 3)             480\n",
            "        Activation-2                              (1, 120, 3, 3)               0\n",
            "            Conv2D-3                               (1, 32, 3, 3)           34592\n",
            "         BatchNorm-4                              (1, 152, 3, 3)             608\n",
            "        Activation-5                              (1, 152, 3, 3)               0\n",
            "            Conv2D-6                               (1, 32, 3, 3)           43808\n",
            "         BatchNorm-7                              (1, 184, 3, 3)             736\n",
            "        Activation-8                              (1, 184, 3, 3)               0\n",
            "            Conv2D-9                               (1, 32, 3, 3)           53024\n",
            "        BatchNorm-10                              (1, 216, 3, 3)             864\n",
            "       Activation-11                              (1, 216, 3, 3)               0\n",
            "           Conv2D-12                               (1, 32, 3, 3)           62240\n",
            "       DenseBlock-13                              (1, 248, 3, 3)               0\n",
            "================================================================================\n",
            "Parameters in forward computation graph, duplicate included\n",
            "   Total params: 196352\n",
            "   Trainable params: 195008\n",
            "   Non-trainable params: 1344\n",
            "Shared params in forward computation graph: 0\n",
            "Unique parameters in model: 196352\n",
            "--------------------------------------------------------------------------------\n",
            "None\n",
            "denseblock4 output shape:\t (1, 248, 3, 3)\n",
            "--------------------------------------------------------------------------------\n",
            "        Layer (type)                                Output Shape         Param #\n",
            "================================================================================\n",
            "               Input                              (1, 248, 3, 3)               0\n",
            "         BatchNorm-1                              (1, 248, 3, 3)             992\n",
            "================================================================================\n",
            "Parameters in forward computation graph, duplicate included\n",
            "   Total params: 992\n",
            "   Trainable params: 496\n",
            "   Non-trainable params: 496\n",
            "Shared params in forward computation graph: 0\n",
            "Unique parameters in model: 992\n",
            "--------------------------------------------------------------------------------\n",
            "None\n",
            "batchnorm23 output shape:\t (1, 248, 3, 3)\n",
            "--------------------------------------------------------------------------------\n",
            "        Layer (type)                                Output Shape         Param #\n",
            "================================================================================\n",
            "               Input                              (1, 248, 3, 3)               0\n",
            "        Activation-1                              (1, 248, 3, 3)               0\n",
            "================================================================================\n",
            "Parameters in forward computation graph, duplicate included\n",
            "   Total params: 0\n",
            "   Trainable params: 0\n",
            "   Non-trainable params: 0\n",
            "Shared params in forward computation graph: 0\n",
            "Unique parameters in model: 0\n",
            "--------------------------------------------------------------------------------\n",
            "None\n",
            "relu23 output shape:\t (1, 248, 3, 3)\n",
            "--------------------------------------------------------------------------------\n",
            "        Layer (type)                                Output Shape         Param #\n",
            "================================================================================\n",
            "               Input                              (1, 248, 3, 3)               0\n",
            "   GlobalAvgPool2D-1                              (1, 248, 1, 1)               0\n",
            "================================================================================\n",
            "Parameters in forward computation graph, duplicate included\n",
            "   Total params: 0\n",
            "   Trainable params: 0\n",
            "   Non-trainable params: 0\n",
            "Shared params in forward computation graph: 0\n",
            "Unique parameters in model: 0\n",
            "--------------------------------------------------------------------------------\n",
            "None\n",
            "pool5 output shape:\t (1, 248, 1, 1)\n",
            "--------------------------------------------------------------------------------\n",
            "        Layer (type)                                Output Shape         Param #\n",
            "================================================================================\n",
            "               Input                              (1, 248, 1, 1)               0\n",
            "             Dense-1                                     (1, 10)            2490\n",
            "================================================================================\n",
            "Parameters in forward computation graph, duplicate included\n",
            "   Total params: 2490\n",
            "   Trainable params: 2490\n",
            "   Non-trainable params: 0\n",
            "Shared params in forward computation graph: 0\n",
            "Unique parameters in model: 2490\n",
            "--------------------------------------------------------------------------------\n",
            "None\n",
            "dense0 output shape:\t (1, 10)\n"
          ],
          "name": "stdout"
        }
      ]
    },
    {
      "cell_type": "markdown",
      "metadata": {
        "id": "tBOeTXax9Kky"
      },
      "source": [
        "### Training"
      ]
    },
    {
      "cell_type": "code",
      "metadata": {
        "colab": {
          "base_uri": "https://localhost:8080/",
          "height": 295
        },
        "id": "-wAHe8Rc_-0A",
        "outputId": "6c76d503-392b-4fcf-8831-dd6ddee9df92"
      },
      "source": [
        "lr, num_epochs = 0.1, 10\r\n",
        "d2l.train_ch6(net, train_iter, test_iter, num_epochs, lr)"
      ],
      "execution_count": 16,
      "outputs": [
        {
          "output_type": "stream",
          "text": [
            "loss 0.146, train acc 0.946, test acc 0.893\n",
            "1842.7 examples/sec on gpu(0)\n"
          ],
          "name": "stdout"
        },
        {
          "output_type": "display_data",
          "data": {
            "text/plain": [
              "<Figure size 252x180 with 1 Axes>"
            ],
            "image/svg+xml": "<?xml version=\"1.0\" encoding=\"utf-8\" standalone=\"no\"?>\n<!DOCTYPE svg PUBLIC \"-//W3C//DTD SVG 1.1//EN\"\n  \"http://www.w3.org/Graphics/SVG/1.1/DTD/svg11.dtd\">\n<!-- Created with matplotlib (https://matplotlib.org/) -->\n<svg height=\"180.65625pt\" version=\"1.1\" viewBox=\"0 0 238.965625 180.65625\" width=\"238.965625pt\" xmlns=\"http://www.w3.org/2000/svg\" xmlns:xlink=\"http://www.w3.org/1999/xlink\">\n <defs>\n  <style type=\"text/css\">\n*{stroke-linecap:butt;stroke-linejoin:round;}\n  </style>\n </defs>\n <g id=\"figure_1\">\n  <g id=\"patch_1\">\n   <path d=\"M 0 180.65625 \nL 238.965625 180.65625 \nL 238.965625 0 \nL 0 0 \nz\n\" style=\"fill:none;\"/>\n  </g>\n  <g id=\"axes_1\">\n   <g id=\"patch_2\">\n    <path d=\"M 30.103125 143.1 \nL 225.403125 143.1 \nL 225.403125 7.2 \nL 30.103125 7.2 \nz\n\" style=\"fill:#ffffff;\"/>\n   </g>\n   <g id=\"matplotlib.axis_1\">\n    <g id=\"xtick_1\">\n     <g id=\"line2d_1\">\n      <path clip-path=\"url(#p99a1a4e807)\" d=\"M 51.803125 143.1 \nL 51.803125 7.2 \n\" style=\"fill:none;stroke:#b0b0b0;stroke-linecap:square;stroke-width:0.8;\"/>\n     </g>\n     <g id=\"line2d_2\">\n      <defs>\n       <path d=\"M 0 0 \nL 0 3.5 \n\" id=\"m720f0c46e7\" style=\"stroke:#000000;stroke-width:0.8;\"/>\n      </defs>\n      <g>\n       <use style=\"stroke:#000000;stroke-width:0.8;\" x=\"51.803125\" xlink:href=\"#m720f0c46e7\" y=\"143.1\"/>\n      </g>\n     </g>\n     <g id=\"text_1\">\n      <!-- 2 -->\n      <defs>\n       <path d=\"M 19.1875 8.296875 \nL 53.609375 8.296875 \nL 53.609375 0 \nL 7.328125 0 \nL 7.328125 8.296875 \nQ 12.9375 14.109375 22.625 23.890625 \nQ 32.328125 33.6875 34.8125 36.53125 \nQ 39.546875 41.84375 41.421875 45.53125 \nQ 43.3125 49.21875 43.3125 52.78125 \nQ 43.3125 58.59375 39.234375 62.25 \nQ 35.15625 65.921875 28.609375 65.921875 \nQ 23.96875 65.921875 18.8125 64.3125 \nQ 13.671875 62.703125 7.8125 59.421875 \nL 7.8125 69.390625 \nQ 13.765625 71.78125 18.9375 73 \nQ 24.125 74.21875 28.421875 74.21875 \nQ 39.75 74.21875 46.484375 68.546875 \nQ 53.21875 62.890625 53.21875 53.421875 \nQ 53.21875 48.921875 51.53125 44.890625 \nQ 49.859375 40.875 45.40625 35.40625 \nQ 44.1875 33.984375 37.640625 27.21875 \nQ 31.109375 20.453125 19.1875 8.296875 \nz\n\" id=\"DejaVuSans-50\"/>\n      </defs>\n      <g transform=\"translate(48.621875 157.698438)scale(0.1 -0.1)\">\n       <use xlink:href=\"#DejaVuSans-50\"/>\n      </g>\n     </g>\n    </g>\n    <g id=\"xtick_2\">\n     <g id=\"line2d_3\">\n      <path clip-path=\"url(#p99a1a4e807)\" d=\"M 95.203125 143.1 \nL 95.203125 7.2 \n\" style=\"fill:none;stroke:#b0b0b0;stroke-linecap:square;stroke-width:0.8;\"/>\n     </g>\n     <g id=\"line2d_4\">\n      <g>\n       <use style=\"stroke:#000000;stroke-width:0.8;\" x=\"95.203125\" xlink:href=\"#m720f0c46e7\" y=\"143.1\"/>\n      </g>\n     </g>\n     <g id=\"text_2\">\n      <!-- 4 -->\n      <defs>\n       <path d=\"M 37.796875 64.3125 \nL 12.890625 25.390625 \nL 37.796875 25.390625 \nz\nM 35.203125 72.90625 \nL 47.609375 72.90625 \nL 47.609375 25.390625 \nL 58.015625 25.390625 \nL 58.015625 17.1875 \nL 47.609375 17.1875 \nL 47.609375 0 \nL 37.796875 0 \nL 37.796875 17.1875 \nL 4.890625 17.1875 \nL 4.890625 26.703125 \nz\n\" id=\"DejaVuSans-52\"/>\n      </defs>\n      <g transform=\"translate(92.021875 157.698438)scale(0.1 -0.1)\">\n       <use xlink:href=\"#DejaVuSans-52\"/>\n      </g>\n     </g>\n    </g>\n    <g id=\"xtick_3\">\n     <g id=\"line2d_5\">\n      <path clip-path=\"url(#p99a1a4e807)\" d=\"M 138.603125 143.1 \nL 138.603125 7.2 \n\" style=\"fill:none;stroke:#b0b0b0;stroke-linecap:square;stroke-width:0.8;\"/>\n     </g>\n     <g id=\"line2d_6\">\n      <g>\n       <use style=\"stroke:#000000;stroke-width:0.8;\" x=\"138.603125\" xlink:href=\"#m720f0c46e7\" y=\"143.1\"/>\n      </g>\n     </g>\n     <g id=\"text_3\">\n      <!-- 6 -->\n      <defs>\n       <path d=\"M 33.015625 40.375 \nQ 26.375 40.375 22.484375 35.828125 \nQ 18.609375 31.296875 18.609375 23.390625 \nQ 18.609375 15.53125 22.484375 10.953125 \nQ 26.375 6.390625 33.015625 6.390625 \nQ 39.65625 6.390625 43.53125 10.953125 \nQ 47.40625 15.53125 47.40625 23.390625 \nQ 47.40625 31.296875 43.53125 35.828125 \nQ 39.65625 40.375 33.015625 40.375 \nz\nM 52.59375 71.296875 \nL 52.59375 62.3125 \nQ 48.875 64.0625 45.09375 64.984375 \nQ 41.3125 65.921875 37.59375 65.921875 \nQ 27.828125 65.921875 22.671875 59.328125 \nQ 17.53125 52.734375 16.796875 39.40625 \nQ 19.671875 43.65625 24.015625 45.921875 \nQ 28.375 48.1875 33.59375 48.1875 \nQ 44.578125 48.1875 50.953125 41.515625 \nQ 57.328125 34.859375 57.328125 23.390625 \nQ 57.328125 12.15625 50.6875 5.359375 \nQ 44.046875 -1.421875 33.015625 -1.421875 \nQ 20.359375 -1.421875 13.671875 8.265625 \nQ 6.984375 17.96875 6.984375 36.375 \nQ 6.984375 53.65625 15.1875 63.9375 \nQ 23.390625 74.21875 37.203125 74.21875 \nQ 40.921875 74.21875 44.703125 73.484375 \nQ 48.484375 72.75 52.59375 71.296875 \nz\n\" id=\"DejaVuSans-54\"/>\n      </defs>\n      <g transform=\"translate(135.421875 157.698438)scale(0.1 -0.1)\">\n       <use xlink:href=\"#DejaVuSans-54\"/>\n      </g>\n     </g>\n    </g>\n    <g id=\"xtick_4\">\n     <g id=\"line2d_7\">\n      <path clip-path=\"url(#p99a1a4e807)\" d=\"M 182.003125 143.1 \nL 182.003125 7.2 \n\" style=\"fill:none;stroke:#b0b0b0;stroke-linecap:square;stroke-width:0.8;\"/>\n     </g>\n     <g id=\"line2d_8\">\n      <g>\n       <use style=\"stroke:#000000;stroke-width:0.8;\" x=\"182.003125\" xlink:href=\"#m720f0c46e7\" y=\"143.1\"/>\n      </g>\n     </g>\n     <g id=\"text_4\">\n      <!-- 8 -->\n      <defs>\n       <path d=\"M 31.78125 34.625 \nQ 24.75 34.625 20.71875 30.859375 \nQ 16.703125 27.09375 16.703125 20.515625 \nQ 16.703125 13.921875 20.71875 10.15625 \nQ 24.75 6.390625 31.78125 6.390625 \nQ 38.8125 6.390625 42.859375 10.171875 \nQ 46.921875 13.96875 46.921875 20.515625 \nQ 46.921875 27.09375 42.890625 30.859375 \nQ 38.875 34.625 31.78125 34.625 \nz\nM 21.921875 38.8125 \nQ 15.578125 40.375 12.03125 44.71875 \nQ 8.5 49.078125 8.5 55.328125 \nQ 8.5 64.0625 14.71875 69.140625 \nQ 20.953125 74.21875 31.78125 74.21875 \nQ 42.671875 74.21875 48.875 69.140625 \nQ 55.078125 64.0625 55.078125 55.328125 \nQ 55.078125 49.078125 51.53125 44.71875 \nQ 48 40.375 41.703125 38.8125 \nQ 48.828125 37.15625 52.796875 32.3125 \nQ 56.78125 27.484375 56.78125 20.515625 \nQ 56.78125 9.90625 50.3125 4.234375 \nQ 43.84375 -1.421875 31.78125 -1.421875 \nQ 19.734375 -1.421875 13.25 4.234375 \nQ 6.78125 9.90625 6.78125 20.515625 \nQ 6.78125 27.484375 10.78125 32.3125 \nQ 14.796875 37.15625 21.921875 38.8125 \nz\nM 18.3125 54.390625 \nQ 18.3125 48.734375 21.84375 45.5625 \nQ 25.390625 42.390625 31.78125 42.390625 \nQ 38.140625 42.390625 41.71875 45.5625 \nQ 45.3125 48.734375 45.3125 54.390625 \nQ 45.3125 60.0625 41.71875 63.234375 \nQ 38.140625 66.40625 31.78125 66.40625 \nQ 25.390625 66.40625 21.84375 63.234375 \nQ 18.3125 60.0625 18.3125 54.390625 \nz\n\" id=\"DejaVuSans-56\"/>\n      </defs>\n      <g transform=\"translate(178.821875 157.698438)scale(0.1 -0.1)\">\n       <use xlink:href=\"#DejaVuSans-56\"/>\n      </g>\n     </g>\n    </g>\n    <g id=\"xtick_5\">\n     <g id=\"line2d_9\">\n      <path clip-path=\"url(#p99a1a4e807)\" d=\"M 225.403125 143.1 \nL 225.403125 7.2 \n\" style=\"fill:none;stroke:#b0b0b0;stroke-linecap:square;stroke-width:0.8;\"/>\n     </g>\n     <g id=\"line2d_10\">\n      <g>\n       <use style=\"stroke:#000000;stroke-width:0.8;\" x=\"225.403125\" xlink:href=\"#m720f0c46e7\" y=\"143.1\"/>\n      </g>\n     </g>\n     <g id=\"text_5\">\n      <!-- 10 -->\n      <defs>\n       <path d=\"M 12.40625 8.296875 \nL 28.515625 8.296875 \nL 28.515625 63.921875 \nL 10.984375 60.40625 \nL 10.984375 69.390625 \nL 28.421875 72.90625 \nL 38.28125 72.90625 \nL 38.28125 8.296875 \nL 54.390625 8.296875 \nL 54.390625 0 \nL 12.40625 0 \nz\n\" id=\"DejaVuSans-49\"/>\n       <path d=\"M 31.78125 66.40625 \nQ 24.171875 66.40625 20.328125 58.90625 \nQ 16.5 51.421875 16.5 36.375 \nQ 16.5 21.390625 20.328125 13.890625 \nQ 24.171875 6.390625 31.78125 6.390625 \nQ 39.453125 6.390625 43.28125 13.890625 \nQ 47.125 21.390625 47.125 36.375 \nQ 47.125 51.421875 43.28125 58.90625 \nQ 39.453125 66.40625 31.78125 66.40625 \nz\nM 31.78125 74.21875 \nQ 44.046875 74.21875 50.515625 64.515625 \nQ 56.984375 54.828125 56.984375 36.375 \nQ 56.984375 17.96875 50.515625 8.265625 \nQ 44.046875 -1.421875 31.78125 -1.421875 \nQ 19.53125 -1.421875 13.0625 8.265625 \nQ 6.59375 17.96875 6.59375 36.375 \nQ 6.59375 54.828125 13.0625 64.515625 \nQ 19.53125 74.21875 31.78125 74.21875 \nz\n\" id=\"DejaVuSans-48\"/>\n      </defs>\n      <g transform=\"translate(219.040625 157.698438)scale(0.1 -0.1)\">\n       <use xlink:href=\"#DejaVuSans-49\"/>\n       <use x=\"63.623047\" xlink:href=\"#DejaVuSans-48\"/>\n      </g>\n     </g>\n    </g>\n    <g id=\"text_6\">\n     <!-- epoch -->\n     <defs>\n      <path d=\"M 56.203125 29.59375 \nL 56.203125 25.203125 \nL 14.890625 25.203125 \nQ 15.484375 15.921875 20.484375 11.0625 \nQ 25.484375 6.203125 34.421875 6.203125 \nQ 39.59375 6.203125 44.453125 7.46875 \nQ 49.3125 8.734375 54.109375 11.28125 \nL 54.109375 2.78125 \nQ 49.265625 0.734375 44.1875 -0.34375 \nQ 39.109375 -1.421875 33.890625 -1.421875 \nQ 20.796875 -1.421875 13.15625 6.1875 \nQ 5.515625 13.8125 5.515625 26.8125 \nQ 5.515625 40.234375 12.765625 48.109375 \nQ 20.015625 56 32.328125 56 \nQ 43.359375 56 49.78125 48.890625 \nQ 56.203125 41.796875 56.203125 29.59375 \nz\nM 47.21875 32.234375 \nQ 47.125 39.59375 43.09375 43.984375 \nQ 39.0625 48.390625 32.421875 48.390625 \nQ 24.90625 48.390625 20.390625 44.140625 \nQ 15.875 39.890625 15.1875 32.171875 \nz\n\" id=\"DejaVuSans-101\"/>\n      <path d=\"M 18.109375 8.203125 \nL 18.109375 -20.796875 \nL 9.078125 -20.796875 \nL 9.078125 54.6875 \nL 18.109375 54.6875 \nL 18.109375 46.390625 \nQ 20.953125 51.265625 25.265625 53.625 \nQ 29.59375 56 35.59375 56 \nQ 45.5625 56 51.78125 48.09375 \nQ 58.015625 40.1875 58.015625 27.296875 \nQ 58.015625 14.40625 51.78125 6.484375 \nQ 45.5625 -1.421875 35.59375 -1.421875 \nQ 29.59375 -1.421875 25.265625 0.953125 \nQ 20.953125 3.328125 18.109375 8.203125 \nz\nM 48.6875 27.296875 \nQ 48.6875 37.203125 44.609375 42.84375 \nQ 40.53125 48.484375 33.40625 48.484375 \nQ 26.265625 48.484375 22.1875 42.84375 \nQ 18.109375 37.203125 18.109375 27.296875 \nQ 18.109375 17.390625 22.1875 11.75 \nQ 26.265625 6.109375 33.40625 6.109375 \nQ 40.53125 6.109375 44.609375 11.75 \nQ 48.6875 17.390625 48.6875 27.296875 \nz\n\" id=\"DejaVuSans-112\"/>\n      <path d=\"M 30.609375 48.390625 \nQ 23.390625 48.390625 19.1875 42.75 \nQ 14.984375 37.109375 14.984375 27.296875 \nQ 14.984375 17.484375 19.15625 11.84375 \nQ 23.34375 6.203125 30.609375 6.203125 \nQ 37.796875 6.203125 41.984375 11.859375 \nQ 46.1875 17.53125 46.1875 27.296875 \nQ 46.1875 37.015625 41.984375 42.703125 \nQ 37.796875 48.390625 30.609375 48.390625 \nz\nM 30.609375 56 \nQ 42.328125 56 49.015625 48.375 \nQ 55.71875 40.765625 55.71875 27.296875 \nQ 55.71875 13.875 49.015625 6.21875 \nQ 42.328125 -1.421875 30.609375 -1.421875 \nQ 18.84375 -1.421875 12.171875 6.21875 \nQ 5.515625 13.875 5.515625 27.296875 \nQ 5.515625 40.765625 12.171875 48.375 \nQ 18.84375 56 30.609375 56 \nz\n\" id=\"DejaVuSans-111\"/>\n      <path d=\"M 48.78125 52.59375 \nL 48.78125 44.1875 \nQ 44.96875 46.296875 41.140625 47.34375 \nQ 37.3125 48.390625 33.40625 48.390625 \nQ 24.65625 48.390625 19.8125 42.84375 \nQ 14.984375 37.3125 14.984375 27.296875 \nQ 14.984375 17.28125 19.8125 11.734375 \nQ 24.65625 6.203125 33.40625 6.203125 \nQ 37.3125 6.203125 41.140625 7.25 \nQ 44.96875 8.296875 48.78125 10.40625 \nL 48.78125 2.09375 \nQ 45.015625 0.34375 40.984375 -0.53125 \nQ 36.96875 -1.421875 32.421875 -1.421875 \nQ 20.0625 -1.421875 12.78125 6.34375 \nQ 5.515625 14.109375 5.515625 27.296875 \nQ 5.515625 40.671875 12.859375 48.328125 \nQ 20.21875 56 33.015625 56 \nQ 37.15625 56 41.109375 55.140625 \nQ 45.0625 54.296875 48.78125 52.59375 \nz\n\" id=\"DejaVuSans-99\"/>\n      <path d=\"M 54.890625 33.015625 \nL 54.890625 0 \nL 45.90625 0 \nL 45.90625 32.71875 \nQ 45.90625 40.484375 42.875 44.328125 \nQ 39.84375 48.1875 33.796875 48.1875 \nQ 26.515625 48.1875 22.3125 43.546875 \nQ 18.109375 38.921875 18.109375 30.90625 \nL 18.109375 0 \nL 9.078125 0 \nL 9.078125 75.984375 \nL 18.109375 75.984375 \nL 18.109375 46.1875 \nQ 21.34375 51.125 25.703125 53.5625 \nQ 30.078125 56 35.796875 56 \nQ 45.21875 56 50.046875 50.171875 \nQ 54.890625 44.34375 54.890625 33.015625 \nz\n\" id=\"DejaVuSans-104\"/>\n     </defs>\n     <g transform=\"translate(112.525 171.376563)scale(0.1 -0.1)\">\n      <use xlink:href=\"#DejaVuSans-101\"/>\n      <use x=\"61.523438\" xlink:href=\"#DejaVuSans-112\"/>\n      <use x=\"125\" xlink:href=\"#DejaVuSans-111\"/>\n      <use x=\"186.181641\" xlink:href=\"#DejaVuSans-99\"/>\n      <use x=\"241.162109\" xlink:href=\"#DejaVuSans-104\"/>\n     </g>\n    </g>\n   </g>\n   <g id=\"matplotlib.axis_2\">\n    <g id=\"ytick_1\">\n     <g id=\"line2d_11\">\n      <path clip-path=\"url(#p99a1a4e807)\" d=\"M 30.103125 128.512162 \nL 225.403125 128.512162 \n\" style=\"fill:none;stroke:#b0b0b0;stroke-linecap:square;stroke-width:0.8;\"/>\n     </g>\n     <g id=\"line2d_12\">\n      <defs>\n       <path d=\"M 0 0 \nL -3.5 0 \n\" id=\"mb84f4e9697\" style=\"stroke:#000000;stroke-width:0.8;\"/>\n      </defs>\n      <g>\n       <use style=\"stroke:#000000;stroke-width:0.8;\" x=\"30.103125\" xlink:href=\"#mb84f4e9697\" y=\"128.512162\"/>\n      </g>\n     </g>\n     <g id=\"text_7\">\n      <!-- 0.2 -->\n      <defs>\n       <path d=\"M 10.6875 12.40625 \nL 21 12.40625 \nL 21 0 \nL 10.6875 0 \nz\n\" id=\"DejaVuSans-46\"/>\n      </defs>\n      <g transform=\"translate(7.2 132.311381)scale(0.1 -0.1)\">\n       <use xlink:href=\"#DejaVuSans-48\"/>\n       <use x=\"63.623047\" xlink:href=\"#DejaVuSans-46\"/>\n       <use x=\"95.410156\" xlink:href=\"#DejaVuSans-50\"/>\n      </g>\n     </g>\n    </g>\n    <g id=\"ytick_2\">\n     <g id=\"line2d_13\">\n      <path clip-path=\"url(#p99a1a4e807)\" d=\"M 30.103125 97.657996 \nL 225.403125 97.657996 \n\" style=\"fill:none;stroke:#b0b0b0;stroke-linecap:square;stroke-width:0.8;\"/>\n     </g>\n     <g id=\"line2d_14\">\n      <g>\n       <use style=\"stroke:#000000;stroke-width:0.8;\" x=\"30.103125\" xlink:href=\"#mb84f4e9697\" y=\"97.657996\"/>\n      </g>\n     </g>\n     <g id=\"text_8\">\n      <!-- 0.4 -->\n      <g transform=\"translate(7.2 101.457215)scale(0.1 -0.1)\">\n       <use xlink:href=\"#DejaVuSans-48\"/>\n       <use x=\"63.623047\" xlink:href=\"#DejaVuSans-46\"/>\n       <use x=\"95.410156\" xlink:href=\"#DejaVuSans-52\"/>\n      </g>\n     </g>\n    </g>\n    <g id=\"ytick_3\">\n     <g id=\"line2d_15\">\n      <path clip-path=\"url(#p99a1a4e807)\" d=\"M 30.103125 66.803831 \nL 225.403125 66.803831 \n\" style=\"fill:none;stroke:#b0b0b0;stroke-linecap:square;stroke-width:0.8;\"/>\n     </g>\n     <g id=\"line2d_16\">\n      <g>\n       <use style=\"stroke:#000000;stroke-width:0.8;\" x=\"30.103125\" xlink:href=\"#mb84f4e9697\" y=\"66.803831\"/>\n      </g>\n     </g>\n     <g id=\"text_9\">\n      <!-- 0.6 -->\n      <g transform=\"translate(7.2 70.60305)scale(0.1 -0.1)\">\n       <use xlink:href=\"#DejaVuSans-48\"/>\n       <use x=\"63.623047\" xlink:href=\"#DejaVuSans-46\"/>\n       <use x=\"95.410156\" xlink:href=\"#DejaVuSans-54\"/>\n      </g>\n     </g>\n    </g>\n    <g id=\"ytick_4\">\n     <g id=\"line2d_17\">\n      <path clip-path=\"url(#p99a1a4e807)\" d=\"M 30.103125 35.949666 \nL 225.403125 35.949666 \n\" style=\"fill:none;stroke:#b0b0b0;stroke-linecap:square;stroke-width:0.8;\"/>\n     </g>\n     <g id=\"line2d_18\">\n      <g>\n       <use style=\"stroke:#000000;stroke-width:0.8;\" x=\"30.103125\" xlink:href=\"#mb84f4e9697\" y=\"35.949666\"/>\n      </g>\n     </g>\n     <g id=\"text_10\">\n      <!-- 0.8 -->\n      <g transform=\"translate(7.2 39.748885)scale(0.1 -0.1)\">\n       <use xlink:href=\"#DejaVuSans-48\"/>\n       <use x=\"63.623047\" xlink:href=\"#DejaVuSans-46\"/>\n       <use x=\"95.410156\" xlink:href=\"#DejaVuSans-56\"/>\n      </g>\n     </g>\n    </g>\n   </g>\n   <g id=\"line2d_19\">\n    <path clip-path=\"url(#p99a1a4e807)\" d=\"M 12.743125 13.849938 \nL 17.083125 44.812016 \nL 21.423125 59.334235 \nL 25.763125 69.290081 \nL 30.103125 75.644453 \nL 34.443125 104.481853 \nL 38.783125 106.688838 \nL 43.123125 107.295672 \nL 47.463125 108.737627 \nL 51.803125 110.054288 \nL 56.143125 116.306565 \nL 60.483125 116.511363 \nL 64.823125 117.576646 \nL 69.163125 118.181506 \nL 73.503125 118.230441 \nL 77.843125 122.567152 \nL 82.183125 122.61215 \nL 86.523125 122.912147 \nL 90.863125 122.723304 \nL 95.203125 122.819538 \nL 99.543125 126.62835 \nL 103.883125 126.634166 \nL 108.223125 126.568409 \nL 112.563125 126.340635 \nL 116.903125 126.20306 \nL 121.243125 132.167306 \nL 125.583125 129.836566 \nL 129.923125 129.618088 \nL 134.263125 128.948735 \nL 138.603125 128.854936 \nL 142.943125 131.52226 \nL 147.283125 130.755124 \nL 151.623125 131.259713 \nL 155.963125 131.266358 \nL 160.303125 131.14867 \nL 164.643125 133.795228 \nL 168.983125 133.535717 \nL 173.323125 133.236603 \nL 177.663125 132.62402 \nL 182.003125 132.786221 \nL 186.343125 135.158232 \nL 190.683125 134.773003 \nL 195.023125 135.311089 \nL 199.363125 135.200521 \nL 203.703125 134.688217 \nL 208.043125 136.606751 \nL 212.383125 136.922727 \nL 216.723125 136.799683 \nL 221.063125 136.895787 \nL 225.403125 136.791183 \n\" style=\"fill:none;stroke:#1f77b4;stroke-linecap:square;stroke-width:1.5;\"/>\n   </g>\n   <g id=\"line2d_20\">\n    <path clip-path=\"url(#p99a1a4e807)\" d=\"M 12.743125 54.7027 \nL 17.083125 44.964611 \nL 21.423125 40.453506 \nL 25.763125 36.925398 \nL 30.103125 34.777208 \nL 34.443125 25.62306 \nL 38.783125 24.340889 \nL 43.123125 24.281054 \nL 47.463125 23.658133 \nL 51.803125 23.196611 \nL 56.143125 20.994422 \nL 60.483125 20.782864 \nL 64.823125 20.263585 \nL 69.163125 20.122546 \nL 73.503125 20.178045 \nL 77.843125 18.532654 \nL 82.183125 18.73139 \nL 86.523125 18.310411 \nL 90.863125 18.327506 \nL 95.203125 18.285656 \nL 99.543125 17.058157 \nL 103.883125 16.981227 \nL 108.223125 17.053883 \nL 112.563125 17.109444 \nL 116.903125 17.128625 \nL 121.243125 14.968218 \nL 125.583125 15.795218 \nL 129.923125 15.899929 \nL 134.263125 16.173459 \nL 138.603125 16.274993 \nL 142.943125 15.122079 \nL 147.283125 15.442621 \nL 151.623125 15.186187 \nL 155.963125 15.307993 \nL 160.303125 15.362224 \nL 164.643125 14.493815 \nL 168.983125 14.46176 \nL 173.323125 14.412611 \nL 177.663125 14.759865 \nL 182.003125 14.76571 \nL 186.343125 13.993768 \nL 190.683125 14.070698 \nL 195.023125 13.835634 \nL 199.363125 13.827086 \nL 203.703125 13.989214 \nL 208.043125 13.660403 \nL 212.383125 13.416791 \nL 216.723125 13.43816 \nL 221.063125 13.400764 \nL 225.403125 13.377273 \n\" style=\"fill:none;stroke:#bf00bf;stroke-dasharray:5.55,2.4;stroke-dashoffset:0;stroke-width:1.5;\"/>\n   </g>\n   <g id=\"line2d_21\">\n    <path clip-path=\"url(#p99a1a4e807)\" d=\"M 30.103125 25.844927 \nL 51.803125 55.588342 \nL 73.503125 34.23726 \nL 95.203125 26.261458 \nL 116.903125 38.510562 \nL 138.603125 23.021771 \nL 160.303125 25.844927 \nL 182.003125 18.31651 \nL 203.703125 20.53801 \nL 225.403125 21.664187 \n\" style=\"fill:none;stroke:#008000;stroke-dasharray:9.6,2.4,1.5,2.4;stroke-dashoffset:0;stroke-width:1.5;\"/>\n   </g>\n   <g id=\"patch_3\">\n    <path d=\"M 30.103125 143.1 \nL 30.103125 7.2 \n\" style=\"fill:none;stroke:#000000;stroke-linecap:square;stroke-linejoin:miter;stroke-width:0.8;\"/>\n   </g>\n   <g id=\"patch_4\">\n    <path d=\"M 225.403125 143.1 \nL 225.403125 7.2 \n\" style=\"fill:none;stroke:#000000;stroke-linecap:square;stroke-linejoin:miter;stroke-width:0.8;\"/>\n   </g>\n   <g id=\"patch_5\">\n    <path d=\"M 30.103125 143.1 \nL 225.403125 143.1 \n\" style=\"fill:none;stroke:#000000;stroke-linecap:square;stroke-linejoin:miter;stroke-width:0.8;\"/>\n   </g>\n   <g id=\"patch_6\">\n    <path d=\"M 30.103125 7.2 \nL 225.403125 7.2 \n\" style=\"fill:none;stroke:#000000;stroke-linecap:square;stroke-linejoin:miter;stroke-width:0.8;\"/>\n   </g>\n   <g id=\"legend_1\">\n    <g id=\"patch_7\">\n     <path d=\"M 140.634375 98.667187 \nL 218.403125 98.667187 \nQ 220.403125 98.667187 220.403125 96.667187 \nL 220.403125 53.632812 \nQ 220.403125 51.632812 218.403125 51.632812 \nL 140.634375 51.632812 \nQ 138.634375 51.632812 138.634375 53.632812 \nL 138.634375 96.667187 \nQ 138.634375 98.667187 140.634375 98.667187 \nz\n\" style=\"fill:#ffffff;opacity:0.8;stroke:#cccccc;stroke-linejoin:miter;\"/>\n    </g>\n    <g id=\"line2d_22\">\n     <path d=\"M 142.634375 59.73125 \nL 162.634375 59.73125 \n\" style=\"fill:none;stroke:#1f77b4;stroke-linecap:square;stroke-width:1.5;\"/>\n    </g>\n    <g id=\"line2d_23\"/>\n    <g id=\"text_11\">\n     <!-- train loss -->\n     <defs>\n      <path d=\"M 18.3125 70.21875 \nL 18.3125 54.6875 \nL 36.8125 54.6875 \nL 36.8125 47.703125 \nL 18.3125 47.703125 \nL 18.3125 18.015625 \nQ 18.3125 11.328125 20.140625 9.421875 \nQ 21.96875 7.515625 27.59375 7.515625 \nL 36.8125 7.515625 \nL 36.8125 0 \nL 27.59375 0 \nQ 17.1875 0 13.234375 3.875 \nQ 9.28125 7.765625 9.28125 18.015625 \nL 9.28125 47.703125 \nL 2.6875 47.703125 \nL 2.6875 54.6875 \nL 9.28125 54.6875 \nL 9.28125 70.21875 \nz\n\" id=\"DejaVuSans-116\"/>\n      <path d=\"M 41.109375 46.296875 \nQ 39.59375 47.171875 37.8125 47.578125 \nQ 36.03125 48 33.890625 48 \nQ 26.265625 48 22.1875 43.046875 \nQ 18.109375 38.09375 18.109375 28.8125 \nL 18.109375 0 \nL 9.078125 0 \nL 9.078125 54.6875 \nL 18.109375 54.6875 \nL 18.109375 46.1875 \nQ 20.953125 51.171875 25.484375 53.578125 \nQ 30.03125 56 36.53125 56 \nQ 37.453125 56 38.578125 55.875 \nQ 39.703125 55.765625 41.0625 55.515625 \nz\n\" id=\"DejaVuSans-114\"/>\n      <path d=\"M 34.28125 27.484375 \nQ 23.390625 27.484375 19.1875 25 \nQ 14.984375 22.515625 14.984375 16.5 \nQ 14.984375 11.71875 18.140625 8.90625 \nQ 21.296875 6.109375 26.703125 6.109375 \nQ 34.1875 6.109375 38.703125 11.40625 \nQ 43.21875 16.703125 43.21875 25.484375 \nL 43.21875 27.484375 \nz\nM 52.203125 31.203125 \nL 52.203125 0 \nL 43.21875 0 \nL 43.21875 8.296875 \nQ 40.140625 3.328125 35.546875 0.953125 \nQ 30.953125 -1.421875 24.3125 -1.421875 \nQ 15.921875 -1.421875 10.953125 3.296875 \nQ 6 8.015625 6 15.921875 \nQ 6 25.140625 12.171875 29.828125 \nQ 18.359375 34.515625 30.609375 34.515625 \nL 43.21875 34.515625 \nL 43.21875 35.40625 \nQ 43.21875 41.609375 39.140625 45 \nQ 35.0625 48.390625 27.6875 48.390625 \nQ 23 48.390625 18.546875 47.265625 \nQ 14.109375 46.140625 10.015625 43.890625 \nL 10.015625 52.203125 \nQ 14.9375 54.109375 19.578125 55.046875 \nQ 24.21875 56 28.609375 56 \nQ 40.484375 56 46.34375 49.84375 \nQ 52.203125 43.703125 52.203125 31.203125 \nz\n\" id=\"DejaVuSans-97\"/>\n      <path d=\"M 9.421875 54.6875 \nL 18.40625 54.6875 \nL 18.40625 0 \nL 9.421875 0 \nz\nM 9.421875 75.984375 \nL 18.40625 75.984375 \nL 18.40625 64.59375 \nL 9.421875 64.59375 \nz\n\" id=\"DejaVuSans-105\"/>\n      <path d=\"M 54.890625 33.015625 \nL 54.890625 0 \nL 45.90625 0 \nL 45.90625 32.71875 \nQ 45.90625 40.484375 42.875 44.328125 \nQ 39.84375 48.1875 33.796875 48.1875 \nQ 26.515625 48.1875 22.3125 43.546875 \nQ 18.109375 38.921875 18.109375 30.90625 \nL 18.109375 0 \nL 9.078125 0 \nL 9.078125 54.6875 \nL 18.109375 54.6875 \nL 18.109375 46.1875 \nQ 21.34375 51.125 25.703125 53.5625 \nQ 30.078125 56 35.796875 56 \nQ 45.21875 56 50.046875 50.171875 \nQ 54.890625 44.34375 54.890625 33.015625 \nz\n\" id=\"DejaVuSans-110\"/>\n      <path id=\"DejaVuSans-32\"/>\n      <path d=\"M 9.421875 75.984375 \nL 18.40625 75.984375 \nL 18.40625 0 \nL 9.421875 0 \nz\n\" id=\"DejaVuSans-108\"/>\n      <path d=\"M 44.28125 53.078125 \nL 44.28125 44.578125 \nQ 40.484375 46.53125 36.375 47.5 \nQ 32.28125 48.484375 27.875 48.484375 \nQ 21.1875 48.484375 17.84375 46.4375 \nQ 14.5 44.390625 14.5 40.28125 \nQ 14.5 37.15625 16.890625 35.375 \nQ 19.28125 33.59375 26.515625 31.984375 \nL 29.59375 31.296875 \nQ 39.15625 29.25 43.1875 25.515625 \nQ 47.21875 21.78125 47.21875 15.09375 \nQ 47.21875 7.46875 41.1875 3.015625 \nQ 35.15625 -1.421875 24.609375 -1.421875 \nQ 20.21875 -1.421875 15.453125 -0.5625 \nQ 10.6875 0.296875 5.421875 2 \nL 5.421875 11.28125 \nQ 10.40625 8.6875 15.234375 7.390625 \nQ 20.0625 6.109375 24.8125 6.109375 \nQ 31.15625 6.109375 34.5625 8.28125 \nQ 37.984375 10.453125 37.984375 14.40625 \nQ 37.984375 18.0625 35.515625 20.015625 \nQ 33.0625 21.96875 24.703125 23.78125 \nL 21.578125 24.515625 \nQ 13.234375 26.265625 9.515625 29.90625 \nQ 5.8125 33.546875 5.8125 39.890625 \nQ 5.8125 47.609375 11.28125 51.796875 \nQ 16.75 56 26.8125 56 \nQ 31.78125 56 36.171875 55.265625 \nQ 40.578125 54.546875 44.28125 53.078125 \nz\n\" id=\"DejaVuSans-115\"/>\n     </defs>\n     <g transform=\"translate(170.634375 63.23125)scale(0.1 -0.1)\">\n      <use xlink:href=\"#DejaVuSans-116\"/>\n      <use x=\"39.208984\" xlink:href=\"#DejaVuSans-114\"/>\n      <use x=\"80.322266\" xlink:href=\"#DejaVuSans-97\"/>\n      <use x=\"141.601562\" xlink:href=\"#DejaVuSans-105\"/>\n      <use x=\"169.384766\" xlink:href=\"#DejaVuSans-110\"/>\n      <use x=\"232.763672\" xlink:href=\"#DejaVuSans-32\"/>\n      <use x=\"264.550781\" xlink:href=\"#DejaVuSans-108\"/>\n      <use x=\"292.333984\" xlink:href=\"#DejaVuSans-111\"/>\n      <use x=\"353.515625\" xlink:href=\"#DejaVuSans-115\"/>\n      <use x=\"405.615234\" xlink:href=\"#DejaVuSans-115\"/>\n     </g>\n    </g>\n    <g id=\"line2d_24\">\n     <path d=\"M 142.634375 74.409375 \nL 162.634375 74.409375 \n\" style=\"fill:none;stroke:#bf00bf;stroke-dasharray:5.55,2.4;stroke-dashoffset:0;stroke-width:1.5;\"/>\n    </g>\n    <g id=\"line2d_25\"/>\n    <g id=\"text_12\">\n     <!-- train acc -->\n     <g transform=\"translate(170.634375 77.909375)scale(0.1 -0.1)\">\n      <use xlink:href=\"#DejaVuSans-116\"/>\n      <use x=\"39.208984\" xlink:href=\"#DejaVuSans-114\"/>\n      <use x=\"80.322266\" xlink:href=\"#DejaVuSans-97\"/>\n      <use x=\"141.601562\" xlink:href=\"#DejaVuSans-105\"/>\n      <use x=\"169.384766\" xlink:href=\"#DejaVuSans-110\"/>\n      <use x=\"232.763672\" xlink:href=\"#DejaVuSans-32\"/>\n      <use x=\"264.550781\" xlink:href=\"#DejaVuSans-97\"/>\n      <use x=\"325.830078\" xlink:href=\"#DejaVuSans-99\"/>\n      <use x=\"380.810547\" xlink:href=\"#DejaVuSans-99\"/>\n     </g>\n    </g>\n    <g id=\"line2d_26\">\n     <path d=\"M 142.634375 89.0875 \nL 162.634375 89.0875 \n\" style=\"fill:none;stroke:#008000;stroke-dasharray:9.6,2.4,1.5,2.4;stroke-dashoffset:0;stroke-width:1.5;\"/>\n    </g>\n    <g id=\"line2d_27\"/>\n    <g id=\"text_13\">\n     <!-- test acc -->\n     <g transform=\"translate(170.634375 92.5875)scale(0.1 -0.1)\">\n      <use xlink:href=\"#DejaVuSans-116\"/>\n      <use x=\"39.208984\" xlink:href=\"#DejaVuSans-101\"/>\n      <use x=\"100.732422\" xlink:href=\"#DejaVuSans-115\"/>\n      <use x=\"152.832031\" xlink:href=\"#DejaVuSans-116\"/>\n      <use x=\"192.041016\" xlink:href=\"#DejaVuSans-32\"/>\n      <use x=\"223.828125\" xlink:href=\"#DejaVuSans-97\"/>\n      <use x=\"285.107422\" xlink:href=\"#DejaVuSans-99\"/>\n      <use x=\"340.087891\" xlink:href=\"#DejaVuSans-99\"/>\n     </g>\n    </g>\n   </g>\n  </g>\n </g>\n <defs>\n  <clipPath id=\"p99a1a4e807\">\n   <rect height=\"135.9\" width=\"195.3\" x=\"30.103125\" y=\"7.2\"/>\n  </clipPath>\n </defs>\n</svg>\n"
          },
          "metadata": {
            "tags": [],
            "needs_background": "light"
          }
        }
      ]
    }
  ]
}