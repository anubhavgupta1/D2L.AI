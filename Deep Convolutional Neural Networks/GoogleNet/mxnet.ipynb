{
  "nbformat": 4,
  "nbformat_minor": 0,
  "metadata": {
    "colab": {
      "name": "Untitled23.ipynb",
      "provenance": [],
      "authorship_tag": "ABX9TyNJlCM2UU7Zsre4I6/SWlIR",
      "include_colab_link": true
    },
    "kernelspec": {
      "display_name": "Python 3",
      "name": "python3"
    },
    "accelerator": "GPU"
  },
  "cells": [
    {
      "cell_type": "markdown",
      "metadata": {
        "id": "view-in-github",
        "colab_type": "text"
      },
      "source": [
        "<a href=\"https://colab.research.google.com/github/anubhavgupta1/Dive-Into-Deep-Learning/blob/main/Deep%20Convolutional%20Neural%20Networks/GoogleNet/mxnet.ipynb\" target=\"_parent\"><img src=\"https://colab.research.google.com/assets/colab-badge.svg\" alt=\"Open In Colab\"/></a>"
      ]
    },
    {
      "cell_type": "markdown",
      "metadata": {
        "id": "QoJIK_HF-u6P"
      },
      "source": [
        "#  GoogleNet"
      ]
    },
    {
      "cell_type": "code",
      "metadata": {
        "id": "K6i8TCh4El8a"
      },
      "source": [
        "!pip install d2l==0.16.1\r\n",
        "!pip install -U mxnet-cu101==1.7.0"
      ],
      "execution_count": null,
      "outputs": []
    },
    {
      "cell_type": "code",
      "metadata": {
        "id": "wgfXLCp88qGp"
      },
      "source": [
        "from d2l import mxnet as d2l\r\n",
        "from mxnet import np, npx\r\n",
        "from mxnet.gluon import nn\r\n",
        "npx.set_np()"
      ],
      "execution_count": 2,
      "outputs": []
    },
    {
      "cell_type": "markdown",
      "metadata": {
        "id": "cHy23DqDEWfW"
      },
      "source": [
        "### Reading Data"
      ]
    },
    {
      "cell_type": "code",
      "metadata": {
        "id": "Q5Es9gLPEZSx"
      },
      "source": [
        "batch_size = 128\r\n",
        "train_iter, test_iter = d2l.load_data_fashion_mnist(batch_size, resize=224)"
      ],
      "execution_count": null,
      "outputs": []
    },
    {
      "cell_type": "markdown",
      "metadata": {
        "id": "0qNF4u979Ot0"
      },
      "source": [
        "### Model"
      ]
    },
    {
      "cell_type": "code",
      "metadata": {
        "id": "XJbNZKJm8vES"
      },
      "source": [
        "class Inception(nn.Block):\r\n",
        "    # `c1`--`c4` are the number of output channels for each path\r\n",
        "    def __init__(self, c1, c2, c3, c4,verbose = False, **kwargs):\r\n",
        "        super(Inception, self).__init__(**kwargs)\r\n",
        "        \r\n",
        "        # Path 1 is a single 1 x 1 convolutional layer\r\n",
        "        self.p1_1 = nn.Conv2D(c1, kernel_size=1, activation='relu')\r\n",
        "        \r\n",
        "        # Path 2 is a 1 x 1 convolutional layer followed by a 3 x 3\r\n",
        "        # convolutional layer\r\n",
        "        self.p2_1 = nn.Conv2D(c2[0], kernel_size=1, activation='relu')\r\n",
        "        self.p2_2 = nn.Conv2D(c2[1], kernel_size=3, padding=1,activation='relu')\r\n",
        "        \r\n",
        "        # Path 3 is a 1 x 1 convolutional layer followed by a 5 x 5\r\n",
        "        # convolutional layer\r\n",
        "        self.p3_1 = nn.Conv2D(c3[0], kernel_size=1, activation='relu')\r\n",
        "        self.p3_2 = nn.Conv2D(c3[1], kernel_size=5, padding=2,activation='relu')\r\n",
        "        \r\n",
        "        # Path 4 is a 3 x 3 maximum pooling layer followed by a 1 x 1\r\n",
        "        # convolutional layer\r\n",
        "        self.p4_1 = nn.MaxPool2D(pool_size=3, strides=1, padding=1)\r\n",
        "        self.p4_2 = nn.Conv2D(c4, kernel_size=1, activation='relu')\r\n",
        "\r\n",
        "    def forward(self, x):\r\n",
        "        p1   = self.p1_1(x)\r\n",
        "        p2_1 = self.p2_1(x)\r\n",
        "        p2_2 = self.p2_2(p2_1)\r\n",
        "        p3_1 = self.p3_1(x)\r\n",
        "        p3_2 = self.p3_2(p3_1)\r\n",
        "        p4_1 = self.p4_1(x)\r\n",
        "        p4_2 = self.p4_2(p4_1)\r\n",
        "        \r\n",
        "        # Concatenate the outputs on the channel dimension\r\n",
        "        return np.concatenate((p1, p2_2, p3_2, p4_2), axis=1)"
      ],
      "execution_count": 4,
      "outputs": []
    },
    {
      "cell_type": "code",
      "metadata": {
        "colab": {
          "base_uri": "https://localhost:8080/"
        },
        "id": "bfLTo-2Gj4YY",
        "outputId": "473b4b74-2a9a-46f9-c218-790de2a55f1b"
      },
      "source": [
        "Inception(64, (96, 128), (16, 32), 32)"
      ],
      "execution_count": 5,
      "outputs": [
        {
          "output_type": "execute_result",
          "data": {
            "text/plain": [
              "Inception(\n",
              "  (p1_1): Conv2D(-1 -> 64, kernel_size=(1, 1), stride=(1, 1), Activation(relu))\n",
              "  (p2_1): Conv2D(-1 -> 96, kernel_size=(1, 1), stride=(1, 1), Activation(relu))\n",
              "  (p2_2): Conv2D(-1 -> 128, kernel_size=(3, 3), stride=(1, 1), padding=(1, 1), Activation(relu))\n",
              "  (p3_1): Conv2D(-1 -> 16, kernel_size=(1, 1), stride=(1, 1), Activation(relu))\n",
              "  (p3_2): Conv2D(-1 -> 32, kernel_size=(5, 5), stride=(1, 1), padding=(2, 2), Activation(relu))\n",
              "  (p4_1): MaxPool2D(size=(3, 3), stride=(1, 1), padding=(1, 1), ceil_mode=False, global_pool=False, pool_type=max, layout=NCHW)\n",
              "  (p4_2): Conv2D(-1 -> 32, kernel_size=(1, 1), stride=(1, 1), Activation(relu))\n",
              ")"
            ]
          },
          "metadata": {
            "tags": []
          },
          "execution_count": 5
        }
      ]
    },
    {
      "cell_type": "code",
      "metadata": {
        "id": "PPZdruEGgTd8"
      },
      "source": [
        "b1 = nn.Sequential()\r\n",
        "b1.add(nn.Conv2D(64, kernel_size=7, strides=2, padding=3, activation='relu'),nn.MaxPool2D(pool_size=3, strides=2, padding=1))"
      ],
      "execution_count": 6,
      "outputs": []
    },
    {
      "cell_type": "code",
      "metadata": {
        "id": "O1qem6BUhwLv"
      },
      "source": [
        "b2 = nn.Sequential()\r\n",
        "b2.add(nn.Conv2D(64, kernel_size=1, activation='relu'),\r\n",
        "       nn.Conv2D(192, kernel_size=3, padding=1, activation='relu'),\r\n",
        "       nn.MaxPool2D(pool_size=3, strides=2, padding=1))"
      ],
      "execution_count": 7,
      "outputs": []
    },
    {
      "cell_type": "code",
      "metadata": {
        "id": "vFYTZFf9jlPd"
      },
      "source": [
        "b3 = nn.Sequential()\r\n",
        "b3.add(Inception(64, (96, 128), (16, 32), 32),\r\n",
        "       Inception(128, (128, 192), (32, 96), 64),\r\n",
        "       nn.MaxPool2D(pool_size=3, strides=2, padding=1))"
      ],
      "execution_count": 8,
      "outputs": []
    },
    {
      "cell_type": "code",
      "metadata": {
        "id": "7IkxHEH-ktig"
      },
      "source": [
        "b4 = nn.Sequential()\r\n",
        "b4.add(Inception(192, (96, 208), (16, 48), 64),\r\n",
        "       Inception(160, (112, 224), (24, 64), 64),\r\n",
        "       Inception(128, (128, 256), (24, 64), 64),\r\n",
        "       Inception(112, (144, 288), (32, 64), 64),\r\n",
        "       Inception(256, (160, 320), (32, 128), 128),\r\n",
        "       nn.MaxPool2D(pool_size=3, strides=2, padding=1))"
      ],
      "execution_count": 9,
      "outputs": []
    },
    {
      "cell_type": "code",
      "metadata": {
        "id": "pEOmtAWSlCgu"
      },
      "source": [
        "b5 = nn.Sequential()\r\n",
        "b5.add(Inception(256, (160, 320), (32, 128), 128),\r\n",
        "       Inception(384, (192, 384), (48, 128), 128),\r\n",
        "       nn.GlobalAvgPool2D())"
      ],
      "execution_count": 10,
      "outputs": []
    },
    {
      "cell_type": "code",
      "metadata": {
        "id": "I4l_tHE0lEct"
      },
      "source": [
        "net = nn.Sequential()\r\n",
        "net.add(b1, b2, b3, b4, b5, nn.Dense(10))"
      ],
      "execution_count": 11,
      "outputs": []
    },
    {
      "cell_type": "code",
      "metadata": {
        "id": "LYELNqlNxs7w"
      },
      "source": [
        "net.initialize()"
      ],
      "execution_count": 12,
      "outputs": []
    },
    {
      "cell_type": "code",
      "metadata": {
        "colab": {
          "base_uri": "https://localhost:8080/"
        },
        "id": "AnJJyNcG2lZY",
        "outputId": "6d782b00-4b30-49bf-ea87-361a3f9e9206"
      },
      "source": [
        "X = np.random.uniform(size=(1, 1, 96, 96))\r\n",
        "net.summary(X)"
      ],
      "execution_count": 13,
      "outputs": [
        {
          "output_type": "stream",
          "text": [
            "--------------------------------------------------------------------------------\n",
            "        Layer (type)                                Output Shape         Param #\n",
            "================================================================================\n",
            "               Input                              (1, 1, 96, 96)               0\n",
            "        Activation-1                    <_Symbol conv6_relu_fwd>               0\n",
            "        Activation-2                             (1, 64, 48, 48)               0\n",
            "            Conv2D-3                             (1, 64, 48, 48)            3200\n",
            "         MaxPool2D-4                             (1, 64, 24, 24)               0\n",
            "        Activation-5                    <_Symbol conv7_relu_fwd>               0\n",
            "        Activation-6                             (1, 64, 24, 24)               0\n",
            "            Conv2D-7                             (1, 64, 24, 24)            4160\n",
            "        Activation-8                    <_Symbol conv8_relu_fwd>               0\n",
            "        Activation-9                            (1, 192, 24, 24)               0\n",
            "           Conv2D-10                            (1, 192, 24, 24)          110784\n",
            "        MaxPool2D-11                            (1, 192, 12, 12)               0\n",
            "       Activation-12                    <_Symbol conv9_relu_fwd>               0\n",
            "       Activation-13                             (1, 64, 12, 12)               0\n",
            "           Conv2D-14                             (1, 64, 12, 12)           12352\n",
            "       Activation-15                   <_Symbol conv10_relu_fwd>               0\n",
            "       Activation-16                             (1, 96, 12, 12)               0\n",
            "           Conv2D-17                             (1, 96, 12, 12)           18528\n",
            "       Activation-18                   <_Symbol conv11_relu_fwd>               0\n",
            "       Activation-19                            (1, 128, 12, 12)               0\n",
            "           Conv2D-20                            (1, 128, 12, 12)          110720\n",
            "       Activation-21                   <_Symbol conv12_relu_fwd>               0\n",
            "       Activation-22                             (1, 16, 12, 12)               0\n",
            "           Conv2D-23                             (1, 16, 12, 12)            3088\n",
            "       Activation-24                   <_Symbol conv13_relu_fwd>               0\n",
            "       Activation-25                             (1, 32, 12, 12)               0\n",
            "           Conv2D-26                             (1, 32, 12, 12)           12832\n",
            "        MaxPool2D-27                            (1, 192, 12, 12)               0\n",
            "       Activation-28                   <_Symbol conv14_relu_fwd>               0\n",
            "       Activation-29                             (1, 32, 12, 12)               0\n",
            "           Conv2D-30                             (1, 32, 12, 12)            6176\n",
            "        Inception-31                            (1, 256, 12, 12)               0\n",
            "       Activation-32                   <_Symbol conv15_relu_fwd>               0\n",
            "       Activation-33                            (1, 128, 12, 12)               0\n",
            "           Conv2D-34                            (1, 128, 12, 12)           32896\n",
            "       Activation-35                   <_Symbol conv16_relu_fwd>               0\n",
            "       Activation-36                            (1, 128, 12, 12)               0\n",
            "           Conv2D-37                            (1, 128, 12, 12)           32896\n",
            "       Activation-38                   <_Symbol conv17_relu_fwd>               0\n",
            "       Activation-39                            (1, 192, 12, 12)               0\n",
            "           Conv2D-40                            (1, 192, 12, 12)          221376\n",
            "       Activation-41                   <_Symbol conv18_relu_fwd>               0\n",
            "       Activation-42                             (1, 32, 12, 12)               0\n",
            "           Conv2D-43                             (1, 32, 12, 12)            8224\n",
            "       Activation-44                   <_Symbol conv19_relu_fwd>               0\n",
            "       Activation-45                             (1, 96, 12, 12)               0\n",
            "           Conv2D-46                             (1, 96, 12, 12)           76896\n",
            "        MaxPool2D-47                            (1, 256, 12, 12)               0\n",
            "       Activation-48                   <_Symbol conv20_relu_fwd>               0\n",
            "       Activation-49                             (1, 64, 12, 12)               0\n",
            "           Conv2D-50                             (1, 64, 12, 12)           16448\n",
            "        Inception-51                            (1, 480, 12, 12)               0\n",
            "        MaxPool2D-52                              (1, 480, 6, 6)               0\n",
            "       Activation-53                   <_Symbol conv21_relu_fwd>               0\n",
            "       Activation-54                              (1, 192, 6, 6)               0\n",
            "           Conv2D-55                              (1, 192, 6, 6)           92352\n",
            "       Activation-56                   <_Symbol conv22_relu_fwd>               0\n",
            "       Activation-57                               (1, 96, 6, 6)               0\n",
            "           Conv2D-58                               (1, 96, 6, 6)           46176\n",
            "       Activation-59                   <_Symbol conv23_relu_fwd>               0\n",
            "       Activation-60                              (1, 208, 6, 6)               0\n",
            "           Conv2D-61                              (1, 208, 6, 6)          179920\n",
            "       Activation-62                   <_Symbol conv24_relu_fwd>               0\n",
            "       Activation-63                               (1, 16, 6, 6)               0\n",
            "           Conv2D-64                               (1, 16, 6, 6)            7696\n",
            "       Activation-65                   <_Symbol conv25_relu_fwd>               0\n",
            "       Activation-66                               (1, 48, 6, 6)               0\n",
            "           Conv2D-67                               (1, 48, 6, 6)           19248\n",
            "        MaxPool2D-68                              (1, 480, 6, 6)               0\n",
            "       Activation-69                   <_Symbol conv26_relu_fwd>               0\n",
            "       Activation-70                               (1, 64, 6, 6)               0\n",
            "           Conv2D-71                               (1, 64, 6, 6)           30784\n",
            "        Inception-72                              (1, 512, 6, 6)               0\n",
            "       Activation-73                   <_Symbol conv27_relu_fwd>               0\n",
            "       Activation-74                              (1, 160, 6, 6)               0\n",
            "           Conv2D-75                              (1, 160, 6, 6)           82080\n",
            "       Activation-76                   <_Symbol conv28_relu_fwd>               0\n",
            "       Activation-77                              (1, 112, 6, 6)               0\n",
            "           Conv2D-78                              (1, 112, 6, 6)           57456\n",
            "       Activation-79                   <_Symbol conv29_relu_fwd>               0\n",
            "       Activation-80                              (1, 224, 6, 6)               0\n",
            "           Conv2D-81                              (1, 224, 6, 6)          226016\n",
            "       Activation-82                   <_Symbol conv30_relu_fwd>               0\n",
            "       Activation-83                               (1, 24, 6, 6)               0\n",
            "           Conv2D-84                               (1, 24, 6, 6)           12312\n",
            "       Activation-85                   <_Symbol conv31_relu_fwd>               0\n",
            "       Activation-86                               (1, 64, 6, 6)               0\n",
            "           Conv2D-87                               (1, 64, 6, 6)           38464\n",
            "        MaxPool2D-88                              (1, 512, 6, 6)               0\n",
            "       Activation-89                   <_Symbol conv32_relu_fwd>               0\n",
            "       Activation-90                               (1, 64, 6, 6)               0\n",
            "           Conv2D-91                               (1, 64, 6, 6)           32832\n",
            "        Inception-92                              (1, 512, 6, 6)               0\n",
            "       Activation-93                   <_Symbol conv33_relu_fwd>               0\n",
            "       Activation-94                              (1, 128, 6, 6)               0\n",
            "           Conv2D-95                              (1, 128, 6, 6)           65664\n",
            "       Activation-96                   <_Symbol conv34_relu_fwd>               0\n",
            "       Activation-97                              (1, 128, 6, 6)               0\n",
            "           Conv2D-98                              (1, 128, 6, 6)           65664\n",
            "       Activation-99                   <_Symbol conv35_relu_fwd>               0\n",
            "      Activation-100                              (1, 256, 6, 6)               0\n",
            "          Conv2D-101                              (1, 256, 6, 6)          295168\n",
            "      Activation-102                   <_Symbol conv36_relu_fwd>               0\n",
            "      Activation-103                               (1, 24, 6, 6)               0\n",
            "          Conv2D-104                               (1, 24, 6, 6)           12312\n",
            "      Activation-105                   <_Symbol conv37_relu_fwd>               0\n",
            "      Activation-106                               (1, 64, 6, 6)               0\n",
            "          Conv2D-107                               (1, 64, 6, 6)           38464\n",
            "       MaxPool2D-108                              (1, 512, 6, 6)               0\n",
            "      Activation-109                   <_Symbol conv38_relu_fwd>               0\n",
            "      Activation-110                               (1, 64, 6, 6)               0\n",
            "          Conv2D-111                               (1, 64, 6, 6)           32832\n",
            "       Inception-112                              (1, 512, 6, 6)               0\n",
            "      Activation-113                   <_Symbol conv39_relu_fwd>               0\n",
            "      Activation-114                              (1, 112, 6, 6)               0\n",
            "          Conv2D-115                              (1, 112, 6, 6)           57456\n",
            "      Activation-116                   <_Symbol conv40_relu_fwd>               0\n",
            "      Activation-117                              (1, 144, 6, 6)               0\n",
            "          Conv2D-118                              (1, 144, 6, 6)           73872\n",
            "      Activation-119                   <_Symbol conv41_relu_fwd>               0\n",
            "      Activation-120                              (1, 288, 6, 6)               0\n",
            "          Conv2D-121                              (1, 288, 6, 6)          373536\n",
            "      Activation-122                   <_Symbol conv42_relu_fwd>               0\n",
            "      Activation-123                               (1, 32, 6, 6)               0\n",
            "          Conv2D-124                               (1, 32, 6, 6)           16416\n",
            "      Activation-125                   <_Symbol conv43_relu_fwd>               0\n",
            "      Activation-126                               (1, 64, 6, 6)               0\n",
            "          Conv2D-127                               (1, 64, 6, 6)           51264\n",
            "       MaxPool2D-128                              (1, 512, 6, 6)               0\n",
            "      Activation-129                   <_Symbol conv44_relu_fwd>               0\n",
            "      Activation-130                               (1, 64, 6, 6)               0\n",
            "          Conv2D-131                               (1, 64, 6, 6)           32832\n",
            "       Inception-132                              (1, 528, 6, 6)               0\n",
            "      Activation-133                   <_Symbol conv45_relu_fwd>               0\n",
            "      Activation-134                              (1, 256, 6, 6)               0\n",
            "          Conv2D-135                              (1, 256, 6, 6)          135424\n",
            "      Activation-136                   <_Symbol conv46_relu_fwd>               0\n",
            "      Activation-137                              (1, 160, 6, 6)               0\n",
            "          Conv2D-138                              (1, 160, 6, 6)           84640\n",
            "      Activation-139                   <_Symbol conv47_relu_fwd>               0\n",
            "      Activation-140                              (1, 320, 6, 6)               0\n",
            "          Conv2D-141                              (1, 320, 6, 6)          461120\n",
            "      Activation-142                   <_Symbol conv48_relu_fwd>               0\n",
            "      Activation-143                               (1, 32, 6, 6)               0\n",
            "          Conv2D-144                               (1, 32, 6, 6)           16928\n",
            "      Activation-145                   <_Symbol conv49_relu_fwd>               0\n",
            "      Activation-146                              (1, 128, 6, 6)               0\n",
            "          Conv2D-147                              (1, 128, 6, 6)          102528\n",
            "       MaxPool2D-148                              (1, 528, 6, 6)               0\n",
            "      Activation-149                   <_Symbol conv50_relu_fwd>               0\n",
            "      Activation-150                              (1, 128, 6, 6)               0\n",
            "          Conv2D-151                              (1, 128, 6, 6)           67712\n",
            "       Inception-152                              (1, 832, 6, 6)               0\n",
            "       MaxPool2D-153                              (1, 832, 3, 3)               0\n",
            "      Activation-154                   <_Symbol conv51_relu_fwd>               0\n",
            "      Activation-155                              (1, 256, 3, 3)               0\n",
            "          Conv2D-156                              (1, 256, 3, 3)          213248\n",
            "      Activation-157                   <_Symbol conv52_relu_fwd>               0\n",
            "      Activation-158                              (1, 160, 3, 3)               0\n",
            "          Conv2D-159                              (1, 160, 3, 3)          133280\n",
            "      Activation-160                   <_Symbol conv53_relu_fwd>               0\n",
            "      Activation-161                              (1, 320, 3, 3)               0\n",
            "          Conv2D-162                              (1, 320, 3, 3)          461120\n",
            "      Activation-163                   <_Symbol conv54_relu_fwd>               0\n",
            "      Activation-164                               (1, 32, 3, 3)               0\n",
            "          Conv2D-165                               (1, 32, 3, 3)           26656\n",
            "      Activation-166                   <_Symbol conv55_relu_fwd>               0\n",
            "      Activation-167                              (1, 128, 3, 3)               0\n",
            "          Conv2D-168                              (1, 128, 3, 3)          102528\n",
            "       MaxPool2D-169                              (1, 832, 3, 3)               0\n",
            "      Activation-170                   <_Symbol conv56_relu_fwd>               0\n",
            "      Activation-171                              (1, 128, 3, 3)               0\n",
            "          Conv2D-172                              (1, 128, 3, 3)          106624\n",
            "       Inception-173                              (1, 832, 3, 3)               0\n",
            "      Activation-174                   <_Symbol conv57_relu_fwd>               0\n",
            "      Activation-175                              (1, 384, 3, 3)               0\n",
            "          Conv2D-176                              (1, 384, 3, 3)          319872\n",
            "      Activation-177                   <_Symbol conv58_relu_fwd>               0\n",
            "      Activation-178                              (1, 192, 3, 3)               0\n",
            "          Conv2D-179                              (1, 192, 3, 3)          159936\n",
            "      Activation-180                   <_Symbol conv59_relu_fwd>               0\n",
            "      Activation-181                              (1, 384, 3, 3)               0\n",
            "          Conv2D-182                              (1, 384, 3, 3)          663936\n",
            "      Activation-183                   <_Symbol conv60_relu_fwd>               0\n",
            "      Activation-184                               (1, 48, 3, 3)               0\n",
            "          Conv2D-185                               (1, 48, 3, 3)           39984\n",
            "      Activation-186                   <_Symbol conv61_relu_fwd>               0\n",
            "      Activation-187                              (1, 128, 3, 3)               0\n",
            "          Conv2D-188                              (1, 128, 3, 3)          153728\n",
            "       MaxPool2D-189                              (1, 832, 3, 3)               0\n",
            "      Activation-190                   <_Symbol conv62_relu_fwd>               0\n",
            "      Activation-191                              (1, 128, 3, 3)               0\n",
            "          Conv2D-192                              (1, 128, 3, 3)          106624\n",
            "       Inception-193                             (1, 1024, 3, 3)               0\n",
            " GlobalAvgPool2D-194                             (1, 1024, 1, 1)               0\n",
            "           Dense-195                                     (1, 10)           10250\n",
            "================================================================================\n",
            "Parameters in forward computation graph, duplicate included\n",
            "   Total params: 5977530\n",
            "   Trainable params: 5977530\n",
            "   Non-trainable params: 0\n",
            "Shared params in forward computation graph: 0\n",
            "Unique parameters in model: 5977530\n",
            "--------------------------------------------------------------------------------\n"
          ],
          "name": "stdout"
        }
      ]
    },
    {
      "cell_type": "code",
      "metadata": {
        "colab": {
          "base_uri": "https://localhost:8080/"
        },
        "id": "ZYVbRQ2WlXly",
        "outputId": "218acab8-8531-43b2-96a5-c1134523edfb"
      },
      "source": [
        "X = np.random.uniform(size=(1, 1, 96, 96))\r\n",
        "for layer in net:\r\n",
        "    print(layer.summary(X))\r\n",
        "    X = layer(X)\r\n",
        "    print(layer.name, 'output shape:\\t', X.shape)"
      ],
      "execution_count": 14,
      "outputs": [
        {
          "output_type": "stream",
          "text": [
            "--------------------------------------------------------------------------------\n",
            "        Layer (type)                                Output Shape         Param #\n",
            "================================================================================\n",
            "               Input                              (1, 1, 96, 96)               0\n",
            "        Activation-1                             (1, 64, 48, 48)               0\n",
            "            Conv2D-2                             (1, 64, 48, 48)            3200\n",
            "         MaxPool2D-3                             (1, 64, 24, 24)               0\n",
            "================================================================================\n",
            "Parameters in forward computation graph, duplicate included\n",
            "   Total params: 3200\n",
            "   Trainable params: 3200\n",
            "   Non-trainable params: 0\n",
            "Shared params in forward computation graph: 0\n",
            "Unique parameters in model: 3200\n",
            "--------------------------------------------------------------------------------\n",
            "None\n",
            "sequential0 output shape:\t (1, 64, 24, 24)\n",
            "--------------------------------------------------------------------------------\n",
            "        Layer (type)                                Output Shape         Param #\n",
            "================================================================================\n",
            "               Input                             (1, 64, 24, 24)               0\n",
            "        Activation-1                             (1, 64, 24, 24)               0\n",
            "            Conv2D-2                             (1, 64, 24, 24)            4160\n",
            "        Activation-3                            (1, 192, 24, 24)               0\n",
            "            Conv2D-4                            (1, 192, 24, 24)          110784\n",
            "         MaxPool2D-5                            (1, 192, 12, 12)               0\n",
            "================================================================================\n",
            "Parameters in forward computation graph, duplicate included\n",
            "   Total params: 114944\n",
            "   Trainable params: 114944\n",
            "   Non-trainable params: 0\n",
            "Shared params in forward computation graph: 0\n",
            "Unique parameters in model: 114944\n",
            "--------------------------------------------------------------------------------\n",
            "None\n",
            "sequential1 output shape:\t (1, 192, 12, 12)\n",
            "--------------------------------------------------------------------------------\n",
            "        Layer (type)                                Output Shape         Param #\n",
            "================================================================================\n",
            "               Input                            (1, 192, 12, 12)               0\n",
            "        Activation-1                             (1, 64, 12, 12)               0\n",
            "            Conv2D-2                             (1, 64, 12, 12)           12352\n",
            "        Activation-3                             (1, 96, 12, 12)               0\n",
            "            Conv2D-4                             (1, 96, 12, 12)           18528\n",
            "        Activation-5                            (1, 128, 12, 12)               0\n",
            "            Conv2D-6                            (1, 128, 12, 12)          110720\n",
            "        Activation-7                             (1, 16, 12, 12)               0\n",
            "            Conv2D-8                             (1, 16, 12, 12)            3088\n",
            "        Activation-9                             (1, 32, 12, 12)               0\n",
            "           Conv2D-10                             (1, 32, 12, 12)           12832\n",
            "        MaxPool2D-11                            (1, 192, 12, 12)               0\n",
            "       Activation-12                             (1, 32, 12, 12)               0\n",
            "           Conv2D-13                             (1, 32, 12, 12)            6176\n",
            "        Inception-14                            (1, 256, 12, 12)               0\n",
            "       Activation-15                            (1, 128, 12, 12)               0\n",
            "           Conv2D-16                            (1, 128, 12, 12)           32896\n",
            "       Activation-17                            (1, 128, 12, 12)               0\n",
            "           Conv2D-18                            (1, 128, 12, 12)           32896\n",
            "       Activation-19                            (1, 192, 12, 12)               0\n",
            "           Conv2D-20                            (1, 192, 12, 12)          221376\n",
            "       Activation-21                             (1, 32, 12, 12)               0\n",
            "           Conv2D-22                             (1, 32, 12, 12)            8224\n",
            "       Activation-23                             (1, 96, 12, 12)               0\n",
            "           Conv2D-24                             (1, 96, 12, 12)           76896\n",
            "        MaxPool2D-25                            (1, 256, 12, 12)               0\n",
            "       Activation-26                             (1, 64, 12, 12)               0\n",
            "           Conv2D-27                             (1, 64, 12, 12)           16448\n",
            "        Inception-28                            (1, 480, 12, 12)               0\n",
            "        MaxPool2D-29                              (1, 480, 6, 6)               0\n",
            "================================================================================\n",
            "Parameters in forward computation graph, duplicate included\n",
            "   Total params: 552432\n",
            "   Trainable params: 552432\n",
            "   Non-trainable params: 0\n",
            "Shared params in forward computation graph: 0\n",
            "Unique parameters in model: 552432\n",
            "--------------------------------------------------------------------------------\n",
            "None\n",
            "sequential2 output shape:\t (1, 480, 6, 6)\n",
            "--------------------------------------------------------------------------------\n",
            "        Layer (type)                                Output Shape         Param #\n",
            "================================================================================\n",
            "               Input                              (1, 480, 6, 6)               0\n",
            "        Activation-1                              (1, 192, 6, 6)               0\n",
            "            Conv2D-2                              (1, 192, 6, 6)           92352\n",
            "        Activation-3                               (1, 96, 6, 6)               0\n",
            "            Conv2D-4                               (1, 96, 6, 6)           46176\n",
            "        Activation-5                              (1, 208, 6, 6)               0\n",
            "            Conv2D-6                              (1, 208, 6, 6)          179920\n",
            "        Activation-7                               (1, 16, 6, 6)               0\n",
            "            Conv2D-8                               (1, 16, 6, 6)            7696\n",
            "        Activation-9                               (1, 48, 6, 6)               0\n",
            "           Conv2D-10                               (1, 48, 6, 6)           19248\n",
            "        MaxPool2D-11                              (1, 480, 6, 6)               0\n",
            "       Activation-12                               (1, 64, 6, 6)               0\n",
            "           Conv2D-13                               (1, 64, 6, 6)           30784\n",
            "        Inception-14                              (1, 512, 6, 6)               0\n",
            "       Activation-15                              (1, 160, 6, 6)               0\n",
            "           Conv2D-16                              (1, 160, 6, 6)           82080\n",
            "       Activation-17                              (1, 112, 6, 6)               0\n",
            "           Conv2D-18                              (1, 112, 6, 6)           57456\n",
            "       Activation-19                              (1, 224, 6, 6)               0\n",
            "           Conv2D-20                              (1, 224, 6, 6)          226016\n",
            "       Activation-21                               (1, 24, 6, 6)               0\n",
            "           Conv2D-22                               (1, 24, 6, 6)           12312\n",
            "       Activation-23                               (1, 64, 6, 6)               0\n",
            "           Conv2D-24                               (1, 64, 6, 6)           38464\n",
            "        MaxPool2D-25                              (1, 512, 6, 6)               0\n",
            "       Activation-26                               (1, 64, 6, 6)               0\n",
            "           Conv2D-27                               (1, 64, 6, 6)           32832\n",
            "        Inception-28                              (1, 512, 6, 6)               0\n",
            "       Activation-29                              (1, 128, 6, 6)               0\n",
            "           Conv2D-30                              (1, 128, 6, 6)           65664\n",
            "       Activation-31                              (1, 128, 6, 6)               0\n",
            "           Conv2D-32                              (1, 128, 6, 6)           65664\n",
            "       Activation-33                              (1, 256, 6, 6)               0\n",
            "           Conv2D-34                              (1, 256, 6, 6)          295168\n",
            "       Activation-35                               (1, 24, 6, 6)               0\n",
            "           Conv2D-36                               (1, 24, 6, 6)           12312\n",
            "       Activation-37                               (1, 64, 6, 6)               0\n",
            "           Conv2D-38                               (1, 64, 6, 6)           38464\n",
            "        MaxPool2D-39                              (1, 512, 6, 6)               0\n",
            "       Activation-40                               (1, 64, 6, 6)               0\n",
            "           Conv2D-41                               (1, 64, 6, 6)           32832\n",
            "        Inception-42                              (1, 512, 6, 6)               0\n",
            "       Activation-43                              (1, 112, 6, 6)               0\n",
            "           Conv2D-44                              (1, 112, 6, 6)           57456\n",
            "       Activation-45                              (1, 144, 6, 6)               0\n",
            "           Conv2D-46                              (1, 144, 6, 6)           73872\n",
            "       Activation-47                              (1, 288, 6, 6)               0\n",
            "           Conv2D-48                              (1, 288, 6, 6)          373536\n",
            "       Activation-49                               (1, 32, 6, 6)               0\n",
            "           Conv2D-50                               (1, 32, 6, 6)           16416\n",
            "       Activation-51                               (1, 64, 6, 6)               0\n",
            "           Conv2D-52                               (1, 64, 6, 6)           51264\n",
            "        MaxPool2D-53                              (1, 512, 6, 6)               0\n",
            "       Activation-54                               (1, 64, 6, 6)               0\n",
            "           Conv2D-55                               (1, 64, 6, 6)           32832\n",
            "        Inception-56                              (1, 528, 6, 6)               0\n",
            "       Activation-57                              (1, 256, 6, 6)               0\n",
            "           Conv2D-58                              (1, 256, 6, 6)          135424\n",
            "       Activation-59                              (1, 160, 6, 6)               0\n",
            "           Conv2D-60                              (1, 160, 6, 6)           84640\n",
            "       Activation-61                              (1, 320, 6, 6)               0\n",
            "           Conv2D-62                              (1, 320, 6, 6)          461120\n",
            "       Activation-63                               (1, 32, 6, 6)               0\n",
            "           Conv2D-64                               (1, 32, 6, 6)           16928\n",
            "       Activation-65                              (1, 128, 6, 6)               0\n",
            "           Conv2D-66                              (1, 128, 6, 6)          102528\n",
            "        MaxPool2D-67                              (1, 528, 6, 6)               0\n",
            "       Activation-68                              (1, 128, 6, 6)               0\n",
            "           Conv2D-69                              (1, 128, 6, 6)           67712\n",
            "        Inception-70                              (1, 832, 6, 6)               0\n",
            "        MaxPool2D-71                              (1, 832, 3, 3)               0\n",
            "================================================================================\n",
            "Parameters in forward computation graph, duplicate included\n",
            "   Total params: 2809168\n",
            "   Trainable params: 2809168\n",
            "   Non-trainable params: 0\n",
            "Shared params in forward computation graph: 0\n",
            "Unique parameters in model: 2809168\n",
            "--------------------------------------------------------------------------------\n",
            "None\n",
            "sequential3 output shape:\t (1, 832, 3, 3)\n",
            "--------------------------------------------------------------------------------\n",
            "        Layer (type)                                Output Shape         Param #\n",
            "================================================================================\n",
            "               Input                              (1, 832, 3, 3)               0\n",
            "        Activation-1                              (1, 256, 3, 3)               0\n",
            "            Conv2D-2                              (1, 256, 3, 3)          213248\n",
            "        Activation-3                              (1, 160, 3, 3)               0\n",
            "            Conv2D-4                              (1, 160, 3, 3)          133280\n",
            "        Activation-5                              (1, 320, 3, 3)               0\n",
            "            Conv2D-6                              (1, 320, 3, 3)          461120\n",
            "        Activation-7                               (1, 32, 3, 3)               0\n",
            "            Conv2D-8                               (1, 32, 3, 3)           26656\n",
            "        Activation-9                              (1, 128, 3, 3)               0\n",
            "           Conv2D-10                              (1, 128, 3, 3)          102528\n",
            "        MaxPool2D-11                              (1, 832, 3, 3)               0\n",
            "       Activation-12                              (1, 128, 3, 3)               0\n",
            "           Conv2D-13                              (1, 128, 3, 3)          106624\n",
            "        Inception-14                              (1, 832, 3, 3)               0\n",
            "       Activation-15                              (1, 384, 3, 3)               0\n",
            "           Conv2D-16                              (1, 384, 3, 3)          319872\n",
            "       Activation-17                              (1, 192, 3, 3)               0\n",
            "           Conv2D-18                              (1, 192, 3, 3)          159936\n",
            "       Activation-19                              (1, 384, 3, 3)               0\n",
            "           Conv2D-20                              (1, 384, 3, 3)          663936\n",
            "       Activation-21                               (1, 48, 3, 3)               0\n",
            "           Conv2D-22                               (1, 48, 3, 3)           39984\n",
            "       Activation-23                              (1, 128, 3, 3)               0\n",
            "           Conv2D-24                              (1, 128, 3, 3)          153728\n",
            "        MaxPool2D-25                              (1, 832, 3, 3)               0\n",
            "       Activation-26                              (1, 128, 3, 3)               0\n",
            "           Conv2D-27                              (1, 128, 3, 3)          106624\n",
            "        Inception-28                             (1, 1024, 3, 3)               0\n",
            "  GlobalAvgPool2D-29                             (1, 1024, 1, 1)               0\n",
            "================================================================================\n",
            "Parameters in forward computation graph, duplicate included\n",
            "   Total params: 2487536\n",
            "   Trainable params: 2487536\n",
            "   Non-trainable params: 0\n",
            "Shared params in forward computation graph: 0\n",
            "Unique parameters in model: 2487536\n",
            "--------------------------------------------------------------------------------\n",
            "None\n",
            "sequential4 output shape:\t (1, 1024, 1, 1)\n",
            "--------------------------------------------------------------------------------\n",
            "        Layer (type)                                Output Shape         Param #\n",
            "================================================================================\n",
            "               Input                             (1, 1024, 1, 1)               0\n",
            "             Dense-1                                     (1, 10)           10250\n",
            "================================================================================\n",
            "Parameters in forward computation graph, duplicate included\n",
            "   Total params: 10250\n",
            "   Trainable params: 10250\n",
            "   Non-trainable params: 0\n",
            "Shared params in forward computation graph: 0\n",
            "Unique parameters in model: 10250\n",
            "--------------------------------------------------------------------------------\n",
            "None\n",
            "dense0 output shape:\t (1, 10)\n"
          ],
          "name": "stdout"
        }
      ]
    },
    {
      "cell_type": "markdown",
      "metadata": {
        "id": "tBOeTXax9Kky"
      },
      "source": [
        "### Training"
      ]
    },
    {
      "cell_type": "code",
      "metadata": {
        "colab": {
          "base_uri": "https://localhost:8080/",
          "height": 295
        },
        "id": "-wAHe8Rc_-0A",
        "outputId": "7994b30a-ef23-4dfd-f7a2-35b1b343f14d"
      },
      "source": [
        "lr, num_epochs = 0.1, 10\r\n",
        "d2l.train_ch6(net, train_iter, test_iter, num_epochs, lr)"
      ],
      "execution_count": 15,
      "outputs": [
        {
          "output_type": "stream",
          "text": [
            "loss 0.262, train acc 0.901, test acc 0.909\n",
            "301.1 examples/sec on gpu(0)\n"
          ],
          "name": "stdout"
        },
        {
          "output_type": "display_data",
          "data": {
            "text/plain": [
              "<Figure size 252x180 with 1 Axes>"
            ],
            "image/svg+xml": "<?xml version=\"1.0\" encoding=\"utf-8\" standalone=\"no\"?>\n<!DOCTYPE svg PUBLIC \"-//W3C//DTD SVG 1.1//EN\"\n  \"http://www.w3.org/Graphics/SVG/1.1/DTD/svg11.dtd\">\n<!-- Created with matplotlib (https://matplotlib.org/) -->\n<svg height=\"180.65625pt\" version=\"1.1\" viewBox=\"0 0 238.965625 180.65625\" width=\"238.965625pt\" xmlns=\"http://www.w3.org/2000/svg\" xmlns:xlink=\"http://www.w3.org/1999/xlink\">\n <defs>\n  <style type=\"text/css\">\n*{stroke-linecap:butt;stroke-linejoin:round;}\n  </style>\n </defs>\n <g id=\"figure_1\">\n  <g id=\"patch_1\">\n   <path d=\"M 0 180.65625 \nL 238.965625 180.65625 \nL 238.965625 0 \nL 0 0 \nz\n\" style=\"fill:none;\"/>\n  </g>\n  <g id=\"axes_1\">\n   <g id=\"patch_2\">\n    <path d=\"M 30.103125 143.1 \nL 225.403125 143.1 \nL 225.403125 7.2 \nL 30.103125 7.2 \nz\n\" style=\"fill:#ffffff;\"/>\n   </g>\n   <g id=\"matplotlib.axis_1\">\n    <g id=\"xtick_1\">\n     <g id=\"line2d_1\">\n      <path clip-path=\"url(#p13aa4bb274)\" d=\"M 51.803125 143.1 \nL 51.803125 7.2 \n\" style=\"fill:none;stroke:#b0b0b0;stroke-linecap:square;stroke-width:0.8;\"/>\n     </g>\n     <g id=\"line2d_2\">\n      <defs>\n       <path d=\"M 0 0 \nL 0 3.5 \n\" id=\"m68d9dea82c\" style=\"stroke:#000000;stroke-width:0.8;\"/>\n      </defs>\n      <g>\n       <use style=\"stroke:#000000;stroke-width:0.8;\" x=\"51.803125\" xlink:href=\"#m68d9dea82c\" y=\"143.1\"/>\n      </g>\n     </g>\n     <g id=\"text_1\">\n      <!-- 2 -->\n      <defs>\n       <path d=\"M 19.1875 8.296875 \nL 53.609375 8.296875 \nL 53.609375 0 \nL 7.328125 0 \nL 7.328125 8.296875 \nQ 12.9375 14.109375 22.625 23.890625 \nQ 32.328125 33.6875 34.8125 36.53125 \nQ 39.546875 41.84375 41.421875 45.53125 \nQ 43.3125 49.21875 43.3125 52.78125 \nQ 43.3125 58.59375 39.234375 62.25 \nQ 35.15625 65.921875 28.609375 65.921875 \nQ 23.96875 65.921875 18.8125 64.3125 \nQ 13.671875 62.703125 7.8125 59.421875 \nL 7.8125 69.390625 \nQ 13.765625 71.78125 18.9375 73 \nQ 24.125 74.21875 28.421875 74.21875 \nQ 39.75 74.21875 46.484375 68.546875 \nQ 53.21875 62.890625 53.21875 53.421875 \nQ 53.21875 48.921875 51.53125 44.890625 \nQ 49.859375 40.875 45.40625 35.40625 \nQ 44.1875 33.984375 37.640625 27.21875 \nQ 31.109375 20.453125 19.1875 8.296875 \nz\n\" id=\"DejaVuSans-50\"/>\n      </defs>\n      <g transform=\"translate(48.621875 157.698438)scale(0.1 -0.1)\">\n       <use xlink:href=\"#DejaVuSans-50\"/>\n      </g>\n     </g>\n    </g>\n    <g id=\"xtick_2\">\n     <g id=\"line2d_3\">\n      <path clip-path=\"url(#p13aa4bb274)\" d=\"M 95.203125 143.1 \nL 95.203125 7.2 \n\" style=\"fill:none;stroke:#b0b0b0;stroke-linecap:square;stroke-width:0.8;\"/>\n     </g>\n     <g id=\"line2d_4\">\n      <g>\n       <use style=\"stroke:#000000;stroke-width:0.8;\" x=\"95.203125\" xlink:href=\"#m68d9dea82c\" y=\"143.1\"/>\n      </g>\n     </g>\n     <g id=\"text_2\">\n      <!-- 4 -->\n      <defs>\n       <path d=\"M 37.796875 64.3125 \nL 12.890625 25.390625 \nL 37.796875 25.390625 \nz\nM 35.203125 72.90625 \nL 47.609375 72.90625 \nL 47.609375 25.390625 \nL 58.015625 25.390625 \nL 58.015625 17.1875 \nL 47.609375 17.1875 \nL 47.609375 0 \nL 37.796875 0 \nL 37.796875 17.1875 \nL 4.890625 17.1875 \nL 4.890625 26.703125 \nz\n\" id=\"DejaVuSans-52\"/>\n      </defs>\n      <g transform=\"translate(92.021875 157.698438)scale(0.1 -0.1)\">\n       <use xlink:href=\"#DejaVuSans-52\"/>\n      </g>\n     </g>\n    </g>\n    <g id=\"xtick_3\">\n     <g id=\"line2d_5\">\n      <path clip-path=\"url(#p13aa4bb274)\" d=\"M 138.603125 143.1 \nL 138.603125 7.2 \n\" style=\"fill:none;stroke:#b0b0b0;stroke-linecap:square;stroke-width:0.8;\"/>\n     </g>\n     <g id=\"line2d_6\">\n      <g>\n       <use style=\"stroke:#000000;stroke-width:0.8;\" x=\"138.603125\" xlink:href=\"#m68d9dea82c\" y=\"143.1\"/>\n      </g>\n     </g>\n     <g id=\"text_3\">\n      <!-- 6 -->\n      <defs>\n       <path d=\"M 33.015625 40.375 \nQ 26.375 40.375 22.484375 35.828125 \nQ 18.609375 31.296875 18.609375 23.390625 \nQ 18.609375 15.53125 22.484375 10.953125 \nQ 26.375 6.390625 33.015625 6.390625 \nQ 39.65625 6.390625 43.53125 10.953125 \nQ 47.40625 15.53125 47.40625 23.390625 \nQ 47.40625 31.296875 43.53125 35.828125 \nQ 39.65625 40.375 33.015625 40.375 \nz\nM 52.59375 71.296875 \nL 52.59375 62.3125 \nQ 48.875 64.0625 45.09375 64.984375 \nQ 41.3125 65.921875 37.59375 65.921875 \nQ 27.828125 65.921875 22.671875 59.328125 \nQ 17.53125 52.734375 16.796875 39.40625 \nQ 19.671875 43.65625 24.015625 45.921875 \nQ 28.375 48.1875 33.59375 48.1875 \nQ 44.578125 48.1875 50.953125 41.515625 \nQ 57.328125 34.859375 57.328125 23.390625 \nQ 57.328125 12.15625 50.6875 5.359375 \nQ 44.046875 -1.421875 33.015625 -1.421875 \nQ 20.359375 -1.421875 13.671875 8.265625 \nQ 6.984375 17.96875 6.984375 36.375 \nQ 6.984375 53.65625 15.1875 63.9375 \nQ 23.390625 74.21875 37.203125 74.21875 \nQ 40.921875 74.21875 44.703125 73.484375 \nQ 48.484375 72.75 52.59375 71.296875 \nz\n\" id=\"DejaVuSans-54\"/>\n      </defs>\n      <g transform=\"translate(135.421875 157.698438)scale(0.1 -0.1)\">\n       <use xlink:href=\"#DejaVuSans-54\"/>\n      </g>\n     </g>\n    </g>\n    <g id=\"xtick_4\">\n     <g id=\"line2d_7\">\n      <path clip-path=\"url(#p13aa4bb274)\" d=\"M 182.003125 143.1 \nL 182.003125 7.2 \n\" style=\"fill:none;stroke:#b0b0b0;stroke-linecap:square;stroke-width:0.8;\"/>\n     </g>\n     <g id=\"line2d_8\">\n      <g>\n       <use style=\"stroke:#000000;stroke-width:0.8;\" x=\"182.003125\" xlink:href=\"#m68d9dea82c\" y=\"143.1\"/>\n      </g>\n     </g>\n     <g id=\"text_4\">\n      <!-- 8 -->\n      <defs>\n       <path d=\"M 31.78125 34.625 \nQ 24.75 34.625 20.71875 30.859375 \nQ 16.703125 27.09375 16.703125 20.515625 \nQ 16.703125 13.921875 20.71875 10.15625 \nQ 24.75 6.390625 31.78125 6.390625 \nQ 38.8125 6.390625 42.859375 10.171875 \nQ 46.921875 13.96875 46.921875 20.515625 \nQ 46.921875 27.09375 42.890625 30.859375 \nQ 38.875 34.625 31.78125 34.625 \nz\nM 21.921875 38.8125 \nQ 15.578125 40.375 12.03125 44.71875 \nQ 8.5 49.078125 8.5 55.328125 \nQ 8.5 64.0625 14.71875 69.140625 \nQ 20.953125 74.21875 31.78125 74.21875 \nQ 42.671875 74.21875 48.875 69.140625 \nQ 55.078125 64.0625 55.078125 55.328125 \nQ 55.078125 49.078125 51.53125 44.71875 \nQ 48 40.375 41.703125 38.8125 \nQ 48.828125 37.15625 52.796875 32.3125 \nQ 56.78125 27.484375 56.78125 20.515625 \nQ 56.78125 9.90625 50.3125 4.234375 \nQ 43.84375 -1.421875 31.78125 -1.421875 \nQ 19.734375 -1.421875 13.25 4.234375 \nQ 6.78125 9.90625 6.78125 20.515625 \nQ 6.78125 27.484375 10.78125 32.3125 \nQ 14.796875 37.15625 21.921875 38.8125 \nz\nM 18.3125 54.390625 \nQ 18.3125 48.734375 21.84375 45.5625 \nQ 25.390625 42.390625 31.78125 42.390625 \nQ 38.140625 42.390625 41.71875 45.5625 \nQ 45.3125 48.734375 45.3125 54.390625 \nQ 45.3125 60.0625 41.71875 63.234375 \nQ 38.140625 66.40625 31.78125 66.40625 \nQ 25.390625 66.40625 21.84375 63.234375 \nQ 18.3125 60.0625 18.3125 54.390625 \nz\n\" id=\"DejaVuSans-56\"/>\n      </defs>\n      <g transform=\"translate(178.821875 157.698438)scale(0.1 -0.1)\">\n       <use xlink:href=\"#DejaVuSans-56\"/>\n      </g>\n     </g>\n    </g>\n    <g id=\"xtick_5\">\n     <g id=\"line2d_9\">\n      <path clip-path=\"url(#p13aa4bb274)\" d=\"M 225.403125 143.1 \nL 225.403125 7.2 \n\" style=\"fill:none;stroke:#b0b0b0;stroke-linecap:square;stroke-width:0.8;\"/>\n     </g>\n     <g id=\"line2d_10\">\n      <g>\n       <use style=\"stroke:#000000;stroke-width:0.8;\" x=\"225.403125\" xlink:href=\"#m68d9dea82c\" y=\"143.1\"/>\n      </g>\n     </g>\n     <g id=\"text_5\">\n      <!-- 10 -->\n      <defs>\n       <path d=\"M 12.40625 8.296875 \nL 28.515625 8.296875 \nL 28.515625 63.921875 \nL 10.984375 60.40625 \nL 10.984375 69.390625 \nL 28.421875 72.90625 \nL 38.28125 72.90625 \nL 38.28125 8.296875 \nL 54.390625 8.296875 \nL 54.390625 0 \nL 12.40625 0 \nz\n\" id=\"DejaVuSans-49\"/>\n       <path d=\"M 31.78125 66.40625 \nQ 24.171875 66.40625 20.328125 58.90625 \nQ 16.5 51.421875 16.5 36.375 \nQ 16.5 21.390625 20.328125 13.890625 \nQ 24.171875 6.390625 31.78125 6.390625 \nQ 39.453125 6.390625 43.28125 13.890625 \nQ 47.125 21.390625 47.125 36.375 \nQ 47.125 51.421875 43.28125 58.90625 \nQ 39.453125 66.40625 31.78125 66.40625 \nz\nM 31.78125 74.21875 \nQ 44.046875 74.21875 50.515625 64.515625 \nQ 56.984375 54.828125 56.984375 36.375 \nQ 56.984375 17.96875 50.515625 8.265625 \nQ 44.046875 -1.421875 31.78125 -1.421875 \nQ 19.53125 -1.421875 13.0625 8.265625 \nQ 6.59375 17.96875 6.59375 36.375 \nQ 6.59375 54.828125 13.0625 64.515625 \nQ 19.53125 74.21875 31.78125 74.21875 \nz\n\" id=\"DejaVuSans-48\"/>\n      </defs>\n      <g transform=\"translate(219.040625 157.698438)scale(0.1 -0.1)\">\n       <use xlink:href=\"#DejaVuSans-49\"/>\n       <use x=\"63.623047\" xlink:href=\"#DejaVuSans-48\"/>\n      </g>\n     </g>\n    </g>\n    <g id=\"text_6\">\n     <!-- epoch -->\n     <defs>\n      <path d=\"M 56.203125 29.59375 \nL 56.203125 25.203125 \nL 14.890625 25.203125 \nQ 15.484375 15.921875 20.484375 11.0625 \nQ 25.484375 6.203125 34.421875 6.203125 \nQ 39.59375 6.203125 44.453125 7.46875 \nQ 49.3125 8.734375 54.109375 11.28125 \nL 54.109375 2.78125 \nQ 49.265625 0.734375 44.1875 -0.34375 \nQ 39.109375 -1.421875 33.890625 -1.421875 \nQ 20.796875 -1.421875 13.15625 6.1875 \nQ 5.515625 13.8125 5.515625 26.8125 \nQ 5.515625 40.234375 12.765625 48.109375 \nQ 20.015625 56 32.328125 56 \nQ 43.359375 56 49.78125 48.890625 \nQ 56.203125 41.796875 56.203125 29.59375 \nz\nM 47.21875 32.234375 \nQ 47.125 39.59375 43.09375 43.984375 \nQ 39.0625 48.390625 32.421875 48.390625 \nQ 24.90625 48.390625 20.390625 44.140625 \nQ 15.875 39.890625 15.1875 32.171875 \nz\n\" id=\"DejaVuSans-101\"/>\n      <path d=\"M 18.109375 8.203125 \nL 18.109375 -20.796875 \nL 9.078125 -20.796875 \nL 9.078125 54.6875 \nL 18.109375 54.6875 \nL 18.109375 46.390625 \nQ 20.953125 51.265625 25.265625 53.625 \nQ 29.59375 56 35.59375 56 \nQ 45.5625 56 51.78125 48.09375 \nQ 58.015625 40.1875 58.015625 27.296875 \nQ 58.015625 14.40625 51.78125 6.484375 \nQ 45.5625 -1.421875 35.59375 -1.421875 \nQ 29.59375 -1.421875 25.265625 0.953125 \nQ 20.953125 3.328125 18.109375 8.203125 \nz\nM 48.6875 27.296875 \nQ 48.6875 37.203125 44.609375 42.84375 \nQ 40.53125 48.484375 33.40625 48.484375 \nQ 26.265625 48.484375 22.1875 42.84375 \nQ 18.109375 37.203125 18.109375 27.296875 \nQ 18.109375 17.390625 22.1875 11.75 \nQ 26.265625 6.109375 33.40625 6.109375 \nQ 40.53125 6.109375 44.609375 11.75 \nQ 48.6875 17.390625 48.6875 27.296875 \nz\n\" id=\"DejaVuSans-112\"/>\n      <path d=\"M 30.609375 48.390625 \nQ 23.390625 48.390625 19.1875 42.75 \nQ 14.984375 37.109375 14.984375 27.296875 \nQ 14.984375 17.484375 19.15625 11.84375 \nQ 23.34375 6.203125 30.609375 6.203125 \nQ 37.796875 6.203125 41.984375 11.859375 \nQ 46.1875 17.53125 46.1875 27.296875 \nQ 46.1875 37.015625 41.984375 42.703125 \nQ 37.796875 48.390625 30.609375 48.390625 \nz\nM 30.609375 56 \nQ 42.328125 56 49.015625 48.375 \nQ 55.71875 40.765625 55.71875 27.296875 \nQ 55.71875 13.875 49.015625 6.21875 \nQ 42.328125 -1.421875 30.609375 -1.421875 \nQ 18.84375 -1.421875 12.171875 6.21875 \nQ 5.515625 13.875 5.515625 27.296875 \nQ 5.515625 40.765625 12.171875 48.375 \nQ 18.84375 56 30.609375 56 \nz\n\" id=\"DejaVuSans-111\"/>\n      <path d=\"M 48.78125 52.59375 \nL 48.78125 44.1875 \nQ 44.96875 46.296875 41.140625 47.34375 \nQ 37.3125 48.390625 33.40625 48.390625 \nQ 24.65625 48.390625 19.8125 42.84375 \nQ 14.984375 37.3125 14.984375 27.296875 \nQ 14.984375 17.28125 19.8125 11.734375 \nQ 24.65625 6.203125 33.40625 6.203125 \nQ 37.3125 6.203125 41.140625 7.25 \nQ 44.96875 8.296875 48.78125 10.40625 \nL 48.78125 2.09375 \nQ 45.015625 0.34375 40.984375 -0.53125 \nQ 36.96875 -1.421875 32.421875 -1.421875 \nQ 20.0625 -1.421875 12.78125 6.34375 \nQ 5.515625 14.109375 5.515625 27.296875 \nQ 5.515625 40.671875 12.859375 48.328125 \nQ 20.21875 56 33.015625 56 \nQ 37.15625 56 41.109375 55.140625 \nQ 45.0625 54.296875 48.78125 52.59375 \nz\n\" id=\"DejaVuSans-99\"/>\n      <path d=\"M 54.890625 33.015625 \nL 54.890625 0 \nL 45.90625 0 \nL 45.90625 32.71875 \nQ 45.90625 40.484375 42.875 44.328125 \nQ 39.84375 48.1875 33.796875 48.1875 \nQ 26.515625 48.1875 22.3125 43.546875 \nQ 18.109375 38.921875 18.109375 30.90625 \nL 18.109375 0 \nL 9.078125 0 \nL 9.078125 75.984375 \nL 18.109375 75.984375 \nL 18.109375 46.1875 \nQ 21.34375 51.125 25.703125 53.5625 \nQ 30.078125 56 35.796875 56 \nQ 45.21875 56 50.046875 50.171875 \nQ 54.890625 44.34375 54.890625 33.015625 \nz\n\" id=\"DejaVuSans-104\"/>\n     </defs>\n     <g transform=\"translate(112.525 171.376563)scale(0.1 -0.1)\">\n      <use xlink:href=\"#DejaVuSans-101\"/>\n      <use x=\"61.523438\" xlink:href=\"#DejaVuSans-112\"/>\n      <use x=\"125\" xlink:href=\"#DejaVuSans-111\"/>\n      <use x=\"186.181641\" xlink:href=\"#DejaVuSans-99\"/>\n      <use x=\"241.162109\" xlink:href=\"#DejaVuSans-104\"/>\n     </g>\n    </g>\n   </g>\n   <g id=\"matplotlib.axis_2\">\n    <g id=\"ytick_1\">\n     <g id=\"line2d_11\">\n      <path clip-path=\"url(#p13aa4bb274)\" d=\"M 30.103125 116.67651 \nL 225.403125 116.67651 \n\" style=\"fill:none;stroke:#b0b0b0;stroke-linecap:square;stroke-width:0.8;\"/>\n     </g>\n     <g id=\"line2d_12\">\n      <defs>\n       <path d=\"M 0 0 \nL -3.5 0 \n\" id=\"m23c614aec1\" style=\"stroke:#000000;stroke-width:0.8;\"/>\n      </defs>\n      <g>\n       <use style=\"stroke:#000000;stroke-width:0.8;\" x=\"30.103125\" xlink:href=\"#m23c614aec1\" y=\"116.67651\"/>\n      </g>\n     </g>\n     <g id=\"text_7\">\n      <!-- 0.5 -->\n      <defs>\n       <path d=\"M 10.6875 12.40625 \nL 21 12.40625 \nL 21 0 \nL 10.6875 0 \nz\n\" id=\"DejaVuSans-46\"/>\n       <path d=\"M 10.796875 72.90625 \nL 49.515625 72.90625 \nL 49.515625 64.59375 \nL 19.828125 64.59375 \nL 19.828125 46.734375 \nQ 21.96875 47.46875 24.109375 47.828125 \nQ 26.265625 48.1875 28.421875 48.1875 \nQ 40.625 48.1875 47.75 41.5 \nQ 54.890625 34.8125 54.890625 23.390625 \nQ 54.890625 11.625 47.5625 5.09375 \nQ 40.234375 -1.421875 26.90625 -1.421875 \nQ 22.3125 -1.421875 17.546875 -0.640625 \nQ 12.796875 0.140625 7.71875 1.703125 \nL 7.71875 11.625 \nQ 12.109375 9.234375 16.796875 8.0625 \nQ 21.484375 6.890625 26.703125 6.890625 \nQ 35.15625 6.890625 40.078125 11.328125 \nQ 45.015625 15.765625 45.015625 23.390625 \nQ 45.015625 31 40.078125 35.4375 \nQ 35.15625 39.890625 26.703125 39.890625 \nQ 22.75 39.890625 18.8125 39.015625 \nQ 14.890625 38.140625 10.796875 36.28125 \nz\n\" id=\"DejaVuSans-53\"/>\n      </defs>\n      <g transform=\"translate(7.2 120.475729)scale(0.1 -0.1)\">\n       <use xlink:href=\"#DejaVuSans-48\"/>\n       <use x=\"63.623047\" xlink:href=\"#DejaVuSans-46\"/>\n       <use x=\"95.410156\" xlink:href=\"#DejaVuSans-53\"/>\n      </g>\n     </g>\n    </g>\n    <g id=\"ytick_2\">\n     <g id=\"line2d_13\">\n      <path clip-path=\"url(#p13aa4bb274)\" d=\"M 30.103125 87.95053 \nL 225.403125 87.95053 \n\" style=\"fill:none;stroke:#b0b0b0;stroke-linecap:square;stroke-width:0.8;\"/>\n     </g>\n     <g id=\"line2d_14\">\n      <g>\n       <use style=\"stroke:#000000;stroke-width:0.8;\" x=\"30.103125\" xlink:href=\"#m23c614aec1\" y=\"87.95053\"/>\n      </g>\n     </g>\n     <g id=\"text_8\">\n      <!-- 1.0 -->\n      <g transform=\"translate(7.2 91.749749)scale(0.1 -0.1)\">\n       <use xlink:href=\"#DejaVuSans-49\"/>\n       <use x=\"63.623047\" xlink:href=\"#DejaVuSans-46\"/>\n       <use x=\"95.410156\" xlink:href=\"#DejaVuSans-48\"/>\n      </g>\n     </g>\n    </g>\n    <g id=\"ytick_3\">\n     <g id=\"line2d_15\">\n      <path clip-path=\"url(#p13aa4bb274)\" d=\"M 30.103125 59.224551 \nL 225.403125 59.224551 \n\" style=\"fill:none;stroke:#b0b0b0;stroke-linecap:square;stroke-width:0.8;\"/>\n     </g>\n     <g id=\"line2d_16\">\n      <g>\n       <use style=\"stroke:#000000;stroke-width:0.8;\" x=\"30.103125\" xlink:href=\"#m23c614aec1\" y=\"59.224551\"/>\n      </g>\n     </g>\n     <g id=\"text_9\">\n      <!-- 1.5 -->\n      <g transform=\"translate(7.2 63.023769)scale(0.1 -0.1)\">\n       <use xlink:href=\"#DejaVuSans-49\"/>\n       <use x=\"63.623047\" xlink:href=\"#DejaVuSans-46\"/>\n       <use x=\"95.410156\" xlink:href=\"#DejaVuSans-53\"/>\n      </g>\n     </g>\n    </g>\n    <g id=\"ytick_4\">\n     <g id=\"line2d_17\">\n      <path clip-path=\"url(#p13aa4bb274)\" d=\"M 30.103125 30.498571 \nL 225.403125 30.498571 \n\" style=\"fill:none;stroke:#b0b0b0;stroke-linecap:square;stroke-width:0.8;\"/>\n     </g>\n     <g id=\"line2d_18\">\n      <g>\n       <use style=\"stroke:#000000;stroke-width:0.8;\" x=\"30.103125\" xlink:href=\"#m23c614aec1\" y=\"30.498571\"/>\n      </g>\n     </g>\n     <g id=\"text_10\">\n      <!-- 2.0 -->\n      <g transform=\"translate(7.2 34.29779)scale(0.1 -0.1)\">\n       <use xlink:href=\"#DejaVuSans-50\"/>\n       <use x=\"63.623047\" xlink:href=\"#DejaVuSans-46\"/>\n       <use x=\"95.410156\" xlink:href=\"#DejaVuSans-48\"/>\n      </g>\n     </g>\n    </g>\n   </g>\n   <g id=\"line2d_19\">\n    <path clip-path=\"url(#p13aa4bb274)\" d=\"M 12.70611 13.377273 \nL 17.009095 15.059693 \nL 21.31208 19.505112 \nL 25.615065 29.184864 \nL 29.91805 38.022881 \nL 30.103125 38.370751 \nL 34.40611 84.591636 \nL 38.709095 87.580258 \nL 43.01208 89.674277 \nL 47.315065 91.566147 \nL 51.61805 93.276302 \nL 51.803125 93.389354 \nL 56.10611 106.360715 \nL 60.409095 107.259548 \nL 64.71208 98.972064 \nL 69.015065 99.648898 \nL 73.31805 102.159285 \nL 73.503125 102.248701 \nL 77.80611 115.42805 \nL 82.109095 116.158855 \nL 86.41208 117.184493 \nL 90.715065 117.843661 \nL 95.01805 118.33673 \nL 95.203125 118.402071 \nL 99.50611 121.680945 \nL 103.809095 122.23682 \nL 108.11208 122.175508 \nL 112.415065 122.254934 \nL 116.71805 122.689108 \nL 116.903125 122.682628 \nL 121.20611 124.270903 \nL 125.509095 124.82689 \nL 129.81208 124.926024 \nL 134.115065 124.812843 \nL 138.41805 125.02564 \nL 138.603125 125.053738 \nL 142.90611 126.874928 \nL 147.209095 126.657204 \nL 151.51208 126.681171 \nL 155.815065 126.824668 \nL 160.11805 126.940582 \nL 160.303125 126.952372 \nL 164.60611 128.009186 \nL 168.909095 128.067054 \nL 173.21208 128.184902 \nL 177.515065 128.204088 \nL 181.81805 128.281355 \nL 182.003125 128.31614 \nL 186.30611 128.617058 \nL 190.609095 128.622108 \nL 194.91208 129.054637 \nL 199.215065 129.299227 \nL 203.51805 129.439149 \nL 203.703125 129.425233 \nL 208.00611 130.151545 \nL 212.309095 129.882396 \nL 216.61208 130.161362 \nL 220.915065 130.399016 \nL 225.21805 130.346168 \nL 225.403125 130.333894 \n\" style=\"fill:none;stroke:#1f77b4;stroke-linecap:square;stroke-width:1.5;\"/>\n   </g>\n   <g id=\"line2d_20\">\n    <path clip-path=\"url(#p13aa4bb274)\" d=\"M 12.70611 136.922727 \nL 17.009095 134.784688 \nL 21.31208 133.401156 \nL 25.615065 130.491718 \nL 29.91805 127.815549 \nL 30.103125 127.688136 \nL 34.40611 113.008542 \nL 38.709095 111.787495 \nL 43.01208 110.791674 \nL 47.315065 109.779765 \nL 51.61805 108.912001 \nL 51.803125 108.858256 \nL 56.10611 102.535529 \nL 60.409095 102.349717 \nL 64.71208 104.850531 \nL 69.015065 104.756821 \nL 73.31805 103.850206 \nL 73.503125 103.832167 \nL 77.80611 99.16679 \nL 82.109095 98.872387 \nL 86.41208 98.516852 \nL 90.715065 98.259451 \nL 95.01805 98.054817 \nL 95.203125 98.026647 \nL 99.50611 97.163886 \nL 103.809095 96.886376 \nL 108.11208 96.82283 \nL 112.415065 96.736761 \nL 116.71805 96.582803 \nL 116.903125 96.58939 \nL 121.20611 95.986276 \nL 125.509095 95.747375 \nL 129.81208 95.650045 \nL 134.115065 95.737723 \nL 138.41805 95.640715 \nL 138.603125 95.632815 \nL 142.90611 95.006542 \nL 147.209095 95.018608 \nL 151.51208 95.043544 \nL 155.815065 94.979998 \nL 160.11805 94.946696 \nL 160.303125 94.935731 \nL 164.60611 94.345343 \nL 168.909095 94.393605 \nL 173.21208 94.380735 \nL 177.515065 94.379127 \nL 181.81805 94.357891 \nL 182.003125 94.341103 \nL 186.30611 94.021982 \nL 190.609095 94.154705 \nL 194.91208 94.058984 \nL 199.215065 93.984579 \nL 203.51805 93.948623 \nL 203.703125 93.95426 \nL 208.00611 93.746885 \nL 212.309095 93.814453 \nL 216.61208 93.708275 \nL 220.915065 93.614162 \nL 225.21805 93.63395 \nL 225.403125 93.64785 \n\" style=\"fill:none;stroke:#bf00bf;stroke-dasharray:5.55,2.4;stroke-dashoffset:0;stroke-width:1.5;\"/>\n   </g>\n   <g id=\"line2d_21\">\n    <path clip-path=\"url(#p13aa4bb274)\" d=\"M 30.103125 114.280763 \nL 51.803125 101.85965 \nL 73.503125 105.410181 \nL 95.203125 97.142844 \nL 116.903125 97.705873 \nL 138.603125 95.99955 \nL 160.303125 97.160079 \nL 182.003125 94.810294 \nL 203.703125 94.224284 \nL 225.403125 93.195894 \n\" style=\"fill:none;stroke:#008000;stroke-dasharray:9.6,2.4,1.5,2.4;stroke-dashoffset:0;stroke-width:1.5;\"/>\n   </g>\n   <g id=\"patch_3\">\n    <path d=\"M 30.103125 143.1 \nL 30.103125 7.2 \n\" style=\"fill:none;stroke:#000000;stroke-linecap:square;stroke-linejoin:miter;stroke-width:0.8;\"/>\n   </g>\n   <g id=\"patch_4\">\n    <path d=\"M 225.403125 143.1 \nL 225.403125 7.2 \n\" style=\"fill:none;stroke:#000000;stroke-linecap:square;stroke-linejoin:miter;stroke-width:0.8;\"/>\n   </g>\n   <g id=\"patch_5\">\n    <path d=\"M 30.103125 143.1 \nL 225.403125 143.1 \n\" style=\"fill:none;stroke:#000000;stroke-linecap:square;stroke-linejoin:miter;stroke-width:0.8;\"/>\n   </g>\n   <g id=\"patch_6\">\n    <path d=\"M 30.103125 7.2 \nL 225.403125 7.2 \n\" style=\"fill:none;stroke:#000000;stroke-linecap:square;stroke-linejoin:miter;stroke-width:0.8;\"/>\n   </g>\n   <g id=\"legend_1\">\n    <g id=\"patch_7\">\n     <path d=\"M 140.634375 59.234375 \nL 218.403125 59.234375 \nQ 220.403125 59.234375 220.403125 57.234375 \nL 220.403125 14.2 \nQ 220.403125 12.2 218.403125 12.2 \nL 140.634375 12.2 \nQ 138.634375 12.2 138.634375 14.2 \nL 138.634375 57.234375 \nQ 138.634375 59.234375 140.634375 59.234375 \nz\n\" style=\"fill:#ffffff;opacity:0.8;stroke:#cccccc;stroke-linejoin:miter;\"/>\n    </g>\n    <g id=\"line2d_22\">\n     <path d=\"M 142.634375 20.298438 \nL 162.634375 20.298438 \n\" style=\"fill:none;stroke:#1f77b4;stroke-linecap:square;stroke-width:1.5;\"/>\n    </g>\n    <g id=\"line2d_23\"/>\n    <g id=\"text_11\">\n     <!-- train loss -->\n     <defs>\n      <path d=\"M 18.3125 70.21875 \nL 18.3125 54.6875 \nL 36.8125 54.6875 \nL 36.8125 47.703125 \nL 18.3125 47.703125 \nL 18.3125 18.015625 \nQ 18.3125 11.328125 20.140625 9.421875 \nQ 21.96875 7.515625 27.59375 7.515625 \nL 36.8125 7.515625 \nL 36.8125 0 \nL 27.59375 0 \nQ 17.1875 0 13.234375 3.875 \nQ 9.28125 7.765625 9.28125 18.015625 \nL 9.28125 47.703125 \nL 2.6875 47.703125 \nL 2.6875 54.6875 \nL 9.28125 54.6875 \nL 9.28125 70.21875 \nz\n\" id=\"DejaVuSans-116\"/>\n      <path d=\"M 41.109375 46.296875 \nQ 39.59375 47.171875 37.8125 47.578125 \nQ 36.03125 48 33.890625 48 \nQ 26.265625 48 22.1875 43.046875 \nQ 18.109375 38.09375 18.109375 28.8125 \nL 18.109375 0 \nL 9.078125 0 \nL 9.078125 54.6875 \nL 18.109375 54.6875 \nL 18.109375 46.1875 \nQ 20.953125 51.171875 25.484375 53.578125 \nQ 30.03125 56 36.53125 56 \nQ 37.453125 56 38.578125 55.875 \nQ 39.703125 55.765625 41.0625 55.515625 \nz\n\" id=\"DejaVuSans-114\"/>\n      <path d=\"M 34.28125 27.484375 \nQ 23.390625 27.484375 19.1875 25 \nQ 14.984375 22.515625 14.984375 16.5 \nQ 14.984375 11.71875 18.140625 8.90625 \nQ 21.296875 6.109375 26.703125 6.109375 \nQ 34.1875 6.109375 38.703125 11.40625 \nQ 43.21875 16.703125 43.21875 25.484375 \nL 43.21875 27.484375 \nz\nM 52.203125 31.203125 \nL 52.203125 0 \nL 43.21875 0 \nL 43.21875 8.296875 \nQ 40.140625 3.328125 35.546875 0.953125 \nQ 30.953125 -1.421875 24.3125 -1.421875 \nQ 15.921875 -1.421875 10.953125 3.296875 \nQ 6 8.015625 6 15.921875 \nQ 6 25.140625 12.171875 29.828125 \nQ 18.359375 34.515625 30.609375 34.515625 \nL 43.21875 34.515625 \nL 43.21875 35.40625 \nQ 43.21875 41.609375 39.140625 45 \nQ 35.0625 48.390625 27.6875 48.390625 \nQ 23 48.390625 18.546875 47.265625 \nQ 14.109375 46.140625 10.015625 43.890625 \nL 10.015625 52.203125 \nQ 14.9375 54.109375 19.578125 55.046875 \nQ 24.21875 56 28.609375 56 \nQ 40.484375 56 46.34375 49.84375 \nQ 52.203125 43.703125 52.203125 31.203125 \nz\n\" id=\"DejaVuSans-97\"/>\n      <path d=\"M 9.421875 54.6875 \nL 18.40625 54.6875 \nL 18.40625 0 \nL 9.421875 0 \nz\nM 9.421875 75.984375 \nL 18.40625 75.984375 \nL 18.40625 64.59375 \nL 9.421875 64.59375 \nz\n\" id=\"DejaVuSans-105\"/>\n      <path d=\"M 54.890625 33.015625 \nL 54.890625 0 \nL 45.90625 0 \nL 45.90625 32.71875 \nQ 45.90625 40.484375 42.875 44.328125 \nQ 39.84375 48.1875 33.796875 48.1875 \nQ 26.515625 48.1875 22.3125 43.546875 \nQ 18.109375 38.921875 18.109375 30.90625 \nL 18.109375 0 \nL 9.078125 0 \nL 9.078125 54.6875 \nL 18.109375 54.6875 \nL 18.109375 46.1875 \nQ 21.34375 51.125 25.703125 53.5625 \nQ 30.078125 56 35.796875 56 \nQ 45.21875 56 50.046875 50.171875 \nQ 54.890625 44.34375 54.890625 33.015625 \nz\n\" id=\"DejaVuSans-110\"/>\n      <path id=\"DejaVuSans-32\"/>\n      <path d=\"M 9.421875 75.984375 \nL 18.40625 75.984375 \nL 18.40625 0 \nL 9.421875 0 \nz\n\" id=\"DejaVuSans-108\"/>\n      <path d=\"M 44.28125 53.078125 \nL 44.28125 44.578125 \nQ 40.484375 46.53125 36.375 47.5 \nQ 32.28125 48.484375 27.875 48.484375 \nQ 21.1875 48.484375 17.84375 46.4375 \nQ 14.5 44.390625 14.5 40.28125 \nQ 14.5 37.15625 16.890625 35.375 \nQ 19.28125 33.59375 26.515625 31.984375 \nL 29.59375 31.296875 \nQ 39.15625 29.25 43.1875 25.515625 \nQ 47.21875 21.78125 47.21875 15.09375 \nQ 47.21875 7.46875 41.1875 3.015625 \nQ 35.15625 -1.421875 24.609375 -1.421875 \nQ 20.21875 -1.421875 15.453125 -0.5625 \nQ 10.6875 0.296875 5.421875 2 \nL 5.421875 11.28125 \nQ 10.40625 8.6875 15.234375 7.390625 \nQ 20.0625 6.109375 24.8125 6.109375 \nQ 31.15625 6.109375 34.5625 8.28125 \nQ 37.984375 10.453125 37.984375 14.40625 \nQ 37.984375 18.0625 35.515625 20.015625 \nQ 33.0625 21.96875 24.703125 23.78125 \nL 21.578125 24.515625 \nQ 13.234375 26.265625 9.515625 29.90625 \nQ 5.8125 33.546875 5.8125 39.890625 \nQ 5.8125 47.609375 11.28125 51.796875 \nQ 16.75 56 26.8125 56 \nQ 31.78125 56 36.171875 55.265625 \nQ 40.578125 54.546875 44.28125 53.078125 \nz\n\" id=\"DejaVuSans-115\"/>\n     </defs>\n     <g transform=\"translate(170.634375 23.798438)scale(0.1 -0.1)\">\n      <use xlink:href=\"#DejaVuSans-116\"/>\n      <use x=\"39.208984\" xlink:href=\"#DejaVuSans-114\"/>\n      <use x=\"80.322266\" xlink:href=\"#DejaVuSans-97\"/>\n      <use x=\"141.601562\" xlink:href=\"#DejaVuSans-105\"/>\n      <use x=\"169.384766\" xlink:href=\"#DejaVuSans-110\"/>\n      <use x=\"232.763672\" xlink:href=\"#DejaVuSans-32\"/>\n      <use x=\"264.550781\" xlink:href=\"#DejaVuSans-108\"/>\n      <use x=\"292.333984\" xlink:href=\"#DejaVuSans-111\"/>\n      <use x=\"353.515625\" xlink:href=\"#DejaVuSans-115\"/>\n      <use x=\"405.615234\" xlink:href=\"#DejaVuSans-115\"/>\n     </g>\n    </g>\n    <g id=\"line2d_24\">\n     <path d=\"M 142.634375 34.976562 \nL 162.634375 34.976562 \n\" style=\"fill:none;stroke:#bf00bf;stroke-dasharray:5.55,2.4;stroke-dashoffset:0;stroke-width:1.5;\"/>\n    </g>\n    <g id=\"line2d_25\"/>\n    <g id=\"text_12\">\n     <!-- train acc -->\n     <g transform=\"translate(170.634375 38.476562)scale(0.1 -0.1)\">\n      <use xlink:href=\"#DejaVuSans-116\"/>\n      <use x=\"39.208984\" xlink:href=\"#DejaVuSans-114\"/>\n      <use x=\"80.322266\" xlink:href=\"#DejaVuSans-97\"/>\n      <use x=\"141.601562\" xlink:href=\"#DejaVuSans-105\"/>\n      <use x=\"169.384766\" xlink:href=\"#DejaVuSans-110\"/>\n      <use x=\"232.763672\" xlink:href=\"#DejaVuSans-32\"/>\n      <use x=\"264.550781\" xlink:href=\"#DejaVuSans-97\"/>\n      <use x=\"325.830078\" xlink:href=\"#DejaVuSans-99\"/>\n      <use x=\"380.810547\" xlink:href=\"#DejaVuSans-99\"/>\n     </g>\n    </g>\n    <g id=\"line2d_26\">\n     <path d=\"M 142.634375 49.654688 \nL 162.634375 49.654688 \n\" style=\"fill:none;stroke:#008000;stroke-dasharray:9.6,2.4,1.5,2.4;stroke-dashoffset:0;stroke-width:1.5;\"/>\n    </g>\n    <g id=\"line2d_27\"/>\n    <g id=\"text_13\">\n     <!-- test acc -->\n     <g transform=\"translate(170.634375 53.154688)scale(0.1 -0.1)\">\n      <use xlink:href=\"#DejaVuSans-116\"/>\n      <use x=\"39.208984\" xlink:href=\"#DejaVuSans-101\"/>\n      <use x=\"100.732422\" xlink:href=\"#DejaVuSans-115\"/>\n      <use x=\"152.832031\" xlink:href=\"#DejaVuSans-116\"/>\n      <use x=\"192.041016\" xlink:href=\"#DejaVuSans-32\"/>\n      <use x=\"223.828125\" xlink:href=\"#DejaVuSans-97\"/>\n      <use x=\"285.107422\" xlink:href=\"#DejaVuSans-99\"/>\n      <use x=\"340.087891\" xlink:href=\"#DejaVuSans-99\"/>\n     </g>\n    </g>\n   </g>\n  </g>\n </g>\n <defs>\n  <clipPath id=\"p13aa4bb274\">\n   <rect height=\"135.9\" width=\"195.3\" x=\"30.103125\" y=\"7.2\"/>\n  </clipPath>\n </defs>\n</svg>\n"
          },
          "metadata": {
            "tags": [],
            "needs_background": "light"
          }
        }
      ]
    }
  ]
}
